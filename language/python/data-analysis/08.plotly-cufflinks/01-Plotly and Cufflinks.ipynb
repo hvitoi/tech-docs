{
 "cells": [
  {
   "cell_type": "markdown",
   "metadata": {},
   "source": [
    "___\n",
    "\n",
    "<a href='http://www.pieriandata.com'> <img src='../Pierian_Data_Logo.png' /></a>\n",
    "___\n",
    "# Plotly and Cufflinks"
   ]
  },
  {
   "cell_type": "markdown",
   "metadata": {},
   "source": [
    "Plotly is a library that allows you to create interactive plots that you can use in dashboards or websites (you can save them as html files or static images).\n",
    "\n",
    "## Installation\n",
    "\n",
    "In order for this all to work, you'll need to install plotly and cufflinks to call plots directly off of a pandas dataframe. These libraries are not currently available through **conda** but are available through **pip**. Install the libraries at your command line/terminal using:\n",
    "\n",
    "    pip install plotly\n",
    "    pip install cufflinks\n",
    "\n",
    "** NOTE: Make sure you only have one installation of Python on your computer when you do this, otherwise the installation may not work. **\n",
    "\n",
    "## Imports and Set-up"
   ]
  },
  {
   "cell_type": "code",
   "execution_count": 4,
   "metadata": {},
   "outputs": [
    {
     "output_type": "error",
     "ename": "ModuleNotFoundError",
     "evalue": "No module named 'pandas'",
     "traceback": [
      "\u001b[0;31m---------------------------------------------------------------------------\u001b[0m",
      "\u001b[0;31mModuleNotFoundError\u001b[0m                       Traceback (most recent call last)",
      "\u001b[0;32m<ipython-input-4-29f39bb8d7b9>\u001b[0m in \u001b[0;36m<module>\u001b[0;34m\u001b[0m\n\u001b[1;32m      1\u001b[0m \u001b[0;32mimport\u001b[0m \u001b[0mnumpy\u001b[0m \u001b[0;32mas\u001b[0m \u001b[0mnp\u001b[0m\u001b[0;34m\u001b[0m\u001b[0;34m\u001b[0m\u001b[0m\n\u001b[0;32m----> 2\u001b[0;31m \u001b[0;32mimport\u001b[0m \u001b[0mpandas\u001b[0m \u001b[0;32mas\u001b[0m \u001b[0mpd\u001b[0m\u001b[0;34m\u001b[0m\u001b[0;34m\u001b[0m\u001b[0m\n\u001b[0m\u001b[1;32m      3\u001b[0m \u001b[0;32mimport\u001b[0m \u001b[0mplotly\u001b[0m \u001b[0;32mas\u001b[0m \u001b[0mpy\u001b[0m\u001b[0;34m\u001b[0m\u001b[0;34m\u001b[0m\u001b[0m\n\u001b[1;32m      4\u001b[0m \u001b[0;32mimport\u001b[0m \u001b[0mplotly\u001b[0m\u001b[0;34m.\u001b[0m\u001b[0mexpress\u001b[0m \u001b[0;32mas\u001b[0m \u001b[0mpx\u001b[0m\u001b[0;34m\u001b[0m\u001b[0;34m\u001b[0m\u001b[0m\n\u001b[1;32m      5\u001b[0m \u001b[0mget_ipython\u001b[0m\u001b[0;34m(\u001b[0m\u001b[0;34m)\u001b[0m\u001b[0;34m.\u001b[0m\u001b[0mrun_line_magic\u001b[0m\u001b[0;34m(\u001b[0m\u001b[0;34m'matplotlib'\u001b[0m\u001b[0;34m,\u001b[0m \u001b[0;34m'inline'\u001b[0m\u001b[0;34m)\u001b[0m\u001b[0;34m\u001b[0m\u001b[0;34m\u001b[0m\u001b[0m\n",
      "\u001b[0;31mModuleNotFoundError\u001b[0m: No module named 'pandas'"
     ]
    }
   ],
   "source": [
    "import numpy as np\n",
    "import pandas as pd\n",
    "import plotly as py\n",
    "import plotly.express as px\n",
    "%matplotlib inline\n",
    "\n",
    "print(py.__version__)"
   ]
  },
  {
   "cell_type": "code",
   "execution_count": 2,
   "metadata": {},
   "outputs": [],
   "source": [
    "#from plotly import __version__\n",
    "#import plotly.graph_objects as go\n",
    "#from plotly.offline import download_plotlyjs, init_notebook_mode, plot, iplot\n",
    "\n",
    "#print(__version__) # requires version >= 1.9.0"
   ]
  },
  {
   "cell_type": "code",
   "execution_count": 3,
   "metadata": {},
   "outputs": [],
   "source": [
    " #import cufflinks as cf # Não é mais necessário na versão 4.0"
   ]
  },
  {
   "cell_type": "code",
   "execution_count": 4,
   "metadata": {},
   "outputs": [],
   "source": [
    "# For Notebooks\n",
    "#init_notebook_mode(connected=True) # Não é mais necessário na versão 4.0"
   ]
  },
  {
   "cell_type": "code",
   "execution_count": 5,
   "metadata": {},
   "outputs": [],
   "source": [
    "# For offline use\n",
    "#cf.go_offline() # Não é mais necessário na versão 4.0"
   ]
  },
  {
   "cell_type": "markdown",
   "metadata": {},
   "source": [
    "### Fake Data"
   ]
  },
  {
   "cell_type": "code",
   "execution_count": 6,
   "metadata": {},
   "outputs": [],
   "source": [
    "df = pd.DataFrame(np.random.randn(100,4),columns='A B C D'.split())"
   ]
  },
  {
   "cell_type": "code",
   "execution_count": 7,
   "metadata": {},
   "outputs": [
    {
     "data": {
      "text/html": [
       "<div>\n",
       "<style scoped>\n",
       "    .dataframe tbody tr th:only-of-type {\n",
       "        vertical-align: middle;\n",
       "    }\n",
       "\n",
       "    .dataframe tbody tr th {\n",
       "        vertical-align: top;\n",
       "    }\n",
       "\n",
       "    .dataframe thead th {\n",
       "        text-align: right;\n",
       "    }\n",
       "</style>\n",
       "<table border=\"1\" class=\"dataframe\">\n",
       "  <thead>\n",
       "    <tr style=\"text-align: right;\">\n",
       "      <th></th>\n",
       "      <th>A</th>\n",
       "      <th>B</th>\n",
       "      <th>C</th>\n",
       "      <th>D</th>\n",
       "    </tr>\n",
       "  </thead>\n",
       "  <tbody>\n",
       "    <tr>\n",
       "      <td>0</td>\n",
       "      <td>0.620324</td>\n",
       "      <td>1.325875</td>\n",
       "      <td>2.509124</td>\n",
       "      <td>-0.416861</td>\n",
       "    </tr>\n",
       "    <tr>\n",
       "      <td>1</td>\n",
       "      <td>0.785733</td>\n",
       "      <td>-0.964670</td>\n",
       "      <td>-1.522005</td>\n",
       "      <td>-1.105469</td>\n",
       "    </tr>\n",
       "    <tr>\n",
       "      <td>2</td>\n",
       "      <td>0.216408</td>\n",
       "      <td>-0.485004</td>\n",
       "      <td>0.586519</td>\n",
       "      <td>-0.191174</td>\n",
       "    </tr>\n",
       "    <tr>\n",
       "      <td>3</td>\n",
       "      <td>-0.886616</td>\n",
       "      <td>0.258463</td>\n",
       "      <td>-1.913700</td>\n",
       "      <td>-1.700548</td>\n",
       "    </tr>\n",
       "    <tr>\n",
       "      <td>4</td>\n",
       "      <td>0.513116</td>\n",
       "      <td>0.335454</td>\n",
       "      <td>-0.475717</td>\n",
       "      <td>1.124875</td>\n",
       "    </tr>\n",
       "  </tbody>\n",
       "</table>\n",
       "</div>"
      ],
      "text/plain": [
       "          A         B         C         D\n",
       "0  0.620324  1.325875  2.509124 -0.416861\n",
       "1  0.785733 -0.964670 -1.522005 -1.105469\n",
       "2  0.216408 -0.485004  0.586519 -0.191174\n",
       "3 -0.886616  0.258463 -1.913700 -1.700548\n",
       "4  0.513116  0.335454 -0.475717  1.124875"
      ]
     },
     "execution_count": 7,
     "metadata": {},
     "output_type": "execute_result"
    }
   ],
   "source": [
    "df.head()"
   ]
  },
  {
   "cell_type": "code",
   "execution_count": 8,
   "metadata": {},
   "outputs": [],
   "source": [
    "df2 = pd.DataFrame({'Category':['A','B','C'],'Values':[32,43, 50]})"
   ]
  },
  {
   "cell_type": "code",
   "execution_count": 9,
   "metadata": {},
   "outputs": [
    {
     "data": {
      "text/html": [
       "<div>\n",
       "<style scoped>\n",
       "    .dataframe tbody tr th:only-of-type {\n",
       "        vertical-align: middle;\n",
       "    }\n",
       "\n",
       "    .dataframe tbody tr th {\n",
       "        vertical-align: top;\n",
       "    }\n",
       "\n",
       "    .dataframe thead th {\n",
       "        text-align: right;\n",
       "    }\n",
       "</style>\n",
       "<table border=\"1\" class=\"dataframe\">\n",
       "  <thead>\n",
       "    <tr style=\"text-align: right;\">\n",
       "      <th></th>\n",
       "      <th>Category</th>\n",
       "      <th>Values</th>\n",
       "    </tr>\n",
       "  </thead>\n",
       "  <tbody>\n",
       "    <tr>\n",
       "      <td>0</td>\n",
       "      <td>A</td>\n",
       "      <td>32</td>\n",
       "    </tr>\n",
       "    <tr>\n",
       "      <td>1</td>\n",
       "      <td>B</td>\n",
       "      <td>43</td>\n",
       "    </tr>\n",
       "    <tr>\n",
       "      <td>2</td>\n",
       "      <td>C</td>\n",
       "      <td>50</td>\n",
       "    </tr>\n",
       "  </tbody>\n",
       "</table>\n",
       "</div>"
      ],
      "text/plain": [
       "  Category  Values\n",
       "0        A      32\n",
       "1        B      43\n",
       "2        C      50"
      ]
     },
     "execution_count": 9,
     "metadata": {},
     "output_type": "execute_result"
    }
   ],
   "source": [
    "df2.head()"
   ]
  },
  {
   "cell_type": "code",
   "execution_count": 10,
   "metadata": {},
   "outputs": [
    {
     "data": {
      "text/plain": [
       "<matplotlib.axes._subplots.AxesSubplot at 0x258a8b04f48>"
      ]
     },
     "execution_count": 10,
     "metadata": {},
     "output_type": "execute_result"
    },
    {
     "data": {
      "image/png": "[encoded data removed]",
      "text/plain": [
       "<Figure size 432x288 with 1 Axes>"
      ]
     },
     "metadata": {
      "needs_background": "light"
     },
     "output_type": "display_data"
    }
   ],
   "source": [
    "df.plot() #plot with Matplotlib"
   ]
  },
  {
   "cell_type": "code",
   "execution_count": 16,
   "metadata": {
    "scrolled": true
   },
   "outputs": [
    {
     "data": {
      "application/vnd.plotly.v1+json": {
       "config": {
        "plotlyServerURL": "https://plot.ly"
       },
       "data": [
        {
         "hoverlabel": {
          "namelength": 0
         },
         "hovertemplate": "A=%{y}",
         "legendgroup": "",
         "line": {
          "color": "#636efa",
          "dash": "solid"
         },
         "mode": "lines",
         "name": "",
         "showlegend": false,
         "type": "scatter",
         "xaxis": "x",
         "y": [
          0.6203243385443583,
          0.7857329039155991,
          0.21640848712571004,
          -0.8866162073796456,
          0.5131159351208865,
          -0.06846582740493655,
          0.7961886731223227,
          -0.42666171132548064,
          0.26479329096441107,
          -1.4298475075134327,
          -0.2959285385147227,
          -0.05677780219371041,
          -1.0648378701957026,
          0.8690352629028012,
          -0.1500685095195439,
          0.38241501983938103,
          -1.1188755858508244,
          1.045263004554516,
          0.087964898985796,
          -0.8483540315340626,
          -0.016503262993795814,
          1.135075385339651,
          0.04570208950442637,
          1.890037637626346,
          0.7879654197408938,
          0.021289321547598095,
          1.1100495537811568,
          -0.6722679847089421,
          0.0662670175707515,
          -0.4965869374680947,
          0.9138453912874416,
          -0.31874276571313537,
          -0.20890276612439312,
          0.4688487330712739,
          -0.44745333641676227,
          1.2759279151492087,
          -0.5448196768406731,
          1.2771402592894605,
          0.13859813608167776,
          1.29065650291481,
          1.4571118833494505,
          -0.9466699908775232,
          -0.42208280604089704,
          0.23559761700825257,
          -0.08826419291495882,
          -0.3839314231240719,
          -0.5721539905874304,
          -0.37125013337680113,
          1.4808917480221966,
          -0.4593692261290723,
          0.5777233131582349,
          2.1948493540319234,
          -0.06411405927264478,
          0.3684884037809693,
          1.27125499758871,
          -1.019117683969217,
          1.102058165416587,
          0.04903883926775644,
          0.2942187755452374,
          -0.888750592399482,
          0.06802589463371268,
          -1.0320766443607354,
          -0.5861499738947534,
          -1.3339496103226238,
          -2.362573897386693,
          0.6269347954553319,
          -0.7577216508431079,
          -1.7639763505149797,
          0.7151394425907328,
          0.8795918963994098,
          0.16473754972757002,
          -1.101951147298532,
          2.4859289890756147,
          1.900159069296264,
          0.35373290175823086,
          -1.1962483671143331,
          -1.3794922772666982,
          0.13737879751079474,
          -0.01219396985241829,
          0.4403485077098685,
          -0.4332410703164527,
          3.1451758652330093,
          -1.8828568748658863,
          1.0506877553931295,
          -0.48907247491697947,
          1.051412483232324,
          0.854795459203663,
          0.19590090282937242,
          0.5583819087852125,
          1.0468380895768383,
          -1.966329856380777,
          -0.5685204632023497,
          -0.6195032568440129,
          1.1902833358214282,
          -0.19319675063498865,
          1.0911397336053617,
          0.5824310676078985,
          0.35958655750219887,
          -0.5408340676903703,
          0.35872691273578083
         ],
         "yaxis": "y"
        }
       ],
       "layout": {
        "height": 600,
        "legend": {
         "tracegroupgap": 0
        },
        "margin": {
         "t": 60
        },
        "template": {
         "data": {
          "bar": [
           {
            "error_x": {
             "color": "#2a3f5f"
            },
            "error_y": {
             "color": "#2a3f5f"
            },
            "marker": {
             "line": {
              "color": "#E5ECF6",
              "width": 0.5
             }
            },
            "type": "bar"
           }
          ],
          "barpolar": [
           {
            "marker": {
             "line": {
              "color": "#E5ECF6",
              "width": 0.5
             }
            },
            "type": "barpolar"
           }
          ],
          "carpet": [
           {
            "aaxis": {
             "endlinecolor": "#2a3f5f",
             "gridcolor": "white",
             "linecolor": "white",
             "minorgridcolor": "white",
             "startlinecolor": "#2a3f5f"
            },
            "baxis": {
             "endlinecolor": "#2a3f5f",
             "gridcolor": "white",
             "linecolor": "white",
             "minorgridcolor": "white",
             "startlinecolor": "#2a3f5f"
            },
            "type": "carpet"
           }
          ],
          "choropleth": [
           {
            "colorbar": {
             "outlinewidth": 0,
             "ticks": ""
            },
            "type": "choropleth"
           }
          ],
          "contour": [
           {
            "colorbar": {
             "outlinewidth": 0,
             "ticks": ""
            },
            "colorscale": [
             [
              0,
              "#0d0887"
             ],
             [
              0.1111111111111111,
              "#46039f"
             ],
             [
              0.2222222222222222,
              "#7201a8"
             ],
             [
              0.3333333333333333,
              "#9c179e"
             ],
             [
              0.4444444444444444,
              "#bd3786"
             ],
             [
              0.5555555555555556,
              "#d8576b"
             ],
             [
              0.6666666666666666,
              "#ed7953"
             ],
             [
              0.7777777777777778,
              "#fb9f3a"
             ],
             [
              0.8888888888888888,
              "#fdca26"
             ],
             [
              1,
              "#f0f921"
             ]
            ],
            "type": "contour"
           }
          ],
          "contourcarpet": [
           {
            "colorbar": {
             "outlinewidth": 0,
             "ticks": ""
            },
            "type": "contourcarpet"
           }
          ],
          "heatmap": [
           {
            "colorbar": {
             "outlinewidth": 0,
             "ticks": ""
            },
            "colorscale": [
             [
              0,
              "#0d0887"
             ],
             [
              0.1111111111111111,
              "#46039f"
             ],
             [
              0.2222222222222222,
              "#7201a8"
             ],
             [
              0.3333333333333333,
              "#9c179e"
             ],
             [
              0.4444444444444444,
              "#bd3786"
             ],
             [
              0.5555555555555556,
              "#d8576b"
             ],
             [
              0.6666666666666666,
              "#ed7953"
             ],
             [
              0.7777777777777778,
              "#fb9f3a"
             ],
             [
              0.8888888888888888,
              "#fdca26"
             ],
             [
              1,
              "#f0f921"
             ]
            ],
            "type": "heatmap"
           }
          ],
          "heatmapgl": [
           {
            "colorbar": {
             "outlinewidth": 0,
             "ticks": ""
            },
            "colorscale": [
             [
              0,
              "#0d0887"
             ],
             [
              0.1111111111111111,
              "#46039f"
             ],
             [
              0.2222222222222222,
              "#7201a8"
             ],
             [
              0.3333333333333333,
              "#9c179e"
             ],
             [
              0.4444444444444444,
              "#bd3786"
             ],
             [
              0.5555555555555556,
              "#d8576b"
             ],
             [
              0.6666666666666666,
              "#ed7953"
             ],
             [
              0.7777777777777778,
              "#fb9f3a"
             ],
             [
              0.8888888888888888,
              "#fdca26"
             ],
             [
              1,
              "#f0f921"
             ]
            ],
            "type": "heatmapgl"
           }
          ],
          "histogram": [
           {
            "marker": {
             "colorbar": {
              "outlinewidth": 0,
              "ticks": ""
             }
            },
            "type": "histogram"
           }
          ],
          "histogram2d": [
           {
            "colorbar": {
             "outlinewidth": 0,
             "ticks": ""
            },
            "colorscale": [
             [
              0,
              "#0d0887"
             ],
             [
              0.1111111111111111,
              "#46039f"
             ],
             [
              0.2222222222222222,
              "#7201a8"
             ],
             [
              0.3333333333333333,
              "#9c179e"
             ],
             [
              0.4444444444444444,
              "#bd3786"
             ],
             [
              0.5555555555555556,
              "#d8576b"
             ],
             [
              0.6666666666666666,
              "#ed7953"
             ],
             [
              0.7777777777777778,
              "#fb9f3a"
             ],
             [
              0.8888888888888888,
              "#fdca26"
             ],
             [
              1,
              "#f0f921"
             ]
            ],
            "type": "histogram2d"
           }
          ],
          "histogram2dcontour": [
           {
            "colorbar": {
             "outlinewidth": 0,
             "ticks": ""
            },
            "colorscale": [
             [
              0,
              "#0d0887"
             ],
             [
              0.1111111111111111,
              "#46039f"
             ],
             [
              0.2222222222222222,
              "#7201a8"
             ],
             [
              0.3333333333333333,
              "#9c179e"
             ],
             [
              0.4444444444444444,
              "#bd3786"
             ],
             [
              0.5555555555555556,
              "#d8576b"
             ],
             [
              0.6666666666666666,
              "#ed7953"
             ],
             [
              0.7777777777777778,
              "#fb9f3a"
             ],
             [
              0.8888888888888888,
              "#fdca26"
             ],
             [
              1,
              "#f0f921"
             ]
            ],
            "type": "histogram2dcontour"
           }
          ],
          "mesh3d": [
           {
            "colorbar": {
             "outlinewidth": 0,
             "ticks": ""
            },
            "type": "mesh3d"
           }
          ],
          "parcoords": [
           {
            "line": {
             "colorbar": {
              "outlinewidth": 0,
              "ticks": ""
             }
            },
            "type": "parcoords"
           }
          ],
          "pie": [
           {
            "automargin": true,
            "type": "pie"
           }
          ],
          "scatter": [
           {
            "marker": {
             "colorbar": {
              "outlinewidth": 0,
              "ticks": ""
             }
            },
            "type": "scatter"
           }
          ],
          "scatter3d": [
           {
            "line": {
             "colorbar": {
              "outlinewidth": 0,
              "ticks": ""
             }
            },
            "marker": {
             "colorbar": {
              "outlinewidth": 0,
              "ticks": ""
             }
            },
            "type": "scatter3d"
           }
          ],
          "scattercarpet": [
           {
            "marker": {
             "colorbar": {
              "outlinewidth": 0,
              "ticks": ""
             }
            },
            "type": "scattercarpet"
           }
          ],
          "scattergeo": [
           {
            "marker": {
             "colorbar": {
              "outlinewidth": 0,
              "ticks": ""
             }
            },
            "type": "scattergeo"
           }
          ],
          "scattergl": [
           {
            "marker": {
             "colorbar": {
              "outlinewidth": 0,
              "ticks": ""
             }
            },
            "type": "scattergl"
           }
          ],
          "scattermapbox": [
           {
            "marker": {
             "colorbar": {
              "outlinewidth": 0,
              "ticks": ""
             }
            },
            "type": "scattermapbox"
           }
          ],
          "scatterpolar": [
           {
            "marker": {
             "colorbar": {
              "outlinewidth": 0,
              "ticks": ""
             }
            },
            "type": "scatterpolar"
           }
          ],
          "scatterpolargl": [
           {
            "marker": {
             "colorbar": {
              "outlinewidth": 0,
              "ticks": ""
             }
            },
            "type": "scatterpolargl"
           }
          ],
          "scatterternary": [
           {
            "marker": {
             "colorbar": {
              "outlinewidth": 0,
              "ticks": ""
             }
            },
            "type": "scatterternary"
           }
          ],
          "surface": [
           {
            "colorbar": {
             "outlinewidth": 0,
             "ticks": ""
            },
            "colorscale": [
             [
              0,
              "#0d0887"
             ],
             [
              0.1111111111111111,
              "#46039f"
             ],
             [
              0.2222222222222222,
              "#7201a8"
             ],
             [
              0.3333333333333333,
              "#9c179e"
             ],
             [
              0.4444444444444444,
              "#bd3786"
             ],
             [
              0.5555555555555556,
              "#d8576b"
             ],
             [
              0.6666666666666666,
              "#ed7953"
             ],
             [
              0.7777777777777778,
              "#fb9f3a"
             ],
             [
              0.8888888888888888,
              "#fdca26"
             ],
             [
              1,
              "#f0f921"
             ]
            ],
            "type": "surface"
           }
          ],
          "table": [
           {
            "cells": {
             "fill": {
              "color": "#EBF0F8"
             },
             "line": {
              "color": "white"
             }
            },
            "header": {
             "fill": {
              "color": "#C8D4E3"
             },
             "line": {
              "color": "white"
             }
            },
            "type": "table"
           }
          ]
         },
         "layout": {
          "annotationdefaults": {
           "arrowcolor": "#2a3f5f",
           "arrowhead": 0,
           "arrowwidth": 1
          },
          "coloraxis": {
           "colorbar": {
            "outlinewidth": 0,
            "ticks": ""
           }
          },
          "colorscale": {
           "diverging": [
            [
             0,
             "#8e0152"
            ],
            [
             0.1,
             "#c51b7d"
            ],
            [
             0.2,
             "#de77ae"
            ],
            [
             0.3,
             "#f1b6da"
            ],
            [
             0.4,
             "#fde0ef"
            ],
            [
             0.5,
             "#f7f7f7"
            ],
            [
             0.6,
             "#e6f5d0"
            ],
            [
             0.7,
             "#b8e186"
            ],
            [
             0.8,
             "#7fbc41"
            ],
            [
             0.9,
             "#4d9221"
            ],
            [
             1,
             "#276419"
            ]
           ],
           "sequential": [
            [
             0,
             "#0d0887"
            ],
            [
             0.1111111111111111,
             "#46039f"
            ],
            [
             0.2222222222222222,
             "#7201a8"
            ],
            [
             0.3333333333333333,
             "#9c179e"
            ],
            [
             0.4444444444444444,
             "#bd3786"
            ],
            [
             0.5555555555555556,
             "#d8576b"
            ],
            [
             0.6666666666666666,
             "#ed7953"
            ],
            [
             0.7777777777777778,
             "#fb9f3a"
            ],
            [
             0.8888888888888888,
             "#fdca26"
            ],
            [
             1,
             "#f0f921"
            ]
           ],
           "sequentialminus": [
            [
             0,
             "#0d0887"
            ],
            [
             0.1111111111111111,
             "#46039f"
            ],
            [
             0.2222222222222222,
             "#7201a8"
            ],
            [
             0.3333333333333333,
             "#9c179e"
            ],
            [
             0.4444444444444444,
             "#bd3786"
            ],
            [
             0.5555555555555556,
             "#d8576b"
            ],
            [
             0.6666666666666666,
             "#ed7953"
            ],
            [
             0.7777777777777778,
             "#fb9f3a"
            ],
            [
             0.8888888888888888,
             "#fdca26"
            ],
            [
             1,
             "#f0f921"
            ]
           ]
          },
          "colorway": [
           "#636efa",
           "#EF553B",
           "#00cc96",
           "#ab63fa",
           "#FFA15A",
           "#19d3f3",
           "#FF6692",
           "#B6E880",
           "#FF97FF",
           "#FECB52"
          ],
          "font": {
           "color": "#2a3f5f"
          },
          "geo": {
           "bgcolor": "white",
           "lakecolor": "white",
           "landcolor": "#E5ECF6",
           "showlakes": true,
           "showland": true,
           "subunitcolor": "white"
          },
          "hoverlabel": {
           "align": "left"
          },
          "hovermode": "closest",
          "mapbox": {
           "style": "light"
          },
          "paper_bgcolor": "white",
          "plot_bgcolor": "#E5ECF6",
          "polar": {
           "angularaxis": {
            "gridcolor": "white",
            "linecolor": "white",
            "ticks": ""
           },
           "bgcolor": "#E5ECF6",
           "radialaxis": {
            "gridcolor": "white",
            "linecolor": "white",
            "ticks": ""
           }
          },
          "scene": {
           "xaxis": {
            "backgroundcolor": "#E5ECF6",
            "gridcolor": "white",
            "gridwidth": 2,
            "linecolor": "white",
            "showbackground": true,
            "ticks": "",
            "zerolinecolor": "white"
           },
           "yaxis": {
            "backgroundcolor": "#E5ECF6",
            "gridcolor": "white",
            "gridwidth": 2,
            "linecolor": "white",
            "showbackground": true,
            "ticks": "",
            "zerolinecolor": "white"
           },
           "zaxis": {
            "backgroundcolor": "#E5ECF6",
            "gridcolor": "white",
            "gridwidth": 2,
            "linecolor": "white",
            "showbackground": true,
            "ticks": "",
            "zerolinecolor": "white"
           }
          },
          "shapedefaults": {
           "line": {
            "color": "#2a3f5f"
           }
          },
          "ternary": {
           "aaxis": {
            "gridcolor": "white",
            "linecolor": "white",
            "ticks": ""
           },
           "baxis": {
            "gridcolor": "white",
            "linecolor": "white",
            "ticks": ""
           },
           "bgcolor": "#E5ECF6",
           "caxis": {
            "gridcolor": "white",
            "linecolor": "white",
            "ticks": ""
           }
          },
          "title": {
           "x": 0.05
          },
          "xaxis": {
           "automargin": true,
           "gridcolor": "white",
           "linecolor": "white",
           "ticks": "",
           "title": {
            "standoff": 15
           },
           "zerolinecolor": "white",
           "zerolinewidth": 2
          },
          "yaxis": {
           "automargin": true,
           "gridcolor": "white",
           "linecolor": "white",
           "ticks": "",
           "title": {
            "standoff": 15
           },
           "zerolinecolor": "white",
           "zerolinewidth": 2
          }
         }
        },
        "xaxis": {
         "anchor": "y",
         "domain": [
          0,
          1
         ]
        },
        "yaxis": {
         "anchor": "x",
         "domain": [
          0,
          1
         ],
         "title": {
          "text": "A"
         }
        }
       }
      },
      "text/html": [
       "<div>\n",
       "        \n",
       "        \n",
       "            <div id=\"dc090dbf-b0ed-4c63-9838-66104ad6dc8f\" class=\"plotly-graph-div\" style=\"height:600px; width:100%;\"></div>\n",
       "            <script type=\"text/javascript\">\n",
       "                require([\"plotly\"], function(Plotly) {\n",
       "                    window.PLOTLYENV=window.PLOTLYENV || {};\n",
       "                    \n",
       "                if (document.getElementById(\"dc090dbf-b0ed-4c63-9838-66104ad6dc8f\")) {\n",
       "                    Plotly.newPlot(\n",
       "                        'dc090dbf-b0ed-4c63-9838-66104ad6dc8f',\n",
       "                        [{\"hoverlabel\": {\"namelength\": 0}, \"hovertemplate\": \"A=%{y}\", \"legendgroup\": \"\", \"line\": {\"color\": \"#636efa\", \"dash\": \"solid\"}, \"mode\": \"lines\", \"name\": \"\", \"showlegend\": false, \"type\": \"scatter\", \"xaxis\": \"x\", \"y\": [0.6203243385443583, 0.7857329039155991, 0.21640848712571004, -0.8866162073796456, 0.5131159351208865, -0.06846582740493655, 0.7961886731223227, -0.42666171132548064, 0.26479329096441107, -1.4298475075134327, -0.2959285385147227, -0.05677780219371041, -1.0648378701957026, 0.8690352629028012, -0.1500685095195439, 0.38241501983938103, -1.1188755858508244, 1.045263004554516, 0.087964898985796, -0.8483540315340626, -0.016503262993795814, 1.135075385339651, 0.04570208950442637, 1.890037637626346, 0.7879654197408938, 0.021289321547598095, 1.1100495537811568, -0.6722679847089421, 0.0662670175707515, -0.4965869374680947, 0.9138453912874416, -0.31874276571313537, -0.20890276612439312, 0.4688487330712739, -0.44745333641676227, 1.2759279151492087, -0.5448196768406731, 1.2771402592894605, 0.13859813608167776, 1.29065650291481, 1.4571118833494505, -0.9466699908775232, -0.42208280604089704, 0.23559761700825257, -0.08826419291495882, -0.3839314231240719, -0.5721539905874304, -0.37125013337680113, 1.4808917480221966, -0.4593692261290723, 0.5777233131582349, 2.1948493540319234, -0.06411405927264478, 0.3684884037809693, 1.27125499758871, -1.019117683969217, 1.102058165416587, 0.04903883926775644, 0.2942187755452374, -0.888750592399482, 0.06802589463371268, -1.0320766443607354, -0.5861499738947534, -1.3339496103226238, -2.362573897386693, 0.6269347954553319, -0.7577216508431079, -1.7639763505149797, 0.7151394425907328, 0.8795918963994098, 0.16473754972757002, -1.101951147298532, 2.4859289890756147, 1.900159069296264, 0.35373290175823086, -1.1962483671143331, -1.3794922772666982, 0.13737879751079474, -0.01219396985241829, 0.4403485077098685, -0.4332410703164527, 3.1451758652330093, -1.8828568748658863, 1.0506877553931295, -0.48907247491697947, 1.051412483232324, 0.854795459203663, 0.19590090282937242, 0.5583819087852125, 1.0468380895768383, -1.966329856380777, -0.5685204632023497, -0.6195032568440129, 1.1902833358214282, -0.19319675063498865, 1.0911397336053617, 0.5824310676078985, 0.35958655750219887, -0.5408340676903703, 0.35872691273578083], \"yaxis\": \"y\"}],\n",
       "                        {\"height\": 600, \"legend\": {\"tracegroupgap\": 0}, \"margin\": {\"t\": 60}, \"template\": {\"data\": {\"bar\": [{\"error_x\": {\"color\": \"#2a3f5f\"}, \"error_y\": {\"color\": \"#2a3f5f\"}, \"marker\": {\"line\": {\"color\": \"#E5ECF6\", \"width\": 0.5}}, \"type\": \"bar\"}], \"barpolar\": [{\"marker\": {\"line\": {\"color\": \"#E5ECF6\", \"width\": 0.5}}, \"type\": \"barpolar\"}], \"carpet\": [{\"aaxis\": {\"endlinecolor\": \"#2a3f5f\", \"gridcolor\": \"white\", \"linecolor\": \"white\", \"minorgridcolor\": \"white\", \"startlinecolor\": \"#2a3f5f\"}, \"baxis\": {\"endlinecolor\": \"#2a3f5f\", \"gridcolor\": \"white\", \"linecolor\": \"white\", \"minorgridcolor\": \"white\", \"startlinecolor\": \"#2a3f5f\"}, \"type\": \"carpet\"}], \"choropleth\": [{\"colorbar\": {\"outlinewidth\": 0, \"ticks\": \"\"}, \"type\": \"choropleth\"}], \"contour\": [{\"colorbar\": {\"outlinewidth\": 0, \"ticks\": \"\"}, \"colorscale\": [[0.0, \"#0d0887\"], [0.1111111111111111, \"#46039f\"], [0.2222222222222222, \"#7201a8\"], [0.3333333333333333, \"#9c179e\"], [0.4444444444444444, \"#bd3786\"], [0.5555555555555556, \"#d8576b\"], [0.6666666666666666, \"#ed7953\"], [0.7777777777777778, \"#fb9f3a\"], [0.8888888888888888, \"#fdca26\"], [1.0, \"#f0f921\"]], \"type\": \"contour\"}], \"contourcarpet\": [{\"colorbar\": {\"outlinewidth\": 0, \"ticks\": \"\"}, \"type\": \"contourcarpet\"}], \"heatmap\": [{\"colorbar\": {\"outlinewidth\": 0, \"ticks\": \"\"}, \"colorscale\": [[0.0, \"#0d0887\"], [0.1111111111111111, \"#46039f\"], [0.2222222222222222, \"#7201a8\"], [0.3333333333333333, \"#9c179e\"], [0.4444444444444444, \"#bd3786\"], [0.5555555555555556, \"#d8576b\"], [0.6666666666666666, \"#ed7953\"], [0.7777777777777778, \"#fb9f3a\"], [0.8888888888888888, \"#fdca26\"], [1.0, \"#f0f921\"]], \"type\": \"heatmap\"}], \"heatmapgl\": [{\"colorbar\": {\"outlinewidth\": 0, \"ticks\": \"\"}, \"colorscale\": [[0.0, \"#0d0887\"], [0.1111111111111111, \"#46039f\"], [0.2222222222222222, \"#7201a8\"], [0.3333333333333333, \"#9c179e\"], [0.4444444444444444, \"#bd3786\"], [0.5555555555555556, \"#d8576b\"], [0.6666666666666666, \"#ed7953\"], [0.7777777777777778, \"#fb9f3a\"], [0.8888888888888888, \"#fdca26\"], [1.0, \"#f0f921\"]], \"type\": \"heatmapgl\"}], \"histogram\": [{\"marker\": {\"colorbar\": {\"outlinewidth\": 0, \"ticks\": \"\"}}, \"type\": \"histogram\"}], \"histogram2d\": [{\"colorbar\": {\"outlinewidth\": 0, \"ticks\": \"\"}, \"colorscale\": [[0.0, \"#0d0887\"], [0.1111111111111111, \"#46039f\"], [0.2222222222222222, \"#7201a8\"], [0.3333333333333333, \"#9c179e\"], [0.4444444444444444, \"#bd3786\"], [0.5555555555555556, \"#d8576b\"], [0.6666666666666666, \"#ed7953\"], [0.7777777777777778, \"#fb9f3a\"], [0.8888888888888888, \"#fdca26\"], [1.0, \"#f0f921\"]], \"type\": \"histogram2d\"}], \"histogram2dcontour\": [{\"colorbar\": {\"outlinewidth\": 0, \"ticks\": \"\"}, \"colorscale\": [[0.0, \"#0d0887\"], [0.1111111111111111, \"#46039f\"], [0.2222222222222222, \"#7201a8\"], [0.3333333333333333, \"#9c179e\"], [0.4444444444444444, \"#bd3786\"], [0.5555555555555556, \"#d8576b\"], [0.6666666666666666, \"#ed7953\"], [0.7777777777777778, \"#fb9f3a\"], [0.8888888888888888, \"#fdca26\"], [1.0, \"#f0f921\"]], \"type\": \"histogram2dcontour\"}], \"mesh3d\": [{\"colorbar\": {\"outlinewidth\": 0, \"ticks\": \"\"}, \"type\": \"mesh3d\"}], \"parcoords\": [{\"line\": {\"colorbar\": {\"outlinewidth\": 0, \"ticks\": \"\"}}, \"type\": \"parcoords\"}], \"pie\": [{\"automargin\": true, \"type\": \"pie\"}], \"scatter\": [{\"marker\": {\"colorbar\": {\"outlinewidth\": 0, \"ticks\": \"\"}}, \"type\": \"scatter\"}], \"scatter3d\": [{\"line\": {\"colorbar\": {\"outlinewidth\": 0, \"ticks\": \"\"}}, \"marker\": {\"colorbar\": {\"outlinewidth\": 0, \"ticks\": \"\"}}, \"type\": \"scatter3d\"}], \"scattercarpet\": [{\"marker\": {\"colorbar\": {\"outlinewidth\": 0, \"ticks\": \"\"}}, \"type\": \"scattercarpet\"}], \"scattergeo\": [{\"marker\": {\"colorbar\": {\"outlinewidth\": 0, \"ticks\": \"\"}}, \"type\": \"scattergeo\"}], \"scattergl\": [{\"marker\": {\"colorbar\": {\"outlinewidth\": 0, \"ticks\": \"\"}}, \"type\": \"scattergl\"}], \"scattermapbox\": [{\"marker\": {\"colorbar\": {\"outlinewidth\": 0, \"ticks\": \"\"}}, \"type\": \"scattermapbox\"}], \"scatterpolar\": [{\"marker\": {\"colorbar\": {\"outlinewidth\": 0, \"ticks\": \"\"}}, \"type\": \"scatterpolar\"}], \"scatterpolargl\": [{\"marker\": {\"colorbar\": {\"outlinewidth\": 0, \"ticks\": \"\"}}, \"type\": \"scatterpolargl\"}], \"scatterternary\": [{\"marker\": {\"colorbar\": {\"outlinewidth\": 0, \"ticks\": \"\"}}, \"type\": \"scatterternary\"}], \"surface\": [{\"colorbar\": {\"outlinewidth\": 0, \"ticks\": \"\"}, \"colorscale\": [[0.0, \"#0d0887\"], [0.1111111111111111, \"#46039f\"], [0.2222222222222222, \"#7201a8\"], [0.3333333333333333, \"#9c179e\"], [0.4444444444444444, \"#bd3786\"], [0.5555555555555556, \"#d8576b\"], [0.6666666666666666, \"#ed7953\"], [0.7777777777777778, \"#fb9f3a\"], [0.8888888888888888, \"#fdca26\"], [1.0, \"#f0f921\"]], \"type\": \"surface\"}], \"table\": [{\"cells\": {\"fill\": {\"color\": \"#EBF0F8\"}, \"line\": {\"color\": \"white\"}}, \"header\": {\"fill\": {\"color\": \"#C8D4E3\"}, \"line\": {\"color\": \"white\"}}, \"type\": \"table\"}]}, \"layout\": {\"annotationdefaults\": {\"arrowcolor\": \"#2a3f5f\", \"arrowhead\": 0, \"arrowwidth\": 1}, \"coloraxis\": {\"colorbar\": {\"outlinewidth\": 0, \"ticks\": \"\"}}, \"colorscale\": {\"diverging\": [[0, \"#8e0152\"], [0.1, \"#c51b7d\"], [0.2, \"#de77ae\"], [0.3, \"#f1b6da\"], [0.4, \"#fde0ef\"], [0.5, \"#f7f7f7\"], [0.6, \"#e6f5d0\"], [0.7, \"#b8e186\"], [0.8, \"#7fbc41\"], [0.9, \"#4d9221\"], [1, \"#276419\"]], \"sequential\": [[0.0, \"#0d0887\"], [0.1111111111111111, \"#46039f\"], [0.2222222222222222, \"#7201a8\"], [0.3333333333333333, \"#9c179e\"], [0.4444444444444444, \"#bd3786\"], [0.5555555555555556, \"#d8576b\"], [0.6666666666666666, \"#ed7953\"], [0.7777777777777778, \"#fb9f3a\"], [0.8888888888888888, \"#fdca26\"], [1.0, \"#f0f921\"]], \"sequentialminus\": [[0.0, \"#0d0887\"], [0.1111111111111111, \"#46039f\"], [0.2222222222222222, \"#7201a8\"], [0.3333333333333333, \"#9c179e\"], [0.4444444444444444, \"#bd3786\"], [0.5555555555555556, \"#d8576b\"], [0.6666666666666666, \"#ed7953\"], [0.7777777777777778, \"#fb9f3a\"], [0.8888888888888888, \"#fdca26\"], [1.0, \"#f0f921\"]]}, \"colorway\": [\"#636efa\", \"#EF553B\", \"#00cc96\", \"#ab63fa\", \"#FFA15A\", \"#19d3f3\", \"#FF6692\", \"#B6E880\", \"#FF97FF\", \"#FECB52\"], \"font\": {\"color\": \"#2a3f5f\"}, \"geo\": {\"bgcolor\": \"white\", \"lakecolor\": \"white\", \"landcolor\": \"#E5ECF6\", \"showlakes\": true, \"showland\": true, \"subunitcolor\": \"white\"}, \"hoverlabel\": {\"align\": \"left\"}, \"hovermode\": \"closest\", \"mapbox\": {\"style\": \"light\"}, \"paper_bgcolor\": \"white\", \"plot_bgcolor\": \"#E5ECF6\", \"polar\": {\"angularaxis\": {\"gridcolor\": \"white\", \"linecolor\": \"white\", \"ticks\": \"\"}, \"bgcolor\": \"#E5ECF6\", \"radialaxis\": {\"gridcolor\": \"white\", \"linecolor\": \"white\", \"ticks\": \"\"}}, \"scene\": {\"xaxis\": {\"backgroundcolor\": \"#E5ECF6\", \"gridcolor\": \"white\", \"gridwidth\": 2, \"linecolor\": \"white\", \"showbackground\": true, \"ticks\": \"\", \"zerolinecolor\": \"white\"}, \"yaxis\": {\"backgroundcolor\": \"#E5ECF6\", \"gridcolor\": \"white\", \"gridwidth\": 2, \"linecolor\": \"white\", \"showbackground\": true, \"ticks\": \"\", \"zerolinecolor\": \"white\"}, \"zaxis\": {\"backgroundcolor\": \"#E5ECF6\", \"gridcolor\": \"white\", \"gridwidth\": 2, \"linecolor\": \"white\", \"showbackground\": true, \"ticks\": \"\", \"zerolinecolor\": \"white\"}}, \"shapedefaults\": {\"line\": {\"color\": \"#2a3f5f\"}}, \"ternary\": {\"aaxis\": {\"gridcolor\": \"white\", \"linecolor\": \"white\", \"ticks\": \"\"}, \"baxis\": {\"gridcolor\": \"white\", \"linecolor\": \"white\", \"ticks\": \"\"}, \"bgcolor\": \"#E5ECF6\", \"caxis\": {\"gridcolor\": \"white\", \"linecolor\": \"white\", \"ticks\": \"\"}}, \"title\": {\"x\": 0.05}, \"xaxis\": {\"automargin\": true, \"gridcolor\": \"white\", \"linecolor\": \"white\", \"ticks\": \"\", \"title\": {\"standoff\": 15}, \"zerolinecolor\": \"white\", \"zerolinewidth\": 2}, \"yaxis\": {\"automargin\": true, \"gridcolor\": \"white\", \"linecolor\": \"white\", \"ticks\": \"\", \"title\": {\"standoff\": 15}, \"zerolinecolor\": \"white\", \"zerolinewidth\": 2}}}, \"xaxis\": {\"anchor\": \"y\", \"domain\": [0.0, 1.0]}, \"yaxis\": {\"anchor\": \"x\", \"domain\": [0.0, 1.0], \"title\": {\"text\": \"A\"}}},\n",
       "                        {\"responsive\": true}\n",
       "                    ).then(function(){\n",
       "                            \n",
       "var gd = document.getElementById('dc090dbf-b0ed-4c63-9838-66104ad6dc8f');\n",
       "var x = new MutationObserver(function (mutations, observer) {{\n",
       "        var display = window.getComputedStyle(gd).display;\n",
       "        if (!display || display === 'none') {{\n",
       "            console.log([gd, 'removed!']);\n",
       "            Plotly.purge(gd);\n",
       "            observer.disconnect();\n",
       "        }}\n",
       "}});\n",
       "\n",
       "// Listen for the removal of the full notebook cells\n",
       "var notebookContainer = gd.closest('#notebook-container');\n",
       "if (notebookContainer) {{\n",
       "    x.observe(notebookContainer, {childList: true});\n",
       "}}\n",
       "\n",
       "// Listen for the clearing of the current output cell\n",
       "var outputEl = gd.closest('.output');\n",
       "if (outputEl) {{\n",
       "    x.observe(outputEl, {childList: true});\n",
       "}}\n",
       "\n",
       "                        })\n",
       "                };\n",
       "                });\n",
       "            </script>\n",
       "        </div>"
      ]
     },
     "metadata": {},
     "output_type": "display_data"
    }
   ],
   "source": [
    "px.line(df, y='A') #plot with plotly"
   ]
  },
  {
   "cell_type": "markdown",
   "metadata": {},
   "source": [
    "## Using Cufflinks and iplot()\n",
    "\n",
    "* scatter\n",
    "* bar\n",
    "* box\n",
    "* spread\n",
    "* ratio\n",
    "* heatmap\n",
    "* surface\n",
    "* histogram\n",
    "* bubble"
   ]
  },
  {
   "cell_type": "markdown",
   "metadata": {},
   "source": [
    "## Scatter"
   ]
  },
  {
   "cell_type": "code",
   "execution_count": 19,
   "metadata": {},
   "outputs": [
    {
     "data": {
      "application/vnd.plotly.v1+json": {
       "config": {
        "plotlyServerURL": "https://plot.ly"
       },
       "data": [
        {
         "hoverlabel": {
          "namelength": 0
         },
         "hovertemplate": "A=%{x}<br>B=%{y}",
         "legendgroup": "",
         "marker": {
          "color": "#636efa",
          "symbol": "circle"
         },
         "mode": "markers",
         "name": "",
         "showlegend": false,
         "type": "scatter",
         "x": [
          0.6203243385443583,
          0.7857329039155991,
          0.21640848712571004,
          -0.8866162073796456,
          0.5131159351208865,
          -0.06846582740493655,
          0.7961886731223227,
          -0.42666171132548064,
          0.26479329096441107,
          -1.4298475075134327,
          -0.2959285385147227,
          -0.05677780219371041,
          -1.0648378701957026,
          0.8690352629028012,
          -0.1500685095195439,
          0.38241501983938103,
          -1.1188755858508244,
          1.045263004554516,
          0.087964898985796,
          -0.8483540315340626,
          -0.016503262993795814,
          1.135075385339651,
          0.04570208950442637,
          1.890037637626346,
          0.7879654197408938,
          0.021289321547598095,
          1.1100495537811568,
          -0.6722679847089421,
          0.0662670175707515,
          -0.4965869374680947,
          0.9138453912874416,
          -0.31874276571313537,
          -0.20890276612439312,
          0.4688487330712739,
          -0.44745333641676227,
          1.2759279151492087,
          -0.5448196768406731,
          1.2771402592894605,
          0.13859813608167776,
          1.29065650291481,
          1.4571118833494505,
          -0.9466699908775232,
          -0.42208280604089704,
          0.23559761700825257,
          -0.08826419291495882,
          -0.3839314231240719,
          -0.5721539905874304,
          -0.37125013337680113,
          1.4808917480221966,
          -0.4593692261290723,
          0.5777233131582349,
          2.1948493540319234,
          -0.06411405927264478,
          0.3684884037809693,
          1.27125499758871,
          -1.019117683969217,
          1.102058165416587,
          0.04903883926775644,
          0.2942187755452374,
          -0.888750592399482,
          0.06802589463371268,
          -1.0320766443607354,
          -0.5861499738947534,
          -1.3339496103226238,
          -2.362573897386693,
          0.6269347954553319,
          -0.7577216508431079,
          -1.7639763505149797,
          0.7151394425907328,
          0.8795918963994098,
          0.16473754972757002,
          -1.101951147298532,
          2.4859289890756147,
          1.900159069296264,
          0.35373290175823086,
          -1.1962483671143331,
          -1.3794922772666982,
          0.13737879751079474,
          -0.01219396985241829,
          0.4403485077098685,
          -0.4332410703164527,
          3.1451758652330093,
          -1.8828568748658863,
          1.0506877553931295,
          -0.48907247491697947,
          1.051412483232324,
          0.854795459203663,
          0.19590090282937242,
          0.5583819087852125,
          1.0468380895768383,
          -1.966329856380777,
          -0.5685204632023497,
          -0.6195032568440129,
          1.1902833358214282,
          -0.19319675063498865,
          1.0911397336053617,
          0.5824310676078985,
          0.35958655750219887,
          -0.5408340676903703,
          0.35872691273578083
         ],
         "xaxis": "x",
         "y": [
          1.3258749366868399,
          -0.9646704353598159,
          -0.48500354897365594,
          0.25846269120489407,
          0.33545364450376364,
          0.21952267149147858,
          0.46207372412517644,
          -0.976318982461929,
          -0.7773548560719098,
          1.094173508970144,
          -0.17581184838200964,
          0.7116574371473192,
          0.15193949179719443,
          1.5141604787532008,
          0.3435012328533945,
          -1.1061749729773855,
          1.456553275104766,
          0.3011935315222427,
          0.746050842018967,
          0.17722780930599424,
          -0.6123216750697082,
          -1.2139621206817939,
          1.354353767240496,
          1.3725704337737912,
          0.05284429026204852,
          -0.04817661862195769,
          -1.0688849696204779,
          -1.0728570122338734,
          -0.0028779532881677158,
          -0.08204622642830918,
          -0.5752063060192338,
          2.0839885902651734,
          -0.5468718715363059,
          1.2189360978073143,
          1.2731977214386088,
          0.8296164369353494,
          0.04924879154453354,
          -1.406578136434764,
          -0.3384947039115073,
          -0.7561097388474594,
          -0.2419542016348666,
          -0.2305574658963847,
          -0.304009217177068,
          0.9524786245921982,
          -0.22856691579904465,
          -0.2201455072966737,
          -0.830871814018699,
          1.169928239981754,
          0.3254500326995532,
          -1.0870083169190394,
          -1.008980693472835,
          0.30385687282098905,
          0.4969524683410614,
          0.9865254045534061,
          0.8041825671524578,
          1.0929640013933346,
          0.11922791113498832,
          1.2048342760121018,
          -0.1495238644620107,
          1.3521316628048585,
          -0.29538136037758095,
          -1.027818151523246,
          0.8817455886540428,
          1.10897850165198,
          -1.1825005832100124,
          -0.1907089990340178,
          -0.9774689654985181,
          -0.6630662324774296,
          -0.40014515472278817,
          1.1784422253752609,
          1.0175259047037228,
          -1.440984556803853,
          1.7969569026285785,
          -0.5102070164296288,
          0.19253780583094104,
          0.300839452447321,
          1.2557053792395145,
          0.7233433373887224,
          -0.5749771160574139,
          -0.3170732281677432,
          -1.045342554399439,
          0.05453351413332123,
          -0.4853969125228182,
          2.6553574860463804,
          0.2288163386716124,
          0.7154824827193458,
          0.24526446595515886,
          1.898946350428649,
          -1.2561700652515986,
          -0.14584726131038026,
          0.9042807761360668,
          0.45030719697340943,
          -1.391506855208499,
          -1.238160674129972,
          -0.30066883329407096,
          1.889994165555027,
          -1.0096160219445134,
          -0.04200483646255804,
          0.7246946505005815,
          -0.07310201038805623
         ],
         "yaxis": "y"
        }
       ],
       "layout": {
        "height": 600,
        "legend": {
         "tracegroupgap": 0
        },
        "margin": {
         "t": 60
        },
        "template": {
         "data": {
          "bar": [
           {
            "error_x": {
             "color": "#2a3f5f"
            },
            "error_y": {
             "color": "#2a3f5f"
            },
            "marker": {
             "line": {
              "color": "#E5ECF6",
              "width": 0.5
             }
            },
            "type": "bar"
           }
          ],
          "barpolar": [
           {
            "marker": {
             "line": {
              "color": "#E5ECF6",
              "width": 0.5
             }
            },
            "type": "barpolar"
           }
          ],
          "carpet": [
           {
            "aaxis": {
             "endlinecolor": "#2a3f5f",
             "gridcolor": "white",
             "linecolor": "white",
             "minorgridcolor": "white",
             "startlinecolor": "#2a3f5f"
            },
            "baxis": {
             "endlinecolor": "#2a3f5f",
             "gridcolor": "white",
             "linecolor": "white",
             "minorgridcolor": "white",
             "startlinecolor": "#2a3f5f"
            },
            "type": "carpet"
           }
          ],
          "choropleth": [
           {
            "colorbar": {
             "outlinewidth": 0,
             "ticks": ""
            },
            "type": "choropleth"
           }
          ],
          "contour": [
           {
            "colorbar": {
             "outlinewidth": 0,
             "ticks": ""
            },
            "colorscale": [
             [
              0,
              "#0d0887"
             ],
             [
              0.1111111111111111,
              "#46039f"
             ],
             [
              0.2222222222222222,
              "#7201a8"
             ],
             [
              0.3333333333333333,
              "#9c179e"
             ],
             [
              0.4444444444444444,
              "#bd3786"
             ],
             [
              0.5555555555555556,
              "#d8576b"
             ],
             [
              0.6666666666666666,
              "#ed7953"
             ],
             [
              0.7777777777777778,
              "#fb9f3a"
             ],
             [
              0.8888888888888888,
              "#fdca26"
             ],
             [
              1,
              "#f0f921"
             ]
            ],
            "type": "contour"
           }
          ],
          "contourcarpet": [
           {
            "colorbar": {
             "outlinewidth": 0,
             "ticks": ""
            },
            "type": "contourcarpet"
           }
          ],
          "heatmap": [
           {
            "colorbar": {
             "outlinewidth": 0,
             "ticks": ""
            },
            "colorscale": [
             [
              0,
              "#0d0887"
             ],
             [
              0.1111111111111111,
              "#46039f"
             ],
             [
              0.2222222222222222,
              "#7201a8"
             ],
             [
              0.3333333333333333,
              "#9c179e"
             ],
             [
              0.4444444444444444,
              "#bd3786"
             ],
             [
              0.5555555555555556,
              "#d8576b"
             ],
             [
              0.6666666666666666,
              "#ed7953"
             ],
             [
              0.7777777777777778,
              "#fb9f3a"
             ],
             [
              0.8888888888888888,
              "#fdca26"
             ],
             [
              1,
              "#f0f921"
             ]
            ],
            "type": "heatmap"
           }
          ],
          "heatmapgl": [
           {
            "colorbar": {
             "outlinewidth": 0,
             "ticks": ""
            },
            "colorscale": [
             [
              0,
              "#0d0887"
             ],
             [
              0.1111111111111111,
              "#46039f"
             ],
             [
              0.2222222222222222,
              "#7201a8"
             ],
             [
              0.3333333333333333,
              "#9c179e"
             ],
             [
              0.4444444444444444,
              "#bd3786"
             ],
             [
              0.5555555555555556,
              "#d8576b"
             ],
             [
              0.6666666666666666,
              "#ed7953"
             ],
             [
              0.7777777777777778,
              "#fb9f3a"
             ],
             [
              0.8888888888888888,
              "#fdca26"
             ],
             [
              1,
              "#f0f921"
             ]
            ],
            "type": "heatmapgl"
           }
          ],
          "histogram": [
           {
            "marker": {
             "colorbar": {
              "outlinewidth": 0,
              "ticks": ""
             }
            },
            "type": "histogram"
           }
          ],
          "histogram2d": [
           {
            "colorbar": {
             "outlinewidth": 0,
             "ticks": ""
            },
            "colorscale": [
             [
              0,
              "#0d0887"
             ],
             [
              0.1111111111111111,
              "#46039f"
             ],
             [
              0.2222222222222222,
              "#7201a8"
             ],
             [
              0.3333333333333333,
              "#9c179e"
             ],
             [
              0.4444444444444444,
              "#bd3786"
             ],
             [
              0.5555555555555556,
              "#d8576b"
             ],
             [
              0.6666666666666666,
              "#ed7953"
             ],
             [
              0.7777777777777778,
              "#fb9f3a"
             ],
             [
              0.8888888888888888,
              "#fdca26"
             ],
             [
              1,
              "#f0f921"
             ]
            ],
            "type": "histogram2d"
           }
          ],
          "histogram2dcontour": [
           {
            "colorbar": {
             "outlinewidth": 0,
             "ticks": ""
            },
            "colorscale": [
             [
              0,
              "#0d0887"
             ],
             [
              0.1111111111111111,
              "#46039f"
             ],
             [
              0.2222222222222222,
              "#7201a8"
             ],
             [
              0.3333333333333333,
              "#9c179e"
             ],
             [
              0.4444444444444444,
              "#bd3786"
             ],
             [
              0.5555555555555556,
              "#d8576b"
             ],
             [
              0.6666666666666666,
              "#ed7953"
             ],
             [
              0.7777777777777778,
              "#fb9f3a"
             ],
             [
              0.8888888888888888,
              "#fdca26"
             ],
             [
              1,
              "#f0f921"
             ]
            ],
            "type": "histogram2dcontour"
           }
          ],
          "mesh3d": [
           {
            "colorbar": {
             "outlinewidth": 0,
             "ticks": ""
            },
            "type": "mesh3d"
           }
          ],
          "parcoords": [
           {
            "line": {
             "colorbar": {
              "outlinewidth": 0,
              "ticks": ""
             }
            },
            "type": "parcoords"
           }
          ],
          "pie": [
           {
            "automargin": true,
            "type": "pie"
           }
          ],
          "scatter": [
           {
            "marker": {
             "colorbar": {
              "outlinewidth": 0,
              "ticks": ""
             }
            },
            "type": "scatter"
           }
          ],
          "scatter3d": [
           {
            "line": {
             "colorbar": {
              "outlinewidth": 0,
              "ticks": ""
             }
            },
            "marker": {
             "colorbar": {
              "outlinewidth": 0,
              "ticks": ""
             }
            },
            "type": "scatter3d"
           }
          ],
          "scattercarpet": [
           {
            "marker": {
             "colorbar": {
              "outlinewidth": 0,
              "ticks": ""
             }
            },
            "type": "scattercarpet"
           }
          ],
          "scattergeo": [
           {
            "marker": {
             "colorbar": {
              "outlinewidth": 0,
              "ticks": ""
             }
            },
            "type": "scattergeo"
           }
          ],
          "scattergl": [
           {
            "marker": {
             "colorbar": {
              "outlinewidth": 0,
              "ticks": ""
             }
            },
            "type": "scattergl"
           }
          ],
          "scattermapbox": [
           {
            "marker": {
             "colorbar": {
              "outlinewidth": 0,
              "ticks": ""
             }
            },
            "type": "scattermapbox"
           }
          ],
          "scatterpolar": [
           {
            "marker": {
             "colorbar": {
              "outlinewidth": 0,
              "ticks": ""
             }
            },
            "type": "scatterpolar"
           }
          ],
          "scatterpolargl": [
           {
            "marker": {
             "colorbar": {
              "outlinewidth": 0,
              "ticks": ""
             }
            },
            "type": "scatterpolargl"
           }
          ],
          "scatterternary": [
           {
            "marker": {
             "colorbar": {
              "outlinewidth": 0,
              "ticks": ""
             }
            },
            "type": "scatterternary"
           }
          ],
          "surface": [
           {
            "colorbar": {
             "outlinewidth": 0,
             "ticks": ""
            },
            "colorscale": [
             [
              0,
              "#0d0887"
             ],
             [
              0.1111111111111111,
              "#46039f"
             ],
             [
              0.2222222222222222,
              "#7201a8"
             ],
             [
              0.3333333333333333,
              "#9c179e"
             ],
             [
              0.4444444444444444,
              "#bd3786"
             ],
             [
              0.5555555555555556,
              "#d8576b"
             ],
             [
              0.6666666666666666,
              "#ed7953"
             ],
             [
              0.7777777777777778,
              "#fb9f3a"
             ],
             [
              0.8888888888888888,
              "#fdca26"
             ],
             [
              1,
              "#f0f921"
             ]
            ],
            "type": "surface"
           }
          ],
          "table": [
           {
            "cells": {
             "fill": {
              "color": "#EBF0F8"
             },
             "line": {
              "color": "white"
             }
            },
            "header": {
             "fill": {
              "color": "#C8D4E3"
             },
             "line": {
              "color": "white"
             }
            },
            "type": "table"
           }
          ]
         },
         "layout": {
          "annotationdefaults": {
           "arrowcolor": "#2a3f5f",
           "arrowhead": 0,
           "arrowwidth": 1
          },
          "coloraxis": {
           "colorbar": {
            "outlinewidth": 0,
            "ticks": ""
           }
          },
          "colorscale": {
           "diverging": [
            [
             0,
             "#8e0152"
            ],
            [
             0.1,
             "#c51b7d"
            ],
            [
             0.2,
             "#de77ae"
            ],
            [
             0.3,
             "#f1b6da"
            ],
            [
             0.4,
             "#fde0ef"
            ],
            [
             0.5,
             "#f7f7f7"
            ],
            [
             0.6,
             "#e6f5d0"
            ],
            [
             0.7,
             "#b8e186"
            ],
            [
             0.8,
             "#7fbc41"
            ],
            [
             0.9,
             "#4d9221"
            ],
            [
             1,
             "#276419"
            ]
           ],
           "sequential": [
            [
             0,
             "#0d0887"
            ],
            [
             0.1111111111111111,
             "#46039f"
            ],
            [
             0.2222222222222222,
             "#7201a8"
            ],
            [
             0.3333333333333333,
             "#9c179e"
            ],
            [
             0.4444444444444444,
             "#bd3786"
            ],
            [
             0.5555555555555556,
             "#d8576b"
            ],
            [
             0.6666666666666666,
             "#ed7953"
            ],
            [
             0.7777777777777778,
             "#fb9f3a"
            ],
            [
             0.8888888888888888,
             "#fdca26"
            ],
            [
             1,
             "#f0f921"
            ]
           ],
           "sequentialminus": [
            [
             0,
             "#0d0887"
            ],
            [
             0.1111111111111111,
             "#46039f"
            ],
            [
             0.2222222222222222,
             "#7201a8"
            ],
            [
             0.3333333333333333,
             "#9c179e"
            ],
            [
             0.4444444444444444,
             "#bd3786"
            ],
            [
             0.5555555555555556,
             "#d8576b"
            ],
            [
             0.6666666666666666,
             "#ed7953"
            ],
            [
             0.7777777777777778,
             "#fb9f3a"
            ],
            [
             0.8888888888888888,
             "#fdca26"
            ],
            [
             1,
             "#f0f921"
            ]
           ]
          },
          "colorway": [
           "#636efa",
           "#EF553B",
           "#00cc96",
           "#ab63fa",
           "#FFA15A",
           "#19d3f3",
           "#FF6692",
           "#B6E880",
           "#FF97FF",
           "#FECB52"
          ],
          "font": {
           "color": "#2a3f5f"
          },
          "geo": {
           "bgcolor": "white",
           "lakecolor": "white",
           "landcolor": "#E5ECF6",
           "showlakes": true,
           "showland": true,
           "subunitcolor": "white"
          },
          "hoverlabel": {
           "align": "left"
          },
          "hovermode": "closest",
          "mapbox": {
           "style": "light"
          },
          "paper_bgcolor": "white",
          "plot_bgcolor": "#E5ECF6",
          "polar": {
           "angularaxis": {
            "gridcolor": "white",
            "linecolor": "white",
            "ticks": ""
           },
           "bgcolor": "#E5ECF6",
           "radialaxis": {
            "gridcolor": "white",
            "linecolor": "white",
            "ticks": ""
           }
          },
          "scene": {
           "xaxis": {
            "backgroundcolor": "#E5ECF6",
            "gridcolor": "white",
            "gridwidth": 2,
            "linecolor": "white",
            "showbackground": true,
            "ticks": "",
            "zerolinecolor": "white"
           },
           "yaxis": {
            "backgroundcolor": "#E5ECF6",
            "gridcolor": "white",
            "gridwidth": 2,
            "linecolor": "white",
            "showbackground": true,
            "ticks": "",
            "zerolinecolor": "white"
           },
           "zaxis": {
            "backgroundcolor": "#E5ECF6",
            "gridcolor": "white",
            "gridwidth": 2,
            "linecolor": "white",
            "showbackground": true,
            "ticks": "",
            "zerolinecolor": "white"
           }
          },
          "shapedefaults": {
           "line": {
            "color": "#2a3f5f"
           }
          },
          "ternary": {
           "aaxis": {
            "gridcolor": "white",
            "linecolor": "white",
            "ticks": ""
           },
           "baxis": {
            "gridcolor": "white",
            "linecolor": "white",
            "ticks": ""
           },
           "bgcolor": "#E5ECF6",
           "caxis": {
            "gridcolor": "white",
            "linecolor": "white",
            "ticks": ""
           }
          },
          "title": {
           "x": 0.05
          },
          "xaxis": {
           "automargin": true,
           "gridcolor": "white",
           "linecolor": "white",
           "ticks": "",
           "title": {
            "standoff": 15
           },
           "zerolinecolor": "white",
           "zerolinewidth": 2
          },
          "yaxis": {
           "automargin": true,
           "gridcolor": "white",
           "linecolor": "white",
           "ticks": "",
           "title": {
            "standoff": 15
           },
           "zerolinecolor": "white",
           "zerolinewidth": 2
          }
         }
        },
        "xaxis": {
         "anchor": "y",
         "domain": [
          0,
          1
         ],
         "title": {
          "text": "A"
         }
        },
        "yaxis": {
         "anchor": "x",
         "domain": [
          0,
          1
         ],
         "title": {
          "text": "B"
         }
        }
       }
      },
      "text/html": [
       "<div>\n",
       "        \n",
       "        \n",
       "            <div id=\"1f68295a-e16f-4940-883c-bc050ce48941\" class=\"plotly-graph-div\" style=\"height:600px; width:100%;\"></div>\n",
       "            <script type=\"text/javascript\">\n",
       "                require([\"plotly\"], function(Plotly) {\n",
       "                    window.PLOTLYENV=window.PLOTLYENV || {};\n",
       "                    \n",
       "                if (document.getElementById(\"1f68295a-e16f-4940-883c-bc050ce48941\")) {\n",
       "                    Plotly.newPlot(\n",
       "                        '1f68295a-e16f-4940-883c-bc050ce48941',\n",
       "                        [{\"hoverlabel\": {\"namelength\": 0}, \"hovertemplate\": \"A=%{x}<br>B=%{y}\", \"legendgroup\": \"\", \"marker\": {\"color\": \"#636efa\", \"symbol\": \"circle\"}, \"mode\": \"markers\", \"name\": \"\", \"showlegend\": false, \"type\": \"scatter\", \"x\": [0.6203243385443583, 0.7857329039155991, 0.21640848712571004, -0.8866162073796456, 0.5131159351208865, -0.06846582740493655, 0.7961886731223227, -0.42666171132548064, 0.26479329096441107, -1.4298475075134327, -0.2959285385147227, -0.05677780219371041, -1.0648378701957026, 0.8690352629028012, -0.1500685095195439, 0.38241501983938103, -1.1188755858508244, 1.045263004554516, 0.087964898985796, -0.8483540315340626, -0.016503262993795814, 1.135075385339651, 0.04570208950442637, 1.890037637626346, 0.7879654197408938, 0.021289321547598095, 1.1100495537811568, -0.6722679847089421, 0.0662670175707515, -0.4965869374680947, 0.9138453912874416, -0.31874276571313537, -0.20890276612439312, 0.4688487330712739, -0.44745333641676227, 1.2759279151492087, -0.5448196768406731, 1.2771402592894605, 0.13859813608167776, 1.29065650291481, 1.4571118833494505, -0.9466699908775232, -0.42208280604089704, 0.23559761700825257, -0.08826419291495882, -0.3839314231240719, -0.5721539905874304, -0.37125013337680113, 1.4808917480221966, -0.4593692261290723, 0.5777233131582349, 2.1948493540319234, -0.06411405927264478, 0.3684884037809693, 1.27125499758871, -1.019117683969217, 1.102058165416587, 0.04903883926775644, 0.2942187755452374, -0.888750592399482, 0.06802589463371268, -1.0320766443607354, -0.5861499738947534, -1.3339496103226238, -2.362573897386693, 0.6269347954553319, -0.7577216508431079, -1.7639763505149797, 0.7151394425907328, 0.8795918963994098, 0.16473754972757002, -1.101951147298532, 2.4859289890756147, 1.900159069296264, 0.35373290175823086, -1.1962483671143331, -1.3794922772666982, 0.13737879751079474, -0.01219396985241829, 0.4403485077098685, -0.4332410703164527, 3.1451758652330093, -1.8828568748658863, 1.0506877553931295, -0.48907247491697947, 1.051412483232324, 0.854795459203663, 0.19590090282937242, 0.5583819087852125, 1.0468380895768383, -1.966329856380777, -0.5685204632023497, -0.6195032568440129, 1.1902833358214282, -0.19319675063498865, 1.0911397336053617, 0.5824310676078985, 0.35958655750219887, -0.5408340676903703, 0.35872691273578083], \"xaxis\": \"x\", \"y\": [1.3258749366868399, -0.9646704353598159, -0.48500354897365594, 0.25846269120489407, 0.33545364450376364, 0.21952267149147858, 0.46207372412517644, -0.976318982461929, -0.7773548560719098, 1.094173508970144, -0.17581184838200964, 0.7116574371473192, 0.15193949179719443, 1.5141604787532008, 0.3435012328533945, -1.1061749729773855, 1.456553275104766, 0.3011935315222427, 0.746050842018967, 0.17722780930599424, -0.6123216750697082, -1.2139621206817939, 1.354353767240496, 1.3725704337737912, 0.05284429026204852, -0.04817661862195769, -1.0688849696204779, -1.0728570122338734, -0.0028779532881677158, -0.08204622642830918, -0.5752063060192338, 2.0839885902651734, -0.5468718715363059, 1.2189360978073143, 1.2731977214386088, 0.8296164369353494, 0.04924879154453354, -1.406578136434764, -0.3384947039115073, -0.7561097388474594, -0.2419542016348666, -0.2305574658963847, -0.304009217177068, 0.9524786245921982, -0.22856691579904465, -0.2201455072966737, -0.830871814018699, 1.169928239981754, 0.3254500326995532, -1.0870083169190394, -1.008980693472835, 0.30385687282098905, 0.4969524683410614, 0.9865254045534061, 0.8041825671524578, 1.0929640013933346, 0.11922791113498832, 1.2048342760121018, -0.1495238644620107, 1.3521316628048585, -0.29538136037758095, -1.027818151523246, 0.8817455886540428, 1.10897850165198, -1.1825005832100124, -0.1907089990340178, -0.9774689654985181, -0.6630662324774296, -0.40014515472278817, 1.1784422253752609, 1.0175259047037228, -1.440984556803853, 1.7969569026285785, -0.5102070164296288, 0.19253780583094104, 0.300839452447321, 1.2557053792395145, 0.7233433373887224, -0.5749771160574139, -0.3170732281677432, -1.045342554399439, 0.05453351413332123, -0.4853969125228182, 2.6553574860463804, 0.2288163386716124, 0.7154824827193458, 0.24526446595515886, 1.898946350428649, -1.2561700652515986, -0.14584726131038026, 0.9042807761360668, 0.45030719697340943, -1.391506855208499, -1.238160674129972, -0.30066883329407096, 1.889994165555027, -1.0096160219445134, -0.04200483646255804, 0.7246946505005815, -0.07310201038805623], \"yaxis\": \"y\"}],\n",
       "                        {\"height\": 600, \"legend\": {\"tracegroupgap\": 0}, \"margin\": {\"t\": 60}, \"template\": {\"data\": {\"bar\": [{\"error_x\": {\"color\": \"#2a3f5f\"}, \"error_y\": {\"color\": \"#2a3f5f\"}, \"marker\": {\"line\": {\"color\": \"#E5ECF6\", \"width\": 0.5}}, \"type\": \"bar\"}], \"barpolar\": [{\"marker\": {\"line\": {\"color\": \"#E5ECF6\", \"width\": 0.5}}, \"type\": \"barpolar\"}], \"carpet\": [{\"aaxis\": {\"endlinecolor\": \"#2a3f5f\", \"gridcolor\": \"white\", \"linecolor\": \"white\", \"minorgridcolor\": \"white\", \"startlinecolor\": \"#2a3f5f\"}, \"baxis\": {\"endlinecolor\": \"#2a3f5f\", \"gridcolor\": \"white\", \"linecolor\": \"white\", \"minorgridcolor\": \"white\", \"startlinecolor\": \"#2a3f5f\"}, \"type\": \"carpet\"}], \"choropleth\": [{\"colorbar\": {\"outlinewidth\": 0, \"ticks\": \"\"}, \"type\": \"choropleth\"}], \"contour\": [{\"colorbar\": {\"outlinewidth\": 0, \"ticks\": \"\"}, \"colorscale\": [[0.0, \"#0d0887\"], [0.1111111111111111, \"#46039f\"], [0.2222222222222222, \"#7201a8\"], [0.3333333333333333, \"#9c179e\"], [0.4444444444444444, \"#bd3786\"], [0.5555555555555556, \"#d8576b\"], [0.6666666666666666, \"#ed7953\"], [0.7777777777777778, \"#fb9f3a\"], [0.8888888888888888, \"#fdca26\"], [1.0, \"#f0f921\"]], \"type\": \"contour\"}], \"contourcarpet\": [{\"colorbar\": {\"outlinewidth\": 0, \"ticks\": \"\"}, \"type\": \"contourcarpet\"}], \"heatmap\": [{\"colorbar\": {\"outlinewidth\": 0, \"ticks\": \"\"}, \"colorscale\": [[0.0, \"#0d0887\"], [0.1111111111111111, \"#46039f\"], [0.2222222222222222, \"#7201a8\"], [0.3333333333333333, \"#9c179e\"], [0.4444444444444444, \"#bd3786\"], [0.5555555555555556, \"#d8576b\"], [0.6666666666666666, \"#ed7953\"], [0.7777777777777778, \"#fb9f3a\"], [0.8888888888888888, \"#fdca26\"], [1.0, \"#f0f921\"]], \"type\": \"heatmap\"}], \"heatmapgl\": [{\"colorbar\": {\"outlinewidth\": 0, \"ticks\": \"\"}, \"colorscale\": [[0.0, \"#0d0887\"], [0.1111111111111111, \"#46039f\"], [0.2222222222222222, \"#7201a8\"], [0.3333333333333333, \"#9c179e\"], [0.4444444444444444, \"#bd3786\"], [0.5555555555555556, \"#d8576b\"], [0.6666666666666666, \"#ed7953\"], [0.7777777777777778, \"#fb9f3a\"], [0.8888888888888888, \"#fdca26\"], [1.0, \"#f0f921\"]], \"type\": \"heatmapgl\"}], \"histogram\": [{\"marker\": {\"colorbar\": {\"outlinewidth\": 0, \"ticks\": \"\"}}, \"type\": \"histogram\"}], \"histogram2d\": [{\"colorbar\": {\"outlinewidth\": 0, \"ticks\": \"\"}, \"colorscale\": [[0.0, \"#0d0887\"], [0.1111111111111111, \"#46039f\"], [0.2222222222222222, \"#7201a8\"], [0.3333333333333333, \"#9c179e\"], [0.4444444444444444, \"#bd3786\"], [0.5555555555555556, \"#d8576b\"], [0.6666666666666666, \"#ed7953\"], [0.7777777777777778, \"#fb9f3a\"], [0.8888888888888888, \"#fdca26\"], [1.0, \"#f0f921\"]], \"type\": \"histogram2d\"}], \"histogram2dcontour\": [{\"colorbar\": {\"outlinewidth\": 0, \"ticks\": \"\"}, \"colorscale\": [[0.0, \"#0d0887\"], [0.1111111111111111, \"#46039f\"], [0.2222222222222222, \"#7201a8\"], [0.3333333333333333, \"#9c179e\"], [0.4444444444444444, \"#bd3786\"], [0.5555555555555556, \"#d8576b\"], [0.6666666666666666, \"#ed7953\"], [0.7777777777777778, \"#fb9f3a\"], [0.8888888888888888, \"#fdca26\"], [1.0, \"#f0f921\"]], \"type\": \"histogram2dcontour\"}], \"mesh3d\": [{\"colorbar\": {\"outlinewidth\": 0, \"ticks\": \"\"}, \"type\": \"mesh3d\"}], \"parcoords\": [{\"line\": {\"colorbar\": {\"outlinewidth\": 0, \"ticks\": \"\"}}, \"type\": \"parcoords\"}], \"pie\": [{\"automargin\": true, \"type\": \"pie\"}], \"scatter\": [{\"marker\": {\"colorbar\": {\"outlinewidth\": 0, \"ticks\": \"\"}}, \"type\": \"scatter\"}], \"scatter3d\": [{\"line\": {\"colorbar\": {\"outlinewidth\": 0, \"ticks\": \"\"}}, \"marker\": {\"colorbar\": {\"outlinewidth\": 0, \"ticks\": \"\"}}, \"type\": \"scatter3d\"}], \"scattercarpet\": [{\"marker\": {\"colorbar\": {\"outlinewidth\": 0, \"ticks\": \"\"}}, \"type\": \"scattercarpet\"}], \"scattergeo\": [{\"marker\": {\"colorbar\": {\"outlinewidth\": 0, \"ticks\": \"\"}}, \"type\": \"scattergeo\"}], \"scattergl\": [{\"marker\": {\"colorbar\": {\"outlinewidth\": 0, \"ticks\": \"\"}}, \"type\": \"scattergl\"}], \"scattermapbox\": [{\"marker\": {\"colorbar\": {\"outlinewidth\": 0, \"ticks\": \"\"}}, \"type\": \"scattermapbox\"}], \"scatterpolar\": [{\"marker\": {\"colorbar\": {\"outlinewidth\": 0, \"ticks\": \"\"}}, \"type\": \"scatterpolar\"}], \"scatterpolargl\": [{\"marker\": {\"colorbar\": {\"outlinewidth\": 0, \"ticks\": \"\"}}, \"type\": \"scatterpolargl\"}], \"scatterternary\": [{\"marker\": {\"colorbar\": {\"outlinewidth\": 0, \"ticks\": \"\"}}, \"type\": \"scatterternary\"}], \"surface\": [{\"colorbar\": {\"outlinewidth\": 0, \"ticks\": \"\"}, \"colorscale\": [[0.0, \"#0d0887\"], [0.1111111111111111, \"#46039f\"], [0.2222222222222222, \"#7201a8\"], [0.3333333333333333, \"#9c179e\"], [0.4444444444444444, \"#bd3786\"], [0.5555555555555556, \"#d8576b\"], [0.6666666666666666, \"#ed7953\"], [0.7777777777777778, \"#fb9f3a\"], [0.8888888888888888, \"#fdca26\"], [1.0, \"#f0f921\"]], \"type\": \"surface\"}], \"table\": [{\"cells\": {\"fill\": {\"color\": \"#EBF0F8\"}, \"line\": {\"color\": \"white\"}}, \"header\": {\"fill\": {\"color\": \"#C8D4E3\"}, \"line\": {\"color\": \"white\"}}, \"type\": \"table\"}]}, \"layout\": {\"annotationdefaults\": {\"arrowcolor\": \"#2a3f5f\", \"arrowhead\": 0, \"arrowwidth\": 1}, \"coloraxis\": {\"colorbar\": {\"outlinewidth\": 0, \"ticks\": \"\"}}, \"colorscale\": {\"diverging\": [[0, \"#8e0152\"], [0.1, \"#c51b7d\"], [0.2, \"#de77ae\"], [0.3, \"#f1b6da\"], [0.4, \"#fde0ef\"], [0.5, \"#f7f7f7\"], [0.6, \"#e6f5d0\"], [0.7, \"#b8e186\"], [0.8, \"#7fbc41\"], [0.9, \"#4d9221\"], [1, \"#276419\"]], \"sequential\": [[0.0, \"#0d0887\"], [0.1111111111111111, \"#46039f\"], [0.2222222222222222, \"#7201a8\"], [0.3333333333333333, \"#9c179e\"], [0.4444444444444444, \"#bd3786\"], [0.5555555555555556, \"#d8576b\"], [0.6666666666666666, \"#ed7953\"], [0.7777777777777778, \"#fb9f3a\"], [0.8888888888888888, \"#fdca26\"], [1.0, \"#f0f921\"]], \"sequentialminus\": [[0.0, \"#0d0887\"], [0.1111111111111111, \"#46039f\"], [0.2222222222222222, \"#7201a8\"], [0.3333333333333333, \"#9c179e\"], [0.4444444444444444, \"#bd3786\"], [0.5555555555555556, \"#d8576b\"], [0.6666666666666666, \"#ed7953\"], [0.7777777777777778, \"#fb9f3a\"], [0.8888888888888888, \"#fdca26\"], [1.0, \"#f0f921\"]]}, \"colorway\": [\"#636efa\", \"#EF553B\", \"#00cc96\", \"#ab63fa\", \"#FFA15A\", \"#19d3f3\", \"#FF6692\", \"#B6E880\", \"#FF97FF\", \"#FECB52\"], \"font\": {\"color\": \"#2a3f5f\"}, \"geo\": {\"bgcolor\": \"white\", \"lakecolor\": \"white\", \"landcolor\": \"#E5ECF6\", \"showlakes\": true, \"showland\": true, \"subunitcolor\": \"white\"}, \"hoverlabel\": {\"align\": \"left\"}, \"hovermode\": \"closest\", \"mapbox\": {\"style\": \"light\"}, \"paper_bgcolor\": \"white\", \"plot_bgcolor\": \"#E5ECF6\", \"polar\": {\"angularaxis\": {\"gridcolor\": \"white\", \"linecolor\": \"white\", \"ticks\": \"\"}, \"bgcolor\": \"#E5ECF6\", \"radialaxis\": {\"gridcolor\": \"white\", \"linecolor\": \"white\", \"ticks\": \"\"}}, \"scene\": {\"xaxis\": {\"backgroundcolor\": \"#E5ECF6\", \"gridcolor\": \"white\", \"gridwidth\": 2, \"linecolor\": \"white\", \"showbackground\": true, \"ticks\": \"\", \"zerolinecolor\": \"white\"}, \"yaxis\": {\"backgroundcolor\": \"#E5ECF6\", \"gridcolor\": \"white\", \"gridwidth\": 2, \"linecolor\": \"white\", \"showbackground\": true, \"ticks\": \"\", \"zerolinecolor\": \"white\"}, \"zaxis\": {\"backgroundcolor\": \"#E5ECF6\", \"gridcolor\": \"white\", \"gridwidth\": 2, \"linecolor\": \"white\", \"showbackground\": true, \"ticks\": \"\", \"zerolinecolor\": \"white\"}}, \"shapedefaults\": {\"line\": {\"color\": \"#2a3f5f\"}}, \"ternary\": {\"aaxis\": {\"gridcolor\": \"white\", \"linecolor\": \"white\", \"ticks\": \"\"}, \"baxis\": {\"gridcolor\": \"white\", \"linecolor\": \"white\", \"ticks\": \"\"}, \"bgcolor\": \"#E5ECF6\", \"caxis\": {\"gridcolor\": \"white\", \"linecolor\": \"white\", \"ticks\": \"\"}}, \"title\": {\"x\": 0.05}, \"xaxis\": {\"automargin\": true, \"gridcolor\": \"white\", \"linecolor\": \"white\", \"ticks\": \"\", \"title\": {\"standoff\": 15}, \"zerolinecolor\": \"white\", \"zerolinewidth\": 2}, \"yaxis\": {\"automargin\": true, \"gridcolor\": \"white\", \"linecolor\": \"white\", \"ticks\": \"\", \"title\": {\"standoff\": 15}, \"zerolinecolor\": \"white\", \"zerolinewidth\": 2}}}, \"xaxis\": {\"anchor\": \"y\", \"domain\": [0.0, 1.0], \"title\": {\"text\": \"A\"}}, \"yaxis\": {\"anchor\": \"x\", \"domain\": [0.0, 1.0], \"title\": {\"text\": \"B\"}}},\n",
       "                        {\"responsive\": true}\n",
       "                    ).then(function(){\n",
       "                            \n",
       "var gd = document.getElementById('1f68295a-e16f-4940-883c-bc050ce48941');\n",
       "var x = new MutationObserver(function (mutations, observer) {{\n",
       "        var display = window.getComputedStyle(gd).display;\n",
       "        if (!display || display === 'none') {{\n",
       "            console.log([gd, 'removed!']);\n",
       "            Plotly.purge(gd);\n",
       "            observer.disconnect();\n",
       "        }}\n",
       "}});\n",
       "\n",
       "// Listen for the removal of the full notebook cells\n",
       "var notebookContainer = gd.closest('#notebook-container');\n",
       "if (notebookContainer) {{\n",
       "    x.observe(notebookContainer, {childList: true});\n",
       "}}\n",
       "\n",
       "// Listen for the clearing of the current output cell\n",
       "var outputEl = gd.closest('.output');\n",
       "if (outputEl) {{\n",
       "    x.observe(outputEl, {childList: true});\n",
       "}}\n",
       "\n",
       "                        })\n",
       "                };\n",
       "                });\n",
       "            </script>\n",
       "        </div>"
      ]
     },
     "metadata": {},
     "output_type": "display_data"
    }
   ],
   "source": [
    "px.scatter(df, x='A',y='B')\n",
    "#df.iplot(kind='scatter',x='A',y='B',mode='markers',size=10) #With cufflinks"
   ]
  },
  {
   "cell_type": "markdown",
   "metadata": {},
   "source": [
    "## Bar Plots"
   ]
  },
  {
   "cell_type": "code",
   "execution_count": 21,
   "metadata": {},
   "outputs": [
    {
     "data": {
      "application/vnd.plotly.v1+json": {
       "config": {
        "plotlyServerURL": "https://plot.ly"
       },
       "data": [
        {
         "alignmentgroup": "True",
         "hoverlabel": {
          "namelength": 0
         },
         "hovertemplate": "Category=%{x}<br>Values=%{y}",
         "legendgroup": "",
         "marker": {
          "color": "#636efa"
         },
         "name": "",
         "offsetgroup": "",
         "orientation": "v",
         "showlegend": false,
         "textposition": "auto",
         "type": "bar",
         "x": [
          "A",
          "B",
          "C"
         ],
         "xaxis": "x",
         "y": [
          32,
          43,
          50
         ],
         "yaxis": "y"
        }
       ],
       "layout": {
        "barmode": "relative",
        "height": 600,
        "legend": {
         "tracegroupgap": 0
        },
        "margin": {
         "t": 60
        },
        "template": {
         "data": {
          "bar": [
           {
            "error_x": {
             "color": "#2a3f5f"
            },
            "error_y": {
             "color": "#2a3f5f"
            },
            "marker": {
             "line": {
              "color": "#E5ECF6",
              "width": 0.5
             }
            },
            "type": "bar"
           }
          ],
          "barpolar": [
           {
            "marker": {
             "line": {
              "color": "#E5ECF6",
              "width": 0.5
             }
            },
            "type": "barpolar"
           }
          ],
          "carpet": [
           {
            "aaxis": {
             "endlinecolor": "#2a3f5f",
             "gridcolor": "white",
             "linecolor": "white",
             "minorgridcolor": "white",
             "startlinecolor": "#2a3f5f"
            },
            "baxis": {
             "endlinecolor": "#2a3f5f",
             "gridcolor": "white",
             "linecolor": "white",
             "minorgridcolor": "white",
             "startlinecolor": "#2a3f5f"
            },
            "type": "carpet"
           }
          ],
          "choropleth": [
           {
            "colorbar": {
             "outlinewidth": 0,
             "ticks": ""
            },
            "type": "choropleth"
           }
          ],
          "contour": [
           {
            "colorbar": {
             "outlinewidth": 0,
             "ticks": ""
            },
            "colorscale": [
             [
              0,
              "#0d0887"
             ],
             [
              0.1111111111111111,
              "#46039f"
             ],
             [
              0.2222222222222222,
              "#7201a8"
             ],
             [
              0.3333333333333333,
              "#9c179e"
             ],
             [
              0.4444444444444444,
              "#bd3786"
             ],
             [
              0.5555555555555556,
              "#d8576b"
             ],
             [
              0.6666666666666666,
              "#ed7953"
             ],
             [
              0.7777777777777778,
              "#fb9f3a"
             ],
             [
              0.8888888888888888,
              "#fdca26"
             ],
             [
              1,
              "#f0f921"
             ]
            ],
            "type": "contour"
           }
          ],
          "contourcarpet": [
           {
            "colorbar": {
             "outlinewidth": 0,
             "ticks": ""
            },
            "type": "contourcarpet"
           }
          ],
          "heatmap": [
           {
            "colorbar": {
             "outlinewidth": 0,
             "ticks": ""
            },
            "colorscale": [
             [
              0,
              "#0d0887"
             ],
             [
              0.1111111111111111,
              "#46039f"
             ],
             [
              0.2222222222222222,
              "#7201a8"
             ],
             [
              0.3333333333333333,
              "#9c179e"
             ],
             [
              0.4444444444444444,
              "#bd3786"
             ],
             [
              0.5555555555555556,
              "#d8576b"
             ],
             [
              0.6666666666666666,
              "#ed7953"
             ],
             [
              0.7777777777777778,
              "#fb9f3a"
             ],
             [
              0.8888888888888888,
              "#fdca26"
             ],
             [
              1,
              "#f0f921"
             ]
            ],
            "type": "heatmap"
           }
          ],
          "heatmapgl": [
           {
            "colorbar": {
             "outlinewidth": 0,
             "ticks": ""
            },
            "colorscale": [
             [
              0,
              "#0d0887"
             ],
             [
              0.1111111111111111,
              "#46039f"
             ],
             [
              0.2222222222222222,
              "#7201a8"
             ],
             [
              0.3333333333333333,
              "#9c179e"
             ],
             [
              0.4444444444444444,
              "#bd3786"
             ],
             [
              0.5555555555555556,
              "#d8576b"
             ],
             [
              0.6666666666666666,
              "#ed7953"
             ],
             [
              0.7777777777777778,
              "#fb9f3a"
             ],
             [
              0.8888888888888888,
              "#fdca26"
             ],
             [
              1,
              "#f0f921"
             ]
            ],
            "type": "heatmapgl"
           }
          ],
          "histogram": [
           {
            "marker": {
             "colorbar": {
              "outlinewidth": 0,
              "ticks": ""
             }
            },
            "type": "histogram"
           }
          ],
          "histogram2d": [
           {
            "colorbar": {
             "outlinewidth": 0,
             "ticks": ""
            },
            "colorscale": [
             [
              0,
              "#0d0887"
             ],
             [
              0.1111111111111111,
              "#46039f"
             ],
             [
              0.2222222222222222,
              "#7201a8"
             ],
             [
              0.3333333333333333,
              "#9c179e"
             ],
             [
              0.4444444444444444,
              "#bd3786"
             ],
             [
              0.5555555555555556,
              "#d8576b"
             ],
             [
              0.6666666666666666,
              "#ed7953"
             ],
             [
              0.7777777777777778,
              "#fb9f3a"
             ],
             [
              0.8888888888888888,
              "#fdca26"
             ],
             [
              1,
              "#f0f921"
             ]
            ],
            "type": "histogram2d"
           }
          ],
          "histogram2dcontour": [
           {
            "colorbar": {
             "outlinewidth": 0,
             "ticks": ""
            },
            "colorscale": [
             [
              0,
              "#0d0887"
             ],
             [
              0.1111111111111111,
              "#46039f"
             ],
             [
              0.2222222222222222,
              "#7201a8"
             ],
             [
              0.3333333333333333,
              "#9c179e"
             ],
             [
              0.4444444444444444,
              "#bd3786"
             ],
             [
              0.5555555555555556,
              "#d8576b"
             ],
             [
              0.6666666666666666,
              "#ed7953"
             ],
             [
              0.7777777777777778,
              "#fb9f3a"
             ],
             [
              0.8888888888888888,
              "#fdca26"
             ],
             [
              1,
              "#f0f921"
             ]
            ],
            "type": "histogram2dcontour"
           }
          ],
          "mesh3d": [
           {
            "colorbar": {
             "outlinewidth": 0,
             "ticks": ""
            },
            "type": "mesh3d"
           }
          ],
          "parcoords": [
           {
            "line": {
             "colorbar": {
              "outlinewidth": 0,
              "ticks": ""
             }
            },
            "type": "parcoords"
           }
          ],
          "pie": [
           {
            "automargin": true,
            "type": "pie"
           }
          ],
          "scatter": [
           {
            "marker": {
             "colorbar": {
              "outlinewidth": 0,
              "ticks": ""
             }
            },
            "type": "scatter"
           }
          ],
          "scatter3d": [
           {
            "line": {
             "colorbar": {
              "outlinewidth": 0,
              "ticks": ""
             }
            },
            "marker": {
             "colorbar": {
              "outlinewidth": 0,
              "ticks": ""
             }
            },
            "type": "scatter3d"
           }
          ],
          "scattercarpet": [
           {
            "marker": {
             "colorbar": {
              "outlinewidth": 0,
              "ticks": ""
             }
            },
            "type": "scattercarpet"
           }
          ],
          "scattergeo": [
           {
            "marker": {
             "colorbar": {
              "outlinewidth": 0,
              "ticks": ""
             }
            },
            "type": "scattergeo"
           }
          ],
          "scattergl": [
           {
            "marker": {
             "colorbar": {
              "outlinewidth": 0,
              "ticks": ""
             }
            },
            "type": "scattergl"
           }
          ],
          "scattermapbox": [
           {
            "marker": {
             "colorbar": {
              "outlinewidth": 0,
              "ticks": ""
             }
            },
            "type": "scattermapbox"
           }
          ],
          "scatterpolar": [
           {
            "marker": {
             "colorbar": {
              "outlinewidth": 0,
              "ticks": ""
             }
            },
            "type": "scatterpolar"
           }
          ],
          "scatterpolargl": [
           {
            "marker": {
             "colorbar": {
              "outlinewidth": 0,
              "ticks": ""
             }
            },
            "type": "scatterpolargl"
           }
          ],
          "scatterternary": [
           {
            "marker": {
             "colorbar": {
              "outlinewidth": 0,
              "ticks": ""
             }
            },
            "type": "scatterternary"
           }
          ],
          "surface": [
           {
            "colorbar": {
             "outlinewidth": 0,
             "ticks": ""
            },
            "colorscale": [
             [
              0,
              "#0d0887"
             ],
             [
              0.1111111111111111,
              "#46039f"
             ],
             [
              0.2222222222222222,
              "#7201a8"
             ],
             [
              0.3333333333333333,
              "#9c179e"
             ],
             [
              0.4444444444444444,
              "#bd3786"
             ],
             [
              0.5555555555555556,
              "#d8576b"
             ],
             [
              0.6666666666666666,
              "#ed7953"
             ],
             [
              0.7777777777777778,
              "#fb9f3a"
             ],
             [
              0.8888888888888888,
              "#fdca26"
             ],
             [
              1,
              "#f0f921"
             ]
            ],
            "type": "surface"
           }
          ],
          "table": [
           {
            "cells": {
             "fill": {
              "color": "#EBF0F8"
             },
             "line": {
              "color": "white"
             }
            },
            "header": {
             "fill": {
              "color": "#C8D4E3"
             },
             "line": {
              "color": "white"
             }
            },
            "type": "table"
           }
          ]
         },
         "layout": {
          "annotationdefaults": {
           "arrowcolor": "#2a3f5f",
           "arrowhead": 0,
           "arrowwidth": 1
          },
          "coloraxis": {
           "colorbar": {
            "outlinewidth": 0,
            "ticks": ""
           }
          },
          "colorscale": {
           "diverging": [
            [
             0,
             "#8e0152"
            ],
            [
             0.1,
             "#c51b7d"
            ],
            [
             0.2,
             "#de77ae"
            ],
            [
             0.3,
             "#f1b6da"
            ],
            [
             0.4,
             "#fde0ef"
            ],
            [
             0.5,
             "#f7f7f7"
            ],
            [
             0.6,
             "#e6f5d0"
            ],
            [
             0.7,
             "#b8e186"
            ],
            [
             0.8,
             "#7fbc41"
            ],
            [
             0.9,
             "#4d9221"
            ],
            [
             1,
             "#276419"
            ]
           ],
           "sequential": [
            [
             0,
             "#0d0887"
            ],
            [
             0.1111111111111111,
             "#46039f"
            ],
            [
             0.2222222222222222,
             "#7201a8"
            ],
            [
             0.3333333333333333,
             "#9c179e"
            ],
            [
             0.4444444444444444,
             "#bd3786"
            ],
            [
             0.5555555555555556,
             "#d8576b"
            ],
            [
             0.6666666666666666,
             "#ed7953"
            ],
            [
             0.7777777777777778,
             "#fb9f3a"
            ],
            [
             0.8888888888888888,
             "#fdca26"
            ],
            [
             1,
             "#f0f921"
            ]
           ],
           "sequentialminus": [
            [
             0,
             "#0d0887"
            ],
            [
             0.1111111111111111,
             "#46039f"
            ],
            [
             0.2222222222222222,
             "#7201a8"
            ],
            [
             0.3333333333333333,
             "#9c179e"
            ],
            [
             0.4444444444444444,
             "#bd3786"
            ],
            [
             0.5555555555555556,
             "#d8576b"
            ],
            [
             0.6666666666666666,
             "#ed7953"
            ],
            [
             0.7777777777777778,
             "#fb9f3a"
            ],
            [
             0.8888888888888888,
             "#fdca26"
            ],
            [
             1,
             "#f0f921"
            ]
           ]
          },
          "colorway": [
           "#636efa",
           "#EF553B",
           "#00cc96",
           "#ab63fa",
           "#FFA15A",
           "#19d3f3",
           "#FF6692",
           "#B6E880",
           "#FF97FF",
           "#FECB52"
          ],
          "font": {
           "color": "#2a3f5f"
          },
          "geo": {
           "bgcolor": "white",
           "lakecolor": "white",
           "landcolor": "#E5ECF6",
           "showlakes": true,
           "showland": true,
           "subunitcolor": "white"
          },
          "hoverlabel": {
           "align": "left"
          },
          "hovermode": "closest",
          "mapbox": {
           "style": "light"
          },
          "paper_bgcolor": "white",
          "plot_bgcolor": "#E5ECF6",
          "polar": {
           "angularaxis": {
            "gridcolor": "white",
            "linecolor": "white",
            "ticks": ""
           },
           "bgcolor": "#E5ECF6",
           "radialaxis": {
            "gridcolor": "white",
            "linecolor": "white",
            "ticks": ""
           }
          },
          "scene": {
           "xaxis": {
            "backgroundcolor": "#E5ECF6",
            "gridcolor": "white",
            "gridwidth": 2,
            "linecolor": "white",
            "showbackground": true,
            "ticks": "",
            "zerolinecolor": "white"
           },
           "yaxis": {
            "backgroundcolor": "#E5ECF6",
            "gridcolor": "white",
            "gridwidth": 2,
            "linecolor": "white",
            "showbackground": true,
            "ticks": "",
            "zerolinecolor": "white"
           },
           "zaxis": {
            "backgroundcolor": "#E5ECF6",
            "gridcolor": "white",
            "gridwidth": 2,
            "linecolor": "white",
            "showbackground": true,
            "ticks": "",
            "zerolinecolor": "white"
           }
          },
          "shapedefaults": {
           "line": {
            "color": "#2a3f5f"
           }
          },
          "ternary": {
           "aaxis": {
            "gridcolor": "white",
            "linecolor": "white",
            "ticks": ""
           },
           "baxis": {
            "gridcolor": "white",
            "linecolor": "white",
            "ticks": ""
           },
           "bgcolor": "#E5ECF6",
           "caxis": {
            "gridcolor": "white",
            "linecolor": "white",
            "ticks": ""
           }
          },
          "title": {
           "x": 0.05
          },
          "xaxis": {
           "automargin": true,
           "gridcolor": "white",
           "linecolor": "white",
           "ticks": "",
           "title": {
            "standoff": 15
           },
           "zerolinecolor": "white",
           "zerolinewidth": 2
          },
          "yaxis": {
           "automargin": true,
           "gridcolor": "white",
           "linecolor": "white",
           "ticks": "",
           "title": {
            "standoff": 15
           },
           "zerolinecolor": "white",
           "zerolinewidth": 2
          }
         }
        },
        "xaxis": {
         "anchor": "y",
         "domain": [
          0,
          1
         ],
         "title": {
          "text": "Category"
         }
        },
        "yaxis": {
         "anchor": "x",
         "domain": [
          0,
          1
         ],
         "title": {
          "text": "Values"
         }
        }
       }
      },
      "text/html": [
       "<div>\n",
       "        \n",
       "        \n",
       "            <div id=\"1daef6c0-4fc0-4cb0-965e-d5edac2526a5\" class=\"plotly-graph-div\" style=\"height:600px; width:100%;\"></div>\n",
       "            <script type=\"text/javascript\">\n",
       "                require([\"plotly\"], function(Plotly) {\n",
       "                    window.PLOTLYENV=window.PLOTLYENV || {};\n",
       "                    \n",
       "                if (document.getElementById(\"1daef6c0-4fc0-4cb0-965e-d5edac2526a5\")) {\n",
       "                    Plotly.newPlot(\n",
       "                        '1daef6c0-4fc0-4cb0-965e-d5edac2526a5',\n",
       "                        [{\"alignmentgroup\": \"True\", \"hoverlabel\": {\"namelength\": 0}, \"hovertemplate\": \"Category=%{x}<br>Values=%{y}\", \"legendgroup\": \"\", \"marker\": {\"color\": \"#636efa\"}, \"name\": \"\", \"offsetgroup\": \"\", \"orientation\": \"v\", \"showlegend\": false, \"textposition\": \"auto\", \"type\": \"bar\", \"x\": [\"A\", \"B\", \"C\"], \"xaxis\": \"x\", \"y\": [32, 43, 50], \"yaxis\": \"y\"}],\n",
       "                        {\"barmode\": \"relative\", \"height\": 600, \"legend\": {\"tracegroupgap\": 0}, \"margin\": {\"t\": 60}, \"template\": {\"data\": {\"bar\": [{\"error_x\": {\"color\": \"#2a3f5f\"}, \"error_y\": {\"color\": \"#2a3f5f\"}, \"marker\": {\"line\": {\"color\": \"#E5ECF6\", \"width\": 0.5}}, \"type\": \"bar\"}], \"barpolar\": [{\"marker\": {\"line\": {\"color\": \"#E5ECF6\", \"width\": 0.5}}, \"type\": \"barpolar\"}], \"carpet\": [{\"aaxis\": {\"endlinecolor\": \"#2a3f5f\", \"gridcolor\": \"white\", \"linecolor\": \"white\", \"minorgridcolor\": \"white\", \"startlinecolor\": \"#2a3f5f\"}, \"baxis\": {\"endlinecolor\": \"#2a3f5f\", \"gridcolor\": \"white\", \"linecolor\": \"white\", \"minorgridcolor\": \"white\", \"startlinecolor\": \"#2a3f5f\"}, \"type\": \"carpet\"}], \"choropleth\": [{\"colorbar\": {\"outlinewidth\": 0, \"ticks\": \"\"}, \"type\": \"choropleth\"}], \"contour\": [{\"colorbar\": {\"outlinewidth\": 0, \"ticks\": \"\"}, \"colorscale\": [[0.0, \"#0d0887\"], [0.1111111111111111, \"#46039f\"], [0.2222222222222222, \"#7201a8\"], [0.3333333333333333, \"#9c179e\"], [0.4444444444444444, \"#bd3786\"], [0.5555555555555556, \"#d8576b\"], [0.6666666666666666, \"#ed7953\"], [0.7777777777777778, \"#fb9f3a\"], [0.8888888888888888, \"#fdca26\"], [1.0, \"#f0f921\"]], \"type\": \"contour\"}], \"contourcarpet\": [{\"colorbar\": {\"outlinewidth\": 0, \"ticks\": \"\"}, \"type\": \"contourcarpet\"}], \"heatmap\": [{\"colorbar\": {\"outlinewidth\": 0, \"ticks\": \"\"}, \"colorscale\": [[0.0, \"#0d0887\"], [0.1111111111111111, \"#46039f\"], [0.2222222222222222, \"#7201a8\"], [0.3333333333333333, \"#9c179e\"], [0.4444444444444444, \"#bd3786\"], [0.5555555555555556, \"#d8576b\"], [0.6666666666666666, \"#ed7953\"], [0.7777777777777778, \"#fb9f3a\"], [0.8888888888888888, \"#fdca26\"], [1.0, \"#f0f921\"]], \"type\": \"heatmap\"}], \"heatmapgl\": [{\"colorbar\": {\"outlinewidth\": 0, \"ticks\": \"\"}, \"colorscale\": [[0.0, \"#0d0887\"], [0.1111111111111111, \"#46039f\"], [0.2222222222222222, \"#7201a8\"], [0.3333333333333333, \"#9c179e\"], [0.4444444444444444, \"#bd3786\"], [0.5555555555555556, \"#d8576b\"], [0.6666666666666666, \"#ed7953\"], [0.7777777777777778, \"#fb9f3a\"], [0.8888888888888888, \"#fdca26\"], [1.0, \"#f0f921\"]], \"type\": \"heatmapgl\"}], \"histogram\": [{\"marker\": {\"colorbar\": {\"outlinewidth\": 0, \"ticks\": \"\"}}, \"type\": \"histogram\"}], \"histogram2d\": [{\"colorbar\": {\"outlinewidth\": 0, \"ticks\": \"\"}, \"colorscale\": [[0.0, \"#0d0887\"], [0.1111111111111111, \"#46039f\"], [0.2222222222222222, \"#7201a8\"], [0.3333333333333333, \"#9c179e\"], [0.4444444444444444, \"#bd3786\"], [0.5555555555555556, \"#d8576b\"], [0.6666666666666666, \"#ed7953\"], [0.7777777777777778, \"#fb9f3a\"], [0.8888888888888888, \"#fdca26\"], [1.0, \"#f0f921\"]], \"type\": \"histogram2d\"}], \"histogram2dcontour\": [{\"colorbar\": {\"outlinewidth\": 0, \"ticks\": \"\"}, \"colorscale\": [[0.0, \"#0d0887\"], [0.1111111111111111, \"#46039f\"], [0.2222222222222222, \"#7201a8\"], [0.3333333333333333, \"#9c179e\"], [0.4444444444444444, \"#bd3786\"], [0.5555555555555556, \"#d8576b\"], [0.6666666666666666, \"#ed7953\"], [0.7777777777777778, \"#fb9f3a\"], [0.8888888888888888, \"#fdca26\"], [1.0, \"#f0f921\"]], \"type\": \"histogram2dcontour\"}], \"mesh3d\": [{\"colorbar\": {\"outlinewidth\": 0, \"ticks\": \"\"}, \"type\": \"mesh3d\"}], \"parcoords\": [{\"line\": {\"colorbar\": {\"outlinewidth\": 0, \"ticks\": \"\"}}, \"type\": \"parcoords\"}], \"pie\": [{\"automargin\": true, \"type\": \"pie\"}], \"scatter\": [{\"marker\": {\"colorbar\": {\"outlinewidth\": 0, \"ticks\": \"\"}}, \"type\": \"scatter\"}], \"scatter3d\": [{\"line\": {\"colorbar\": {\"outlinewidth\": 0, \"ticks\": \"\"}}, \"marker\": {\"colorbar\": {\"outlinewidth\": 0, \"ticks\": \"\"}}, \"type\": \"scatter3d\"}], \"scattercarpet\": [{\"marker\": {\"colorbar\": {\"outlinewidth\": 0, \"ticks\": \"\"}}, \"type\": \"scattercarpet\"}], \"scattergeo\": [{\"marker\": {\"colorbar\": {\"outlinewidth\": 0, \"ticks\": \"\"}}, \"type\": \"scattergeo\"}], \"scattergl\": [{\"marker\": {\"colorbar\": {\"outlinewidth\": 0, \"ticks\": \"\"}}, \"type\": \"scattergl\"}], \"scattermapbox\": [{\"marker\": {\"colorbar\": {\"outlinewidth\": 0, \"ticks\": \"\"}}, \"type\": \"scattermapbox\"}], \"scatterpolar\": [{\"marker\": {\"colorbar\": {\"outlinewidth\": 0, \"ticks\": \"\"}}, \"type\": \"scatterpolar\"}], \"scatterpolargl\": [{\"marker\": {\"colorbar\": {\"outlinewidth\": 0, \"ticks\": \"\"}}, \"type\": \"scatterpolargl\"}], \"scatterternary\": [{\"marker\": {\"colorbar\": {\"outlinewidth\": 0, \"ticks\": \"\"}}, \"type\": \"scatterternary\"}], \"surface\": [{\"colorbar\": {\"outlinewidth\": 0, \"ticks\": \"\"}, \"colorscale\": [[0.0, \"#0d0887\"], [0.1111111111111111, \"#46039f\"], [0.2222222222222222, \"#7201a8\"], [0.3333333333333333, \"#9c179e\"], [0.4444444444444444, \"#bd3786\"], [0.5555555555555556, \"#d8576b\"], [0.6666666666666666, \"#ed7953\"], [0.7777777777777778, \"#fb9f3a\"], [0.8888888888888888, \"#fdca26\"], [1.0, \"#f0f921\"]], \"type\": \"surface\"}], \"table\": [{\"cells\": {\"fill\": {\"color\": \"#EBF0F8\"}, \"line\": {\"color\": \"white\"}}, \"header\": {\"fill\": {\"color\": \"#C8D4E3\"}, \"line\": {\"color\": \"white\"}}, \"type\": \"table\"}]}, \"layout\": {\"annotationdefaults\": {\"arrowcolor\": \"#2a3f5f\", \"arrowhead\": 0, \"arrowwidth\": 1}, \"coloraxis\": {\"colorbar\": {\"outlinewidth\": 0, \"ticks\": \"\"}}, \"colorscale\": {\"diverging\": [[0, \"#8e0152\"], [0.1, \"#c51b7d\"], [0.2, \"#de77ae\"], [0.3, \"#f1b6da\"], [0.4, \"#fde0ef\"], [0.5, \"#f7f7f7\"], [0.6, \"#e6f5d0\"], [0.7, \"#b8e186\"], [0.8, \"#7fbc41\"], [0.9, \"#4d9221\"], [1, \"#276419\"]], \"sequential\": [[0.0, \"#0d0887\"], [0.1111111111111111, \"#46039f\"], [0.2222222222222222, \"#7201a8\"], [0.3333333333333333, \"#9c179e\"], [0.4444444444444444, \"#bd3786\"], [0.5555555555555556, \"#d8576b\"], [0.6666666666666666, \"#ed7953\"], [0.7777777777777778, \"#fb9f3a\"], [0.8888888888888888, \"#fdca26\"], [1.0, \"#f0f921\"]], \"sequentialminus\": [[0.0, \"#0d0887\"], [0.1111111111111111, \"#46039f\"], [0.2222222222222222, \"#7201a8\"], [0.3333333333333333, \"#9c179e\"], [0.4444444444444444, \"#bd3786\"], [0.5555555555555556, \"#d8576b\"], [0.6666666666666666, \"#ed7953\"], [0.7777777777777778, \"#fb9f3a\"], [0.8888888888888888, \"#fdca26\"], [1.0, \"#f0f921\"]]}, \"colorway\": [\"#636efa\", \"#EF553B\", \"#00cc96\", \"#ab63fa\", \"#FFA15A\", \"#19d3f3\", \"#FF6692\", \"#B6E880\", \"#FF97FF\", \"#FECB52\"], \"font\": {\"color\": \"#2a3f5f\"}, \"geo\": {\"bgcolor\": \"white\", \"lakecolor\": \"white\", \"landcolor\": \"#E5ECF6\", \"showlakes\": true, \"showland\": true, \"subunitcolor\": \"white\"}, \"hoverlabel\": {\"align\": \"left\"}, \"hovermode\": \"closest\", \"mapbox\": {\"style\": \"light\"}, \"paper_bgcolor\": \"white\", \"plot_bgcolor\": \"#E5ECF6\", \"polar\": {\"angularaxis\": {\"gridcolor\": \"white\", \"linecolor\": \"white\", \"ticks\": \"\"}, \"bgcolor\": \"#E5ECF6\", \"radialaxis\": {\"gridcolor\": \"white\", \"linecolor\": \"white\", \"ticks\": \"\"}}, \"scene\": {\"xaxis\": {\"backgroundcolor\": \"#E5ECF6\", \"gridcolor\": \"white\", \"gridwidth\": 2, \"linecolor\": \"white\", \"showbackground\": true, \"ticks\": \"\", \"zerolinecolor\": \"white\"}, \"yaxis\": {\"backgroundcolor\": \"#E5ECF6\", \"gridcolor\": \"white\", \"gridwidth\": 2, \"linecolor\": \"white\", \"showbackground\": true, \"ticks\": \"\", \"zerolinecolor\": \"white\"}, \"zaxis\": {\"backgroundcolor\": \"#E5ECF6\", \"gridcolor\": \"white\", \"gridwidth\": 2, \"linecolor\": \"white\", \"showbackground\": true, \"ticks\": \"\", \"zerolinecolor\": \"white\"}}, \"shapedefaults\": {\"line\": {\"color\": \"#2a3f5f\"}}, \"ternary\": {\"aaxis\": {\"gridcolor\": \"white\", \"linecolor\": \"white\", \"ticks\": \"\"}, \"baxis\": {\"gridcolor\": \"white\", \"linecolor\": \"white\", \"ticks\": \"\"}, \"bgcolor\": \"#E5ECF6\", \"caxis\": {\"gridcolor\": \"white\", \"linecolor\": \"white\", \"ticks\": \"\"}}, \"title\": {\"x\": 0.05}, \"xaxis\": {\"automargin\": true, \"gridcolor\": \"white\", \"linecolor\": \"white\", \"ticks\": \"\", \"title\": {\"standoff\": 15}, \"zerolinecolor\": \"white\", \"zerolinewidth\": 2}, \"yaxis\": {\"automargin\": true, \"gridcolor\": \"white\", \"linecolor\": \"white\", \"ticks\": \"\", \"title\": {\"standoff\": 15}, \"zerolinecolor\": \"white\", \"zerolinewidth\": 2}}}, \"xaxis\": {\"anchor\": \"y\", \"domain\": [0.0, 1.0], \"title\": {\"text\": \"Category\"}}, \"yaxis\": {\"anchor\": \"x\", \"domain\": [0.0, 1.0], \"title\": {\"text\": \"Values\"}}},\n",
       "                        {\"responsive\": true}\n",
       "                    ).then(function(){\n",
       "                            \n",
       "var gd = document.getElementById('1daef6c0-4fc0-4cb0-965e-d5edac2526a5');\n",
       "var x = new MutationObserver(function (mutations, observer) {{\n",
       "        var display = window.getComputedStyle(gd).display;\n",
       "        if (!display || display === 'none') {{\n",
       "            console.log([gd, 'removed!']);\n",
       "            Plotly.purge(gd);\n",
       "            observer.disconnect();\n",
       "        }}\n",
       "}});\n",
       "\n",
       "// Listen for the removal of the full notebook cells\n",
       "var notebookContainer = gd.closest('#notebook-container');\n",
       "if (notebookContainer) {{\n",
       "    x.observe(notebookContainer, {childList: true});\n",
       "}}\n",
       "\n",
       "// Listen for the clearing of the current output cell\n",
       "var outputEl = gd.closest('.output');\n",
       "if (outputEl) {{\n",
       "    x.observe(outputEl, {childList: true});\n",
       "}}\n",
       "\n",
       "                        })\n",
       "                };\n",
       "                });\n",
       "            </script>\n",
       "        </div>"
      ]
     },
     "metadata": {},
     "output_type": "display_data"
    }
   ],
   "source": [
    "px.bar(df2,x='Category',y='Values')\n",
    "#df2.iplot(kind='bar',x='Category',y='Values')"
   ]
  },
  {
   "cell_type": "code",
   "execution_count": 22,
   "metadata": {},
   "outputs": [
    {
     "data": {
      "text/plain": [
       "A    100\n",
       "B    100\n",
       "C    100\n",
       "D    100\n",
       "dtype: int64"
      ]
     },
     "execution_count": 22,
     "metadata": {},
     "output_type": "execute_result"
    }
   ],
   "source": [
    "df.count()"
   ]
  },
  {
   "cell_type": "code",
   "execution_count": 23,
   "metadata": {},
   "outputs": [
    {
     "data": {
      "application/vnd.plotly.v1+json": {
       "config": {
        "plotlyServerURL": "https://plot.ly"
       },
       "data": [],
       "layout": {
        "barmode": "relative",
        "height": 600,
        "legend": {
         "tracegroupgap": 0
        },
        "margin": {
         "t": 60
        },
        "template": {
         "data": {
          "bar": [
           {
            "error_x": {
             "color": "#2a3f5f"
            },
            "error_y": {
             "color": "#2a3f5f"
            },
            "marker": {
             "line": {
              "color": "#E5ECF6",
              "width": 0.5
             }
            },
            "type": "bar"
           }
          ],
          "barpolar": [
           {
            "marker": {
             "line": {
              "color": "#E5ECF6",
              "width": 0.5
             }
            },
            "type": "barpolar"
           }
          ],
          "carpet": [
           {
            "aaxis": {
             "endlinecolor": "#2a3f5f",
             "gridcolor": "white",
             "linecolor": "white",
             "minorgridcolor": "white",
             "startlinecolor": "#2a3f5f"
            },
            "baxis": {
             "endlinecolor": "#2a3f5f",
             "gridcolor": "white",
             "linecolor": "white",
             "minorgridcolor": "white",
             "startlinecolor": "#2a3f5f"
            },
            "type": "carpet"
           }
          ],
          "choropleth": [
           {
            "colorbar": {
             "outlinewidth": 0,
             "ticks": ""
            },
            "type": "choropleth"
           }
          ],
          "contour": [
           {
            "colorbar": {
             "outlinewidth": 0,
             "ticks": ""
            },
            "colorscale": [
             [
              0,
              "#0d0887"
             ],
             [
              0.1111111111111111,
              "#46039f"
             ],
             [
              0.2222222222222222,
              "#7201a8"
             ],
             [
              0.3333333333333333,
              "#9c179e"
             ],
             [
              0.4444444444444444,
              "#bd3786"
             ],
             [
              0.5555555555555556,
              "#d8576b"
             ],
             [
              0.6666666666666666,
              "#ed7953"
             ],
             [
              0.7777777777777778,
              "#fb9f3a"
             ],
             [
              0.8888888888888888,
              "#fdca26"
             ],
             [
              1,
              "#f0f921"
             ]
            ],
            "type": "contour"
           }
          ],
          "contourcarpet": [
           {
            "colorbar": {
             "outlinewidth": 0,
             "ticks": ""
            },
            "type": "contourcarpet"
           }
          ],
          "heatmap": [
           {
            "colorbar": {
             "outlinewidth": 0,
             "ticks": ""
            },
            "colorscale": [
             [
              0,
              "#0d0887"
             ],
             [
              0.1111111111111111,
              "#46039f"
             ],
             [
              0.2222222222222222,
              "#7201a8"
             ],
             [
              0.3333333333333333,
              "#9c179e"
             ],
             [
              0.4444444444444444,
              "#bd3786"
             ],
             [
              0.5555555555555556,
              "#d8576b"
             ],
             [
              0.6666666666666666,
              "#ed7953"
             ],
             [
              0.7777777777777778,
              "#fb9f3a"
             ],
             [
              0.8888888888888888,
              "#fdca26"
             ],
             [
              1,
              "#f0f921"
             ]
            ],
            "type": "heatmap"
           }
          ],
          "heatmapgl": [
           {
            "colorbar": {
             "outlinewidth": 0,
             "ticks": ""
            },
            "colorscale": [
             [
              0,
              "#0d0887"
             ],
             [
              0.1111111111111111,
              "#46039f"
             ],
             [
              0.2222222222222222,
              "#7201a8"
             ],
             [
              0.3333333333333333,
              "#9c179e"
             ],
             [
              0.4444444444444444,
              "#bd3786"
             ],
             [
              0.5555555555555556,
              "#d8576b"
             ],
             [
              0.6666666666666666,
              "#ed7953"
             ],
             [
              0.7777777777777778,
              "#fb9f3a"
             ],
             [
              0.8888888888888888,
              "#fdca26"
             ],
             [
              1,
              "#f0f921"
             ]
            ],
            "type": "heatmapgl"
           }
          ],
          "histogram": [
           {
            "marker": {
             "colorbar": {
              "outlinewidth": 0,
              "ticks": ""
             }
            },
            "type": "histogram"
           }
          ],
          "histogram2d": [
           {
            "colorbar": {
             "outlinewidth": 0,
             "ticks": ""
            },
            "colorscale": [
             [
              0,
              "#0d0887"
             ],
             [
              0.1111111111111111,
              "#46039f"
             ],
             [
              0.2222222222222222,
              "#7201a8"
             ],
             [
              0.3333333333333333,
              "#9c179e"
             ],
             [
              0.4444444444444444,
              "#bd3786"
             ],
             [
              0.5555555555555556,
              "#d8576b"
             ],
             [
              0.6666666666666666,
              "#ed7953"
             ],
             [
              0.7777777777777778,
              "#fb9f3a"
             ],
             [
              0.8888888888888888,
              "#fdca26"
             ],
             [
              1,
              "#f0f921"
             ]
            ],
            "type": "histogram2d"
           }
          ],
          "histogram2dcontour": [
           {
            "colorbar": {
             "outlinewidth": 0,
             "ticks": ""
            },
            "colorscale": [
             [
              0,
              "#0d0887"
             ],
             [
              0.1111111111111111,
              "#46039f"
             ],
             [
              0.2222222222222222,
              "#7201a8"
             ],
             [
              0.3333333333333333,
              "#9c179e"
             ],
             [
              0.4444444444444444,
              "#bd3786"
             ],
             [
              0.5555555555555556,
              "#d8576b"
             ],
             [
              0.6666666666666666,
              "#ed7953"
             ],
             [
              0.7777777777777778,
              "#fb9f3a"
             ],
             [
              0.8888888888888888,
              "#fdca26"
             ],
             [
              1,
              "#f0f921"
             ]
            ],
            "type": "histogram2dcontour"
           }
          ],
          "mesh3d": [
           {
            "colorbar": {
             "outlinewidth": 0,
             "ticks": ""
            },
            "type": "mesh3d"
           }
          ],
          "parcoords": [
           {
            "line": {
             "colorbar": {
              "outlinewidth": 0,
              "ticks": ""
             }
            },
            "type": "parcoords"
           }
          ],
          "pie": [
           {
            "automargin": true,
            "type": "pie"
           }
          ],
          "scatter": [
           {
            "marker": {
             "colorbar": {
              "outlinewidth": 0,
              "ticks": ""
             }
            },
            "type": "scatter"
           }
          ],
          "scatter3d": [
           {
            "line": {
             "colorbar": {
              "outlinewidth": 0,
              "ticks": ""
             }
            },
            "marker": {
             "colorbar": {
              "outlinewidth": 0,
              "ticks": ""
             }
            },
            "type": "scatter3d"
           }
          ],
          "scattercarpet": [
           {
            "marker": {
             "colorbar": {
              "outlinewidth": 0,
              "ticks": ""
             }
            },
            "type": "scattercarpet"
           }
          ],
          "scattergeo": [
           {
            "marker": {
             "colorbar": {
              "outlinewidth": 0,
              "ticks": ""
             }
            },
            "type": "scattergeo"
           }
          ],
          "scattergl": [
           {
            "marker": {
             "colorbar": {
              "outlinewidth": 0,
              "ticks": ""
             }
            },
            "type": "scattergl"
           }
          ],
          "scattermapbox": [
           {
            "marker": {
             "colorbar": {
              "outlinewidth": 0,
              "ticks": ""
             }
            },
            "type": "scattermapbox"
           }
          ],
          "scatterpolar": [
           {
            "marker": {
             "colorbar": {
              "outlinewidth": 0,
              "ticks": ""
             }
            },
            "type": "scatterpolar"
           }
          ],
          "scatterpolargl": [
           {
            "marker": {
             "colorbar": {
              "outlinewidth": 0,
              "ticks": ""
             }
            },
            "type": "scatterpolargl"
           }
          ],
          "scatterternary": [
           {
            "marker": {
             "colorbar": {
              "outlinewidth": 0,
              "ticks": ""
             }
            },
            "type": "scatterternary"
           }
          ],
          "surface": [
           {
            "colorbar": {
             "outlinewidth": 0,
             "ticks": ""
            },
            "colorscale": [
             [
              0,
              "#0d0887"
             ],
             [
              0.1111111111111111,
              "#46039f"
             ],
             [
              0.2222222222222222,
              "#7201a8"
             ],
             [
              0.3333333333333333,
              "#9c179e"
             ],
             [
              0.4444444444444444,
              "#bd3786"
             ],
             [
              0.5555555555555556,
              "#d8576b"
             ],
             [
              0.6666666666666666,
              "#ed7953"
             ],
             [
              0.7777777777777778,
              "#fb9f3a"
             ],
             [
              0.8888888888888888,
              "#fdca26"
             ],
             [
              1,
              "#f0f921"
             ]
            ],
            "type": "surface"
           }
          ],
          "table": [
           {
            "cells": {
             "fill": {
              "color": "#EBF0F8"
             },
             "line": {
              "color": "white"
             }
            },
            "header": {
             "fill": {
              "color": "#C8D4E3"
             },
             "line": {
              "color": "white"
             }
            },
            "type": "table"
           }
          ]
         },
         "layout": {
          "annotationdefaults": {
           "arrowcolor": "#2a3f5f",
           "arrowhead": 0,
           "arrowwidth": 1
          },
          "coloraxis": {
           "colorbar": {
            "outlinewidth": 0,
            "ticks": ""
           }
          },
          "colorscale": {
           "diverging": [
            [
             0,
             "#8e0152"
            ],
            [
             0.1,
             "#c51b7d"
            ],
            [
             0.2,
             "#de77ae"
            ],
            [
             0.3,
             "#f1b6da"
            ],
            [
             0.4,
             "#fde0ef"
            ],
            [
             0.5,
             "#f7f7f7"
            ],
            [
             0.6,
             "#e6f5d0"
            ],
            [
             0.7,
             "#b8e186"
            ],
            [
             0.8,
             "#7fbc41"
            ],
            [
             0.9,
             "#4d9221"
            ],
            [
             1,
             "#276419"
            ]
           ],
           "sequential": [
            [
             0,
             "#0d0887"
            ],
            [
             0.1111111111111111,
             "#46039f"
            ],
            [
             0.2222222222222222,
             "#7201a8"
            ],
            [
             0.3333333333333333,
             "#9c179e"
            ],
            [
             0.4444444444444444,
             "#bd3786"
            ],
            [
             0.5555555555555556,
             "#d8576b"
            ],
            [
             0.6666666666666666,
             "#ed7953"
            ],
            [
             0.7777777777777778,
             "#fb9f3a"
            ],
            [
             0.8888888888888888,
             "#fdca26"
            ],
            [
             1,
             "#f0f921"
            ]
           ],
           "sequentialminus": [
            [
             0,
             "#0d0887"
            ],
            [
             0.1111111111111111,
             "#46039f"
            ],
            [
             0.2222222222222222,
             "#7201a8"
            ],
            [
             0.3333333333333333,
             "#9c179e"
            ],
            [
             0.4444444444444444,
             "#bd3786"
            ],
            [
             0.5555555555555556,
             "#d8576b"
            ],
            [
             0.6666666666666666,
             "#ed7953"
            ],
            [
             0.7777777777777778,
             "#fb9f3a"
            ],
            [
             0.8888888888888888,
             "#fdca26"
            ],
            [
             1,
             "#f0f921"
            ]
           ]
          },
          "colorway": [
           "#636efa",
           "#EF553B",
           "#00cc96",
           "#ab63fa",
           "#FFA15A",
           "#19d3f3",
           "#FF6692",
           "#B6E880",
           "#FF97FF",
           "#FECB52"
          ],
          "font": {
           "color": "#2a3f5f"
          },
          "geo": {
           "bgcolor": "white",
           "lakecolor": "white",
           "landcolor": "#E5ECF6",
           "showlakes": true,
           "showland": true,
           "subunitcolor": "white"
          },
          "hoverlabel": {
           "align": "left"
          },
          "hovermode": "closest",
          "mapbox": {
           "style": "light"
          },
          "paper_bgcolor": "white",
          "plot_bgcolor": "#E5ECF6",
          "polar": {
           "angularaxis": {
            "gridcolor": "white",
            "linecolor": "white",
            "ticks": ""
           },
           "bgcolor": "#E5ECF6",
           "radialaxis": {
            "gridcolor": "white",
            "linecolor": "white",
            "ticks": ""
           }
          },
          "scene": {
           "xaxis": {
            "backgroundcolor": "#E5ECF6",
            "gridcolor": "white",
            "gridwidth": 2,
            "linecolor": "white",
            "showbackground": true,
            "ticks": "",
            "zerolinecolor": "white"
           },
           "yaxis": {
            "backgroundcolor": "#E5ECF6",
            "gridcolor": "white",
            "gridwidth": 2,
            "linecolor": "white",
            "showbackground": true,
            "ticks": "",
            "zerolinecolor": "white"
           },
           "zaxis": {
            "backgroundcolor": "#E5ECF6",
            "gridcolor": "white",
            "gridwidth": 2,
            "linecolor": "white",
            "showbackground": true,
            "ticks": "",
            "zerolinecolor": "white"
           }
          },
          "shapedefaults": {
           "line": {
            "color": "#2a3f5f"
           }
          },
          "ternary": {
           "aaxis": {
            "gridcolor": "white",
            "linecolor": "white",
            "ticks": ""
           },
           "baxis": {
            "gridcolor": "white",
            "linecolor": "white",
            "ticks": ""
           },
           "bgcolor": "#E5ECF6",
           "caxis": {
            "gridcolor": "white",
            "linecolor": "white",
            "ticks": ""
           }
          },
          "title": {
           "x": 0.05
          },
          "xaxis": {
           "automargin": true,
           "gridcolor": "white",
           "linecolor": "white",
           "ticks": "",
           "title": {
            "standoff": 15
           },
           "zerolinecolor": "white",
           "zerolinewidth": 2
          },
          "yaxis": {
           "automargin": true,
           "gridcolor": "white",
           "linecolor": "white",
           "ticks": "",
           "title": {
            "standoff": 15
           },
           "zerolinecolor": "white",
           "zerolinewidth": 2
          }
         }
        },
        "xaxis": {
         "anchor": "y",
         "domain": [
          0,
          1
         ]
        },
        "yaxis": {
         "anchor": "x",
         "domain": [
          0,
          1
         ]
        }
       }
      },
      "text/html": [
       "<div>\n",
       "        \n",
       "        \n",
       "            <div id=\"b9106b92-8ad9-47de-a51a-4eb347baa68e\" class=\"plotly-graph-div\" style=\"height:600px; width:100%;\"></div>\n",
       "            <script type=\"text/javascript\">\n",
       "                require([\"plotly\"], function(Plotly) {\n",
       "                    window.PLOTLYENV=window.PLOTLYENV || {};\n",
       "                    \n",
       "                if (document.getElementById(\"b9106b92-8ad9-47de-a51a-4eb347baa68e\")) {\n",
       "                    Plotly.newPlot(\n",
       "                        'b9106b92-8ad9-47de-a51a-4eb347baa68e',\n",
       "                        [],\n",
       "                        {\"barmode\": \"relative\", \"height\": 600, \"legend\": {\"tracegroupgap\": 0}, \"margin\": {\"t\": 60}, \"template\": {\"data\": {\"bar\": [{\"error_x\": {\"color\": \"#2a3f5f\"}, \"error_y\": {\"color\": \"#2a3f5f\"}, \"marker\": {\"line\": {\"color\": \"#E5ECF6\", \"width\": 0.5}}, \"type\": \"bar\"}], \"barpolar\": [{\"marker\": {\"line\": {\"color\": \"#E5ECF6\", \"width\": 0.5}}, \"type\": \"barpolar\"}], \"carpet\": [{\"aaxis\": {\"endlinecolor\": \"#2a3f5f\", \"gridcolor\": \"white\", \"linecolor\": \"white\", \"minorgridcolor\": \"white\", \"startlinecolor\": \"#2a3f5f\"}, \"baxis\": {\"endlinecolor\": \"#2a3f5f\", \"gridcolor\": \"white\", \"linecolor\": \"white\", \"minorgridcolor\": \"white\", \"startlinecolor\": \"#2a3f5f\"}, \"type\": \"carpet\"}], \"choropleth\": [{\"colorbar\": {\"outlinewidth\": 0, \"ticks\": \"\"}, \"type\": \"choropleth\"}], \"contour\": [{\"colorbar\": {\"outlinewidth\": 0, \"ticks\": \"\"}, \"colorscale\": [[0.0, \"#0d0887\"], [0.1111111111111111, \"#46039f\"], [0.2222222222222222, \"#7201a8\"], [0.3333333333333333, \"#9c179e\"], [0.4444444444444444, \"#bd3786\"], [0.5555555555555556, \"#d8576b\"], [0.6666666666666666, \"#ed7953\"], [0.7777777777777778, \"#fb9f3a\"], [0.8888888888888888, \"#fdca26\"], [1.0, \"#f0f921\"]], \"type\": \"contour\"}], \"contourcarpet\": [{\"colorbar\": {\"outlinewidth\": 0, \"ticks\": \"\"}, \"type\": \"contourcarpet\"}], \"heatmap\": [{\"colorbar\": {\"outlinewidth\": 0, \"ticks\": \"\"}, \"colorscale\": [[0.0, \"#0d0887\"], [0.1111111111111111, \"#46039f\"], [0.2222222222222222, \"#7201a8\"], [0.3333333333333333, \"#9c179e\"], [0.4444444444444444, \"#bd3786\"], [0.5555555555555556, \"#d8576b\"], [0.6666666666666666, \"#ed7953\"], [0.7777777777777778, \"#fb9f3a\"], [0.8888888888888888, \"#fdca26\"], [1.0, \"#f0f921\"]], \"type\": \"heatmap\"}], \"heatmapgl\": [{\"colorbar\": {\"outlinewidth\": 0, \"ticks\": \"\"}, \"colorscale\": [[0.0, \"#0d0887\"], [0.1111111111111111, \"#46039f\"], [0.2222222222222222, \"#7201a8\"], [0.3333333333333333, \"#9c179e\"], [0.4444444444444444, \"#bd3786\"], [0.5555555555555556, \"#d8576b\"], [0.6666666666666666, \"#ed7953\"], [0.7777777777777778, \"#fb9f3a\"], [0.8888888888888888, \"#fdca26\"], [1.0, \"#f0f921\"]], \"type\": \"heatmapgl\"}], \"histogram\": [{\"marker\": {\"colorbar\": {\"outlinewidth\": 0, \"ticks\": \"\"}}, \"type\": \"histogram\"}], \"histogram2d\": [{\"colorbar\": {\"outlinewidth\": 0, \"ticks\": \"\"}, \"colorscale\": [[0.0, \"#0d0887\"], [0.1111111111111111, \"#46039f\"], [0.2222222222222222, \"#7201a8\"], [0.3333333333333333, \"#9c179e\"], [0.4444444444444444, \"#bd3786\"], [0.5555555555555556, \"#d8576b\"], [0.6666666666666666, \"#ed7953\"], [0.7777777777777778, \"#fb9f3a\"], [0.8888888888888888, \"#fdca26\"], [1.0, \"#f0f921\"]], \"type\": \"histogram2d\"}], \"histogram2dcontour\": [{\"colorbar\": {\"outlinewidth\": 0, \"ticks\": \"\"}, \"colorscale\": [[0.0, \"#0d0887\"], [0.1111111111111111, \"#46039f\"], [0.2222222222222222, \"#7201a8\"], [0.3333333333333333, \"#9c179e\"], [0.4444444444444444, \"#bd3786\"], [0.5555555555555556, \"#d8576b\"], [0.6666666666666666, \"#ed7953\"], [0.7777777777777778, \"#fb9f3a\"], [0.8888888888888888, \"#fdca26\"], [1.0, \"#f0f921\"]], \"type\": \"histogram2dcontour\"}], \"mesh3d\": [{\"colorbar\": {\"outlinewidth\": 0, \"ticks\": \"\"}, \"type\": \"mesh3d\"}], \"parcoords\": [{\"line\": {\"colorbar\": {\"outlinewidth\": 0, \"ticks\": \"\"}}, \"type\": \"parcoords\"}], \"pie\": [{\"automargin\": true, \"type\": \"pie\"}], \"scatter\": [{\"marker\": {\"colorbar\": {\"outlinewidth\": 0, \"ticks\": \"\"}}, \"type\": \"scatter\"}], \"scatter3d\": [{\"line\": {\"colorbar\": {\"outlinewidth\": 0, \"ticks\": \"\"}}, \"marker\": {\"colorbar\": {\"outlinewidth\": 0, \"ticks\": \"\"}}, \"type\": \"scatter3d\"}], \"scattercarpet\": [{\"marker\": {\"colorbar\": {\"outlinewidth\": 0, \"ticks\": \"\"}}, \"type\": \"scattercarpet\"}], \"scattergeo\": [{\"marker\": {\"colorbar\": {\"outlinewidth\": 0, \"ticks\": \"\"}}, \"type\": \"scattergeo\"}], \"scattergl\": [{\"marker\": {\"colorbar\": {\"outlinewidth\": 0, \"ticks\": \"\"}}, \"type\": \"scattergl\"}], \"scattermapbox\": [{\"marker\": {\"colorbar\": {\"outlinewidth\": 0, \"ticks\": \"\"}}, \"type\": \"scattermapbox\"}], \"scatterpolar\": [{\"marker\": {\"colorbar\": {\"outlinewidth\": 0, \"ticks\": \"\"}}, \"type\": \"scatterpolar\"}], \"scatterpolargl\": [{\"marker\": {\"colorbar\": {\"outlinewidth\": 0, \"ticks\": \"\"}}, \"type\": \"scatterpolargl\"}], \"scatterternary\": [{\"marker\": {\"colorbar\": {\"outlinewidth\": 0, \"ticks\": \"\"}}, \"type\": \"scatterternary\"}], \"surface\": [{\"colorbar\": {\"outlinewidth\": 0, \"ticks\": \"\"}, \"colorscale\": [[0.0, \"#0d0887\"], [0.1111111111111111, \"#46039f\"], [0.2222222222222222, \"#7201a8\"], [0.3333333333333333, \"#9c179e\"], [0.4444444444444444, \"#bd3786\"], [0.5555555555555556, \"#d8576b\"], [0.6666666666666666, \"#ed7953\"], [0.7777777777777778, \"#fb9f3a\"], [0.8888888888888888, \"#fdca26\"], [1.0, \"#f0f921\"]], \"type\": \"surface\"}], \"table\": [{\"cells\": {\"fill\": {\"color\": \"#EBF0F8\"}, \"line\": {\"color\": \"white\"}}, \"header\": {\"fill\": {\"color\": \"#C8D4E3\"}, \"line\": {\"color\": \"white\"}}, \"type\": \"table\"}]}, \"layout\": {\"annotationdefaults\": {\"arrowcolor\": \"#2a3f5f\", \"arrowhead\": 0, \"arrowwidth\": 1}, \"coloraxis\": {\"colorbar\": {\"outlinewidth\": 0, \"ticks\": \"\"}}, \"colorscale\": {\"diverging\": [[0, \"#8e0152\"], [0.1, \"#c51b7d\"], [0.2, \"#de77ae\"], [0.3, \"#f1b6da\"], [0.4, \"#fde0ef\"], [0.5, \"#f7f7f7\"], [0.6, \"#e6f5d0\"], [0.7, \"#b8e186\"], [0.8, \"#7fbc41\"], [0.9, \"#4d9221\"], [1, \"#276419\"]], \"sequential\": [[0.0, \"#0d0887\"], [0.1111111111111111, \"#46039f\"], [0.2222222222222222, \"#7201a8\"], [0.3333333333333333, \"#9c179e\"], [0.4444444444444444, \"#bd3786\"], [0.5555555555555556, \"#d8576b\"], [0.6666666666666666, \"#ed7953\"], [0.7777777777777778, \"#fb9f3a\"], [0.8888888888888888, \"#fdca26\"], [1.0, \"#f0f921\"]], \"sequentialminus\": [[0.0, \"#0d0887\"], [0.1111111111111111, \"#46039f\"], [0.2222222222222222, \"#7201a8\"], [0.3333333333333333, \"#9c179e\"], [0.4444444444444444, \"#bd3786\"], [0.5555555555555556, \"#d8576b\"], [0.6666666666666666, \"#ed7953\"], [0.7777777777777778, \"#fb9f3a\"], [0.8888888888888888, \"#fdca26\"], [1.0, \"#f0f921\"]]}, \"colorway\": [\"#636efa\", \"#EF553B\", \"#00cc96\", \"#ab63fa\", \"#FFA15A\", \"#19d3f3\", \"#FF6692\", \"#B6E880\", \"#FF97FF\", \"#FECB52\"], \"font\": {\"color\": \"#2a3f5f\"}, \"geo\": {\"bgcolor\": \"white\", \"lakecolor\": \"white\", \"landcolor\": \"#E5ECF6\", \"showlakes\": true, \"showland\": true, \"subunitcolor\": \"white\"}, \"hoverlabel\": {\"align\": \"left\"}, \"hovermode\": \"closest\", \"mapbox\": {\"style\": \"light\"}, \"paper_bgcolor\": \"white\", \"plot_bgcolor\": \"#E5ECF6\", \"polar\": {\"angularaxis\": {\"gridcolor\": \"white\", \"linecolor\": \"white\", \"ticks\": \"\"}, \"bgcolor\": \"#E5ECF6\", \"radialaxis\": {\"gridcolor\": \"white\", \"linecolor\": \"white\", \"ticks\": \"\"}}, \"scene\": {\"xaxis\": {\"backgroundcolor\": \"#E5ECF6\", \"gridcolor\": \"white\", \"gridwidth\": 2, \"linecolor\": \"white\", \"showbackground\": true, \"ticks\": \"\", \"zerolinecolor\": \"white\"}, \"yaxis\": {\"backgroundcolor\": \"#E5ECF6\", \"gridcolor\": \"white\", \"gridwidth\": 2, \"linecolor\": \"white\", \"showbackground\": true, \"ticks\": \"\", \"zerolinecolor\": \"white\"}, \"zaxis\": {\"backgroundcolor\": \"#E5ECF6\", \"gridcolor\": \"white\", \"gridwidth\": 2, \"linecolor\": \"white\", \"showbackground\": true, \"ticks\": \"\", \"zerolinecolor\": \"white\"}}, \"shapedefaults\": {\"line\": {\"color\": \"#2a3f5f\"}}, \"ternary\": {\"aaxis\": {\"gridcolor\": \"white\", \"linecolor\": \"white\", \"ticks\": \"\"}, \"baxis\": {\"gridcolor\": \"white\", \"linecolor\": \"white\", \"ticks\": \"\"}, \"bgcolor\": \"#E5ECF6\", \"caxis\": {\"gridcolor\": \"white\", \"linecolor\": \"white\", \"ticks\": \"\"}}, \"title\": {\"x\": 0.05}, \"xaxis\": {\"automargin\": true, \"gridcolor\": \"white\", \"linecolor\": \"white\", \"ticks\": \"\", \"title\": {\"standoff\": 15}, \"zerolinecolor\": \"white\", \"zerolinewidth\": 2}, \"yaxis\": {\"automargin\": true, \"gridcolor\": \"white\", \"linecolor\": \"white\", \"ticks\": \"\", \"title\": {\"standoff\": 15}, \"zerolinecolor\": \"white\", \"zerolinewidth\": 2}}}, \"xaxis\": {\"anchor\": \"y\", \"domain\": [0.0, 1.0]}, \"yaxis\": {\"anchor\": \"x\", \"domain\": [0.0, 1.0]}},\n",
       "                        {\"responsive\": true}\n",
       "                    ).then(function(){\n",
       "                            \n",
       "var gd = document.getElementById('b9106b92-8ad9-47de-a51a-4eb347baa68e');\n",
       "var x = new MutationObserver(function (mutations, observer) {{\n",
       "        var display = window.getComputedStyle(gd).display;\n",
       "        if (!display || display === 'none') {{\n",
       "            console.log([gd, 'removed!']);\n",
       "            Plotly.purge(gd);\n",
       "            observer.disconnect();\n",
       "        }}\n",
       "}});\n",
       "\n",
       "// Listen for the removal of the full notebook cells\n",
       "var notebookContainer = gd.closest('#notebook-container');\n",
       "if (notebookContainer) {{\n",
       "    x.observe(notebookContainer, {childList: true});\n",
       "}}\n",
       "\n",
       "// Listen for the clearing of the current output cell\n",
       "var outputEl = gd.closest('.output');\n",
       "if (outputEl) {{\n",
       "    x.observe(outputEl, {childList: true});\n",
       "}}\n",
       "\n",
       "                        })\n",
       "                };\n",
       "                });\n",
       "            </script>\n",
       "        </div>"
      ]
     },
     "metadata": {},
     "output_type": "display_data"
    }
   ],
   "source": [
    "px.bar(df.count(), y)\n",
    "#df.count().iplot(kind='bar')"
   ]
  },
  {
   "cell_type": "markdown",
   "metadata": {},
   "source": [
    "## Boxplots"
   ]
  },
  {
   "cell_type": "code",
   "execution_count": 29,
   "metadata": {},
   "outputs": [
    {
     "data": {
      "application/vnd.plotly.v1+json": {
       "config": {
        "linkText": "Export to plot.ly",
        "plotlyServerURL": "https://plot.ly",
        "showLink": true
       },
       "data": [
        {
         "boxpoints": false,
         "line": {
          "width": 1.3
         },
         "marker": {
          "color": "rgba(255, 153, 51, 1.0)"
         },
         "name": "A",
         "orientation": "v",
         "type": "box",
         "y": [
          0.6368237558363841,
          1.0649006110582138,
          0.13840425377741813,
          0.6643570870697327,
          0.31033996046308443,
          0.3095307447079891,
          -1.0030806949117006,
          -2.073980421654117,
          -0.012978557675513116,
          -0.6443610249054871,
          -0.4019123011599225,
          -1.1865240201211213,
          1.9402176585124264,
          0.8017272698703927,
          1.4250960216550903,
          2.3414179561851403,
          -0.20350768446908774,
          0.22867666550922047,
          -0.8895629536550426,
          -0.15962318577850593,
          1.0785773861254981,
          -1.6997166285386889,
          0.04266600709434228,
          0.6880126804930993,
          0.7739049252029457,
          0.058188812087436564,
          -0.14029416776943504,
          -0.9981845613547209,
          0.22126264796890385,
          -1.2269498069443276,
          1.204595715334291,
          -0.7568251019365444,
          0.525713901813281,
          0.26930176076243917,
          0.2785868145508584,
          0.8119783697520976,
          0.46821407574585244,
          1.4687510828407921,
          -0.5980433221622159,
          0.6406517656293856,
          -0.2262760543280068,
          -0.6653294294964786,
          -0.5836311953052089,
          -0.2428675375821456,
          -1.8528633593831683,
          -0.007528069992805335,
          0.5382930637817657,
          -0.629087265440316,
          -0.6728917120279745,
          0.7144401052516212,
          0.23378447656804857,
          0.17330130095757496,
          0.21726407009755946,
          0.7237329000891287,
          0.27334144868980453,
          0.4865035225094366,
          0.7016337387174932,
          0.04079106265710642,
          -1.9665997054916837,
          -0.6631949964790526,
          -0.7102946535045428,
          -1.0774032299311715,
          1.6516020663809938,
          -1.6188402171370826,
          1.7543865634412688,
          1.6349723274645858,
          0.7712922083770805,
          0.41711383293823157,
          1.2353035140092619,
          0.8307141667412382,
          1.757130703099051,
          -0.03421584746068055,
          1.4539266180621373,
          -0.6418612753104854,
          -2.2645247371116057,
          1.7995701444332912,
          0.34258026492133203,
          -1.15192514998973,
          0.31713531038022136,
          -0.6991945323390549,
          -0.1874252447770727,
          1.7741234835799624,
          2.492111064588903,
          -0.5454800752618096,
          -2.084849189153723,
          -0.0862396373237331,
          0.261683605023826,
          -0.3241027505722336,
          0.44037856434772343,
          1.8195245724028761,
          0.7671675437836701,
          -0.6384630312275602,
          0.11607122808032443,
          1.5270567062839226,
          -0.16130502769273808,
          -0.43406958740491863,
          1.4734914707737603,
          -0.16657110561516894,
          -1.325659168470935,
          -1.7907712245138099
         ]
        },
        {
         "boxpoints": false,
         "line": {
          "width": 1.3
         },
         "marker": {
          "color": "rgba(55, 128, 191, 1.0)"
         },
         "name": "B",
         "orientation": "v",
         "type": "box",
         "y": [
          -0.965573785855108,
          2.3411683403874863,
          0.16760652247777483,
          0.5293763473061892,
          1.117328140016128,
          0.7549892445442132,
          2.054090398813393,
          -0.6782945481675158,
          1.0381705653378392,
          1.2140314276926856,
          0.03530096826726425,
          -0.02975819365648567,
          0.8490536809198773,
          -1.5614858840265529,
          0.736707745126771,
          0.1246407894398844,
          0.8379386880632551,
          0.41903183767939406,
          0.6018429414116641,
          0.2553278104357416,
          0.10218560907473412,
          1.2557054058002752,
          -0.8748741670847883,
          -0.3832158110185663,
          -0.1549106162658271,
          -1.2769478029855426,
          1.2890593262203311,
          0.3750696267160941,
          0.9921404081646318,
          0.21750565479064404,
          1.6490157181527234,
          0.31979828501405794,
          -0.26261002617535073,
          -0.23529714060338808,
          -0.22362828498994733,
          -0.6647344151065584,
          -0.5875322210729691,
          -0.6137603446064702,
          0.08365852508295676,
          -0.5736703131755713,
          0.441260085154336,
          0.7722016610545739,
          0.5324255904558407,
          0.40093790935933765,
          -0.053257602214600776,
          0.23615988021806109,
          -0.1196653377877863,
          -0.4081360519718144,
          -1.3879231468442046,
          0.47753275715667615,
          0.6015109009282125,
          -0.5627145530644787,
          1.0817852258226457,
          0.5902559942383697,
          -0.44190244945846197,
          0.31613056599056255,
          0.6907867960989922,
          -1.6964258454693064,
          0.6704678610285731,
          -0.20217302565308465,
          0.8315265238590916,
          0.5243909564105876,
          -1.258734034452956,
          -1.4020188180171287,
          -0.07728484380937733,
          -0.28049267010943935,
          0.08706081149001788,
          -1.778059875620324,
          -0.8343277328158784,
          0.3864682378824961,
          0.1503109040719167,
          -0.11424349139968754,
          -1.6639743787791799,
          -2.191755541277839,
          0.45497897381261365,
          0.31285327059157747,
          -0.3570196489480991,
          0.06866855226780288,
          -0.8135424471581575,
          -0.49434730240269664,
          0.4461810207717648,
          1.1420257711588415,
          -0.31672702200917324,
          1.82080657095947,
          0.679232378362389,
          0.4063062091653785,
          -1.0668562477330763,
          1.2601410127551493,
          -0.08626475067008418,
          -0.36923131351358884,
          -0.7445667813101593,
          1.6459010653261605,
          -0.4346406940551893,
          -1.8764159532897957,
          1.2075252986936873,
          0.8368235720752266,
          2.318359996303223,
          0.14353185810363364,
          0.5082567333578968,
          0.7185225785825067
         ]
        },
        {
         "boxpoints": false,
         "line": {
          "width": 1.3
         },
         "marker": {
          "color": "rgba(50, 171, 96, 1.0)"
         },
         "name": "C",
         "orientation": "v",
         "type": "box",
         "y": [
          0.8648798230158975,
          0.6168838744499859,
          -0.2553104669987,
          -0.5376464867950612,
          1.0985192033530944,
          -0.9440688409228584,
          0.6933173762420918,
          -0.6498482258477097,
          -0.8018121392098112,
          1.6614406628805582,
          0.25749349074201217,
          1.8111460735066105,
          0.39525004726688817,
          0.15322810958547553,
          -0.6505121094153137,
          -2.2984746556361033,
          -0.7271573961453361,
          -0.799612572239205,
          -0.1861677911754232,
          -0.9675184006268926,
          -0.5180993430469171,
          0.22326189499540022,
          0.8890311428268605,
          1.1684155086569208,
          -2.1105166472531005,
          -0.22792662026081348,
          -1.7352184104785755,
          0.5091809309124111,
          1.4605210888796814,
          0.6447537817584865,
          -0.6123891851427407,
          0.8851976383066426,
          -1.0868725112007147,
          -0.08744642526903344,
          0.15663391006169716,
          0.6782179133897311,
          2.3943293828093872,
          0.4617914586852474,
          1.4307611449605124,
          1.2425707074385905,
          -0.38271998875948376,
          0.973830279697104,
          -2.626937904231956,
          0.22089917867702138,
          0.7175278330901118,
          0.41789773927976986,
          -0.4684295575192196,
          1.286789232082445,
          -0.7753497121419121,
          0.3517210166362854,
          -1.1501314212759213,
          0.1596404420407003,
          -1.057130504381638,
          -1.0271136127887481,
          2.3092933092036976,
          -0.35794037595248507,
          0.21108274676066685,
          1.387117126540965,
          -1.453045342998502,
          0.4135364798202572,
          0.2400851843727173,
          0.08017711612552984,
          -1.301583929646112,
          -0.534393298061163,
          0.21398906503416223,
          2.373443426769146,
          -0.5020716705189721,
          0.6716541585189236,
          -0.26645139533386014,
          0.06884335805705821,
          0.7540618676481922,
          -1.286028613428508,
          0.050215678235865,
          0.07993908991261611,
          -1.0677518455070494,
          1.2677350406386771,
          0.35449282662119597,
          0.21279899649927772,
          -0.008082479729587274,
          -0.7203744314653343,
          2.5994109613713867,
          0.45460832517121713,
          0.1465669553109633,
          1.734136147569354,
          0.26041023533748875,
          -0.4151355022561119,
          0.5968344312309438,
          -0.9392533430149653,
          -1.536133943819491,
          -0.8065668782908024,
          -0.08050759192929652,
          -2.098171765730534,
          -0.808254971794466,
          0.9703291919561734,
          0.31128337197230466,
          -1.6207025952122633,
          1.2669287402911587,
          0.9810367505417916,
          2.0159574799117674,
          1.1329670490708486
         ]
        },
        {
         "boxpoints": false,
         "line": {
          "width": 1.3
         },
         "marker": {
          "color": "rgba(128, 0, 128, 1.0)"
         },
         "name": "D",
         "orientation": "v",
         "type": "box",
         "y": [
          -0.2511060495466714,
          -0.38323368117127715,
          -0.026206155669705973,
          0.008179529296440289,
          0.33814997381296197,
          -0.7631978995349146,
          -1.0749498002123072,
          0.3058286822190156,
          -0.9665368140590993,
          0.064712064586311,
          -1.6285755341487114,
          0.06677008462203217,
          -0.565963049639477,
          0.9602766523516492,
          -0.9613212997598867,
          0.2513979314757754,
          -0.44380942484781855,
          -0.2620223909192725,
          2.9570067591913647,
          0.7539739829991565,
          0.28431787170181994,
          -1.4256327274570921,
          -1.0505851872083094,
          -0.1992796480262547,
          1.1485178438650163,
          -0.572315706842162,
          0.2348020216311637,
          -1.43466379154626,
          0.6376017377523107,
          -0.8526391337822391,
          -2.532287479102309,
          2.670944306667824,
          0.00013011761243241827,
          0.3687159277023539,
          -0.21822462931136613,
          0.7275329061137008,
          -0.340173366046956,
          -1.2403244809609586,
          -1.615337103362975,
          -1.614287118122959,
          -0.5695074723526038,
          0.12189713163375622,
          -0.16169126299111203,
          0.38573183712843406,
          0.8385449252058224,
          -0.8649577476846941,
          2.0601201513521334,
          0.201901591904918,
          0.32112824048332517,
          -0.559888211181785,
          -1.4612755154772725,
          0.867840876378296,
          -1.9091097162672386,
          0.8247289548835394,
          0.4156663471708946,
          0.08458737863491718,
          -0.27300709453934846,
          0.5092993862731398,
          -1.671451660986157,
          -1.1966976797559579,
          -0.10020969171058366,
          -1.0183011427301836,
          0.978790967442909,
          -0.9425552606146356,
          -0.44737491045947175,
          0.8439799585928991,
          -0.17993802267047826,
          0.2977066279204819,
          1.5287819650802668,
          0.5705591482113747,
          -0.7192635203956517,
          0.3450070506775301,
          -1.033938460324176,
          1.1924657273649355,
          0.8682713090835688,
          0.04364254086856057,
          -0.6270612688472221,
          0.16383999095426352,
          0.1312681105501158,
          1.0802230727370812,
          0.7772940495024464,
          0.9543996804355898,
          1.6014754513536233,
          -0.44946493432675516,
          0.38422114740949564,
          -1.180658872549014,
          0.3231265726165534,
          0.9188177589555937,
          -0.7888359002985148,
          -0.11204142763384377,
          -0.9005142432054354,
          -0.8043314863203508,
          0.7392662332003646,
          0.20040141406036718,
          -0.06170035694528831,
          0.733012407827407,
          0.9009629858119796,
          -0.4958512951456021,
          -0.7440785771884372,
          0.13438848115616583
         ]
        }
       ],
       "layout": {
        "legend": {
         "bgcolor": "#F5F6F9",
         "font": {
          "color": "#4D5663"
         }
        },
        "paper_bgcolor": "#F5F6F9",
        "plot_bgcolor": "#F5F6F9",
        "template": {
         "data": {
          "bar": [
           {
            "error_x": {
             "color": "#2a3f5f"
            },
            "error_y": {
             "color": "#2a3f5f"
            },
            "marker": {
             "line": {
              "color": "#E5ECF6",
              "width": 0.5
             }
            },
            "type": "bar"
           }
          ],
          "barpolar": [
           {
            "marker": {
             "line": {
              "color": "#E5ECF6",
              "width": 0.5
             }
            },
            "type": "barpolar"
           }
          ],
          "carpet": [
           {
            "aaxis": {
             "endlinecolor": "#2a3f5f",
             "gridcolor": "white",
             "linecolor": "white",
             "minorgridcolor": "white",
             "startlinecolor": "#2a3f5f"
            },
            "baxis": {
             "endlinecolor": "#2a3f5f",
             "gridcolor": "white",
             "linecolor": "white",
             "minorgridcolor": "white",
             "startlinecolor": "#2a3f5f"
            },
            "type": "carpet"
           }
          ],
          "choropleth": [
           {
            "colorbar": {
             "outlinewidth": 0,
             "ticks": ""
            },
            "type": "choropleth"
           }
          ],
          "contour": [
           {
            "colorbar": {
             "outlinewidth": 0,
             "ticks": ""
            },
            "colorscale": [
             [
              0,
              "#0d0887"
             ],
             [
              0.1111111111111111,
              "#46039f"
             ],
             [
              0.2222222222222222,
              "#7201a8"
             ],
             [
              0.3333333333333333,
              "#9c179e"
             ],
             [
              0.4444444444444444,
              "#bd3786"
             ],
             [
              0.5555555555555556,
              "#d8576b"
             ],
             [
              0.6666666666666666,
              "#ed7953"
             ],
             [
              0.7777777777777778,
              "#fb9f3a"
             ],
             [
              0.8888888888888888,
              "#fdca26"
             ],
             [
              1,
              "#f0f921"
             ]
            ],
            "type": "contour"
           }
          ],
          "contourcarpet": [
           {
            "colorbar": {
             "outlinewidth": 0,
             "ticks": ""
            },
            "type": "contourcarpet"
           }
          ],
          "heatmap": [
           {
            "colorbar": {
             "outlinewidth": 0,
             "ticks": ""
            },
            "colorscale": [
             [
              0,
              "#0d0887"
             ],
             [
              0.1111111111111111,
              "#46039f"
             ],
             [
              0.2222222222222222,
              "#7201a8"
             ],
             [
              0.3333333333333333,
              "#9c179e"
             ],
             [
              0.4444444444444444,
              "#bd3786"
             ],
             [
              0.5555555555555556,
              "#d8576b"
             ],
             [
              0.6666666666666666,
              "#ed7953"
             ],
             [
              0.7777777777777778,
              "#fb9f3a"
             ],
             [
              0.8888888888888888,
              "#fdca26"
             ],
             [
              1,
              "#f0f921"
             ]
            ],
            "type": "heatmap"
           }
          ],
          "heatmapgl": [
           {
            "colorbar": {
             "outlinewidth": 0,
             "ticks": ""
            },
            "colorscale": [
             [
              0,
              "#0d0887"
             ],
             [
              0.1111111111111111,
              "#46039f"
             ],
             [
              0.2222222222222222,
              "#7201a8"
             ],
             [
              0.3333333333333333,
              "#9c179e"
             ],
             [
              0.4444444444444444,
              "#bd3786"
             ],
             [
              0.5555555555555556,
              "#d8576b"
             ],
             [
              0.6666666666666666,
              "#ed7953"
             ],
             [
              0.7777777777777778,
              "#fb9f3a"
             ],
             [
              0.8888888888888888,
              "#fdca26"
             ],
             [
              1,
              "#f0f921"
             ]
            ],
            "type": "heatmapgl"
           }
          ],
          "histogram": [
           {
            "marker": {
             "colorbar": {
              "outlinewidth": 0,
              "ticks": ""
             }
            },
            "type": "histogram"
           }
          ],
          "histogram2d": [
           {
            "colorbar": {
             "outlinewidth": 0,
             "ticks": ""
            },
            "colorscale": [
             [
              0,
              "#0d0887"
             ],
             [
              0.1111111111111111,
              "#46039f"
             ],
             [
              0.2222222222222222,
              "#7201a8"
             ],
             [
              0.3333333333333333,
              "#9c179e"
             ],
             [
              0.4444444444444444,
              "#bd3786"
             ],
             [
              0.5555555555555556,
              "#d8576b"
             ],
             [
              0.6666666666666666,
              "#ed7953"
             ],
             [
              0.7777777777777778,
              "#fb9f3a"
             ],
             [
              0.8888888888888888,
              "#fdca26"
             ],
             [
              1,
              "#f0f921"
             ]
            ],
            "type": "histogram2d"
           }
          ],
          "histogram2dcontour": [
           {
            "colorbar": {
             "outlinewidth": 0,
             "ticks": ""
            },
            "colorscale": [
             [
              0,
              "#0d0887"
             ],
             [
              0.1111111111111111,
              "#46039f"
             ],
             [
              0.2222222222222222,
              "#7201a8"
             ],
             [
              0.3333333333333333,
              "#9c179e"
             ],
             [
              0.4444444444444444,
              "#bd3786"
             ],
             [
              0.5555555555555556,
              "#d8576b"
             ],
             [
              0.6666666666666666,
              "#ed7953"
             ],
             [
              0.7777777777777778,
              "#fb9f3a"
             ],
             [
              0.8888888888888888,
              "#fdca26"
             ],
             [
              1,
              "#f0f921"
             ]
            ],
            "type": "histogram2dcontour"
           }
          ],
          "mesh3d": [
           {
            "colorbar": {
             "outlinewidth": 0,
             "ticks": ""
            },
            "type": "mesh3d"
           }
          ],
          "parcoords": [
           {
            "line": {
             "colorbar": {
              "outlinewidth": 0,
              "ticks": ""
             }
            },
            "type": "parcoords"
           }
          ],
          "pie": [
           {
            "automargin": true,
            "type": "pie"
           }
          ],
          "scatter": [
           {
            "marker": {
             "colorbar": {
              "outlinewidth": 0,
              "ticks": ""
             }
            },
            "type": "scatter"
           }
          ],
          "scatter3d": [
           {
            "line": {
             "colorbar": {
              "outlinewidth": 0,
              "ticks": ""
             }
            },
            "marker": {
             "colorbar": {
              "outlinewidth": 0,
              "ticks": ""
             }
            },
            "type": "scatter3d"
           }
          ],
          "scattercarpet": [
           {
            "marker": {
             "colorbar": {
              "outlinewidth": 0,
              "ticks": ""
             }
            },
            "type": "scattercarpet"
           }
          ],
          "scattergeo": [
           {
            "marker": {
             "colorbar": {
              "outlinewidth": 0,
              "ticks": ""
             }
            },
            "type": "scattergeo"
           }
          ],
          "scattergl": [
           {
            "marker": {
             "colorbar": {
              "outlinewidth": 0,
              "ticks": ""
             }
            },
            "type": "scattergl"
           }
          ],
          "scattermapbox": [
           {
            "marker": {
             "colorbar": {
              "outlinewidth": 0,
              "ticks": ""
             }
            },
            "type": "scattermapbox"
           }
          ],
          "scatterpolar": [
           {
            "marker": {
             "colorbar": {
              "outlinewidth": 0,
              "ticks": ""
             }
            },
            "type": "scatterpolar"
           }
          ],
          "scatterpolargl": [
           {
            "marker": {
             "colorbar": {
              "outlinewidth": 0,
              "ticks": ""
             }
            },
            "type": "scatterpolargl"
           }
          ],
          "scatterternary": [
           {
            "marker": {
             "colorbar": {
              "outlinewidth": 0,
              "ticks": ""
             }
            },
            "type": "scatterternary"
           }
          ],
          "surface": [
           {
            "colorbar": {
             "outlinewidth": 0,
             "ticks": ""
            },
            "colorscale": [
             [
              0,
              "#0d0887"
             ],
             [
              0.1111111111111111,
              "#46039f"
             ],
             [
              0.2222222222222222,
              "#7201a8"
             ],
             [
              0.3333333333333333,
              "#9c179e"
             ],
             [
              0.4444444444444444,
              "#bd3786"
             ],
             [
              0.5555555555555556,
              "#d8576b"
             ],
             [
              0.6666666666666666,
              "#ed7953"
             ],
             [
              0.7777777777777778,
              "#fb9f3a"
             ],
             [
              0.8888888888888888,
              "#fdca26"
             ],
             [
              1,
              "#f0f921"
             ]
            ],
            "type": "surface"
           }
          ],
          "table": [
           {
            "cells": {
             "fill": {
              "color": "#EBF0F8"
             },
             "line": {
              "color": "white"
             }
            },
            "header": {
             "fill": {
              "color": "#C8D4E3"
             },
             "line": {
              "color": "white"
             }
            },
            "type": "table"
           }
          ]
         },
         "layout": {
          "annotationdefaults": {
           "arrowcolor": "#2a3f5f",
           "arrowhead": 0,
           "arrowwidth": 1
          },
          "coloraxis": {
           "colorbar": {
            "outlinewidth": 0,
            "ticks": ""
           }
          },
          "colorscale": {
           "diverging": [
            [
             0,
             "#8e0152"
            ],
            [
             0.1,
             "#c51b7d"
            ],
            [
             0.2,
             "#de77ae"
            ],
            [
             0.3,
             "#f1b6da"
            ],
            [
             0.4,
             "#fde0ef"
            ],
            [
             0.5,
             "#f7f7f7"
            ],
            [
             0.6,
             "#e6f5d0"
            ],
            [
             0.7,
             "#b8e186"
            ],
            [
             0.8,
             "#7fbc41"
            ],
            [
             0.9,
             "#4d9221"
            ],
            [
             1,
             "#276419"
            ]
           ],
           "sequential": [
            [
             0,
             "#0d0887"
            ],
            [
             0.1111111111111111,
             "#46039f"
            ],
            [
             0.2222222222222222,
             "#7201a8"
            ],
            [
             0.3333333333333333,
             "#9c179e"
            ],
            [
             0.4444444444444444,
             "#bd3786"
            ],
            [
             0.5555555555555556,
             "#d8576b"
            ],
            [
             0.6666666666666666,
             "#ed7953"
            ],
            [
             0.7777777777777778,
             "#fb9f3a"
            ],
            [
             0.8888888888888888,
             "#fdca26"
            ],
            [
             1,
             "#f0f921"
            ]
           ],
           "sequentialminus": [
            [
             0,
             "#0d0887"
            ],
            [
             0.1111111111111111,
             "#46039f"
            ],
            [
             0.2222222222222222,
             "#7201a8"
            ],
            [
             0.3333333333333333,
             "#9c179e"
            ],
            [
             0.4444444444444444,
             "#bd3786"
            ],
            [
             0.5555555555555556,
             "#d8576b"
            ],
            [
             0.6666666666666666,
             "#ed7953"
            ],
            [
             0.7777777777777778,
             "#fb9f3a"
            ],
            [
             0.8888888888888888,
             "#fdca26"
            ],
            [
             1,
             "#f0f921"
            ]
           ]
          },
          "colorway": [
           "#636efa",
           "#EF553B",
           "#00cc96",
           "#ab63fa",
           "#FFA15A",
           "#19d3f3",
           "#FF6692",
           "#B6E880",
           "#FF97FF",
           "#FECB52"
          ],
          "font": {
           "color": "#2a3f5f"
          },
          "geo": {
           "bgcolor": "white",
           "lakecolor": "white",
           "landcolor": "#E5ECF6",
           "showlakes": true,
           "showland": true,
           "subunitcolor": "white"
          },
          "hoverlabel": {
           "align": "left"
          },
          "hovermode": "closest",
          "mapbox": {
           "style": "light"
          },
          "paper_bgcolor": "white",
          "plot_bgcolor": "#E5ECF6",
          "polar": {
           "angularaxis": {
            "gridcolor": "white",
            "linecolor": "white",
            "ticks": ""
           },
           "bgcolor": "#E5ECF6",
           "radialaxis": {
            "gridcolor": "white",
            "linecolor": "white",
            "ticks": ""
           }
          },
          "scene": {
           "xaxis": {
            "backgroundcolor": "#E5ECF6",
            "gridcolor": "white",
            "gridwidth": 2,
            "linecolor": "white",
            "showbackground": true,
            "ticks": "",
            "zerolinecolor": "white"
           },
           "yaxis": {
            "backgroundcolor": "#E5ECF6",
            "gridcolor": "white",
            "gridwidth": 2,
            "linecolor": "white",
            "showbackground": true,
            "ticks": "",
            "zerolinecolor": "white"
           },
           "zaxis": {
            "backgroundcolor": "#E5ECF6",
            "gridcolor": "white",
            "gridwidth": 2,
            "linecolor": "white",
            "showbackground": true,
            "ticks": "",
            "zerolinecolor": "white"
           }
          },
          "shapedefaults": {
           "line": {
            "color": "#2a3f5f"
           }
          },
          "ternary": {
           "aaxis": {
            "gridcolor": "white",
            "linecolor": "white",
            "ticks": ""
           },
           "baxis": {
            "gridcolor": "white",
            "linecolor": "white",
            "ticks": ""
           },
           "bgcolor": "#E5ECF6",
           "caxis": {
            "gridcolor": "white",
            "linecolor": "white",
            "ticks": ""
           }
          },
          "title": {
           "x": 0.05
          },
          "xaxis": {
           "automargin": true,
           "gridcolor": "white",
           "linecolor": "white",
           "ticks": "",
           "title": {
            "standoff": 15
           },
           "zerolinecolor": "white",
           "zerolinewidth": 2
          },
          "yaxis": {
           "automargin": true,
           "gridcolor": "white",
           "linecolor": "white",
           "ticks": "",
           "title": {
            "standoff": 15
           },
           "zerolinecolor": "white",
           "zerolinewidth": 2
          }
         }
        },
        "title": {
         "font": {
          "color": "#4D5663"
         }
        },
        "xaxis": {
         "gridcolor": "#E1E5ED",
         "showgrid": true,
         "tickfont": {
          "color": "#4D5663"
         },
         "title": {
          "font": {
           "color": "#4D5663"
          },
          "text": ""
         },
         "zerolinecolor": "#E1E5ED"
        },
        "yaxis": {
         "gridcolor": "#E1E5ED",
         "showgrid": true,
         "tickfont": {
          "color": "#4D5663"
         },
         "title": {
          "font": {
           "color": "#4D5663"
          },
          "text": ""
         },
         "zerolinecolor": "#E1E5ED"
        }
       }
      },
      "text/html": [
       "<div>\n",
       "        \n",
       "        \n",
       "            <div id=\"835ccd16-a891-41e2-a386-1647f2a50554\" class=\"plotly-graph-div\" style=\"height:525px; width:100%;\"></div>\n",
       "            <script type=\"text/javascript\">\n",
       "                require([\"plotly\"], function(Plotly) {\n",
       "                    window.PLOTLYENV=window.PLOTLYENV || {};\n",
       "                    window.PLOTLYENV.BASE_URL='https://plot.ly';\n",
       "                    \n",
       "                if (document.getElementById(\"835ccd16-a891-41e2-a386-1647f2a50554\")) {\n",
       "                    Plotly.newPlot(\n",
       "                        '835ccd16-a891-41e2-a386-1647f2a50554',\n",
       "                        [{\"boxpoints\": false, \"line\": {\"width\": 1.3}, \"marker\": {\"color\": \"rgba(255, 153, 51, 1.0)\"}, \"name\": \"A\", \"orientation\": \"v\", \"type\": \"box\", \"y\": [0.6368237558363841, 1.0649006110582138, 0.13840425377741813, 0.6643570870697327, 0.31033996046308443, 0.3095307447079891, -1.0030806949117006, -2.073980421654117, -0.012978557675513116, -0.6443610249054871, -0.4019123011599225, -1.1865240201211213, 1.9402176585124264, 0.8017272698703927, 1.4250960216550903, 2.3414179561851403, -0.20350768446908774, 0.22867666550922047, -0.8895629536550426, -0.15962318577850593, 1.0785773861254981, -1.6997166285386889, 0.04266600709434228, 0.6880126804930993, 0.7739049252029457, 0.058188812087436564, -0.14029416776943504, -0.9981845613547209, 0.22126264796890385, -1.2269498069443276, 1.204595715334291, -0.7568251019365444, 0.525713901813281, 0.26930176076243917, 0.2785868145508584, 0.8119783697520976, 0.46821407574585244, 1.4687510828407921, -0.5980433221622159, 0.6406517656293856, -0.2262760543280068, -0.6653294294964786, -0.5836311953052089, -0.2428675375821456, -1.8528633593831683, -0.007528069992805335, 0.5382930637817657, -0.629087265440316, -0.6728917120279745, 0.7144401052516212, 0.23378447656804857, 0.17330130095757496, 0.21726407009755946, 0.7237329000891287, 0.27334144868980453, 0.4865035225094366, 0.7016337387174932, 0.04079106265710642, -1.9665997054916837, -0.6631949964790526, -0.7102946535045428, -1.0774032299311715, 1.6516020663809938, -1.6188402171370826, 1.7543865634412688, 1.6349723274645858, 0.7712922083770805, 0.41711383293823157, 1.2353035140092619, 0.8307141667412382, 1.757130703099051, -0.03421584746068055, 1.4539266180621373, -0.6418612753104854, -2.2645247371116057, 1.7995701444332912, 0.34258026492133203, -1.15192514998973, 0.31713531038022136, -0.6991945323390549, -0.1874252447770727, 1.7741234835799624, 2.492111064588903, -0.5454800752618096, -2.084849189153723, -0.0862396373237331, 0.261683605023826, -0.3241027505722336, 0.44037856434772343, 1.8195245724028761, 0.7671675437836701, -0.6384630312275602, 0.11607122808032443, 1.5270567062839226, -0.16130502769273808, -0.43406958740491863, 1.4734914707737603, -0.16657110561516894, -1.325659168470935, -1.7907712245138099]}, {\"boxpoints\": false, \"line\": {\"width\": 1.3}, \"marker\": {\"color\": \"rgba(55, 128, 191, 1.0)\"}, \"name\": \"B\", \"orientation\": \"v\", \"type\": \"box\", \"y\": [-0.965573785855108, 2.3411683403874863, 0.16760652247777483, 0.5293763473061892, 1.117328140016128, 0.7549892445442132, 2.054090398813393, -0.6782945481675158, 1.0381705653378392, 1.2140314276926856, 0.03530096826726425, -0.02975819365648567, 0.8490536809198773, -1.5614858840265529, 0.736707745126771, 0.1246407894398844, 0.8379386880632551, 0.41903183767939406, 0.6018429414116641, 0.2553278104357416, 0.10218560907473412, 1.2557054058002752, -0.8748741670847883, -0.3832158110185663, -0.1549106162658271, -1.2769478029855426, 1.2890593262203311, 0.3750696267160941, 0.9921404081646318, 0.21750565479064404, 1.6490157181527234, 0.31979828501405794, -0.26261002617535073, -0.23529714060338808, -0.22362828498994733, -0.6647344151065584, -0.5875322210729691, -0.6137603446064702, 0.08365852508295676, -0.5736703131755713, 0.441260085154336, 0.7722016610545739, 0.5324255904558407, 0.40093790935933765, -0.053257602214600776, 0.23615988021806109, -0.1196653377877863, -0.4081360519718144, -1.3879231468442046, 0.47753275715667615, 0.6015109009282125, -0.5627145530644787, 1.0817852258226457, 0.5902559942383697, -0.44190244945846197, 0.31613056599056255, 0.6907867960989922, -1.6964258454693064, 0.6704678610285731, -0.20217302565308465, 0.8315265238590916, 0.5243909564105876, -1.258734034452956, -1.4020188180171287, -0.07728484380937733, -0.28049267010943935, 0.08706081149001788, -1.778059875620324, -0.8343277328158784, 0.3864682378824961, 0.1503109040719167, -0.11424349139968754, -1.6639743787791799, -2.191755541277839, 0.45497897381261365, 0.31285327059157747, -0.3570196489480991, 0.06866855226780288, -0.8135424471581575, -0.49434730240269664, 0.4461810207717648, 1.1420257711588415, -0.31672702200917324, 1.82080657095947, 0.679232378362389, 0.4063062091653785, -1.0668562477330763, 1.2601410127551493, -0.08626475067008418, -0.36923131351358884, -0.7445667813101593, 1.6459010653261605, -0.4346406940551893, -1.8764159532897957, 1.2075252986936873, 0.8368235720752266, 2.318359996303223, 0.14353185810363364, 0.5082567333578968, 0.7185225785825067]}, {\"boxpoints\": false, \"line\": {\"width\": 1.3}, \"marker\": {\"color\": \"rgba(50, 171, 96, 1.0)\"}, \"name\": \"C\", \"orientation\": \"v\", \"type\": \"box\", \"y\": [0.8648798230158975, 0.6168838744499859, -0.2553104669987, -0.5376464867950612, 1.0985192033530944, -0.9440688409228584, 0.6933173762420918, -0.6498482258477097, -0.8018121392098112, 1.6614406628805582, 0.25749349074201217, 1.8111460735066105, 0.39525004726688817, 0.15322810958547553, -0.6505121094153137, -2.2984746556361033, -0.7271573961453361, -0.799612572239205, -0.1861677911754232, -0.9675184006268926, -0.5180993430469171, 0.22326189499540022, 0.8890311428268605, 1.1684155086569208, -2.1105166472531005, -0.22792662026081348, -1.7352184104785755, 0.5091809309124111, 1.4605210888796814, 0.6447537817584865, -0.6123891851427407, 0.8851976383066426, -1.0868725112007147, -0.08744642526903344, 0.15663391006169716, 0.6782179133897311, 2.3943293828093872, 0.4617914586852474, 1.4307611449605124, 1.2425707074385905, -0.38271998875948376, 0.973830279697104, -2.626937904231956, 0.22089917867702138, 0.7175278330901118, 0.41789773927976986, -0.4684295575192196, 1.286789232082445, -0.7753497121419121, 0.3517210166362854, -1.1501314212759213, 0.1596404420407003, -1.057130504381638, -1.0271136127887481, 2.3092933092036976, -0.35794037595248507, 0.21108274676066685, 1.387117126540965, -1.453045342998502, 0.4135364798202572, 0.2400851843727173, 0.08017711612552984, -1.301583929646112, -0.534393298061163, 0.21398906503416223, 2.373443426769146, -0.5020716705189721, 0.6716541585189236, -0.26645139533386014, 0.06884335805705821, 0.7540618676481922, -1.286028613428508, 0.050215678235865, 0.07993908991261611, -1.0677518455070494, 1.2677350406386771, 0.35449282662119597, 0.21279899649927772, -0.008082479729587274, -0.7203744314653343, 2.5994109613713867, 0.45460832517121713, 0.1465669553109633, 1.734136147569354, 0.26041023533748875, -0.4151355022561119, 0.5968344312309438, -0.9392533430149653, -1.536133943819491, -0.8065668782908024, -0.08050759192929652, -2.098171765730534, -0.808254971794466, 0.9703291919561734, 0.31128337197230466, -1.6207025952122633, 1.2669287402911587, 0.9810367505417916, 2.0159574799117674, 1.1329670490708486]}, {\"boxpoints\": false, \"line\": {\"width\": 1.3}, \"marker\": {\"color\": \"rgba(128, 0, 128, 1.0)\"}, \"name\": \"D\", \"orientation\": \"v\", \"type\": \"box\", \"y\": [-0.2511060495466714, -0.38323368117127715, -0.026206155669705973, 0.008179529296440289, 0.33814997381296197, -0.7631978995349146, -1.0749498002123072, 0.3058286822190156, -0.9665368140590993, 0.064712064586311, -1.6285755341487114, 0.06677008462203217, -0.565963049639477, 0.9602766523516492, -0.9613212997598867, 0.2513979314757754, -0.44380942484781855, -0.2620223909192725, 2.9570067591913647, 0.7539739829991565, 0.28431787170181994, -1.4256327274570921, -1.0505851872083094, -0.1992796480262547, 1.1485178438650163, -0.572315706842162, 0.2348020216311637, -1.43466379154626, 0.6376017377523107, -0.8526391337822391, -2.532287479102309, 2.670944306667824, 0.00013011761243241827, 0.3687159277023539, -0.21822462931136613, 0.7275329061137008, -0.340173366046956, -1.2403244809609586, -1.615337103362975, -1.614287118122959, -0.5695074723526038, 0.12189713163375622, -0.16169126299111203, 0.38573183712843406, 0.8385449252058224, -0.8649577476846941, 2.0601201513521334, 0.201901591904918, 0.32112824048332517, -0.559888211181785, -1.4612755154772725, 0.867840876378296, -1.9091097162672386, 0.8247289548835394, 0.4156663471708946, 0.08458737863491718, -0.27300709453934846, 0.5092993862731398, -1.671451660986157, -1.1966976797559579, -0.10020969171058366, -1.0183011427301836, 0.978790967442909, -0.9425552606146356, -0.44737491045947175, 0.8439799585928991, -0.17993802267047826, 0.2977066279204819, 1.5287819650802668, 0.5705591482113747, -0.7192635203956517, 0.3450070506775301, -1.033938460324176, 1.1924657273649355, 0.8682713090835688, 0.04364254086856057, -0.6270612688472221, 0.16383999095426352, 0.1312681105501158, 1.0802230727370812, 0.7772940495024464, 0.9543996804355898, 1.6014754513536233, -0.44946493432675516, 0.38422114740949564, -1.180658872549014, 0.3231265726165534, 0.9188177589555937, -0.7888359002985148, -0.11204142763384377, -0.9005142432054354, -0.8043314863203508, 0.7392662332003646, 0.20040141406036718, -0.06170035694528831, 0.733012407827407, 0.9009629858119796, -0.4958512951456021, -0.7440785771884372, 0.13438848115616583]}],\n",
       "                        {\"legend\": {\"bgcolor\": \"#F5F6F9\", \"font\": {\"color\": \"#4D5663\"}}, \"paper_bgcolor\": \"#F5F6F9\", \"plot_bgcolor\": \"#F5F6F9\", \"template\": {\"data\": {\"bar\": [{\"error_x\": {\"color\": \"#2a3f5f\"}, \"error_y\": {\"color\": \"#2a3f5f\"}, \"marker\": {\"line\": {\"color\": \"#E5ECF6\", \"width\": 0.5}}, \"type\": \"bar\"}], \"barpolar\": [{\"marker\": {\"line\": {\"color\": \"#E5ECF6\", \"width\": 0.5}}, \"type\": \"barpolar\"}], \"carpet\": [{\"aaxis\": {\"endlinecolor\": \"#2a3f5f\", \"gridcolor\": \"white\", \"linecolor\": \"white\", \"minorgridcolor\": \"white\", \"startlinecolor\": \"#2a3f5f\"}, \"baxis\": {\"endlinecolor\": \"#2a3f5f\", \"gridcolor\": \"white\", \"linecolor\": \"white\", \"minorgridcolor\": \"white\", \"startlinecolor\": \"#2a3f5f\"}, \"type\": \"carpet\"}], \"choropleth\": [{\"colorbar\": {\"outlinewidth\": 0, \"ticks\": \"\"}, \"type\": \"choropleth\"}], \"contour\": [{\"colorbar\": {\"outlinewidth\": 0, \"ticks\": \"\"}, \"colorscale\": [[0.0, \"#0d0887\"], [0.1111111111111111, \"#46039f\"], [0.2222222222222222, \"#7201a8\"], [0.3333333333333333, \"#9c179e\"], [0.4444444444444444, \"#bd3786\"], [0.5555555555555556, \"#d8576b\"], [0.6666666666666666, \"#ed7953\"], [0.7777777777777778, \"#fb9f3a\"], [0.8888888888888888, \"#fdca26\"], [1.0, \"#f0f921\"]], \"type\": \"contour\"}], \"contourcarpet\": [{\"colorbar\": {\"outlinewidth\": 0, \"ticks\": \"\"}, \"type\": \"contourcarpet\"}], \"heatmap\": [{\"colorbar\": {\"outlinewidth\": 0, \"ticks\": \"\"}, \"colorscale\": [[0.0, \"#0d0887\"], [0.1111111111111111, \"#46039f\"], [0.2222222222222222, \"#7201a8\"], [0.3333333333333333, \"#9c179e\"], [0.4444444444444444, \"#bd3786\"], [0.5555555555555556, \"#d8576b\"], [0.6666666666666666, \"#ed7953\"], [0.7777777777777778, \"#fb9f3a\"], [0.8888888888888888, \"#fdca26\"], [1.0, \"#f0f921\"]], \"type\": \"heatmap\"}], \"heatmapgl\": [{\"colorbar\": {\"outlinewidth\": 0, \"ticks\": \"\"}, \"colorscale\": [[0.0, \"#0d0887\"], [0.1111111111111111, \"#46039f\"], [0.2222222222222222, \"#7201a8\"], [0.3333333333333333, \"#9c179e\"], [0.4444444444444444, \"#bd3786\"], [0.5555555555555556, \"#d8576b\"], [0.6666666666666666, \"#ed7953\"], [0.7777777777777778, \"#fb9f3a\"], [0.8888888888888888, \"#fdca26\"], [1.0, \"#f0f921\"]], \"type\": \"heatmapgl\"}], \"histogram\": [{\"marker\": {\"colorbar\": {\"outlinewidth\": 0, \"ticks\": \"\"}}, \"type\": \"histogram\"}], \"histogram2d\": [{\"colorbar\": {\"outlinewidth\": 0, \"ticks\": \"\"}, \"colorscale\": [[0.0, \"#0d0887\"], [0.1111111111111111, \"#46039f\"], [0.2222222222222222, \"#7201a8\"], [0.3333333333333333, \"#9c179e\"], [0.4444444444444444, \"#bd3786\"], [0.5555555555555556, \"#d8576b\"], [0.6666666666666666, \"#ed7953\"], [0.7777777777777778, \"#fb9f3a\"], [0.8888888888888888, \"#fdca26\"], [1.0, \"#f0f921\"]], \"type\": \"histogram2d\"}], \"histogram2dcontour\": [{\"colorbar\": {\"outlinewidth\": 0, \"ticks\": \"\"}, \"colorscale\": [[0.0, \"#0d0887\"], [0.1111111111111111, \"#46039f\"], [0.2222222222222222, \"#7201a8\"], [0.3333333333333333, \"#9c179e\"], [0.4444444444444444, \"#bd3786\"], [0.5555555555555556, \"#d8576b\"], [0.6666666666666666, \"#ed7953\"], [0.7777777777777778, \"#fb9f3a\"], [0.8888888888888888, \"#fdca26\"], [1.0, \"#f0f921\"]], \"type\": \"histogram2dcontour\"}], \"mesh3d\": [{\"colorbar\": {\"outlinewidth\": 0, \"ticks\": \"\"}, \"type\": \"mesh3d\"}], \"parcoords\": [{\"line\": {\"colorbar\": {\"outlinewidth\": 0, \"ticks\": \"\"}}, \"type\": \"parcoords\"}], \"pie\": [{\"automargin\": true, \"type\": \"pie\"}], \"scatter\": [{\"marker\": {\"colorbar\": {\"outlinewidth\": 0, \"ticks\": \"\"}}, \"type\": \"scatter\"}], \"scatter3d\": [{\"line\": {\"colorbar\": {\"outlinewidth\": 0, \"ticks\": \"\"}}, \"marker\": {\"colorbar\": {\"outlinewidth\": 0, \"ticks\": \"\"}}, \"type\": \"scatter3d\"}], \"scattercarpet\": [{\"marker\": {\"colorbar\": {\"outlinewidth\": 0, \"ticks\": \"\"}}, \"type\": \"scattercarpet\"}], \"scattergeo\": [{\"marker\": {\"colorbar\": {\"outlinewidth\": 0, \"ticks\": \"\"}}, \"type\": \"scattergeo\"}], \"scattergl\": [{\"marker\": {\"colorbar\": {\"outlinewidth\": 0, \"ticks\": \"\"}}, \"type\": \"scattergl\"}], \"scattermapbox\": [{\"marker\": {\"colorbar\": {\"outlinewidth\": 0, \"ticks\": \"\"}}, \"type\": \"scattermapbox\"}], \"scatterpolar\": [{\"marker\": {\"colorbar\": {\"outlinewidth\": 0, \"ticks\": \"\"}}, \"type\": \"scatterpolar\"}], \"scatterpolargl\": [{\"marker\": {\"colorbar\": {\"outlinewidth\": 0, \"ticks\": \"\"}}, \"type\": \"scatterpolargl\"}], \"scatterternary\": [{\"marker\": {\"colorbar\": {\"outlinewidth\": 0, \"ticks\": \"\"}}, \"type\": \"scatterternary\"}], \"surface\": [{\"colorbar\": {\"outlinewidth\": 0, \"ticks\": \"\"}, \"colorscale\": [[0.0, \"#0d0887\"], [0.1111111111111111, \"#46039f\"], [0.2222222222222222, \"#7201a8\"], [0.3333333333333333, \"#9c179e\"], [0.4444444444444444, \"#bd3786\"], [0.5555555555555556, \"#d8576b\"], [0.6666666666666666, \"#ed7953\"], [0.7777777777777778, \"#fb9f3a\"], [0.8888888888888888, \"#fdca26\"], [1.0, \"#f0f921\"]], \"type\": \"surface\"}], \"table\": [{\"cells\": {\"fill\": {\"color\": \"#EBF0F8\"}, \"line\": {\"color\": \"white\"}}, \"header\": {\"fill\": {\"color\": \"#C8D4E3\"}, \"line\": {\"color\": \"white\"}}, \"type\": \"table\"}]}, \"layout\": {\"annotationdefaults\": {\"arrowcolor\": \"#2a3f5f\", \"arrowhead\": 0, \"arrowwidth\": 1}, \"coloraxis\": {\"colorbar\": {\"outlinewidth\": 0, \"ticks\": \"\"}}, \"colorscale\": {\"diverging\": [[0, \"#8e0152\"], [0.1, \"#c51b7d\"], [0.2, \"#de77ae\"], [0.3, \"#f1b6da\"], [0.4, \"#fde0ef\"], [0.5, \"#f7f7f7\"], [0.6, \"#e6f5d0\"], [0.7, \"#b8e186\"], [0.8, \"#7fbc41\"], [0.9, \"#4d9221\"], [1, \"#276419\"]], \"sequential\": [[0.0, \"#0d0887\"], [0.1111111111111111, \"#46039f\"], [0.2222222222222222, \"#7201a8\"], [0.3333333333333333, \"#9c179e\"], [0.4444444444444444, \"#bd3786\"], [0.5555555555555556, \"#d8576b\"], [0.6666666666666666, \"#ed7953\"], [0.7777777777777778, \"#fb9f3a\"], [0.8888888888888888, \"#fdca26\"], [1.0, \"#f0f921\"]], \"sequentialminus\": [[0.0, \"#0d0887\"], [0.1111111111111111, \"#46039f\"], [0.2222222222222222, \"#7201a8\"], [0.3333333333333333, \"#9c179e\"], [0.4444444444444444, \"#bd3786\"], [0.5555555555555556, \"#d8576b\"], [0.6666666666666666, \"#ed7953\"], [0.7777777777777778, \"#fb9f3a\"], [0.8888888888888888, \"#fdca26\"], [1.0, \"#f0f921\"]]}, \"colorway\": [\"#636efa\", \"#EF553B\", \"#00cc96\", \"#ab63fa\", \"#FFA15A\", \"#19d3f3\", \"#FF6692\", \"#B6E880\", \"#FF97FF\", \"#FECB52\"], \"font\": {\"color\": \"#2a3f5f\"}, \"geo\": {\"bgcolor\": \"white\", \"lakecolor\": \"white\", \"landcolor\": \"#E5ECF6\", \"showlakes\": true, \"showland\": true, \"subunitcolor\": \"white\"}, \"hoverlabel\": {\"align\": \"left\"}, \"hovermode\": \"closest\", \"mapbox\": {\"style\": \"light\"}, \"paper_bgcolor\": \"white\", \"plot_bgcolor\": \"#E5ECF6\", \"polar\": {\"angularaxis\": {\"gridcolor\": \"white\", \"linecolor\": \"white\", \"ticks\": \"\"}, \"bgcolor\": \"#E5ECF6\", \"radialaxis\": {\"gridcolor\": \"white\", \"linecolor\": \"white\", \"ticks\": \"\"}}, \"scene\": {\"xaxis\": {\"backgroundcolor\": \"#E5ECF6\", \"gridcolor\": \"white\", \"gridwidth\": 2, \"linecolor\": \"white\", \"showbackground\": true, \"ticks\": \"\", \"zerolinecolor\": \"white\"}, \"yaxis\": {\"backgroundcolor\": \"#E5ECF6\", \"gridcolor\": \"white\", \"gridwidth\": 2, \"linecolor\": \"white\", \"showbackground\": true, \"ticks\": \"\", \"zerolinecolor\": \"white\"}, \"zaxis\": {\"backgroundcolor\": \"#E5ECF6\", \"gridcolor\": \"white\", \"gridwidth\": 2, \"linecolor\": \"white\", \"showbackground\": true, \"ticks\": \"\", \"zerolinecolor\": \"white\"}}, \"shapedefaults\": {\"line\": {\"color\": \"#2a3f5f\"}}, \"ternary\": {\"aaxis\": {\"gridcolor\": \"white\", \"linecolor\": \"white\", \"ticks\": \"\"}, \"baxis\": {\"gridcolor\": \"white\", \"linecolor\": \"white\", \"ticks\": \"\"}, \"bgcolor\": \"#E5ECF6\", \"caxis\": {\"gridcolor\": \"white\", \"linecolor\": \"white\", \"ticks\": \"\"}}, \"title\": {\"x\": 0.05}, \"xaxis\": {\"automargin\": true, \"gridcolor\": \"white\", \"linecolor\": \"white\", \"ticks\": \"\", \"title\": {\"standoff\": 15}, \"zerolinecolor\": \"white\", \"zerolinewidth\": 2}, \"yaxis\": {\"automargin\": true, \"gridcolor\": \"white\", \"linecolor\": \"white\", \"ticks\": \"\", \"title\": {\"standoff\": 15}, \"zerolinecolor\": \"white\", \"zerolinewidth\": 2}}}, \"title\": {\"font\": {\"color\": \"#4D5663\"}}, \"xaxis\": {\"gridcolor\": \"#E1E5ED\", \"showgrid\": true, \"tickfont\": {\"color\": \"#4D5663\"}, \"title\": {\"font\": {\"color\": \"#4D5663\"}, \"text\": \"\"}, \"zerolinecolor\": \"#E1E5ED\"}, \"yaxis\": {\"gridcolor\": \"#E1E5ED\", \"showgrid\": true, \"tickfont\": {\"color\": \"#4D5663\"}, \"title\": {\"font\": {\"color\": \"#4D5663\"}, \"text\": \"\"}, \"zerolinecolor\": \"#E1E5ED\"}},\n",
       "                        {\"showLink\": true, \"linkText\": \"Export to plot.ly\", \"plotlyServerURL\": \"https://plot.ly\", \"responsive\": true}\n",
       "                    ).then(function(){\n",
       "                            \n",
       "var gd = document.getElementById('835ccd16-a891-41e2-a386-1647f2a50554');\n",
       "var x = new MutationObserver(function (mutations, observer) {{\n",
       "        var display = window.getComputedStyle(gd).display;\n",
       "        if (!display || display === 'none') {{\n",
       "            console.log([gd, 'removed!']);\n",
       "            Plotly.purge(gd);\n",
       "            observer.disconnect();\n",
       "        }}\n",
       "}});\n",
       "\n",
       "// Listen for the removal of the full notebook cells\n",
       "var notebookContainer = gd.closest('#notebook-container');\n",
       "if (notebookContainer) {{\n",
       "    x.observe(notebookContainer, {childList: true});\n",
       "}}\n",
       "\n",
       "// Listen for the clearing of the current output cell\n",
       "var outputEl = gd.closest('.output');\n",
       "if (outputEl) {{\n",
       "    x.observe(outputEl, {childList: true});\n",
       "}}\n",
       "\n",
       "                        })\n",
       "                };\n",
       "                });\n",
       "            </script>\n",
       "        </div>"
      ]
     },
     "metadata": {},
     "output_type": "display_data"
    }
   ],
   "source": [
    "df.iplot(kind='box')"
   ]
  },
  {
   "cell_type": "markdown",
   "metadata": {},
   "source": [
    "## 3d Surface"
   ]
  },
  {
   "cell_type": "code",
   "execution_count": 35,
   "metadata": {},
   "outputs": [
    {
     "data": {
      "application/vnd.plotly.v1+json": {
       "config": {
        "linkText": "Export to plot.ly",
        "plotlyServerURL": "https://plot.ly",
        "showLink": true
       },
       "data": [
        {
         "colorscale": [
          [
           0,
           "rgb(165,0,38)"
          ],
          [
           0.1,
           "rgb(215,48,39)"
          ],
          [
           0.2,
           "rgb(244,109,67)"
          ],
          [
           0.3,
           "rgb(253,174,97)"
          ],
          [
           0.4,
           "rgb(254,224,144)"
          ],
          [
           0.5,
           "rgb(255,255,191)"
          ],
          [
           0.6,
           "rgb(224,243,248)"
          ],
          [
           0.7,
           "rgb(171,217,233)"
          ],
          [
           0.8,
           "rgb(116,173,209)"
          ],
          [
           0.9,
           "rgb(69,117,180)"
          ],
          [
           1,
           "rgb(49,54,149)"
          ]
         ],
         "type": "surface",
         "x": [
          0,
          1,
          2,
          3,
          4
         ],
         "y": [
          "x",
          "y",
          "z"
         ],
         "z": [
          [
           1,
           2,
           3,
           4,
           5
          ],
          [
           10,
           20,
           30,
           20,
           10
          ],
          [
           5,
           4,
           3,
           2,
           1
          ]
         ]
        }
       ],
       "layout": {
        "legend": {
         "bgcolor": "#F5F6F9",
         "font": {
          "color": "#4D5663"
         }
        },
        "paper_bgcolor": "#F5F6F9",
        "plot_bgcolor": "#F5F6F9",
        "template": {
         "data": {
          "bar": [
           {
            "error_x": {
             "color": "#2a3f5f"
            },
            "error_y": {
             "color": "#2a3f5f"
            },
            "marker": {
             "line": {
              "color": "#E5ECF6",
              "width": 0.5
             }
            },
            "type": "bar"
           }
          ],
          "barpolar": [
           {
            "marker": {
             "line": {
              "color": "#E5ECF6",
              "width": 0.5
             }
            },
            "type": "barpolar"
           }
          ],
          "carpet": [
           {
            "aaxis": {
             "endlinecolor": "#2a3f5f",
             "gridcolor": "white",
             "linecolor": "white",
             "minorgridcolor": "white",
             "startlinecolor": "#2a3f5f"
            },
            "baxis": {
             "endlinecolor": "#2a3f5f",
             "gridcolor": "white",
             "linecolor": "white",
             "minorgridcolor": "white",
             "startlinecolor": "#2a3f5f"
            },
            "type": "carpet"
           }
          ],
          "choropleth": [
           {
            "colorbar": {
             "outlinewidth": 0,
             "ticks": ""
            },
            "type": "choropleth"
           }
          ],
          "contour": [
           {
            "colorbar": {
             "outlinewidth": 0,
             "ticks": ""
            },
            "colorscale": [
             [
              0,
              "#0d0887"
             ],
             [
              0.1111111111111111,
              "#46039f"
             ],
             [
              0.2222222222222222,
              "#7201a8"
             ],
             [
              0.3333333333333333,
              "#9c179e"
             ],
             [
              0.4444444444444444,
              "#bd3786"
             ],
             [
              0.5555555555555556,
              "#d8576b"
             ],
             [
              0.6666666666666666,
              "#ed7953"
             ],
             [
              0.7777777777777778,
              "#fb9f3a"
             ],
             [
              0.8888888888888888,
              "#fdca26"
             ],
             [
              1,
              "#f0f921"
             ]
            ],
            "type": "contour"
           }
          ],
          "contourcarpet": [
           {
            "colorbar": {
             "outlinewidth": 0,
             "ticks": ""
            },
            "type": "contourcarpet"
           }
          ],
          "heatmap": [
           {
            "colorbar": {
             "outlinewidth": 0,
             "ticks": ""
            },
            "colorscale": [
             [
              0,
              "#0d0887"
             ],
             [
              0.1111111111111111,
              "#46039f"
             ],
             [
              0.2222222222222222,
              "#7201a8"
             ],
             [
              0.3333333333333333,
              "#9c179e"
             ],
             [
              0.4444444444444444,
              "#bd3786"
             ],
             [
              0.5555555555555556,
              "#d8576b"
             ],
             [
              0.6666666666666666,
              "#ed7953"
             ],
             [
              0.7777777777777778,
              "#fb9f3a"
             ],
             [
              0.8888888888888888,
              "#fdca26"
             ],
             [
              1,
              "#f0f921"
             ]
            ],
            "type": "heatmap"
           }
          ],
          "heatmapgl": [
           {
            "colorbar": {
             "outlinewidth": 0,
             "ticks": ""
            },
            "colorscale": [
             [
              0,
              "#0d0887"
             ],
             [
              0.1111111111111111,
              "#46039f"
             ],
             [
              0.2222222222222222,
              "#7201a8"
             ],
             [
              0.3333333333333333,
              "#9c179e"
             ],
             [
              0.4444444444444444,
              "#bd3786"
             ],
             [
              0.5555555555555556,
              "#d8576b"
             ],
             [
              0.6666666666666666,
              "#ed7953"
             ],
             [
              0.7777777777777778,
              "#fb9f3a"
             ],
             [
              0.8888888888888888,
              "#fdca26"
             ],
             [
              1,
              "#f0f921"
             ]
            ],
            "type": "heatmapgl"
           }
          ],
          "histogram": [
           {
            "marker": {
             "colorbar": {
              "outlinewidth": 0,
              "ticks": ""
             }
            },
            "type": "histogram"
           }
          ],
          "histogram2d": [
           {
            "colorbar": {
             "outlinewidth": 0,
             "ticks": ""
            },
            "colorscale": [
             [
              0,
              "#0d0887"
             ],
             [
              0.1111111111111111,
              "#46039f"
             ],
             [
              0.2222222222222222,
              "#7201a8"
             ],
             [
              0.3333333333333333,
              "#9c179e"
             ],
             [
              0.4444444444444444,
              "#bd3786"
             ],
             [
              0.5555555555555556,
              "#d8576b"
             ],
             [
              0.6666666666666666,
              "#ed7953"
             ],
             [
              0.7777777777777778,
              "#fb9f3a"
             ],
             [
              0.8888888888888888,
              "#fdca26"
             ],
             [
              1,
              "#f0f921"
             ]
            ],
            "type": "histogram2d"
           }
          ],
          "histogram2dcontour": [
           {
            "colorbar": {
             "outlinewidth": 0,
             "ticks": ""
            },
            "colorscale": [
             [
              0,
              "#0d0887"
             ],
             [
              0.1111111111111111,
              "#46039f"
             ],
             [
              0.2222222222222222,
              "#7201a8"
             ],
             [
              0.3333333333333333,
              "#9c179e"
             ],
             [
              0.4444444444444444,
              "#bd3786"
             ],
             [
              0.5555555555555556,
              "#d8576b"
             ],
             [
              0.6666666666666666,
              "#ed7953"
             ],
             [
              0.7777777777777778,
              "#fb9f3a"
             ],
             [
              0.8888888888888888,
              "#fdca26"
             ],
             [
              1,
              "#f0f921"
             ]
            ],
            "type": "histogram2dcontour"
           }
          ],
          "mesh3d": [
           {
            "colorbar": {
             "outlinewidth": 0,
             "ticks": ""
            },
            "type": "mesh3d"
           }
          ],
          "parcoords": [
           {
            "line": {
             "colorbar": {
              "outlinewidth": 0,
              "ticks": ""
             }
            },
            "type": "parcoords"
           }
          ],
          "pie": [
           {
            "automargin": true,
            "type": "pie"
           }
          ],
          "scatter": [
           {
            "marker": {
             "colorbar": {
              "outlinewidth": 0,
              "ticks": ""
             }
            },
            "type": "scatter"
           }
          ],
          "scatter3d": [
           {
            "line": {
             "colorbar": {
              "outlinewidth": 0,
              "ticks": ""
             }
            },
            "marker": {
             "colorbar": {
              "outlinewidth": 0,
              "ticks": ""
             }
            },
            "type": "scatter3d"
           }
          ],
          "scattercarpet": [
           {
            "marker": {
             "colorbar": {
              "outlinewidth": 0,
              "ticks": ""
             }
            },
            "type": "scattercarpet"
           }
          ],
          "scattergeo": [
           {
            "marker": {
             "colorbar": {
              "outlinewidth": 0,
              "ticks": ""
             }
            },
            "type": "scattergeo"
           }
          ],
          "scattergl": [
           {
            "marker": {
             "colorbar": {
              "outlinewidth": 0,
              "ticks": ""
             }
            },
            "type": "scattergl"
           }
          ],
          "scattermapbox": [
           {
            "marker": {
             "colorbar": {
              "outlinewidth": 0,
              "ticks": ""
             }
            },
            "type": "scattermapbox"
           }
          ],
          "scatterpolar": [
           {
            "marker": {
             "colorbar": {
              "outlinewidth": 0,
              "ticks": ""
             }
            },
            "type": "scatterpolar"
           }
          ],
          "scatterpolargl": [
           {
            "marker": {
             "colorbar": {
              "outlinewidth": 0,
              "ticks": ""
             }
            },
            "type": "scatterpolargl"
           }
          ],
          "scatterternary": [
           {
            "marker": {
             "colorbar": {
              "outlinewidth": 0,
              "ticks": ""
             }
            },
            "type": "scatterternary"
           }
          ],
          "surface": [
           {
            "colorbar": {
             "outlinewidth": 0,
             "ticks": ""
            },
            "colorscale": [
             [
              0,
              "#0d0887"
             ],
             [
              0.1111111111111111,
              "#46039f"
             ],
             [
              0.2222222222222222,
              "#7201a8"
             ],
             [
              0.3333333333333333,
              "#9c179e"
             ],
             [
              0.4444444444444444,
              "#bd3786"
             ],
             [
              0.5555555555555556,
              "#d8576b"
             ],
             [
              0.6666666666666666,
              "#ed7953"
             ],
             [
              0.7777777777777778,
              "#fb9f3a"
             ],
             [
              0.8888888888888888,
              "#fdca26"
             ],
             [
              1,
              "#f0f921"
             ]
            ],
            "type": "surface"
           }
          ],
          "table": [
           {
            "cells": {
             "fill": {
              "color": "#EBF0F8"
             },
             "line": {
              "color": "white"
             }
            },
            "header": {
             "fill": {
              "color": "#C8D4E3"
             },
             "line": {
              "color": "white"
             }
            },
            "type": "table"
           }
          ]
         },
         "layout": {
          "annotationdefaults": {
           "arrowcolor": "#2a3f5f",
           "arrowhead": 0,
           "arrowwidth": 1
          },
          "coloraxis": {
           "colorbar": {
            "outlinewidth": 0,
            "ticks": ""
           }
          },
          "colorscale": {
           "diverging": [
            [
             0,
             "#8e0152"
            ],
            [
             0.1,
             "#c51b7d"
            ],
            [
             0.2,
             "#de77ae"
            ],
            [
             0.3,
             "#f1b6da"
            ],
            [
             0.4,
             "#fde0ef"
            ],
            [
             0.5,
             "#f7f7f7"
            ],
            [
             0.6,
             "#e6f5d0"
            ],
            [
             0.7,
             "#b8e186"
            ],
            [
             0.8,
             "#7fbc41"
            ],
            [
             0.9,
             "#4d9221"
            ],
            [
             1,
             "#276419"
            ]
           ],
           "sequential": [
            [
             0,
             "#0d0887"
            ],
            [
             0.1111111111111111,
             "#46039f"
            ],
            [
             0.2222222222222222,
             "#7201a8"
            ],
            [
             0.3333333333333333,
             "#9c179e"
            ],
            [
             0.4444444444444444,
             "#bd3786"
            ],
            [
             0.5555555555555556,
             "#d8576b"
            ],
            [
             0.6666666666666666,
             "#ed7953"
            ],
            [
             0.7777777777777778,
             "#fb9f3a"
            ],
            [
             0.8888888888888888,
             "#fdca26"
            ],
            [
             1,
             "#f0f921"
            ]
           ],
           "sequentialminus": [
            [
             0,
             "#0d0887"
            ],
            [
             0.1111111111111111,
             "#46039f"
            ],
            [
             0.2222222222222222,
             "#7201a8"
            ],
            [
             0.3333333333333333,
             "#9c179e"
            ],
            [
             0.4444444444444444,
             "#bd3786"
            ],
            [
             0.5555555555555556,
             "#d8576b"
            ],
            [
             0.6666666666666666,
             "#ed7953"
            ],
            [
             0.7777777777777778,
             "#fb9f3a"
            ],
            [
             0.8888888888888888,
             "#fdca26"
            ],
            [
             1,
             "#f0f921"
            ]
           ]
          },
          "colorway": [
           "#636efa",
           "#EF553B",
           "#00cc96",
           "#ab63fa",
           "#FFA15A",
           "#19d3f3",
           "#FF6692",
           "#B6E880",
           "#FF97FF",
           "#FECB52"
          ],
          "font": {
           "color": "#2a3f5f"
          },
          "geo": {
           "bgcolor": "white",
           "lakecolor": "white",
           "landcolor": "#E5ECF6",
           "showlakes": true,
           "showland": true,
           "subunitcolor": "white"
          },
          "hoverlabel": {
           "align": "left"
          },
          "hovermode": "closest",
          "mapbox": {
           "style": "light"
          },
          "paper_bgcolor": "white",
          "plot_bgcolor": "#E5ECF6",
          "polar": {
           "angularaxis": {
            "gridcolor": "white",
            "linecolor": "white",
            "ticks": ""
           },
           "bgcolor": "#E5ECF6",
           "radialaxis": {
            "gridcolor": "white",
            "linecolor": "white",
            "ticks": ""
           }
          },
          "scene": {
           "xaxis": {
            "backgroundcolor": "#E5ECF6",
            "gridcolor": "white",
            "gridwidth": 2,
            "linecolor": "white",
            "showbackground": true,
            "ticks": "",
            "zerolinecolor": "white"
           },
           "yaxis": {
            "backgroundcolor": "#E5ECF6",
            "gridcolor": "white",
            "gridwidth": 2,
            "linecolor": "white",
            "showbackground": true,
            "ticks": "",
            "zerolinecolor": "white"
           },
           "zaxis": {
            "backgroundcolor": "#E5ECF6",
            "gridcolor": "white",
            "gridwidth": 2,
            "linecolor": "white",
            "showbackground": true,
            "ticks": "",
            "zerolinecolor": "white"
           }
          },
          "shapedefaults": {
           "line": {
            "color": "#2a3f5f"
           }
          },
          "ternary": {
           "aaxis": {
            "gridcolor": "white",
            "linecolor": "white",
            "ticks": ""
           },
           "baxis": {
            "gridcolor": "white",
            "linecolor": "white",
            "ticks": ""
           },
           "bgcolor": "#E5ECF6",
           "caxis": {
            "gridcolor": "white",
            "linecolor": "white",
            "ticks": ""
           }
          },
          "title": {
           "x": 0.05
          },
          "xaxis": {
           "automargin": true,
           "gridcolor": "white",
           "linecolor": "white",
           "ticks": "",
           "title": {
            "standoff": 15
           },
           "zerolinecolor": "white",
           "zerolinewidth": 2
          },
          "yaxis": {
           "automargin": true,
           "gridcolor": "white",
           "linecolor": "white",
           "ticks": "",
           "title": {
            "standoff": 15
           },
           "zerolinecolor": "white",
           "zerolinewidth": 2
          }
         }
        },
        "title": {
         "font": {
          "color": "#4D5663"
         }
        },
        "xaxis": {
         "gridcolor": "#E1E5ED",
         "showgrid": true,
         "tickfont": {
          "color": "#4D5663"
         },
         "title": {
          "font": {
           "color": "#4D5663"
          },
          "text": ""
         },
         "zerolinecolor": "#E1E5ED"
        },
        "yaxis": {
         "gridcolor": "#E1E5ED",
         "showgrid": true,
         "tickfont": {
          "color": "#4D5663"
         },
         "title": {
          "font": {
           "color": "#4D5663"
          },
          "text": ""
         },
         "zerolinecolor": "#E1E5ED"
        }
       }
      },
      "text/html": [
       "<div>\n",
       "        \n",
       "        \n",
       "            <div id=\"4a8de2b8-8004-4092-bb2a-9f28bf6ea6a8\" class=\"plotly-graph-div\" style=\"height:525px; width:100%;\"></div>\n",
       "            <script type=\"text/javascript\">\n",
       "                require([\"plotly\"], function(Plotly) {\n",
       "                    window.PLOTLYENV=window.PLOTLYENV || {};\n",
       "                    window.PLOTLYENV.BASE_URL='https://plot.ly';\n",
       "                    \n",
       "                if (document.getElementById(\"4a8de2b8-8004-4092-bb2a-9f28bf6ea6a8\")) {\n",
       "                    Plotly.newPlot(\n",
       "                        '4a8de2b8-8004-4092-bb2a-9f28bf6ea6a8',\n",
       "                        [{\"colorscale\": [[0.0, \"rgb(165,0,38)\"], [0.1, \"rgb(215,48,39)\"], [0.2, \"rgb(244,109,67)\"], [0.3, \"rgb(253,174,97)\"], [0.4, \"rgb(254,224,144)\"], [0.5, \"rgb(255,255,191)\"], [0.6, \"rgb(224,243,248)\"], [0.7, \"rgb(171,217,233)\"], [0.8, \"rgb(116,173,209)\"], [0.9, \"rgb(69,117,180)\"], [1.0, \"rgb(49,54,149)\"]], \"type\": \"surface\", \"x\": [0, 1, 2, 3, 4], \"y\": [\"x\", \"y\", \"z\"], \"z\": [[1, 2, 3, 4, 5], [10, 20, 30, 20, 10], [5, 4, 3, 2, 1]]}],\n",
       "                        {\"legend\": {\"bgcolor\": \"#F5F6F9\", \"font\": {\"color\": \"#4D5663\"}}, \"paper_bgcolor\": \"#F5F6F9\", \"plot_bgcolor\": \"#F5F6F9\", \"template\": {\"data\": {\"bar\": [{\"error_x\": {\"color\": \"#2a3f5f\"}, \"error_y\": {\"color\": \"#2a3f5f\"}, \"marker\": {\"line\": {\"color\": \"#E5ECF6\", \"width\": 0.5}}, \"type\": \"bar\"}], \"barpolar\": [{\"marker\": {\"line\": {\"color\": \"#E5ECF6\", \"width\": 0.5}}, \"type\": \"barpolar\"}], \"carpet\": [{\"aaxis\": {\"endlinecolor\": \"#2a3f5f\", \"gridcolor\": \"white\", \"linecolor\": \"white\", \"minorgridcolor\": \"white\", \"startlinecolor\": \"#2a3f5f\"}, \"baxis\": {\"endlinecolor\": \"#2a3f5f\", \"gridcolor\": \"white\", \"linecolor\": \"white\", \"minorgridcolor\": \"white\", \"startlinecolor\": \"#2a3f5f\"}, \"type\": \"carpet\"}], \"choropleth\": [{\"colorbar\": {\"outlinewidth\": 0, \"ticks\": \"\"}, \"type\": \"choropleth\"}], \"contour\": [{\"colorbar\": {\"outlinewidth\": 0, \"ticks\": \"\"}, \"colorscale\": [[0.0, \"#0d0887\"], [0.1111111111111111, \"#46039f\"], [0.2222222222222222, \"#7201a8\"], [0.3333333333333333, \"#9c179e\"], [0.4444444444444444, \"#bd3786\"], [0.5555555555555556, \"#d8576b\"], [0.6666666666666666, \"#ed7953\"], [0.7777777777777778, \"#fb9f3a\"], [0.8888888888888888, \"#fdca26\"], [1.0, \"#f0f921\"]], \"type\": \"contour\"}], \"contourcarpet\": [{\"colorbar\": {\"outlinewidth\": 0, \"ticks\": \"\"}, \"type\": \"contourcarpet\"}], \"heatmap\": [{\"colorbar\": {\"outlinewidth\": 0, \"ticks\": \"\"}, \"colorscale\": [[0.0, \"#0d0887\"], [0.1111111111111111, \"#46039f\"], [0.2222222222222222, \"#7201a8\"], [0.3333333333333333, \"#9c179e\"], [0.4444444444444444, \"#bd3786\"], [0.5555555555555556, \"#d8576b\"], [0.6666666666666666, \"#ed7953\"], [0.7777777777777778, \"#fb9f3a\"], [0.8888888888888888, \"#fdca26\"], [1.0, \"#f0f921\"]], \"type\": \"heatmap\"}], \"heatmapgl\": [{\"colorbar\": {\"outlinewidth\": 0, \"ticks\": \"\"}, \"colorscale\": [[0.0, \"#0d0887\"], [0.1111111111111111, \"#46039f\"], [0.2222222222222222, \"#7201a8\"], [0.3333333333333333, \"#9c179e\"], [0.4444444444444444, \"#bd3786\"], [0.5555555555555556, \"#d8576b\"], [0.6666666666666666, \"#ed7953\"], [0.7777777777777778, \"#fb9f3a\"], [0.8888888888888888, \"#fdca26\"], [1.0, \"#f0f921\"]], \"type\": \"heatmapgl\"}], \"histogram\": [{\"marker\": {\"colorbar\": {\"outlinewidth\": 0, \"ticks\": \"\"}}, \"type\": \"histogram\"}], \"histogram2d\": [{\"colorbar\": {\"outlinewidth\": 0, \"ticks\": \"\"}, \"colorscale\": [[0.0, \"#0d0887\"], [0.1111111111111111, \"#46039f\"], [0.2222222222222222, \"#7201a8\"], [0.3333333333333333, \"#9c179e\"], [0.4444444444444444, \"#bd3786\"], [0.5555555555555556, \"#d8576b\"], [0.6666666666666666, \"#ed7953\"], [0.7777777777777778, \"#fb9f3a\"], [0.8888888888888888, \"#fdca26\"], [1.0, \"#f0f921\"]], \"type\": \"histogram2d\"}], \"histogram2dcontour\": [{\"colorbar\": {\"outlinewidth\": 0, \"ticks\": \"\"}, \"colorscale\": [[0.0, \"#0d0887\"], [0.1111111111111111, \"#46039f\"], [0.2222222222222222, \"#7201a8\"], [0.3333333333333333, \"#9c179e\"], [0.4444444444444444, \"#bd3786\"], [0.5555555555555556, \"#d8576b\"], [0.6666666666666666, \"#ed7953\"], [0.7777777777777778, \"#fb9f3a\"], [0.8888888888888888, \"#fdca26\"], [1.0, \"#f0f921\"]], \"type\": \"histogram2dcontour\"}], \"mesh3d\": [{\"colorbar\": {\"outlinewidth\": 0, \"ticks\": \"\"}, \"type\": \"mesh3d\"}], \"parcoords\": [{\"line\": {\"colorbar\": {\"outlinewidth\": 0, \"ticks\": \"\"}}, \"type\": \"parcoords\"}], \"pie\": [{\"automargin\": true, \"type\": \"pie\"}], \"scatter\": [{\"marker\": {\"colorbar\": {\"outlinewidth\": 0, \"ticks\": \"\"}}, \"type\": \"scatter\"}], \"scatter3d\": [{\"line\": {\"colorbar\": {\"outlinewidth\": 0, \"ticks\": \"\"}}, \"marker\": {\"colorbar\": {\"outlinewidth\": 0, \"ticks\": \"\"}}, \"type\": \"scatter3d\"}], \"scattercarpet\": [{\"marker\": {\"colorbar\": {\"outlinewidth\": 0, \"ticks\": \"\"}}, \"type\": \"scattercarpet\"}], \"scattergeo\": [{\"marker\": {\"colorbar\": {\"outlinewidth\": 0, \"ticks\": \"\"}}, \"type\": \"scattergeo\"}], \"scattergl\": [{\"marker\": {\"colorbar\": {\"outlinewidth\": 0, \"ticks\": \"\"}}, \"type\": \"scattergl\"}], \"scattermapbox\": [{\"marker\": {\"colorbar\": {\"outlinewidth\": 0, \"ticks\": \"\"}}, \"type\": \"scattermapbox\"}], \"scatterpolar\": [{\"marker\": {\"colorbar\": {\"outlinewidth\": 0, \"ticks\": \"\"}}, \"type\": \"scatterpolar\"}], \"scatterpolargl\": [{\"marker\": {\"colorbar\": {\"outlinewidth\": 0, \"ticks\": \"\"}}, \"type\": \"scatterpolargl\"}], \"scatterternary\": [{\"marker\": {\"colorbar\": {\"outlinewidth\": 0, \"ticks\": \"\"}}, \"type\": \"scatterternary\"}], \"surface\": [{\"colorbar\": {\"outlinewidth\": 0, \"ticks\": \"\"}, \"colorscale\": [[0.0, \"#0d0887\"], [0.1111111111111111, \"#46039f\"], [0.2222222222222222, \"#7201a8\"], [0.3333333333333333, \"#9c179e\"], [0.4444444444444444, \"#bd3786\"], [0.5555555555555556, \"#d8576b\"], [0.6666666666666666, \"#ed7953\"], [0.7777777777777778, \"#fb9f3a\"], [0.8888888888888888, \"#fdca26\"], [1.0, \"#f0f921\"]], \"type\": \"surface\"}], \"table\": [{\"cells\": {\"fill\": {\"color\": \"#EBF0F8\"}, \"line\": {\"color\": \"white\"}}, \"header\": {\"fill\": {\"color\": \"#C8D4E3\"}, \"line\": {\"color\": \"white\"}}, \"type\": \"table\"}]}, \"layout\": {\"annotationdefaults\": {\"arrowcolor\": \"#2a3f5f\", \"arrowhead\": 0, \"arrowwidth\": 1}, \"coloraxis\": {\"colorbar\": {\"outlinewidth\": 0, \"ticks\": \"\"}}, \"colorscale\": {\"diverging\": [[0, \"#8e0152\"], [0.1, \"#c51b7d\"], [0.2, \"#de77ae\"], [0.3, \"#f1b6da\"], [0.4, \"#fde0ef\"], [0.5, \"#f7f7f7\"], [0.6, \"#e6f5d0\"], [0.7, \"#b8e186\"], [0.8, \"#7fbc41\"], [0.9, \"#4d9221\"], [1, \"#276419\"]], \"sequential\": [[0.0, \"#0d0887\"], [0.1111111111111111, \"#46039f\"], [0.2222222222222222, \"#7201a8\"], [0.3333333333333333, \"#9c179e\"], [0.4444444444444444, \"#bd3786\"], [0.5555555555555556, \"#d8576b\"], [0.6666666666666666, \"#ed7953\"], [0.7777777777777778, \"#fb9f3a\"], [0.8888888888888888, \"#fdca26\"], [1.0, \"#f0f921\"]], \"sequentialminus\": [[0.0, \"#0d0887\"], [0.1111111111111111, \"#46039f\"], [0.2222222222222222, \"#7201a8\"], [0.3333333333333333, \"#9c179e\"], [0.4444444444444444, \"#bd3786\"], [0.5555555555555556, \"#d8576b\"], [0.6666666666666666, \"#ed7953\"], [0.7777777777777778, \"#fb9f3a\"], [0.8888888888888888, \"#fdca26\"], [1.0, \"#f0f921\"]]}, \"colorway\": [\"#636efa\", \"#EF553B\", \"#00cc96\", \"#ab63fa\", \"#FFA15A\", \"#19d3f3\", \"#FF6692\", \"#B6E880\", \"#FF97FF\", \"#FECB52\"], \"font\": {\"color\": \"#2a3f5f\"}, \"geo\": {\"bgcolor\": \"white\", \"lakecolor\": \"white\", \"landcolor\": \"#E5ECF6\", \"showlakes\": true, \"showland\": true, \"subunitcolor\": \"white\"}, \"hoverlabel\": {\"align\": \"left\"}, \"hovermode\": \"closest\", \"mapbox\": {\"style\": \"light\"}, \"paper_bgcolor\": \"white\", \"plot_bgcolor\": \"#E5ECF6\", \"polar\": {\"angularaxis\": {\"gridcolor\": \"white\", \"linecolor\": \"white\", \"ticks\": \"\"}, \"bgcolor\": \"#E5ECF6\", \"radialaxis\": {\"gridcolor\": \"white\", \"linecolor\": \"white\", \"ticks\": \"\"}}, \"scene\": {\"xaxis\": {\"backgroundcolor\": \"#E5ECF6\", \"gridcolor\": \"white\", \"gridwidth\": 2, \"linecolor\": \"white\", \"showbackground\": true, \"ticks\": \"\", \"zerolinecolor\": \"white\"}, \"yaxis\": {\"backgroundcolor\": \"#E5ECF6\", \"gridcolor\": \"white\", \"gridwidth\": 2, \"linecolor\": \"white\", \"showbackground\": true, \"ticks\": \"\", \"zerolinecolor\": \"white\"}, \"zaxis\": {\"backgroundcolor\": \"#E5ECF6\", \"gridcolor\": \"white\", \"gridwidth\": 2, \"linecolor\": \"white\", \"showbackground\": true, \"ticks\": \"\", \"zerolinecolor\": \"white\"}}, \"shapedefaults\": {\"line\": {\"color\": \"#2a3f5f\"}}, \"ternary\": {\"aaxis\": {\"gridcolor\": \"white\", \"linecolor\": \"white\", \"ticks\": \"\"}, \"baxis\": {\"gridcolor\": \"white\", \"linecolor\": \"white\", \"ticks\": \"\"}, \"bgcolor\": \"#E5ECF6\", \"caxis\": {\"gridcolor\": \"white\", \"linecolor\": \"white\", \"ticks\": \"\"}}, \"title\": {\"x\": 0.05}, \"xaxis\": {\"automargin\": true, \"gridcolor\": \"white\", \"linecolor\": \"white\", \"ticks\": \"\", \"title\": {\"standoff\": 15}, \"zerolinecolor\": \"white\", \"zerolinewidth\": 2}, \"yaxis\": {\"automargin\": true, \"gridcolor\": \"white\", \"linecolor\": \"white\", \"ticks\": \"\", \"title\": {\"standoff\": 15}, \"zerolinecolor\": \"white\", \"zerolinewidth\": 2}}}, \"title\": {\"font\": {\"color\": \"#4D5663\"}}, \"xaxis\": {\"gridcolor\": \"#E1E5ED\", \"showgrid\": true, \"tickfont\": {\"color\": \"#4D5663\"}, \"title\": {\"font\": {\"color\": \"#4D5663\"}, \"text\": \"\"}, \"zerolinecolor\": \"#E1E5ED\"}, \"yaxis\": {\"gridcolor\": \"#E1E5ED\", \"showgrid\": true, \"tickfont\": {\"color\": \"#4D5663\"}, \"title\": {\"font\": {\"color\": \"#4D5663\"}, \"text\": \"\"}, \"zerolinecolor\": \"#E1E5ED\"}},\n",
       "                        {\"showLink\": true, \"linkText\": \"Export to plot.ly\", \"plotlyServerURL\": \"https://plot.ly\", \"responsive\": true}\n",
       "                    ).then(function(){\n",
       "                            \n",
       "var gd = document.getElementById('4a8de2b8-8004-4092-bb2a-9f28bf6ea6a8');\n",
       "var x = new MutationObserver(function (mutations, observer) {{\n",
       "        var display = window.getComputedStyle(gd).display;\n",
       "        if (!display || display === 'none') {{\n",
       "            console.log([gd, 'removed!']);\n",
       "            Plotly.purge(gd);\n",
       "            observer.disconnect();\n",
       "        }}\n",
       "}});\n",
       "\n",
       "// Listen for the removal of the full notebook cells\n",
       "var notebookContainer = gd.closest('#notebook-container');\n",
       "if (notebookContainer) {{\n",
       "    x.observe(notebookContainer, {childList: true});\n",
       "}}\n",
       "\n",
       "// Listen for the clearing of the current output cell\n",
       "var outputEl = gd.closest('.output');\n",
       "if (outputEl) {{\n",
       "    x.observe(outputEl, {childList: true});\n",
       "}}\n",
       "\n",
       "                        })\n",
       "                };\n",
       "                });\n",
       "            </script>\n",
       "        </div>"
      ]
     },
     "metadata": {},
     "output_type": "display_data"
    }
   ],
   "source": [
    "df3 = pd.DataFrame({'x':[1,2,3,4,5],'y':[10,20,30,20,10],'z':[5,4,3,2,1]})\n",
    "df3.iplot(kind='surface',colorscale='rdylbu')"
   ]
  },
  {
   "cell_type": "code",
   "execution_count": 36,
   "metadata": {},
   "outputs": [
    {
     "data": {
      "text/html": [
       "<div>\n",
       "<style scoped>\n",
       "    .dataframe tbody tr th:only-of-type {\n",
       "        vertical-align: middle;\n",
       "    }\n",
       "\n",
       "    .dataframe tbody tr th {\n",
       "        vertical-align: top;\n",
       "    }\n",
       "\n",
       "    .dataframe thead th {\n",
       "        text-align: right;\n",
       "    }\n",
       "</style>\n",
       "<table border=\"1\" class=\"dataframe\">\n",
       "  <thead>\n",
       "    <tr style=\"text-align: right;\">\n",
       "      <th></th>\n",
       "      <th>A</th>\n",
       "      <th>B</th>\n",
       "    </tr>\n",
       "  </thead>\n",
       "  <tbody>\n",
       "    <tr>\n",
       "      <td>0</td>\n",
       "      <td>0.636824</td>\n",
       "      <td>-0.965574</td>\n",
       "    </tr>\n",
       "    <tr>\n",
       "      <td>1</td>\n",
       "      <td>1.064901</td>\n",
       "      <td>2.341168</td>\n",
       "    </tr>\n",
       "    <tr>\n",
       "      <td>2</td>\n",
       "      <td>0.138404</td>\n",
       "      <td>0.167607</td>\n",
       "    </tr>\n",
       "    <tr>\n",
       "      <td>3</td>\n",
       "      <td>0.664357</td>\n",
       "      <td>0.529376</td>\n",
       "    </tr>\n",
       "    <tr>\n",
       "      <td>4</td>\n",
       "      <td>0.310340</td>\n",
       "      <td>1.117328</td>\n",
       "    </tr>\n",
       "    <tr>\n",
       "      <td>...</td>\n",
       "      <td>...</td>\n",
       "      <td>...</td>\n",
       "    </tr>\n",
       "    <tr>\n",
       "      <td>95</td>\n",
       "      <td>-0.434070</td>\n",
       "      <td>0.836824</td>\n",
       "    </tr>\n",
       "    <tr>\n",
       "      <td>96</td>\n",
       "      <td>1.473491</td>\n",
       "      <td>2.318360</td>\n",
       "    </tr>\n",
       "    <tr>\n",
       "      <td>97</td>\n",
       "      <td>-0.166571</td>\n",
       "      <td>0.143532</td>\n",
       "    </tr>\n",
       "    <tr>\n",
       "      <td>98</td>\n",
       "      <td>-1.325659</td>\n",
       "      <td>0.508257</td>\n",
       "    </tr>\n",
       "    <tr>\n",
       "      <td>99</td>\n",
       "      <td>-1.790771</td>\n",
       "      <td>0.718523</td>\n",
       "    </tr>\n",
       "  </tbody>\n",
       "</table>\n",
       "<p>100 rows × 2 columns</p>\n",
       "</div>"
      ],
      "text/plain": [
       "           A         B\n",
       "0   0.636824 -0.965574\n",
       "1   1.064901  2.341168\n",
       "2   0.138404  0.167607\n",
       "3   0.664357  0.529376\n",
       "4   0.310340  1.117328\n",
       "..       ...       ...\n",
       "95 -0.434070  0.836824\n",
       "96  1.473491  2.318360\n",
       "97 -0.166571  0.143532\n",
       "98 -1.325659  0.508257\n",
       "99 -1.790771  0.718523\n",
       "\n",
       "[100 rows x 2 columns]"
      ]
     },
     "execution_count": 36,
     "metadata": {},
     "output_type": "execute_result"
    }
   ],
   "source": [
    "df[['A','B']]"
   ]
  },
  {
   "cell_type": "markdown",
   "metadata": {},
   "source": [
    "## Spread"
   ]
  },
  {
   "cell_type": "code",
   "execution_count": 38,
   "metadata": {},
   "outputs": [
    {
     "data": {
      "application/vnd.plotly.v1+json": {
       "config": {
        "linkText": "Export to plot.ly",
        "plotlyServerURL": "https://plot.ly",
        "showLink": true
       },
       "data": [
        {
         "line": {
          "color": "rgba(255, 153, 51, 1.0)",
          "dash": "solid",
          "shape": "linear",
          "width": 1.3
         },
         "mode": "lines",
         "name": "A",
         "text": "",
         "type": "scatter",
         "x": [
          0,
          1,
          2,
          3,
          4,
          5,
          6,
          7,
          8,
          9,
          10,
          11,
          12,
          13,
          14,
          15,
          16,
          17,
          18,
          19,
          20,
          21,
          22,
          23,
          24,
          25,
          26,
          27,
          28,
          29,
          30,
          31,
          32,
          33,
          34,
          35,
          36,
          37,
          38,
          39,
          40,
          41,
          42,
          43,
          44,
          45,
          46,
          47,
          48,
          49,
          50,
          51,
          52,
          53,
          54,
          55,
          56,
          57,
          58,
          59,
          60,
          61,
          62,
          63,
          64,
          65,
          66,
          67,
          68,
          69,
          70,
          71,
          72,
          73,
          74,
          75,
          76,
          77,
          78,
          79,
          80,
          81,
          82,
          83,
          84,
          85,
          86,
          87,
          88,
          89,
          90,
          91,
          92,
          93,
          94,
          95,
          96,
          97,
          98,
          99
         ],
         "y": [
          0.6368237558363841,
          1.0649006110582138,
          0.13840425377741813,
          0.6643570870697327,
          0.31033996046308443,
          0.3095307447079891,
          -1.0030806949117006,
          -2.073980421654117,
          -0.012978557675513116,
          -0.6443610249054871,
          -0.4019123011599225,
          -1.1865240201211213,
          1.9402176585124264,
          0.8017272698703927,
          1.4250960216550903,
          2.3414179561851403,
          -0.20350768446908774,
          0.22867666550922047,
          -0.8895629536550426,
          -0.15962318577850593,
          1.0785773861254981,
          -1.6997166285386889,
          0.04266600709434228,
          0.6880126804930993,
          0.7739049252029457,
          0.058188812087436564,
          -0.14029416776943504,
          -0.9981845613547209,
          0.22126264796890385,
          -1.2269498069443276,
          1.204595715334291,
          -0.7568251019365444,
          0.525713901813281,
          0.26930176076243917,
          0.2785868145508584,
          0.8119783697520976,
          0.46821407574585244,
          1.4687510828407921,
          -0.5980433221622159,
          0.6406517656293856,
          -0.2262760543280068,
          -0.6653294294964786,
          -0.5836311953052089,
          -0.2428675375821456,
          -1.8528633593831683,
          -0.007528069992805335,
          0.5382930637817657,
          -0.629087265440316,
          -0.6728917120279745,
          0.7144401052516212,
          0.23378447656804857,
          0.17330130095757496,
          0.21726407009755946,
          0.7237329000891287,
          0.27334144868980453,
          0.4865035225094366,
          0.7016337387174932,
          0.04079106265710642,
          -1.9665997054916837,
          -0.6631949964790526,
          -0.7102946535045428,
          -1.0774032299311715,
          1.6516020663809938,
          -1.6188402171370826,
          1.7543865634412688,
          1.6349723274645858,
          0.7712922083770805,
          0.41711383293823157,
          1.2353035140092619,
          0.8307141667412382,
          1.757130703099051,
          -0.03421584746068055,
          1.4539266180621373,
          -0.6418612753104854,
          -2.2645247371116057,
          1.7995701444332912,
          0.34258026492133203,
          -1.15192514998973,
          0.31713531038022136,
          -0.6991945323390549,
          -0.1874252447770727,
          1.7741234835799624,
          2.492111064588903,
          -0.5454800752618096,
          -2.084849189153723,
          -0.0862396373237331,
          0.261683605023826,
          -0.3241027505722336,
          0.44037856434772343,
          1.8195245724028761,
          0.7671675437836701,
          -0.6384630312275602,
          0.11607122808032443,
          1.5270567062839226,
          -0.16130502769273808,
          -0.43406958740491863,
          1.4734914707737603,
          -0.16657110561516894,
          -1.325659168470935,
          -1.7907712245138099
         ]
        },
        {
         "line": {
          "color": "rgba(55, 128, 191, 1.0)",
          "dash": "solid",
          "shape": "linear",
          "width": 1.3
         },
         "mode": "lines",
         "name": "B",
         "text": "",
         "type": "scatter",
         "x": [
          0,
          1,
          2,
          3,
          4,
          5,
          6,
          7,
          8,
          9,
          10,
          11,
          12,
          13,
          14,
          15,
          16,
          17,
          18,
          19,
          20,
          21,
          22,
          23,
          24,
          25,
          26,
          27,
          28,
          29,
          30,
          31,
          32,
          33,
          34,
          35,
          36,
          37,
          38,
          39,
          40,
          41,
          42,
          43,
          44,
          45,
          46,
          47,
          48,
          49,
          50,
          51,
          52,
          53,
          54,
          55,
          56,
          57,
          58,
          59,
          60,
          61,
          62,
          63,
          64,
          65,
          66,
          67,
          68,
          69,
          70,
          71,
          72,
          73,
          74,
          75,
          76,
          77,
          78,
          79,
          80,
          81,
          82,
          83,
          84,
          85,
          86,
          87,
          88,
          89,
          90,
          91,
          92,
          93,
          94,
          95,
          96,
          97,
          98,
          99
         ],
         "y": [
          -0.965573785855108,
          2.3411683403874863,
          0.16760652247777483,
          0.5293763473061892,
          1.117328140016128,
          0.7549892445442132,
          2.054090398813393,
          -0.6782945481675158,
          1.0381705653378392,
          1.2140314276926856,
          0.03530096826726425,
          -0.02975819365648567,
          0.8490536809198773,
          -1.5614858840265529,
          0.736707745126771,
          0.1246407894398844,
          0.8379386880632551,
          0.41903183767939406,
          0.6018429414116641,
          0.2553278104357416,
          0.10218560907473412,
          1.2557054058002752,
          -0.8748741670847883,
          -0.3832158110185663,
          -0.1549106162658271,
          -1.2769478029855426,
          1.2890593262203311,
          0.3750696267160941,
          0.9921404081646318,
          0.21750565479064404,
          1.6490157181527234,
          0.31979828501405794,
          -0.26261002617535073,
          -0.23529714060338808,
          -0.22362828498994733,
          -0.6647344151065584,
          -0.5875322210729691,
          -0.6137603446064702,
          0.08365852508295676,
          -0.5736703131755713,
          0.441260085154336,
          0.7722016610545739,
          0.5324255904558407,
          0.40093790935933765,
          -0.053257602214600776,
          0.23615988021806109,
          -0.1196653377877863,
          -0.4081360519718144,
          -1.3879231468442046,
          0.47753275715667615,
          0.6015109009282125,
          -0.5627145530644787,
          1.0817852258226457,
          0.5902559942383697,
          -0.44190244945846197,
          0.31613056599056255,
          0.6907867960989922,
          -1.6964258454693064,
          0.6704678610285731,
          -0.20217302565308465,
          0.8315265238590916,
          0.5243909564105876,
          -1.258734034452956,
          -1.4020188180171287,
          -0.07728484380937733,
          -0.28049267010943935,
          0.08706081149001788,
          -1.778059875620324,
          -0.8343277328158784,
          0.3864682378824961,
          0.1503109040719167,
          -0.11424349139968754,
          -1.6639743787791799,
          -2.191755541277839,
          0.45497897381261365,
          0.31285327059157747,
          -0.3570196489480991,
          0.06866855226780288,
          -0.8135424471581575,
          -0.49434730240269664,
          0.4461810207717648,
          1.1420257711588415,
          -0.31672702200917324,
          1.82080657095947,
          0.679232378362389,
          0.4063062091653785,
          -1.0668562477330763,
          1.2601410127551493,
          -0.08626475067008418,
          -0.36923131351358884,
          -0.7445667813101593,
          1.6459010653261605,
          -0.4346406940551893,
          -1.8764159532897957,
          1.2075252986936873,
          0.8368235720752266,
          2.318359996303223,
          0.14353185810363364,
          0.5082567333578968,
          0.7185225785825067
         ]
        },
        {
         "connectgaps": false,
         "fill": "tozeroy",
         "line": {
          "color": "green",
          "dash": "solid",
          "shape": "linear",
          "width": 0.5
         },
         "mode": "lines",
         "name": "Spread",
         "showlegend": false,
         "type": "scatter",
         "x": [
          0,
          1,
          2,
          3,
          4,
          5,
          6,
          7,
          8,
          9,
          10,
          11,
          12,
          13,
          14,
          15,
          16,
          17,
          18,
          19,
          20,
          21,
          22,
          23,
          24,
          25,
          26,
          27,
          28,
          29,
          30,
          31,
          32,
          33,
          34,
          35,
          36,
          37,
          38,
          39,
          40,
          41,
          42,
          43,
          44,
          45,
          46,
          47,
          48,
          49,
          50,
          51,
          52,
          53,
          54,
          55,
          56,
          57,
          58,
          59,
          60,
          61,
          62,
          63,
          64,
          65,
          66,
          67,
          68,
          69,
          70,
          71,
          72,
          73,
          74,
          75,
          76,
          77,
          78,
          79,
          80,
          81,
          82,
          83,
          84,
          85,
          86,
          87,
          88,
          89,
          90,
          91,
          92,
          93,
          94,
          95,
          96,
          97,
          98,
          99
         ],
         "xaxis": "x2",
         "y": [
          1.602397541691492,
          "",
          "",
          0.13498073976354352,
          "",
          "",
          "",
          "",
          "",
          "",
          "",
          "",
          1.091163977592549,
          2.3632131538969454,
          0.6883882765283194,
          2.216777166745256,
          "",
          "",
          "",
          "",
          0.976391777050764,
          "",
          0.9175401741791306,
          1.0712284915116657,
          0.9288155414687729,
          1.335136615072979,
          "",
          "",
          "",
          "",
          "",
          "",
          0.7883239279886318,
          0.5045989013658272,
          0.5022150995408057,
          1.4767127848586559,
          1.0557462968188216,
          2.0825114274472623,
          "",
          1.214322078804957,
          "",
          "",
          "",
          "",
          "",
          "",
          0.657958401569552,
          "",
          0.7150314348162301,
          0.23690734809494501,
          "",
          0.7360158540220536,
          "",
          0.133476905850759,
          0.7152438981482665,
          0.17037295651887407,
          0.010846942618501054,
          1.7372169081264128,
          "",
          "",
          "",
          "",
          2.91033610083395,
          "",
          1.8316714072506461,
          1.9154649975740252,
          0.6842313968870626,
          2.1951737085585554,
          2.06963124682514,
          0.4442459288587421,
          1.6068197990271345,
          0.08002764393900699,
          3.117900996841317,
          1.5498942659673536,
          "",
          1.4867168738417138,
          0.6995999138694311,
          "",
          1.1306777575383788,
          "",
          "",
          0.6320977124211209,
          2.8088380865980764,
          "",
          "",
          "",
          1.3285398527569023,
          "",
          0.5266433150178076,
          2.188755885916465,
          1.5117343250938293,
          "",
          0.5507119221355137,
          3.403472659573718,
          "",
          "",
          "",
          "",
          "",
          ""
         ],
         "yaxis": "y2"
        },
        {
         "connectgaps": false,
         "fill": "tozeroy",
         "line": {
          "color": "red",
          "dash": "solid",
          "shape": "linear",
          "width": 0.5
         },
         "mode": "lines",
         "name": "Spread",
         "showlegend": false,
         "type": "scatter",
         "x": [
          0,
          1,
          2,
          3,
          4,
          5,
          6,
          7,
          8,
          9,
          10,
          11,
          12,
          13,
          14,
          15,
          16,
          17,
          18,
          19,
          20,
          21,
          22,
          23,
          24,
          25,
          26,
          27,
          28,
          29,
          30,
          31,
          32,
          33,
          34,
          35,
          36,
          37,
          38,
          39,
          40,
          41,
          42,
          43,
          44,
          45,
          46,
          47,
          48,
          49,
          50,
          51,
          52,
          53,
          54,
          55,
          56,
          57,
          58,
          59,
          60,
          61,
          62,
          63,
          64,
          65,
          66,
          67,
          68,
          69,
          70,
          71,
          72,
          73,
          74,
          75,
          76,
          77,
          78,
          79,
          80,
          81,
          82,
          83,
          84,
          85,
          86,
          87,
          88,
          89,
          90,
          91,
          92,
          93,
          94,
          95,
          96,
          97,
          98,
          99
         ],
         "xaxis": "x2",
         "y": [
          "",
          -1.2762677293292726,
          -0.029202268700356693,
          "",
          -0.8069881795530435,
          -0.44545849983622415,
          -3.0571710937250938,
          -1.3956858734866013,
          -1.0511491230133523,
          -1.8583924525981725,
          -0.43721326942718675,
          -1.1567658264646357,
          "",
          "",
          "",
          "",
          -1.0414463725323428,
          -0.1903551721701736,
          -1.4914058950667066,
          -0.4149509962142475,
          "",
          -2.955422034338964,
          "",
          "",
          "",
          "",
          -1.4293534939897663,
          -1.3732541880708151,
          -0.770877760195728,
          -1.4444554617349716,
          -0.4444200028184324,
          -1.0766233869506023,
          "",
          "",
          "",
          "",
          "",
          "",
          -0.6817018472451727,
          "",
          -0.6675361394823428,
          -1.4375310905510523,
          -1.1160567857610495,
          -0.6438054469414832,
          -1.7996057571685675,
          -0.24368795021086642,
          "",
          -0.2209512134685016,
          "",
          "",
          -0.3677264243601639,
          "",
          -0.8645211557250863,
          "",
          "",
          "",
          "",
          "",
          -2.637067566520257,
          -0.4610219708259679,
          -1.5418211773636346,
          -1.6017941863417593,
          "",
          -0.2168213991199539,
          "",
          "",
          "",
          "",
          "",
          "",
          "",
          "",
          "",
          "",
          -2.7195037109242195,
          "",
          "",
          -1.220593702257533,
          "",
          -0.2048472299363583,
          -0.6336062655488375,
          "",
          "",
          -2.3662866462212797,
          -2.7640815675161123,
          -0.4925458464891116,
          "",
          -1.584243763327383,
          "",
          "",
          "",
          -2.2843640965537206,
          "",
          "",
          -1.3688303263864254,
          -1.2708931594801451,
          -0.8448685255294628,
          -0.3101029637188026,
          -1.8339159018288318,
          -2.5092938030963166
         ],
         "yaxis": "y2"
        }
       ],
       "layout": {
        "hovermode": "x",
        "legend": {
         "bgcolor": "#F5F6F9",
         "font": {
          "color": "#4D5663"
         }
        },
        "paper_bgcolor": "#F5F6F9",
        "plot_bgcolor": "#F5F6F9",
        "template": {
         "data": {
          "bar": [
           {
            "error_x": {
             "color": "#2a3f5f"
            },
            "error_y": {
             "color": "#2a3f5f"
            },
            "marker": {
             "line": {
              "color": "#E5ECF6",
              "width": 0.5
             }
            },
            "type": "bar"
           }
          ],
          "barpolar": [
           {
            "marker": {
             "line": {
              "color": "#E5ECF6",
              "width": 0.5
             }
            },
            "type": "barpolar"
           }
          ],
          "carpet": [
           {
            "aaxis": {
             "endlinecolor": "#2a3f5f",
             "gridcolor": "white",
             "linecolor": "white",
             "minorgridcolor": "white",
             "startlinecolor": "#2a3f5f"
            },
            "baxis": {
             "endlinecolor": "#2a3f5f",
             "gridcolor": "white",
             "linecolor": "white",
             "minorgridcolor": "white",
             "startlinecolor": "#2a3f5f"
            },
            "type": "carpet"
           }
          ],
          "choropleth": [
           {
            "colorbar": {
             "outlinewidth": 0,
             "ticks": ""
            },
            "type": "choropleth"
           }
          ],
          "contour": [
           {
            "colorbar": {
             "outlinewidth": 0,
             "ticks": ""
            },
            "colorscale": [
             [
              0,
              "#0d0887"
             ],
             [
              0.1111111111111111,
              "#46039f"
             ],
             [
              0.2222222222222222,
              "#7201a8"
             ],
             [
              0.3333333333333333,
              "#9c179e"
             ],
             [
              0.4444444444444444,
              "#bd3786"
             ],
             [
              0.5555555555555556,
              "#d8576b"
             ],
             [
              0.6666666666666666,
              "#ed7953"
             ],
             [
              0.7777777777777778,
              "#fb9f3a"
             ],
             [
              0.8888888888888888,
              "#fdca26"
             ],
             [
              1,
              "#f0f921"
             ]
            ],
            "type": "contour"
           }
          ],
          "contourcarpet": [
           {
            "colorbar": {
             "outlinewidth": 0,
             "ticks": ""
            },
            "type": "contourcarpet"
           }
          ],
          "heatmap": [
           {
            "colorbar": {
             "outlinewidth": 0,
             "ticks": ""
            },
            "colorscale": [
             [
              0,
              "#0d0887"
             ],
             [
              0.1111111111111111,
              "#46039f"
             ],
             [
              0.2222222222222222,
              "#7201a8"
             ],
             [
              0.3333333333333333,
              "#9c179e"
             ],
             [
              0.4444444444444444,
              "#bd3786"
             ],
             [
              0.5555555555555556,
              "#d8576b"
             ],
             [
              0.6666666666666666,
              "#ed7953"
             ],
             [
              0.7777777777777778,
              "#fb9f3a"
             ],
             [
              0.8888888888888888,
              "#fdca26"
             ],
             [
              1,
              "#f0f921"
             ]
            ],
            "type": "heatmap"
           }
          ],
          "heatmapgl": [
           {
            "colorbar": {
             "outlinewidth": 0,
             "ticks": ""
            },
            "colorscale": [
             [
              0,
              "#0d0887"
             ],
             [
              0.1111111111111111,
              "#46039f"
             ],
             [
              0.2222222222222222,
              "#7201a8"
             ],
             [
              0.3333333333333333,
              "#9c179e"
             ],
             [
              0.4444444444444444,
              "#bd3786"
             ],
             [
              0.5555555555555556,
              "#d8576b"
             ],
             [
              0.6666666666666666,
              "#ed7953"
             ],
             [
              0.7777777777777778,
              "#fb9f3a"
             ],
             [
              0.8888888888888888,
              "#fdca26"
             ],
             [
              1,
              "#f0f921"
             ]
            ],
            "type": "heatmapgl"
           }
          ],
          "histogram": [
           {
            "marker": {
             "colorbar": {
              "outlinewidth": 0,
              "ticks": ""
             }
            },
            "type": "histogram"
           }
          ],
          "histogram2d": [
           {
            "colorbar": {
             "outlinewidth": 0,
             "ticks": ""
            },
            "colorscale": [
             [
              0,
              "#0d0887"
             ],
             [
              0.1111111111111111,
              "#46039f"
             ],
             [
              0.2222222222222222,
              "#7201a8"
             ],
             [
              0.3333333333333333,
              "#9c179e"
             ],
             [
              0.4444444444444444,
              "#bd3786"
             ],
             [
              0.5555555555555556,
              "#d8576b"
             ],
             [
              0.6666666666666666,
              "#ed7953"
             ],
             [
              0.7777777777777778,
              "#fb9f3a"
             ],
             [
              0.8888888888888888,
              "#fdca26"
             ],
             [
              1,
              "#f0f921"
             ]
            ],
            "type": "histogram2d"
           }
          ],
          "histogram2dcontour": [
           {
            "colorbar": {
             "outlinewidth": 0,
             "ticks": ""
            },
            "colorscale": [
             [
              0,
              "#0d0887"
             ],
             [
              0.1111111111111111,
              "#46039f"
             ],
             [
              0.2222222222222222,
              "#7201a8"
             ],
             [
              0.3333333333333333,
              "#9c179e"
             ],
             [
              0.4444444444444444,
              "#bd3786"
             ],
             [
              0.5555555555555556,
              "#d8576b"
             ],
             [
              0.6666666666666666,
              "#ed7953"
             ],
             [
              0.7777777777777778,
              "#fb9f3a"
             ],
             [
              0.8888888888888888,
              "#fdca26"
             ],
             [
              1,
              "#f0f921"
             ]
            ],
            "type": "histogram2dcontour"
           }
          ],
          "mesh3d": [
           {
            "colorbar": {
             "outlinewidth": 0,
             "ticks": ""
            },
            "type": "mesh3d"
           }
          ],
          "parcoords": [
           {
            "line": {
             "colorbar": {
              "outlinewidth": 0,
              "ticks": ""
             }
            },
            "type": "parcoords"
           }
          ],
          "pie": [
           {
            "automargin": true,
            "type": "pie"
           }
          ],
          "scatter": [
           {
            "marker": {
             "colorbar": {
              "outlinewidth": 0,
              "ticks": ""
             }
            },
            "type": "scatter"
           }
          ],
          "scatter3d": [
           {
            "line": {
             "colorbar": {
              "outlinewidth": 0,
              "ticks": ""
             }
            },
            "marker": {
             "colorbar": {
              "outlinewidth": 0,
              "ticks": ""
             }
            },
            "type": "scatter3d"
           }
          ],
          "scattercarpet": [
           {
            "marker": {
             "colorbar": {
              "outlinewidth": 0,
              "ticks": ""
             }
            },
            "type": "scattercarpet"
           }
          ],
          "scattergeo": [
           {
            "marker": {
             "colorbar": {
              "outlinewidth": 0,
              "ticks": ""
             }
            },
            "type": "scattergeo"
           }
          ],
          "scattergl": [
           {
            "marker": {
             "colorbar": {
              "outlinewidth": 0,
              "ticks": ""
             }
            },
            "type": "scattergl"
           }
          ],
          "scattermapbox": [
           {
            "marker": {
             "colorbar": {
              "outlinewidth": 0,
              "ticks": ""
             }
            },
            "type": "scattermapbox"
           }
          ],
          "scatterpolar": [
           {
            "marker": {
             "colorbar": {
              "outlinewidth": 0,
              "ticks": ""
             }
            },
            "type": "scatterpolar"
           }
          ],
          "scatterpolargl": [
           {
            "marker": {
             "colorbar": {
              "outlinewidth": 0,
              "ticks": ""
             }
            },
            "type": "scatterpolargl"
           }
          ],
          "scatterternary": [
           {
            "marker": {
             "colorbar": {
              "outlinewidth": 0,
              "ticks": ""
             }
            },
            "type": "scatterternary"
           }
          ],
          "surface": [
           {
            "colorbar": {
             "outlinewidth": 0,
             "ticks": ""
            },
            "colorscale": [
             [
              0,
              "#0d0887"
             ],
             [
              0.1111111111111111,
              "#46039f"
             ],
             [
              0.2222222222222222,
              "#7201a8"
             ],
             [
              0.3333333333333333,
              "#9c179e"
             ],
             [
              0.4444444444444444,
              "#bd3786"
             ],
             [
              0.5555555555555556,
              "#d8576b"
             ],
             [
              0.6666666666666666,
              "#ed7953"
             ],
             [
              0.7777777777777778,
              "#fb9f3a"
             ],
             [
              0.8888888888888888,
              "#fdca26"
             ],
             [
              1,
              "#f0f921"
             ]
            ],
            "type": "surface"
           }
          ],
          "table": [
           {
            "cells": {
             "fill": {
              "color": "#EBF0F8"
             },
             "line": {
              "color": "white"
             }
            },
            "header": {
             "fill": {
              "color": "#C8D4E3"
             },
             "line": {
              "color": "white"
             }
            },
            "type": "table"
           }
          ]
         },
         "layout": {
          "annotationdefaults": {
           "arrowcolor": "#2a3f5f",
           "arrowhead": 0,
           "arrowwidth": 1
          },
          "coloraxis": {
           "colorbar": {
            "outlinewidth": 0,
            "ticks": ""
           }
          },
          "colorscale": {
           "diverging": [
            [
             0,
             "#8e0152"
            ],
            [
             0.1,
             "#c51b7d"
            ],
            [
             0.2,
             "#de77ae"
            ],
            [
             0.3,
             "#f1b6da"
            ],
            [
             0.4,
             "#fde0ef"
            ],
            [
             0.5,
             "#f7f7f7"
            ],
            [
             0.6,
             "#e6f5d0"
            ],
            [
             0.7,
             "#b8e186"
            ],
            [
             0.8,
             "#7fbc41"
            ],
            [
             0.9,
             "#4d9221"
            ],
            [
             1,
             "#276419"
            ]
           ],
           "sequential": [
            [
             0,
             "#0d0887"
            ],
            [
             0.1111111111111111,
             "#46039f"
            ],
            [
             0.2222222222222222,
             "#7201a8"
            ],
            [
             0.3333333333333333,
             "#9c179e"
            ],
            [
             0.4444444444444444,
             "#bd3786"
            ],
            [
             0.5555555555555556,
             "#d8576b"
            ],
            [
             0.6666666666666666,
             "#ed7953"
            ],
            [
             0.7777777777777778,
             "#fb9f3a"
            ],
            [
             0.8888888888888888,
             "#fdca26"
            ],
            [
             1,
             "#f0f921"
            ]
           ],
           "sequentialminus": [
            [
             0,
             "#0d0887"
            ],
            [
             0.1111111111111111,
             "#46039f"
            ],
            [
             0.2222222222222222,
             "#7201a8"
            ],
            [
             0.3333333333333333,
             "#9c179e"
            ],
            [
             0.4444444444444444,
             "#bd3786"
            ],
            [
             0.5555555555555556,
             "#d8576b"
            ],
            [
             0.6666666666666666,
             "#ed7953"
            ],
            [
             0.7777777777777778,
             "#fb9f3a"
            ],
            [
             0.8888888888888888,
             "#fdca26"
            ],
            [
             1,
             "#f0f921"
            ]
           ]
          },
          "colorway": [
           "#636efa",
           "#EF553B",
           "#00cc96",
           "#ab63fa",
           "#FFA15A",
           "#19d3f3",
           "#FF6692",
           "#B6E880",
           "#FF97FF",
           "#FECB52"
          ],
          "font": {
           "color": "#2a3f5f"
          },
          "geo": {
           "bgcolor": "white",
           "lakecolor": "white",
           "landcolor": "#E5ECF6",
           "showlakes": true,
           "showland": true,
           "subunitcolor": "white"
          },
          "hoverlabel": {
           "align": "left"
          },
          "hovermode": "closest",
          "mapbox": {
           "style": "light"
          },
          "paper_bgcolor": "white",
          "plot_bgcolor": "#E5ECF6",
          "polar": {
           "angularaxis": {
            "gridcolor": "white",
            "linecolor": "white",
            "ticks": ""
           },
           "bgcolor": "#E5ECF6",
           "radialaxis": {
            "gridcolor": "white",
            "linecolor": "white",
            "ticks": ""
           }
          },
          "scene": {
           "xaxis": {
            "backgroundcolor": "#E5ECF6",
            "gridcolor": "white",
            "gridwidth": 2,
            "linecolor": "white",
            "showbackground": true,
            "ticks": "",
            "zerolinecolor": "white"
           },
           "yaxis": {
            "backgroundcolor": "#E5ECF6",
            "gridcolor": "white",
            "gridwidth": 2,
            "linecolor": "white",
            "showbackground": true,
            "ticks": "",
            "zerolinecolor": "white"
           },
           "zaxis": {
            "backgroundcolor": "#E5ECF6",
            "gridcolor": "white",
            "gridwidth": 2,
            "linecolor": "white",
            "showbackground": true,
            "ticks": "",
            "zerolinecolor": "white"
           }
          },
          "shapedefaults": {
           "line": {
            "color": "#2a3f5f"
           }
          },
          "ternary": {
           "aaxis": {
            "gridcolor": "white",
            "linecolor": "white",
            "ticks": ""
           },
           "baxis": {
            "gridcolor": "white",
            "linecolor": "white",
            "ticks": ""
           },
           "bgcolor": "#E5ECF6",
           "caxis": {
            "gridcolor": "white",
            "linecolor": "white",
            "ticks": ""
           }
          },
          "title": {
           "x": 0.05
          },
          "xaxis": {
           "automargin": true,
           "gridcolor": "white",
           "linecolor": "white",
           "ticks": "",
           "title": {
            "standoff": 15
           },
           "zerolinecolor": "white",
           "zerolinewidth": 2
          },
          "yaxis": {
           "automargin": true,
           "gridcolor": "white",
           "linecolor": "white",
           "ticks": "",
           "title": {
            "standoff": 15
           },
           "zerolinecolor": "white",
           "zerolinewidth": 2
          }
         }
        },
        "title": {
         "font": {
          "color": "#4D5663"
         }
        },
        "xaxis": {
         "gridcolor": "#E1E5ED",
         "showgrid": true,
         "tickfont": {
          "color": "#4D5663"
         },
         "title": {
          "font": {
           "color": "#4D5663"
          },
          "text": ""
         },
         "zerolinecolor": "#E1E5ED"
        },
        "xaxis2": {
         "anchor": "y2",
         "gridcolor": "#E1E5ED",
         "showgrid": true,
         "showticklabels": false,
         "tickfont": {
          "color": "#4D5663"
         },
         "title": {
          "font": {
           "color": "#4D5663"
          },
          "text": ""
         },
         "zerolinecolor": "#E1E5ED"
        },
        "yaxis": {
         "domain": [
          0.3,
          1
         ],
         "gridcolor": "#E1E5ED",
         "showgrid": true,
         "tickfont": {
          "color": "#4D5663"
         },
         "title": {
          "font": {
           "color": "#4D5663"
          },
          "text": ""
         },
         "zerolinecolor": "#E1E5ED"
        },
        "yaxis2": {
         "domain": [
          0,
          0.25
         ],
         "gridcolor": "#E1E5ED",
         "showgrid": true,
         "tickfont": {
          "color": "#4D5663"
         },
         "title": {
          "font": {
           "color": "#4D5663"
          },
          "text": "Spread"
         },
         "zerolinecolor": "#E1E5ED"
        }
       }
      },
      "text/html": [
       "<div>\n",
       "        \n",
       "        \n",
       "            <div id=\"4dc96188-0f47-4669-9d2b-0fe069712f66\" class=\"plotly-graph-div\" style=\"height:525px; width:100%;\"></div>\n",
       "            <script type=\"text/javascript\">\n",
       "                require([\"plotly\"], function(Plotly) {\n",
       "                    window.PLOTLYENV=window.PLOTLYENV || {};\n",
       "                    window.PLOTLYENV.BASE_URL='https://plot.ly';\n",
       "                    \n",
       "                if (document.getElementById(\"4dc96188-0f47-4669-9d2b-0fe069712f66\")) {\n",
       "                    Plotly.newPlot(\n",
       "                        '4dc96188-0f47-4669-9d2b-0fe069712f66',\n",
       "                        [{\"line\": {\"color\": \"rgba(255, 153, 51, 1.0)\", \"dash\": \"solid\", \"shape\": \"linear\", \"width\": 1.3}, \"mode\": \"lines\", \"name\": \"A\", \"text\": \"\", \"type\": \"scatter\", \"x\": [0, 1, 2, 3, 4, 5, 6, 7, 8, 9, 10, 11, 12, 13, 14, 15, 16, 17, 18, 19, 20, 21, 22, 23, 24, 25, 26, 27, 28, 29, 30, 31, 32, 33, 34, 35, 36, 37, 38, 39, 40, 41, 42, 43, 44, 45, 46, 47, 48, 49, 50, 51, 52, 53, 54, 55, 56, 57, 58, 59, 60, 61, 62, 63, 64, 65, 66, 67, 68, 69, 70, 71, 72, 73, 74, 75, 76, 77, 78, 79, 80, 81, 82, 83, 84, 85, 86, 87, 88, 89, 90, 91, 92, 93, 94, 95, 96, 97, 98, 99], \"y\": [0.6368237558363841, 1.0649006110582138, 0.13840425377741813, 0.6643570870697327, 0.31033996046308443, 0.3095307447079891, -1.0030806949117006, -2.073980421654117, -0.012978557675513116, -0.6443610249054871, -0.4019123011599225, -1.1865240201211213, 1.9402176585124264, 0.8017272698703927, 1.4250960216550903, 2.3414179561851403, -0.20350768446908774, 0.22867666550922047, -0.8895629536550426, -0.15962318577850593, 1.0785773861254981, -1.6997166285386889, 0.04266600709434228, 0.6880126804930993, 0.7739049252029457, 0.058188812087436564, -0.14029416776943504, -0.9981845613547209, 0.22126264796890385, -1.2269498069443276, 1.204595715334291, -0.7568251019365444, 0.525713901813281, 0.26930176076243917, 0.2785868145508584, 0.8119783697520976, 0.46821407574585244, 1.4687510828407921, -0.5980433221622159, 0.6406517656293856, -0.2262760543280068, -0.6653294294964786, -0.5836311953052089, -0.2428675375821456, -1.8528633593831683, -0.007528069992805335, 0.5382930637817657, -0.629087265440316, -0.6728917120279745, 0.7144401052516212, 0.23378447656804857, 0.17330130095757496, 0.21726407009755946, 0.7237329000891287, 0.27334144868980453, 0.4865035225094366, 0.7016337387174932, 0.04079106265710642, -1.9665997054916837, -0.6631949964790526, -0.7102946535045428, -1.0774032299311715, 1.6516020663809938, -1.6188402171370826, 1.7543865634412688, 1.6349723274645858, 0.7712922083770805, 0.41711383293823157, 1.2353035140092619, 0.8307141667412382, 1.757130703099051, -0.03421584746068055, 1.4539266180621373, -0.6418612753104854, -2.2645247371116057, 1.7995701444332912, 0.34258026492133203, -1.15192514998973, 0.31713531038022136, -0.6991945323390549, -0.1874252447770727, 1.7741234835799624, 2.492111064588903, -0.5454800752618096, -2.084849189153723, -0.0862396373237331, 0.261683605023826, -0.3241027505722336, 0.44037856434772343, 1.8195245724028761, 0.7671675437836701, -0.6384630312275602, 0.11607122808032443, 1.5270567062839226, -0.16130502769273808, -0.43406958740491863, 1.4734914707737603, -0.16657110561516894, -1.325659168470935, -1.7907712245138099]}, {\"line\": {\"color\": \"rgba(55, 128, 191, 1.0)\", \"dash\": \"solid\", \"shape\": \"linear\", \"width\": 1.3}, \"mode\": \"lines\", \"name\": \"B\", \"text\": \"\", \"type\": \"scatter\", \"x\": [0, 1, 2, 3, 4, 5, 6, 7, 8, 9, 10, 11, 12, 13, 14, 15, 16, 17, 18, 19, 20, 21, 22, 23, 24, 25, 26, 27, 28, 29, 30, 31, 32, 33, 34, 35, 36, 37, 38, 39, 40, 41, 42, 43, 44, 45, 46, 47, 48, 49, 50, 51, 52, 53, 54, 55, 56, 57, 58, 59, 60, 61, 62, 63, 64, 65, 66, 67, 68, 69, 70, 71, 72, 73, 74, 75, 76, 77, 78, 79, 80, 81, 82, 83, 84, 85, 86, 87, 88, 89, 90, 91, 92, 93, 94, 95, 96, 97, 98, 99], \"y\": [-0.965573785855108, 2.3411683403874863, 0.16760652247777483, 0.5293763473061892, 1.117328140016128, 0.7549892445442132, 2.054090398813393, -0.6782945481675158, 1.0381705653378392, 1.2140314276926856, 0.03530096826726425, -0.02975819365648567, 0.8490536809198773, -1.5614858840265529, 0.736707745126771, 0.1246407894398844, 0.8379386880632551, 0.41903183767939406, 0.6018429414116641, 0.2553278104357416, 0.10218560907473412, 1.2557054058002752, -0.8748741670847883, -0.3832158110185663, -0.1549106162658271, -1.2769478029855426, 1.2890593262203311, 0.3750696267160941, 0.9921404081646318, 0.21750565479064404, 1.6490157181527234, 0.31979828501405794, -0.26261002617535073, -0.23529714060338808, -0.22362828498994733, -0.6647344151065584, -0.5875322210729691, -0.6137603446064702, 0.08365852508295676, -0.5736703131755713, 0.441260085154336, 0.7722016610545739, 0.5324255904558407, 0.40093790935933765, -0.053257602214600776, 0.23615988021806109, -0.1196653377877863, -0.4081360519718144, -1.3879231468442046, 0.47753275715667615, 0.6015109009282125, -0.5627145530644787, 1.0817852258226457, 0.5902559942383697, -0.44190244945846197, 0.31613056599056255, 0.6907867960989922, -1.6964258454693064, 0.6704678610285731, -0.20217302565308465, 0.8315265238590916, 0.5243909564105876, -1.258734034452956, -1.4020188180171287, -0.07728484380937733, -0.28049267010943935, 0.08706081149001788, -1.778059875620324, -0.8343277328158784, 0.3864682378824961, 0.1503109040719167, -0.11424349139968754, -1.6639743787791799, -2.191755541277839, 0.45497897381261365, 0.31285327059157747, -0.3570196489480991, 0.06866855226780288, -0.8135424471581575, -0.49434730240269664, 0.4461810207717648, 1.1420257711588415, -0.31672702200917324, 1.82080657095947, 0.679232378362389, 0.4063062091653785, -1.0668562477330763, 1.2601410127551493, -0.08626475067008418, -0.36923131351358884, -0.7445667813101593, 1.6459010653261605, -0.4346406940551893, -1.8764159532897957, 1.2075252986936873, 0.8368235720752266, 2.318359996303223, 0.14353185810363364, 0.5082567333578968, 0.7185225785825067]}, {\"connectgaps\": false, \"fill\": \"tozeroy\", \"line\": {\"color\": \"green\", \"dash\": \"solid\", \"shape\": \"linear\", \"width\": 0.5}, \"mode\": \"lines\", \"name\": \"Spread\", \"showlegend\": false, \"type\": \"scatter\", \"x\": [0, 1, 2, 3, 4, 5, 6, 7, 8, 9, 10, 11, 12, 13, 14, 15, 16, 17, 18, 19, 20, 21, 22, 23, 24, 25, 26, 27, 28, 29, 30, 31, 32, 33, 34, 35, 36, 37, 38, 39, 40, 41, 42, 43, 44, 45, 46, 47, 48, 49, 50, 51, 52, 53, 54, 55, 56, 57, 58, 59, 60, 61, 62, 63, 64, 65, 66, 67, 68, 69, 70, 71, 72, 73, 74, 75, 76, 77, 78, 79, 80, 81, 82, 83, 84, 85, 86, 87, 88, 89, 90, 91, 92, 93, 94, 95, 96, 97, 98, 99], \"xaxis\": \"x2\", \"y\": [1.602397541691492, \"\", \"\", 0.13498073976354352, \"\", \"\", \"\", \"\", \"\", \"\", \"\", \"\", 1.091163977592549, 2.3632131538969454, 0.6883882765283194, 2.216777166745256, \"\", \"\", \"\", \"\", 0.976391777050764, \"\", 0.9175401741791306, 1.0712284915116657, 0.9288155414687729, 1.335136615072979, \"\", \"\", \"\", \"\", \"\", \"\", 0.7883239279886318, 0.5045989013658272, 0.5022150995408057, 1.4767127848586559, 1.0557462968188216, 2.0825114274472623, \"\", 1.214322078804957, \"\", \"\", \"\", \"\", \"\", \"\", 0.657958401569552, \"\", 0.7150314348162301, 0.23690734809494501, \"\", 0.7360158540220536, \"\", 0.133476905850759, 0.7152438981482665, 0.17037295651887407, 0.010846942618501054, 1.7372169081264128, \"\", \"\", \"\", \"\", 2.91033610083395, \"\", 1.8316714072506461, 1.9154649975740252, 0.6842313968870626, 2.1951737085585554, 2.06963124682514, 0.4442459288587421, 1.6068197990271345, 0.08002764393900699, 3.117900996841317, 1.5498942659673536, \"\", 1.4867168738417138, 0.6995999138694311, \"\", 1.1306777575383788, \"\", \"\", 0.6320977124211209, 2.8088380865980764, \"\", \"\", \"\", 1.3285398527569023, \"\", 0.5266433150178076, 2.188755885916465, 1.5117343250938293, \"\", 0.5507119221355137, 3.403472659573718, \"\", \"\", \"\", \"\", \"\", \"\"], \"yaxis\": \"y2\"}, {\"connectgaps\": false, \"fill\": \"tozeroy\", \"line\": {\"color\": \"red\", \"dash\": \"solid\", \"shape\": \"linear\", \"width\": 0.5}, \"mode\": \"lines\", \"name\": \"Spread\", \"showlegend\": false, \"type\": \"scatter\", \"x\": [0, 1, 2, 3, 4, 5, 6, 7, 8, 9, 10, 11, 12, 13, 14, 15, 16, 17, 18, 19, 20, 21, 22, 23, 24, 25, 26, 27, 28, 29, 30, 31, 32, 33, 34, 35, 36, 37, 38, 39, 40, 41, 42, 43, 44, 45, 46, 47, 48, 49, 50, 51, 52, 53, 54, 55, 56, 57, 58, 59, 60, 61, 62, 63, 64, 65, 66, 67, 68, 69, 70, 71, 72, 73, 74, 75, 76, 77, 78, 79, 80, 81, 82, 83, 84, 85, 86, 87, 88, 89, 90, 91, 92, 93, 94, 95, 96, 97, 98, 99], \"xaxis\": \"x2\", \"y\": [\"\", -1.2762677293292726, -0.029202268700356693, \"\", -0.8069881795530435, -0.44545849983622415, -3.0571710937250938, -1.3956858734866013, -1.0511491230133523, -1.8583924525981725, -0.43721326942718675, -1.1567658264646357, \"\", \"\", \"\", \"\", -1.0414463725323428, -0.1903551721701736, -1.4914058950667066, -0.4149509962142475, \"\", -2.955422034338964, \"\", \"\", \"\", \"\", -1.4293534939897663, -1.3732541880708151, -0.770877760195728, -1.4444554617349716, -0.4444200028184324, -1.0766233869506023, \"\", \"\", \"\", \"\", \"\", \"\", -0.6817018472451727, \"\", -0.6675361394823428, -1.4375310905510523, -1.1160567857610495, -0.6438054469414832, -1.7996057571685675, -0.24368795021086642, \"\", -0.2209512134685016, \"\", \"\", -0.3677264243601639, \"\", -0.8645211557250863, \"\", \"\", \"\", \"\", \"\", -2.637067566520257, -0.4610219708259679, -1.5418211773636346, -1.6017941863417593, \"\", -0.2168213991199539, \"\", \"\", \"\", \"\", \"\", \"\", \"\", \"\", \"\", \"\", -2.7195037109242195, \"\", \"\", -1.220593702257533, \"\", -0.2048472299363583, -0.6336062655488375, \"\", \"\", -2.3662866462212797, -2.7640815675161123, -0.4925458464891116, \"\", -1.584243763327383, \"\", \"\", \"\", -2.2843640965537206, \"\", \"\", -1.3688303263864254, -1.2708931594801451, -0.8448685255294628, -0.3101029637188026, -1.8339159018288318, -2.5092938030963166], \"yaxis\": \"y2\"}],\n",
       "                        {\"hovermode\": \"x\", \"legend\": {\"bgcolor\": \"#F5F6F9\", \"font\": {\"color\": \"#4D5663\"}}, \"paper_bgcolor\": \"#F5F6F9\", \"plot_bgcolor\": \"#F5F6F9\", \"template\": {\"data\": {\"bar\": [{\"error_x\": {\"color\": \"#2a3f5f\"}, \"error_y\": {\"color\": \"#2a3f5f\"}, \"marker\": {\"line\": {\"color\": \"#E5ECF6\", \"width\": 0.5}}, \"type\": \"bar\"}], \"barpolar\": [{\"marker\": {\"line\": {\"color\": \"#E5ECF6\", \"width\": 0.5}}, \"type\": \"barpolar\"}], \"carpet\": [{\"aaxis\": {\"endlinecolor\": \"#2a3f5f\", \"gridcolor\": \"white\", \"linecolor\": \"white\", \"minorgridcolor\": \"white\", \"startlinecolor\": \"#2a3f5f\"}, \"baxis\": {\"endlinecolor\": \"#2a3f5f\", \"gridcolor\": \"white\", \"linecolor\": \"white\", \"minorgridcolor\": \"white\", \"startlinecolor\": \"#2a3f5f\"}, \"type\": \"carpet\"}], \"choropleth\": [{\"colorbar\": {\"outlinewidth\": 0, \"ticks\": \"\"}, \"type\": \"choropleth\"}], \"contour\": [{\"colorbar\": {\"outlinewidth\": 0, \"ticks\": \"\"}, \"colorscale\": [[0.0, \"#0d0887\"], [0.1111111111111111, \"#46039f\"], [0.2222222222222222, \"#7201a8\"], [0.3333333333333333, \"#9c179e\"], [0.4444444444444444, \"#bd3786\"], [0.5555555555555556, \"#d8576b\"], [0.6666666666666666, \"#ed7953\"], [0.7777777777777778, \"#fb9f3a\"], [0.8888888888888888, \"#fdca26\"], [1.0, \"#f0f921\"]], \"type\": \"contour\"}], \"contourcarpet\": [{\"colorbar\": {\"outlinewidth\": 0, \"ticks\": \"\"}, \"type\": \"contourcarpet\"}], \"heatmap\": [{\"colorbar\": {\"outlinewidth\": 0, \"ticks\": \"\"}, \"colorscale\": [[0.0, \"#0d0887\"], [0.1111111111111111, \"#46039f\"], [0.2222222222222222, \"#7201a8\"], [0.3333333333333333, \"#9c179e\"], [0.4444444444444444, \"#bd3786\"], [0.5555555555555556, \"#d8576b\"], [0.6666666666666666, \"#ed7953\"], [0.7777777777777778, \"#fb9f3a\"], [0.8888888888888888, \"#fdca26\"], [1.0, \"#f0f921\"]], \"type\": \"heatmap\"}], \"heatmapgl\": [{\"colorbar\": {\"outlinewidth\": 0, \"ticks\": \"\"}, \"colorscale\": [[0.0, \"#0d0887\"], [0.1111111111111111, \"#46039f\"], [0.2222222222222222, \"#7201a8\"], [0.3333333333333333, \"#9c179e\"], [0.4444444444444444, \"#bd3786\"], [0.5555555555555556, \"#d8576b\"], [0.6666666666666666, \"#ed7953\"], [0.7777777777777778, \"#fb9f3a\"], [0.8888888888888888, \"#fdca26\"], [1.0, \"#f0f921\"]], \"type\": \"heatmapgl\"}], \"histogram\": [{\"marker\": {\"colorbar\": {\"outlinewidth\": 0, \"ticks\": \"\"}}, \"type\": \"histogram\"}], \"histogram2d\": [{\"colorbar\": {\"outlinewidth\": 0, \"ticks\": \"\"}, \"colorscale\": [[0.0, \"#0d0887\"], [0.1111111111111111, \"#46039f\"], [0.2222222222222222, \"#7201a8\"], [0.3333333333333333, \"#9c179e\"], [0.4444444444444444, \"#bd3786\"], [0.5555555555555556, \"#d8576b\"], [0.6666666666666666, \"#ed7953\"], [0.7777777777777778, \"#fb9f3a\"], [0.8888888888888888, \"#fdca26\"], [1.0, \"#f0f921\"]], \"type\": \"histogram2d\"}], \"histogram2dcontour\": [{\"colorbar\": {\"outlinewidth\": 0, \"ticks\": \"\"}, \"colorscale\": [[0.0, \"#0d0887\"], [0.1111111111111111, \"#46039f\"], [0.2222222222222222, \"#7201a8\"], [0.3333333333333333, \"#9c179e\"], [0.4444444444444444, \"#bd3786\"], [0.5555555555555556, \"#d8576b\"], [0.6666666666666666, \"#ed7953\"], [0.7777777777777778, \"#fb9f3a\"], [0.8888888888888888, \"#fdca26\"], [1.0, \"#f0f921\"]], \"type\": \"histogram2dcontour\"}], \"mesh3d\": [{\"colorbar\": {\"outlinewidth\": 0, \"ticks\": \"\"}, \"type\": \"mesh3d\"}], \"parcoords\": [{\"line\": {\"colorbar\": {\"outlinewidth\": 0, \"ticks\": \"\"}}, \"type\": \"parcoords\"}], \"pie\": [{\"automargin\": true, \"type\": \"pie\"}], \"scatter\": [{\"marker\": {\"colorbar\": {\"outlinewidth\": 0, \"ticks\": \"\"}}, \"type\": \"scatter\"}], \"scatter3d\": [{\"line\": {\"colorbar\": {\"outlinewidth\": 0, \"ticks\": \"\"}}, \"marker\": {\"colorbar\": {\"outlinewidth\": 0, \"ticks\": \"\"}}, \"type\": \"scatter3d\"}], \"scattercarpet\": [{\"marker\": {\"colorbar\": {\"outlinewidth\": 0, \"ticks\": \"\"}}, \"type\": \"scattercarpet\"}], \"scattergeo\": [{\"marker\": {\"colorbar\": {\"outlinewidth\": 0, \"ticks\": \"\"}}, \"type\": \"scattergeo\"}], \"scattergl\": [{\"marker\": {\"colorbar\": {\"outlinewidth\": 0, \"ticks\": \"\"}}, \"type\": \"scattergl\"}], \"scattermapbox\": [{\"marker\": {\"colorbar\": {\"outlinewidth\": 0, \"ticks\": \"\"}}, \"type\": \"scattermapbox\"}], \"scatterpolar\": [{\"marker\": {\"colorbar\": {\"outlinewidth\": 0, \"ticks\": \"\"}}, \"type\": \"scatterpolar\"}], \"scatterpolargl\": [{\"marker\": {\"colorbar\": {\"outlinewidth\": 0, \"ticks\": \"\"}}, \"type\": \"scatterpolargl\"}], \"scatterternary\": [{\"marker\": {\"colorbar\": {\"outlinewidth\": 0, \"ticks\": \"\"}}, \"type\": \"scatterternary\"}], \"surface\": [{\"colorbar\": {\"outlinewidth\": 0, \"ticks\": \"\"}, \"colorscale\": [[0.0, \"#0d0887\"], [0.1111111111111111, \"#46039f\"], [0.2222222222222222, \"#7201a8\"], [0.3333333333333333, \"#9c179e\"], [0.4444444444444444, \"#bd3786\"], [0.5555555555555556, \"#d8576b\"], [0.6666666666666666, \"#ed7953\"], [0.7777777777777778, \"#fb9f3a\"], [0.8888888888888888, \"#fdca26\"], [1.0, \"#f0f921\"]], \"type\": \"surface\"}], \"table\": [{\"cells\": {\"fill\": {\"color\": \"#EBF0F8\"}, \"line\": {\"color\": \"white\"}}, \"header\": {\"fill\": {\"color\": \"#C8D4E3\"}, \"line\": {\"color\": \"white\"}}, \"type\": \"table\"}]}, \"layout\": {\"annotationdefaults\": {\"arrowcolor\": \"#2a3f5f\", \"arrowhead\": 0, \"arrowwidth\": 1}, \"coloraxis\": {\"colorbar\": {\"outlinewidth\": 0, \"ticks\": \"\"}}, \"colorscale\": {\"diverging\": [[0, \"#8e0152\"], [0.1, \"#c51b7d\"], [0.2, \"#de77ae\"], [0.3, \"#f1b6da\"], [0.4, \"#fde0ef\"], [0.5, \"#f7f7f7\"], [0.6, \"#e6f5d0\"], [0.7, \"#b8e186\"], [0.8, \"#7fbc41\"], [0.9, \"#4d9221\"], [1, \"#276419\"]], \"sequential\": [[0.0, \"#0d0887\"], [0.1111111111111111, \"#46039f\"], [0.2222222222222222, \"#7201a8\"], [0.3333333333333333, \"#9c179e\"], [0.4444444444444444, \"#bd3786\"], [0.5555555555555556, \"#d8576b\"], [0.6666666666666666, \"#ed7953\"], [0.7777777777777778, \"#fb9f3a\"], [0.8888888888888888, \"#fdca26\"], [1.0, \"#f0f921\"]], \"sequentialminus\": [[0.0, \"#0d0887\"], [0.1111111111111111, \"#46039f\"], [0.2222222222222222, \"#7201a8\"], [0.3333333333333333, \"#9c179e\"], [0.4444444444444444, \"#bd3786\"], [0.5555555555555556, \"#d8576b\"], [0.6666666666666666, \"#ed7953\"], [0.7777777777777778, \"#fb9f3a\"], [0.8888888888888888, \"#fdca26\"], [1.0, \"#f0f921\"]]}, \"colorway\": [\"#636efa\", \"#EF553B\", \"#00cc96\", \"#ab63fa\", \"#FFA15A\", \"#19d3f3\", \"#FF6692\", \"#B6E880\", \"#FF97FF\", \"#FECB52\"], \"font\": {\"color\": \"#2a3f5f\"}, \"geo\": {\"bgcolor\": \"white\", \"lakecolor\": \"white\", \"landcolor\": \"#E5ECF6\", \"showlakes\": true, \"showland\": true, \"subunitcolor\": \"white\"}, \"hoverlabel\": {\"align\": \"left\"}, \"hovermode\": \"closest\", \"mapbox\": {\"style\": \"light\"}, \"paper_bgcolor\": \"white\", \"plot_bgcolor\": \"#E5ECF6\", \"polar\": {\"angularaxis\": {\"gridcolor\": \"white\", \"linecolor\": \"white\", \"ticks\": \"\"}, \"bgcolor\": \"#E5ECF6\", \"radialaxis\": {\"gridcolor\": \"white\", \"linecolor\": \"white\", \"ticks\": \"\"}}, \"scene\": {\"xaxis\": {\"backgroundcolor\": \"#E5ECF6\", \"gridcolor\": \"white\", \"gridwidth\": 2, \"linecolor\": \"white\", \"showbackground\": true, \"ticks\": \"\", \"zerolinecolor\": \"white\"}, \"yaxis\": {\"backgroundcolor\": \"#E5ECF6\", \"gridcolor\": \"white\", \"gridwidth\": 2, \"linecolor\": \"white\", \"showbackground\": true, \"ticks\": \"\", \"zerolinecolor\": \"white\"}, \"zaxis\": {\"backgroundcolor\": \"#E5ECF6\", \"gridcolor\": \"white\", \"gridwidth\": 2, \"linecolor\": \"white\", \"showbackground\": true, \"ticks\": \"\", \"zerolinecolor\": \"white\"}}, \"shapedefaults\": {\"line\": {\"color\": \"#2a3f5f\"}}, \"ternary\": {\"aaxis\": {\"gridcolor\": \"white\", \"linecolor\": \"white\", \"ticks\": \"\"}, \"baxis\": {\"gridcolor\": \"white\", \"linecolor\": \"white\", \"ticks\": \"\"}, \"bgcolor\": \"#E5ECF6\", \"caxis\": {\"gridcolor\": \"white\", \"linecolor\": \"white\", \"ticks\": \"\"}}, \"title\": {\"x\": 0.05}, \"xaxis\": {\"automargin\": true, \"gridcolor\": \"white\", \"linecolor\": \"white\", \"ticks\": \"\", \"title\": {\"standoff\": 15}, \"zerolinecolor\": \"white\", \"zerolinewidth\": 2}, \"yaxis\": {\"automargin\": true, \"gridcolor\": \"white\", \"linecolor\": \"white\", \"ticks\": \"\", \"title\": {\"standoff\": 15}, \"zerolinecolor\": \"white\", \"zerolinewidth\": 2}}}, \"title\": {\"font\": {\"color\": \"#4D5663\"}}, \"xaxis\": {\"gridcolor\": \"#E1E5ED\", \"showgrid\": true, \"tickfont\": {\"color\": \"#4D5663\"}, \"title\": {\"font\": {\"color\": \"#4D5663\"}, \"text\": \"\"}, \"zerolinecolor\": \"#E1E5ED\"}, \"xaxis2\": {\"anchor\": \"y2\", \"gridcolor\": \"#E1E5ED\", \"showgrid\": true, \"showticklabels\": false, \"tickfont\": {\"color\": \"#4D5663\"}, \"title\": {\"font\": {\"color\": \"#4D5663\"}, \"text\": \"\"}, \"zerolinecolor\": \"#E1E5ED\"}, \"yaxis\": {\"domain\": [0.3, 1], \"gridcolor\": \"#E1E5ED\", \"showgrid\": true, \"tickfont\": {\"color\": \"#4D5663\"}, \"title\": {\"font\": {\"color\": \"#4D5663\"}, \"text\": \"\"}, \"zerolinecolor\": \"#E1E5ED\"}, \"yaxis2\": {\"domain\": [0, 0.25], \"gridcolor\": \"#E1E5ED\", \"showgrid\": true, \"tickfont\": {\"color\": \"#4D5663\"}, \"title\": {\"font\": {\"color\": \"#4D5663\"}, \"text\": \"Spread\"}, \"zerolinecolor\": \"#E1E5ED\"}},\n",
       "                        {\"showLink\": true, \"linkText\": \"Export to plot.ly\", \"plotlyServerURL\": \"https://plot.ly\", \"responsive\": true}\n",
       "                    ).then(function(){\n",
       "                            \n",
       "var gd = document.getElementById('4dc96188-0f47-4669-9d2b-0fe069712f66');\n",
       "var x = new MutationObserver(function (mutations, observer) {{\n",
       "        var display = window.getComputedStyle(gd).display;\n",
       "        if (!display || display === 'none') {{\n",
       "            console.log([gd, 'removed!']);\n",
       "            Plotly.purge(gd);\n",
       "            observer.disconnect();\n",
       "        }}\n",
       "}});\n",
       "\n",
       "// Listen for the removal of the full notebook cells\n",
       "var notebookContainer = gd.closest('#notebook-container');\n",
       "if (notebookContainer) {{\n",
       "    x.observe(notebookContainer, {childList: true});\n",
       "}}\n",
       "\n",
       "// Listen for the clearing of the current output cell\n",
       "var outputEl = gd.closest('.output');\n",
       "if (outputEl) {{\n",
       "    x.observe(outputEl, {childList: true});\n",
       "}}\n",
       "\n",
       "                        })\n",
       "                };\n",
       "                });\n",
       "            </script>\n",
       "        </div>"
      ]
     },
     "metadata": {},
     "output_type": "display_data"
    }
   ],
   "source": [
    "df[['A','B']].iplot(kind='spread')"
   ]
  },
  {
   "cell_type": "markdown",
   "metadata": {},
   "source": [
    "## histogram"
   ]
  },
  {
   "cell_type": "code",
   "execution_count": 39,
   "metadata": {},
   "outputs": [
    {
     "data": {
      "application/vnd.plotly.v1+json": {
       "config": {
        "linkText": "Export to plot.ly",
        "plotlyServerURL": "https://plot.ly",
        "showLink": true
       },
       "data": [
        {
         "histfunc": "count",
         "histnorm": "",
         "marker": {
          "color": "rgba(255, 153, 51, 1.0)",
          "line": {
           "color": "#4D5663",
           "width": 1.3
          }
         },
         "name": "A",
         "nbinsx": 25,
         "opacity": 0.8,
         "orientation": "v",
         "type": "histogram",
         "x": [
          0.6368237558363841,
          1.0649006110582138,
          0.13840425377741813,
          0.6643570870697327,
          0.31033996046308443,
          0.3095307447079891,
          -1.0030806949117006,
          -2.073980421654117,
          -0.012978557675513116,
          -0.6443610249054871,
          -0.4019123011599225,
          -1.1865240201211213,
          1.9402176585124264,
          0.8017272698703927,
          1.4250960216550903,
          2.3414179561851403,
          -0.20350768446908774,
          0.22867666550922047,
          -0.8895629536550426,
          -0.15962318577850593,
          1.0785773861254981,
          -1.6997166285386889,
          0.04266600709434228,
          0.6880126804930993,
          0.7739049252029457,
          0.058188812087436564,
          -0.14029416776943504,
          -0.9981845613547209,
          0.22126264796890385,
          -1.2269498069443276,
          1.204595715334291,
          -0.7568251019365444,
          0.525713901813281,
          0.26930176076243917,
          0.2785868145508584,
          0.8119783697520976,
          0.46821407574585244,
          1.4687510828407921,
          -0.5980433221622159,
          0.6406517656293856,
          -0.2262760543280068,
          -0.6653294294964786,
          -0.5836311953052089,
          -0.2428675375821456,
          -1.8528633593831683,
          -0.007528069992805335,
          0.5382930637817657,
          -0.629087265440316,
          -0.6728917120279745,
          0.7144401052516212,
          0.23378447656804857,
          0.17330130095757496,
          0.21726407009755946,
          0.7237329000891287,
          0.27334144868980453,
          0.4865035225094366,
          0.7016337387174932,
          0.04079106265710642,
          -1.9665997054916837,
          -0.6631949964790526,
          -0.7102946535045428,
          -1.0774032299311715,
          1.6516020663809938,
          -1.6188402171370826,
          1.7543865634412688,
          1.6349723274645858,
          0.7712922083770805,
          0.41711383293823157,
          1.2353035140092619,
          0.8307141667412382,
          1.757130703099051,
          -0.03421584746068055,
          1.4539266180621373,
          -0.6418612753104854,
          -2.2645247371116057,
          1.7995701444332912,
          0.34258026492133203,
          -1.15192514998973,
          0.31713531038022136,
          -0.6991945323390549,
          -0.1874252447770727,
          1.7741234835799624,
          2.492111064588903,
          -0.5454800752618096,
          -2.084849189153723,
          -0.0862396373237331,
          0.261683605023826,
          -0.3241027505722336,
          0.44037856434772343,
          1.8195245724028761,
          0.7671675437836701,
          -0.6384630312275602,
          0.11607122808032443,
          1.5270567062839226,
          -0.16130502769273808,
          -0.43406958740491863,
          1.4734914707737603,
          -0.16657110561516894,
          -1.325659168470935,
          -1.7907712245138099
         ]
        }
       ],
       "layout": {
        "barmode": "overlay",
        "legend": {
         "bgcolor": "#F5F6F9",
         "font": {
          "color": "#4D5663"
         }
        },
        "paper_bgcolor": "#F5F6F9",
        "plot_bgcolor": "#F5F6F9",
        "template": {
         "data": {
          "bar": [
           {
            "error_x": {
             "color": "#2a3f5f"
            },
            "error_y": {
             "color": "#2a3f5f"
            },
            "marker": {
             "line": {
              "color": "#E5ECF6",
              "width": 0.5
             }
            },
            "type": "bar"
           }
          ],
          "barpolar": [
           {
            "marker": {
             "line": {
              "color": "#E5ECF6",
              "width": 0.5
             }
            },
            "type": "barpolar"
           }
          ],
          "carpet": [
           {
            "aaxis": {
             "endlinecolor": "#2a3f5f",
             "gridcolor": "white",
             "linecolor": "white",
             "minorgridcolor": "white",
             "startlinecolor": "#2a3f5f"
            },
            "baxis": {
             "endlinecolor": "#2a3f5f",
             "gridcolor": "white",
             "linecolor": "white",
             "minorgridcolor": "white",
             "startlinecolor": "#2a3f5f"
            },
            "type": "carpet"
           }
          ],
          "choropleth": [
           {
            "colorbar": {
             "outlinewidth": 0,
             "ticks": ""
            },
            "type": "choropleth"
           }
          ],
          "contour": [
           {
            "colorbar": {
             "outlinewidth": 0,
             "ticks": ""
            },
            "colorscale": [
             [
              0,
              "#0d0887"
             ],
             [
              0.1111111111111111,
              "#46039f"
             ],
             [
              0.2222222222222222,
              "#7201a8"
             ],
             [
              0.3333333333333333,
              "#9c179e"
             ],
             [
              0.4444444444444444,
              "#bd3786"
             ],
             [
              0.5555555555555556,
              "#d8576b"
             ],
             [
              0.6666666666666666,
              "#ed7953"
             ],
             [
              0.7777777777777778,
              "#fb9f3a"
             ],
             [
              0.8888888888888888,
              "#fdca26"
             ],
             [
              1,
              "#f0f921"
             ]
            ],
            "type": "contour"
           }
          ],
          "contourcarpet": [
           {
            "colorbar": {
             "outlinewidth": 0,
             "ticks": ""
            },
            "type": "contourcarpet"
           }
          ],
          "heatmap": [
           {
            "colorbar": {
             "outlinewidth": 0,
             "ticks": ""
            },
            "colorscale": [
             [
              0,
              "#0d0887"
             ],
             [
              0.1111111111111111,
              "#46039f"
             ],
             [
              0.2222222222222222,
              "#7201a8"
             ],
             [
              0.3333333333333333,
              "#9c179e"
             ],
             [
              0.4444444444444444,
              "#bd3786"
             ],
             [
              0.5555555555555556,
              "#d8576b"
             ],
             [
              0.6666666666666666,
              "#ed7953"
             ],
             [
              0.7777777777777778,
              "#fb9f3a"
             ],
             [
              0.8888888888888888,
              "#fdca26"
             ],
             [
              1,
              "#f0f921"
             ]
            ],
            "type": "heatmap"
           }
          ],
          "heatmapgl": [
           {
            "colorbar": {
             "outlinewidth": 0,
             "ticks": ""
            },
            "colorscale": [
             [
              0,
              "#0d0887"
             ],
             [
              0.1111111111111111,
              "#46039f"
             ],
             [
              0.2222222222222222,
              "#7201a8"
             ],
             [
              0.3333333333333333,
              "#9c179e"
             ],
             [
              0.4444444444444444,
              "#bd3786"
             ],
             [
              0.5555555555555556,
              "#d8576b"
             ],
             [
              0.6666666666666666,
              "#ed7953"
             ],
             [
              0.7777777777777778,
              "#fb9f3a"
             ],
             [
              0.8888888888888888,
              "#fdca26"
             ],
             [
              1,
              "#f0f921"
             ]
            ],
            "type": "heatmapgl"
           }
          ],
          "histogram": [
           {
            "marker": {
             "colorbar": {
              "outlinewidth": 0,
              "ticks": ""
             }
            },
            "type": "histogram"
           }
          ],
          "histogram2d": [
           {
            "colorbar": {
             "outlinewidth": 0,
             "ticks": ""
            },
            "colorscale": [
             [
              0,
              "#0d0887"
             ],
             [
              0.1111111111111111,
              "#46039f"
             ],
             [
              0.2222222222222222,
              "#7201a8"
             ],
             [
              0.3333333333333333,
              "#9c179e"
             ],
             [
              0.4444444444444444,
              "#bd3786"
             ],
             [
              0.5555555555555556,
              "#d8576b"
             ],
             [
              0.6666666666666666,
              "#ed7953"
             ],
             [
              0.7777777777777778,
              "#fb9f3a"
             ],
             [
              0.8888888888888888,
              "#fdca26"
             ],
             [
              1,
              "#f0f921"
             ]
            ],
            "type": "histogram2d"
           }
          ],
          "histogram2dcontour": [
           {
            "colorbar": {
             "outlinewidth": 0,
             "ticks": ""
            },
            "colorscale": [
             [
              0,
              "#0d0887"
             ],
             [
              0.1111111111111111,
              "#46039f"
             ],
             [
              0.2222222222222222,
              "#7201a8"
             ],
             [
              0.3333333333333333,
              "#9c179e"
             ],
             [
              0.4444444444444444,
              "#bd3786"
             ],
             [
              0.5555555555555556,
              "#d8576b"
             ],
             [
              0.6666666666666666,
              "#ed7953"
             ],
             [
              0.7777777777777778,
              "#fb9f3a"
             ],
             [
              0.8888888888888888,
              "#fdca26"
             ],
             [
              1,
              "#f0f921"
             ]
            ],
            "type": "histogram2dcontour"
           }
          ],
          "mesh3d": [
           {
            "colorbar": {
             "outlinewidth": 0,
             "ticks": ""
            },
            "type": "mesh3d"
           }
          ],
          "parcoords": [
           {
            "line": {
             "colorbar": {
              "outlinewidth": 0,
              "ticks": ""
             }
            },
            "type": "parcoords"
           }
          ],
          "pie": [
           {
            "automargin": true,
            "type": "pie"
           }
          ],
          "scatter": [
           {
            "marker": {
             "colorbar": {
              "outlinewidth": 0,
              "ticks": ""
             }
            },
            "type": "scatter"
           }
          ],
          "scatter3d": [
           {
            "line": {
             "colorbar": {
              "outlinewidth": 0,
              "ticks": ""
             }
            },
            "marker": {
             "colorbar": {
              "outlinewidth": 0,
              "ticks": ""
             }
            },
            "type": "scatter3d"
           }
          ],
          "scattercarpet": [
           {
            "marker": {
             "colorbar": {
              "outlinewidth": 0,
              "ticks": ""
             }
            },
            "type": "scattercarpet"
           }
          ],
          "scattergeo": [
           {
            "marker": {
             "colorbar": {
              "outlinewidth": 0,
              "ticks": ""
             }
            },
            "type": "scattergeo"
           }
          ],
          "scattergl": [
           {
            "marker": {
             "colorbar": {
              "outlinewidth": 0,
              "ticks": ""
             }
            },
            "type": "scattergl"
           }
          ],
          "scattermapbox": [
           {
            "marker": {
             "colorbar": {
              "outlinewidth": 0,
              "ticks": ""
             }
            },
            "type": "scattermapbox"
           }
          ],
          "scatterpolar": [
           {
            "marker": {
             "colorbar": {
              "outlinewidth": 0,
              "ticks": ""
             }
            },
            "type": "scatterpolar"
           }
          ],
          "scatterpolargl": [
           {
            "marker": {
             "colorbar": {
              "outlinewidth": 0,
              "ticks": ""
             }
            },
            "type": "scatterpolargl"
           }
          ],
          "scatterternary": [
           {
            "marker": {
             "colorbar": {
              "outlinewidth": 0,
              "ticks": ""
             }
            },
            "type": "scatterternary"
           }
          ],
          "surface": [
           {
            "colorbar": {
             "outlinewidth": 0,
             "ticks": ""
            },
            "colorscale": [
             [
              0,
              "#0d0887"
             ],
             [
              0.1111111111111111,
              "#46039f"
             ],
             [
              0.2222222222222222,
              "#7201a8"
             ],
             [
              0.3333333333333333,
              "#9c179e"
             ],
             [
              0.4444444444444444,
              "#bd3786"
             ],
             [
              0.5555555555555556,
              "#d8576b"
             ],
             [
              0.6666666666666666,
              "#ed7953"
             ],
             [
              0.7777777777777778,
              "#fb9f3a"
             ],
             [
              0.8888888888888888,
              "#fdca26"
             ],
             [
              1,
              "#f0f921"
             ]
            ],
            "type": "surface"
           }
          ],
          "table": [
           {
            "cells": {
             "fill": {
              "color": "#EBF0F8"
             },
             "line": {
              "color": "white"
             }
            },
            "header": {
             "fill": {
              "color": "#C8D4E3"
             },
             "line": {
              "color": "white"
             }
            },
            "type": "table"
           }
          ]
         },
         "layout": {
          "annotationdefaults": {
           "arrowcolor": "#2a3f5f",
           "arrowhead": 0,
           "arrowwidth": 1
          },
          "coloraxis": {
           "colorbar": {
            "outlinewidth": 0,
            "ticks": ""
           }
          },
          "colorscale": {
           "diverging": [
            [
             0,
             "#8e0152"
            ],
            [
             0.1,
             "#c51b7d"
            ],
            [
             0.2,
             "#de77ae"
            ],
            [
             0.3,
             "#f1b6da"
            ],
            [
             0.4,
             "#fde0ef"
            ],
            [
             0.5,
             "#f7f7f7"
            ],
            [
             0.6,
             "#e6f5d0"
            ],
            [
             0.7,
             "#b8e186"
            ],
            [
             0.8,
             "#7fbc41"
            ],
            [
             0.9,
             "#4d9221"
            ],
            [
             1,
             "#276419"
            ]
           ],
           "sequential": [
            [
             0,
             "#0d0887"
            ],
            [
             0.1111111111111111,
             "#46039f"
            ],
            [
             0.2222222222222222,
             "#7201a8"
            ],
            [
             0.3333333333333333,
             "#9c179e"
            ],
            [
             0.4444444444444444,
             "#bd3786"
            ],
            [
             0.5555555555555556,
             "#d8576b"
            ],
            [
             0.6666666666666666,
             "#ed7953"
            ],
            [
             0.7777777777777778,
             "#fb9f3a"
            ],
            [
             0.8888888888888888,
             "#fdca26"
            ],
            [
             1,
             "#f0f921"
            ]
           ],
           "sequentialminus": [
            [
             0,
             "#0d0887"
            ],
            [
             0.1111111111111111,
             "#46039f"
            ],
            [
             0.2222222222222222,
             "#7201a8"
            ],
            [
             0.3333333333333333,
             "#9c179e"
            ],
            [
             0.4444444444444444,
             "#bd3786"
            ],
            [
             0.5555555555555556,
             "#d8576b"
            ],
            [
             0.6666666666666666,
             "#ed7953"
            ],
            [
             0.7777777777777778,
             "#fb9f3a"
            ],
            [
             0.8888888888888888,
             "#fdca26"
            ],
            [
             1,
             "#f0f921"
            ]
           ]
          },
          "colorway": [
           "#636efa",
           "#EF553B",
           "#00cc96",
           "#ab63fa",
           "#FFA15A",
           "#19d3f3",
           "#FF6692",
           "#B6E880",
           "#FF97FF",
           "#FECB52"
          ],
          "font": {
           "color": "#2a3f5f"
          },
          "geo": {
           "bgcolor": "white",
           "lakecolor": "white",
           "landcolor": "#E5ECF6",
           "showlakes": true,
           "showland": true,
           "subunitcolor": "white"
          },
          "hoverlabel": {
           "align": "left"
          },
          "hovermode": "closest",
          "mapbox": {
           "style": "light"
          },
          "paper_bgcolor": "white",
          "plot_bgcolor": "#E5ECF6",
          "polar": {
           "angularaxis": {
            "gridcolor": "white",
            "linecolor": "white",
            "ticks": ""
           },
           "bgcolor": "#E5ECF6",
           "radialaxis": {
            "gridcolor": "white",
            "linecolor": "white",
            "ticks": ""
           }
          },
          "scene": {
           "xaxis": {
            "backgroundcolor": "#E5ECF6",
            "gridcolor": "white",
            "gridwidth": 2,
            "linecolor": "white",
            "showbackground": true,
            "ticks": "",
            "zerolinecolor": "white"
           },
           "yaxis": {
            "backgroundcolor": "#E5ECF6",
            "gridcolor": "white",
            "gridwidth": 2,
            "linecolor": "white",
            "showbackground": true,
            "ticks": "",
            "zerolinecolor": "white"
           },
           "zaxis": {
            "backgroundcolor": "#E5ECF6",
            "gridcolor": "white",
            "gridwidth": 2,
            "linecolor": "white",
            "showbackground": true,
            "ticks": "",
            "zerolinecolor": "white"
           }
          },
          "shapedefaults": {
           "line": {
            "color": "#2a3f5f"
           }
          },
          "ternary": {
           "aaxis": {
            "gridcolor": "white",
            "linecolor": "white",
            "ticks": ""
           },
           "baxis": {
            "gridcolor": "white",
            "linecolor": "white",
            "ticks": ""
           },
           "bgcolor": "#E5ECF6",
           "caxis": {
            "gridcolor": "white",
            "linecolor": "white",
            "ticks": ""
           }
          },
          "title": {
           "x": 0.05
          },
          "xaxis": {
           "automargin": true,
           "gridcolor": "white",
           "linecolor": "white",
           "ticks": "",
           "title": {
            "standoff": 15
           },
           "zerolinecolor": "white",
           "zerolinewidth": 2
          },
          "yaxis": {
           "automargin": true,
           "gridcolor": "white",
           "linecolor": "white",
           "ticks": "",
           "title": {
            "standoff": 15
           },
           "zerolinecolor": "white",
           "zerolinewidth": 2
          }
         }
        },
        "title": {
         "font": {
          "color": "#4D5663"
         }
        },
        "xaxis": {
         "gridcolor": "#E1E5ED",
         "showgrid": true,
         "tickfont": {
          "color": "#4D5663"
         },
         "title": {
          "font": {
           "color": "#4D5663"
          },
          "text": ""
         },
         "zerolinecolor": "#E1E5ED"
        },
        "yaxis": {
         "gridcolor": "#E1E5ED",
         "showgrid": true,
         "tickfont": {
          "color": "#4D5663"
         },
         "title": {
          "font": {
           "color": "#4D5663"
          },
          "text": ""
         },
         "zerolinecolor": "#E1E5ED"
        }
       }
      },
      "text/html": [
       "<div>\n",
       "        \n",
       "        \n",
       "            <div id=\"792b9641-ea36-4533-bea0-bf16bfe86caf\" class=\"plotly-graph-div\" style=\"height:525px; width:100%;\"></div>\n",
       "            <script type=\"text/javascript\">\n",
       "                require([\"plotly\"], function(Plotly) {\n",
       "                    window.PLOTLYENV=window.PLOTLYENV || {};\n",
       "                    window.PLOTLYENV.BASE_URL='https://plot.ly';\n",
       "                    \n",
       "                if (document.getElementById(\"792b9641-ea36-4533-bea0-bf16bfe86caf\")) {\n",
       "                    Plotly.newPlot(\n",
       "                        '792b9641-ea36-4533-bea0-bf16bfe86caf',\n",
       "                        [{\"histfunc\": \"count\", \"histnorm\": \"\", \"marker\": {\"color\": \"rgba(255, 153, 51, 1.0)\", \"line\": {\"color\": \"#4D5663\", \"width\": 1.3}}, \"name\": \"A\", \"nbinsx\": 25, \"opacity\": 0.8, \"orientation\": \"v\", \"type\": \"histogram\", \"x\": [0.6368237558363841, 1.0649006110582138, 0.13840425377741813, 0.6643570870697327, 0.31033996046308443, 0.3095307447079891, -1.0030806949117006, -2.073980421654117, -0.012978557675513116, -0.6443610249054871, -0.4019123011599225, -1.1865240201211213, 1.9402176585124264, 0.8017272698703927, 1.4250960216550903, 2.3414179561851403, -0.20350768446908774, 0.22867666550922047, -0.8895629536550426, -0.15962318577850593, 1.0785773861254981, -1.6997166285386889, 0.04266600709434228, 0.6880126804930993, 0.7739049252029457, 0.058188812087436564, -0.14029416776943504, -0.9981845613547209, 0.22126264796890385, -1.2269498069443276, 1.204595715334291, -0.7568251019365444, 0.525713901813281, 0.26930176076243917, 0.2785868145508584, 0.8119783697520976, 0.46821407574585244, 1.4687510828407921, -0.5980433221622159, 0.6406517656293856, -0.2262760543280068, -0.6653294294964786, -0.5836311953052089, -0.2428675375821456, -1.8528633593831683, -0.007528069992805335, 0.5382930637817657, -0.629087265440316, -0.6728917120279745, 0.7144401052516212, 0.23378447656804857, 0.17330130095757496, 0.21726407009755946, 0.7237329000891287, 0.27334144868980453, 0.4865035225094366, 0.7016337387174932, 0.04079106265710642, -1.9665997054916837, -0.6631949964790526, -0.7102946535045428, -1.0774032299311715, 1.6516020663809938, -1.6188402171370826, 1.7543865634412688, 1.6349723274645858, 0.7712922083770805, 0.41711383293823157, 1.2353035140092619, 0.8307141667412382, 1.757130703099051, -0.03421584746068055, 1.4539266180621373, -0.6418612753104854, -2.2645247371116057, 1.7995701444332912, 0.34258026492133203, -1.15192514998973, 0.31713531038022136, -0.6991945323390549, -0.1874252447770727, 1.7741234835799624, 2.492111064588903, -0.5454800752618096, -2.084849189153723, -0.0862396373237331, 0.261683605023826, -0.3241027505722336, 0.44037856434772343, 1.8195245724028761, 0.7671675437836701, -0.6384630312275602, 0.11607122808032443, 1.5270567062839226, -0.16130502769273808, -0.43406958740491863, 1.4734914707737603, -0.16657110561516894, -1.325659168470935, -1.7907712245138099]}],\n",
       "                        {\"barmode\": \"overlay\", \"legend\": {\"bgcolor\": \"#F5F6F9\", \"font\": {\"color\": \"#4D5663\"}}, \"paper_bgcolor\": \"#F5F6F9\", \"plot_bgcolor\": \"#F5F6F9\", \"template\": {\"data\": {\"bar\": [{\"error_x\": {\"color\": \"#2a3f5f\"}, \"error_y\": {\"color\": \"#2a3f5f\"}, \"marker\": {\"line\": {\"color\": \"#E5ECF6\", \"width\": 0.5}}, \"type\": \"bar\"}], \"barpolar\": [{\"marker\": {\"line\": {\"color\": \"#E5ECF6\", \"width\": 0.5}}, \"type\": \"barpolar\"}], \"carpet\": [{\"aaxis\": {\"endlinecolor\": \"#2a3f5f\", \"gridcolor\": \"white\", \"linecolor\": \"white\", \"minorgridcolor\": \"white\", \"startlinecolor\": \"#2a3f5f\"}, \"baxis\": {\"endlinecolor\": \"#2a3f5f\", \"gridcolor\": \"white\", \"linecolor\": \"white\", \"minorgridcolor\": \"white\", \"startlinecolor\": \"#2a3f5f\"}, \"type\": \"carpet\"}], \"choropleth\": [{\"colorbar\": {\"outlinewidth\": 0, \"ticks\": \"\"}, \"type\": \"choropleth\"}], \"contour\": [{\"colorbar\": {\"outlinewidth\": 0, \"ticks\": \"\"}, \"colorscale\": [[0.0, \"#0d0887\"], [0.1111111111111111, \"#46039f\"], [0.2222222222222222, \"#7201a8\"], [0.3333333333333333, \"#9c179e\"], [0.4444444444444444, \"#bd3786\"], [0.5555555555555556, \"#d8576b\"], [0.6666666666666666, \"#ed7953\"], [0.7777777777777778, \"#fb9f3a\"], [0.8888888888888888, \"#fdca26\"], [1.0, \"#f0f921\"]], \"type\": \"contour\"}], \"contourcarpet\": [{\"colorbar\": {\"outlinewidth\": 0, \"ticks\": \"\"}, \"type\": \"contourcarpet\"}], \"heatmap\": [{\"colorbar\": {\"outlinewidth\": 0, \"ticks\": \"\"}, \"colorscale\": [[0.0, \"#0d0887\"], [0.1111111111111111, \"#46039f\"], [0.2222222222222222, \"#7201a8\"], [0.3333333333333333, \"#9c179e\"], [0.4444444444444444, \"#bd3786\"], [0.5555555555555556, \"#d8576b\"], [0.6666666666666666, \"#ed7953\"], [0.7777777777777778, \"#fb9f3a\"], [0.8888888888888888, \"#fdca26\"], [1.0, \"#f0f921\"]], \"type\": \"heatmap\"}], \"heatmapgl\": [{\"colorbar\": {\"outlinewidth\": 0, \"ticks\": \"\"}, \"colorscale\": [[0.0, \"#0d0887\"], [0.1111111111111111, \"#46039f\"], [0.2222222222222222, \"#7201a8\"], [0.3333333333333333, \"#9c179e\"], [0.4444444444444444, \"#bd3786\"], [0.5555555555555556, \"#d8576b\"], [0.6666666666666666, \"#ed7953\"], [0.7777777777777778, \"#fb9f3a\"], [0.8888888888888888, \"#fdca26\"], [1.0, \"#f0f921\"]], \"type\": \"heatmapgl\"}], \"histogram\": [{\"marker\": {\"colorbar\": {\"outlinewidth\": 0, \"ticks\": \"\"}}, \"type\": \"histogram\"}], \"histogram2d\": [{\"colorbar\": {\"outlinewidth\": 0, \"ticks\": \"\"}, \"colorscale\": [[0.0, \"#0d0887\"], [0.1111111111111111, \"#46039f\"], [0.2222222222222222, \"#7201a8\"], [0.3333333333333333, \"#9c179e\"], [0.4444444444444444, \"#bd3786\"], [0.5555555555555556, \"#d8576b\"], [0.6666666666666666, \"#ed7953\"], [0.7777777777777778, \"#fb9f3a\"], [0.8888888888888888, \"#fdca26\"], [1.0, \"#f0f921\"]], \"type\": \"histogram2d\"}], \"histogram2dcontour\": [{\"colorbar\": {\"outlinewidth\": 0, \"ticks\": \"\"}, \"colorscale\": [[0.0, \"#0d0887\"], [0.1111111111111111, \"#46039f\"], [0.2222222222222222, \"#7201a8\"], [0.3333333333333333, \"#9c179e\"], [0.4444444444444444, \"#bd3786\"], [0.5555555555555556, \"#d8576b\"], [0.6666666666666666, \"#ed7953\"], [0.7777777777777778, \"#fb9f3a\"], [0.8888888888888888, \"#fdca26\"], [1.0, \"#f0f921\"]], \"type\": \"histogram2dcontour\"}], \"mesh3d\": [{\"colorbar\": {\"outlinewidth\": 0, \"ticks\": \"\"}, \"type\": \"mesh3d\"}], \"parcoords\": [{\"line\": {\"colorbar\": {\"outlinewidth\": 0, \"ticks\": \"\"}}, \"type\": \"parcoords\"}], \"pie\": [{\"automargin\": true, \"type\": \"pie\"}], \"scatter\": [{\"marker\": {\"colorbar\": {\"outlinewidth\": 0, \"ticks\": \"\"}}, \"type\": \"scatter\"}], \"scatter3d\": [{\"line\": {\"colorbar\": {\"outlinewidth\": 0, \"ticks\": \"\"}}, \"marker\": {\"colorbar\": {\"outlinewidth\": 0, \"ticks\": \"\"}}, \"type\": \"scatter3d\"}], \"scattercarpet\": [{\"marker\": {\"colorbar\": {\"outlinewidth\": 0, \"ticks\": \"\"}}, \"type\": \"scattercarpet\"}], \"scattergeo\": [{\"marker\": {\"colorbar\": {\"outlinewidth\": 0, \"ticks\": \"\"}}, \"type\": \"scattergeo\"}], \"scattergl\": [{\"marker\": {\"colorbar\": {\"outlinewidth\": 0, \"ticks\": \"\"}}, \"type\": \"scattergl\"}], \"scattermapbox\": [{\"marker\": {\"colorbar\": {\"outlinewidth\": 0, \"ticks\": \"\"}}, \"type\": \"scattermapbox\"}], \"scatterpolar\": [{\"marker\": {\"colorbar\": {\"outlinewidth\": 0, \"ticks\": \"\"}}, \"type\": \"scatterpolar\"}], \"scatterpolargl\": [{\"marker\": {\"colorbar\": {\"outlinewidth\": 0, \"ticks\": \"\"}}, \"type\": \"scatterpolargl\"}], \"scatterternary\": [{\"marker\": {\"colorbar\": {\"outlinewidth\": 0, \"ticks\": \"\"}}, \"type\": \"scatterternary\"}], \"surface\": [{\"colorbar\": {\"outlinewidth\": 0, \"ticks\": \"\"}, \"colorscale\": [[0.0, \"#0d0887\"], [0.1111111111111111, \"#46039f\"], [0.2222222222222222, \"#7201a8\"], [0.3333333333333333, \"#9c179e\"], [0.4444444444444444, \"#bd3786\"], [0.5555555555555556, \"#d8576b\"], [0.6666666666666666, \"#ed7953\"], [0.7777777777777778, \"#fb9f3a\"], [0.8888888888888888, \"#fdca26\"], [1.0, \"#f0f921\"]], \"type\": \"surface\"}], \"table\": [{\"cells\": {\"fill\": {\"color\": \"#EBF0F8\"}, \"line\": {\"color\": \"white\"}}, \"header\": {\"fill\": {\"color\": \"#C8D4E3\"}, \"line\": {\"color\": \"white\"}}, \"type\": \"table\"}]}, \"layout\": {\"annotationdefaults\": {\"arrowcolor\": \"#2a3f5f\", \"arrowhead\": 0, \"arrowwidth\": 1}, \"coloraxis\": {\"colorbar\": {\"outlinewidth\": 0, \"ticks\": \"\"}}, \"colorscale\": {\"diverging\": [[0, \"#8e0152\"], [0.1, \"#c51b7d\"], [0.2, \"#de77ae\"], [0.3, \"#f1b6da\"], [0.4, \"#fde0ef\"], [0.5, \"#f7f7f7\"], [0.6, \"#e6f5d0\"], [0.7, \"#b8e186\"], [0.8, \"#7fbc41\"], [0.9, \"#4d9221\"], [1, \"#276419\"]], \"sequential\": [[0.0, \"#0d0887\"], [0.1111111111111111, \"#46039f\"], [0.2222222222222222, \"#7201a8\"], [0.3333333333333333, \"#9c179e\"], [0.4444444444444444, \"#bd3786\"], [0.5555555555555556, \"#d8576b\"], [0.6666666666666666, \"#ed7953\"], [0.7777777777777778, \"#fb9f3a\"], [0.8888888888888888, \"#fdca26\"], [1.0, \"#f0f921\"]], \"sequentialminus\": [[0.0, \"#0d0887\"], [0.1111111111111111, \"#46039f\"], [0.2222222222222222, \"#7201a8\"], [0.3333333333333333, \"#9c179e\"], [0.4444444444444444, \"#bd3786\"], [0.5555555555555556, \"#d8576b\"], [0.6666666666666666, \"#ed7953\"], [0.7777777777777778, \"#fb9f3a\"], [0.8888888888888888, \"#fdca26\"], [1.0, \"#f0f921\"]]}, \"colorway\": [\"#636efa\", \"#EF553B\", \"#00cc96\", \"#ab63fa\", \"#FFA15A\", \"#19d3f3\", \"#FF6692\", \"#B6E880\", \"#FF97FF\", \"#FECB52\"], \"font\": {\"color\": \"#2a3f5f\"}, \"geo\": {\"bgcolor\": \"white\", \"lakecolor\": \"white\", \"landcolor\": \"#E5ECF6\", \"showlakes\": true, \"showland\": true, \"subunitcolor\": \"white\"}, \"hoverlabel\": {\"align\": \"left\"}, \"hovermode\": \"closest\", \"mapbox\": {\"style\": \"light\"}, \"paper_bgcolor\": \"white\", \"plot_bgcolor\": \"#E5ECF6\", \"polar\": {\"angularaxis\": {\"gridcolor\": \"white\", \"linecolor\": \"white\", \"ticks\": \"\"}, \"bgcolor\": \"#E5ECF6\", \"radialaxis\": {\"gridcolor\": \"white\", \"linecolor\": \"white\", \"ticks\": \"\"}}, \"scene\": {\"xaxis\": {\"backgroundcolor\": \"#E5ECF6\", \"gridcolor\": \"white\", \"gridwidth\": 2, \"linecolor\": \"white\", \"showbackground\": true, \"ticks\": \"\", \"zerolinecolor\": \"white\"}, \"yaxis\": {\"backgroundcolor\": \"#E5ECF6\", \"gridcolor\": \"white\", \"gridwidth\": 2, \"linecolor\": \"white\", \"showbackground\": true, \"ticks\": \"\", \"zerolinecolor\": \"white\"}, \"zaxis\": {\"backgroundcolor\": \"#E5ECF6\", \"gridcolor\": \"white\", \"gridwidth\": 2, \"linecolor\": \"white\", \"showbackground\": true, \"ticks\": \"\", \"zerolinecolor\": \"white\"}}, \"shapedefaults\": {\"line\": {\"color\": \"#2a3f5f\"}}, \"ternary\": {\"aaxis\": {\"gridcolor\": \"white\", \"linecolor\": \"white\", \"ticks\": \"\"}, \"baxis\": {\"gridcolor\": \"white\", \"linecolor\": \"white\", \"ticks\": \"\"}, \"bgcolor\": \"#E5ECF6\", \"caxis\": {\"gridcolor\": \"white\", \"linecolor\": \"white\", \"ticks\": \"\"}}, \"title\": {\"x\": 0.05}, \"xaxis\": {\"automargin\": true, \"gridcolor\": \"white\", \"linecolor\": \"white\", \"ticks\": \"\", \"title\": {\"standoff\": 15}, \"zerolinecolor\": \"white\", \"zerolinewidth\": 2}, \"yaxis\": {\"automargin\": true, \"gridcolor\": \"white\", \"linecolor\": \"white\", \"ticks\": \"\", \"title\": {\"standoff\": 15}, \"zerolinecolor\": \"white\", \"zerolinewidth\": 2}}}, \"title\": {\"font\": {\"color\": \"#4D5663\"}}, \"xaxis\": {\"gridcolor\": \"#E1E5ED\", \"showgrid\": true, \"tickfont\": {\"color\": \"#4D5663\"}, \"title\": {\"font\": {\"color\": \"#4D5663\"}, \"text\": \"\"}, \"zerolinecolor\": \"#E1E5ED\"}, \"yaxis\": {\"gridcolor\": \"#E1E5ED\", \"showgrid\": true, \"tickfont\": {\"color\": \"#4D5663\"}, \"title\": {\"font\": {\"color\": \"#4D5663\"}, \"text\": \"\"}, \"zerolinecolor\": \"#E1E5ED\"}},\n",
       "                        {\"showLink\": true, \"linkText\": \"Export to plot.ly\", \"plotlyServerURL\": \"https://plot.ly\", \"responsive\": true}\n",
       "                    ).then(function(){\n",
       "                            \n",
       "var gd = document.getElementById('792b9641-ea36-4533-bea0-bf16bfe86caf');\n",
       "var x = new MutationObserver(function (mutations, observer) {{\n",
       "        var display = window.getComputedStyle(gd).display;\n",
       "        if (!display || display === 'none') {{\n",
       "            console.log([gd, 'removed!']);\n",
       "            Plotly.purge(gd);\n",
       "            observer.disconnect();\n",
       "        }}\n",
       "}});\n",
       "\n",
       "// Listen for the removal of the full notebook cells\n",
       "var notebookContainer = gd.closest('#notebook-container');\n",
       "if (notebookContainer) {{\n",
       "    x.observe(notebookContainer, {childList: true});\n",
       "}}\n",
       "\n",
       "// Listen for the clearing of the current output cell\n",
       "var outputEl = gd.closest('.output');\n",
       "if (outputEl) {{\n",
       "    x.observe(outputEl, {childList: true});\n",
       "}}\n",
       "\n",
       "                        })\n",
       "                };\n",
       "                });\n",
       "            </script>\n",
       "        </div>"
      ]
     },
     "metadata": {},
     "output_type": "display_data"
    }
   ],
   "source": [
    "df['A'].iplot(kind='hist',bins=25)"
   ]
  },
  {
   "cell_type": "code",
   "execution_count": 40,
   "metadata": {},
   "outputs": [
    {
     "data": {
      "application/vnd.plotly.v1+json": {
       "config": {
        "linkText": "Export to plot.ly",
        "plotlyServerURL": "https://plot.ly",
        "showLink": true
       },
       "data": [
        {
         "marker": {
          "color": [
           "rgb(255, 153, 51)",
           "rgb(55, 128, 191)",
           "rgb(50, 171, 96)",
           "rgb(128, 0, 128)",
           "rgb(219, 64, 82)",
           "rgb(0, 128, 128)",
           "rgb(255, 255, 51)",
           "rgb(128, 128, 0)",
           "rgb(251, 128, 114)",
           "rgb(128, 177, 211)"
          ],
          "line": {
           "width": 1.3
          },
          "size": [
           78,
           74,
           57,
           51,
           83,
           44,
           75,
           49,
           46,
           94,
           67,
           96,
           69,
           65,
           49,
           18,
           48,
           46,
           58,
           43,
           52,
           66,
           79,
           84,
           21,
           57,
           29,
           72,
           90,
           74,
           50,
           79,
           41,
           60,
           65,
           75,
           108,
           71,
           89,
           86,
           54,
           80,
           12,
           66,
           75,
           70,
           53,
           86,
           47,
           68,
           40,
           65,
           42,
           42,
           106,
           55,
           66,
           88,
           34,
           70,
           66,
           63,
           37,
           52,
           66,
           107,
           52,
           75,
           57,
           63,
           76,
           37,
           63,
           63,
           41,
           86,
           69,
           66,
           62,
           48,
           112,
           70,
           65,
           95,
           67,
           54,
           73,
           44,
           32,
           46,
           60,
           22,
           46,
           80,
           68,
           31,
           86,
           81,
           100,
           83
          ],
          "symbol": "circle"
         },
         "mode": "markers",
         "text": "",
         "type": "scatter",
         "x": [
          0.6368237558363841,
          1.0649006110582138,
          0.13840425377741813,
          0.6643570870697327,
          0.31033996046308443,
          0.3095307447079891,
          -1.0030806949117006,
          -2.073980421654117,
          -0.012978557675513116,
          -0.6443610249054871,
          -0.4019123011599225,
          -1.1865240201211213,
          1.9402176585124264,
          0.8017272698703927,
          1.4250960216550903,
          2.3414179561851403,
          -0.20350768446908774,
          0.22867666550922047,
          -0.8895629536550426,
          -0.15962318577850593,
          1.0785773861254981,
          -1.6997166285386889,
          0.04266600709434228,
          0.6880126804930993,
          0.7739049252029457,
          0.058188812087436564,
          -0.14029416776943504,
          -0.9981845613547209,
          0.22126264796890385,
          -1.2269498069443276,
          1.204595715334291,
          -0.7568251019365444,
          0.525713901813281,
          0.26930176076243917,
          0.2785868145508584,
          0.8119783697520976,
          0.46821407574585244,
          1.4687510828407921,
          -0.5980433221622159,
          0.6406517656293856,
          -0.2262760543280068,
          -0.6653294294964786,
          -0.5836311953052089,
          -0.2428675375821456,
          -1.8528633593831683,
          -0.007528069992805335,
          0.5382930637817657,
          -0.629087265440316,
          -0.6728917120279745,
          0.7144401052516212,
          0.23378447656804857,
          0.17330130095757496,
          0.21726407009755946,
          0.7237329000891287,
          0.27334144868980453,
          0.4865035225094366,
          0.7016337387174932,
          0.04079106265710642,
          -1.9665997054916837,
          -0.6631949964790526,
          -0.7102946535045428,
          -1.0774032299311715,
          1.6516020663809938,
          -1.6188402171370826,
          1.7543865634412688,
          1.6349723274645858,
          0.7712922083770805,
          0.41711383293823157,
          1.2353035140092619,
          0.8307141667412382,
          1.757130703099051,
          -0.03421584746068055,
          1.4539266180621373,
          -0.6418612753104854,
          -2.2645247371116057,
          1.7995701444332912,
          0.34258026492133203,
          -1.15192514998973,
          0.31713531038022136,
          -0.6991945323390549,
          -0.1874252447770727,
          1.7741234835799624,
          2.492111064588903,
          -0.5454800752618096,
          -2.084849189153723,
          -0.0862396373237331,
          0.261683605023826,
          -0.3241027505722336,
          0.44037856434772343,
          1.8195245724028761,
          0.7671675437836701,
          -0.6384630312275602,
          0.11607122808032443,
          1.5270567062839226,
          -0.16130502769273808,
          -0.43406958740491863,
          1.4734914707737603,
          -0.16657110561516894,
          -1.325659168470935,
          -1.7907712245138099
         ],
         "y": [
          -0.965573785855108,
          2.3411683403874863,
          0.16760652247777483,
          0.5293763473061892,
          1.117328140016128,
          0.7549892445442132,
          2.054090398813393,
          -0.6782945481675158,
          1.0381705653378392,
          1.2140314276926856,
          0.03530096826726425,
          -0.02975819365648567,
          0.8490536809198773,
          -1.5614858840265529,
          0.736707745126771,
          0.1246407894398844,
          0.8379386880632551,
          0.41903183767939406,
          0.6018429414116641,
          0.2553278104357416,
          0.10218560907473412,
          1.2557054058002752,
          -0.8748741670847883,
          -0.3832158110185663,
          -0.1549106162658271,
          -1.2769478029855426,
          1.2890593262203311,
          0.3750696267160941,
          0.9921404081646318,
          0.21750565479064404,
          1.6490157181527234,
          0.31979828501405794,
          -0.26261002617535073,
          -0.23529714060338808,
          -0.22362828498994733,
          -0.6647344151065584,
          -0.5875322210729691,
          -0.6137603446064702,
          0.08365852508295676,
          -0.5736703131755713,
          0.441260085154336,
          0.7722016610545739,
          0.5324255904558407,
          0.40093790935933765,
          -0.053257602214600776,
          0.23615988021806109,
          -0.1196653377877863,
          -0.4081360519718144,
          -1.3879231468442046,
          0.47753275715667615,
          0.6015109009282125,
          -0.5627145530644787,
          1.0817852258226457,
          0.5902559942383697,
          -0.44190244945846197,
          0.31613056599056255,
          0.6907867960989922,
          -1.6964258454693064,
          0.6704678610285731,
          -0.20217302565308465,
          0.8315265238590916,
          0.5243909564105876,
          -1.258734034452956,
          -1.4020188180171287,
          -0.07728484380937733,
          -0.28049267010943935,
          0.08706081149001788,
          -1.778059875620324,
          -0.8343277328158784,
          0.3864682378824961,
          0.1503109040719167,
          -0.11424349139968754,
          -1.6639743787791799,
          -2.191755541277839,
          0.45497897381261365,
          0.31285327059157747,
          -0.3570196489480991,
          0.06866855226780288,
          -0.8135424471581575,
          -0.49434730240269664,
          0.4461810207717648,
          1.1420257711588415,
          -0.31672702200917324,
          1.82080657095947,
          0.679232378362389,
          0.4063062091653785,
          -1.0668562477330763,
          1.2601410127551493,
          -0.08626475067008418,
          -0.36923131351358884,
          -0.7445667813101593,
          1.6459010653261605,
          -0.4346406940551893,
          -1.8764159532897957,
          1.2075252986936873,
          0.8368235720752266,
          2.318359996303223,
          0.14353185810363364,
          0.5082567333578968,
          0.7185225785825067
         ]
        }
       ],
       "layout": {
        "legend": {
         "bgcolor": "#F5F6F9",
         "font": {
          "color": "#4D5663"
         }
        },
        "paper_bgcolor": "#F5F6F9",
        "plot_bgcolor": "#F5F6F9",
        "template": {
         "data": {
          "bar": [
           {
            "error_x": {
             "color": "#2a3f5f"
            },
            "error_y": {
             "color": "#2a3f5f"
            },
            "marker": {
             "line": {
              "color": "#E5ECF6",
              "width": 0.5
             }
            },
            "type": "bar"
           }
          ],
          "barpolar": [
           {
            "marker": {
             "line": {
              "color": "#E5ECF6",
              "width": 0.5
             }
            },
            "type": "barpolar"
           }
          ],
          "carpet": [
           {
            "aaxis": {
             "endlinecolor": "#2a3f5f",
             "gridcolor": "white",
             "linecolor": "white",
             "minorgridcolor": "white",
             "startlinecolor": "#2a3f5f"
            },
            "baxis": {
             "endlinecolor": "#2a3f5f",
             "gridcolor": "white",
             "linecolor": "white",
             "minorgridcolor": "white",
             "startlinecolor": "#2a3f5f"
            },
            "type": "carpet"
           }
          ],
          "choropleth": [
           {
            "colorbar": {
             "outlinewidth": 0,
             "ticks": ""
            },
            "type": "choropleth"
           }
          ],
          "contour": [
           {
            "colorbar": {
             "outlinewidth": 0,
             "ticks": ""
            },
            "colorscale": [
             [
              0,
              "#0d0887"
             ],
             [
              0.1111111111111111,
              "#46039f"
             ],
             [
              0.2222222222222222,
              "#7201a8"
             ],
             [
              0.3333333333333333,
              "#9c179e"
             ],
             [
              0.4444444444444444,
              "#bd3786"
             ],
             [
              0.5555555555555556,
              "#d8576b"
             ],
             [
              0.6666666666666666,
              "#ed7953"
             ],
             [
              0.7777777777777778,
              "#fb9f3a"
             ],
             [
              0.8888888888888888,
              "#fdca26"
             ],
             [
              1,
              "#f0f921"
             ]
            ],
            "type": "contour"
           }
          ],
          "contourcarpet": [
           {
            "colorbar": {
             "outlinewidth": 0,
             "ticks": ""
            },
            "type": "contourcarpet"
           }
          ],
          "heatmap": [
           {
            "colorbar": {
             "outlinewidth": 0,
             "ticks": ""
            },
            "colorscale": [
             [
              0,
              "#0d0887"
             ],
             [
              0.1111111111111111,
              "#46039f"
             ],
             [
              0.2222222222222222,
              "#7201a8"
             ],
             [
              0.3333333333333333,
              "#9c179e"
             ],
             [
              0.4444444444444444,
              "#bd3786"
             ],
             [
              0.5555555555555556,
              "#d8576b"
             ],
             [
              0.6666666666666666,
              "#ed7953"
             ],
             [
              0.7777777777777778,
              "#fb9f3a"
             ],
             [
              0.8888888888888888,
              "#fdca26"
             ],
             [
              1,
              "#f0f921"
             ]
            ],
            "type": "heatmap"
           }
          ],
          "heatmapgl": [
           {
            "colorbar": {
             "outlinewidth": 0,
             "ticks": ""
            },
            "colorscale": [
             [
              0,
              "#0d0887"
             ],
             [
              0.1111111111111111,
              "#46039f"
             ],
             [
              0.2222222222222222,
              "#7201a8"
             ],
             [
              0.3333333333333333,
              "#9c179e"
             ],
             [
              0.4444444444444444,
              "#bd3786"
             ],
             [
              0.5555555555555556,
              "#d8576b"
             ],
             [
              0.6666666666666666,
              "#ed7953"
             ],
             [
              0.7777777777777778,
              "#fb9f3a"
             ],
             [
              0.8888888888888888,
              "#fdca26"
             ],
             [
              1,
              "#f0f921"
             ]
            ],
            "type": "heatmapgl"
           }
          ],
          "histogram": [
           {
            "marker": {
             "colorbar": {
              "outlinewidth": 0,
              "ticks": ""
             }
            },
            "type": "histogram"
           }
          ],
          "histogram2d": [
           {
            "colorbar": {
             "outlinewidth": 0,
             "ticks": ""
            },
            "colorscale": [
             [
              0,
              "#0d0887"
             ],
             [
              0.1111111111111111,
              "#46039f"
             ],
             [
              0.2222222222222222,
              "#7201a8"
             ],
             [
              0.3333333333333333,
              "#9c179e"
             ],
             [
              0.4444444444444444,
              "#bd3786"
             ],
             [
              0.5555555555555556,
              "#d8576b"
             ],
             [
              0.6666666666666666,
              "#ed7953"
             ],
             [
              0.7777777777777778,
              "#fb9f3a"
             ],
             [
              0.8888888888888888,
              "#fdca26"
             ],
             [
              1,
              "#f0f921"
             ]
            ],
            "type": "histogram2d"
           }
          ],
          "histogram2dcontour": [
           {
            "colorbar": {
             "outlinewidth": 0,
             "ticks": ""
            },
            "colorscale": [
             [
              0,
              "#0d0887"
             ],
             [
              0.1111111111111111,
              "#46039f"
             ],
             [
              0.2222222222222222,
              "#7201a8"
             ],
             [
              0.3333333333333333,
              "#9c179e"
             ],
             [
              0.4444444444444444,
              "#bd3786"
             ],
             [
              0.5555555555555556,
              "#d8576b"
             ],
             [
              0.6666666666666666,
              "#ed7953"
             ],
             [
              0.7777777777777778,
              "#fb9f3a"
             ],
             [
              0.8888888888888888,
              "#fdca26"
             ],
             [
              1,
              "#f0f921"
             ]
            ],
            "type": "histogram2dcontour"
           }
          ],
          "mesh3d": [
           {
            "colorbar": {
             "outlinewidth": 0,
             "ticks": ""
            },
            "type": "mesh3d"
           }
          ],
          "parcoords": [
           {
            "line": {
             "colorbar": {
              "outlinewidth": 0,
              "ticks": ""
             }
            },
            "type": "parcoords"
           }
          ],
          "pie": [
           {
            "automargin": true,
            "type": "pie"
           }
          ],
          "scatter": [
           {
            "marker": {
             "colorbar": {
              "outlinewidth": 0,
              "ticks": ""
             }
            },
            "type": "scatter"
           }
          ],
          "scatter3d": [
           {
            "line": {
             "colorbar": {
              "outlinewidth": 0,
              "ticks": ""
             }
            },
            "marker": {
             "colorbar": {
              "outlinewidth": 0,
              "ticks": ""
             }
            },
            "type": "scatter3d"
           }
          ],
          "scattercarpet": [
           {
            "marker": {
             "colorbar": {
              "outlinewidth": 0,
              "ticks": ""
             }
            },
            "type": "scattercarpet"
           }
          ],
          "scattergeo": [
           {
            "marker": {
             "colorbar": {
              "outlinewidth": 0,
              "ticks": ""
             }
            },
            "type": "scattergeo"
           }
          ],
          "scattergl": [
           {
            "marker": {
             "colorbar": {
              "outlinewidth": 0,
              "ticks": ""
             }
            },
            "type": "scattergl"
           }
          ],
          "scattermapbox": [
           {
            "marker": {
             "colorbar": {
              "outlinewidth": 0,
              "ticks": ""
             }
            },
            "type": "scattermapbox"
           }
          ],
          "scatterpolar": [
           {
            "marker": {
             "colorbar": {
              "outlinewidth": 0,
              "ticks": ""
             }
            },
            "type": "scatterpolar"
           }
          ],
          "scatterpolargl": [
           {
            "marker": {
             "colorbar": {
              "outlinewidth": 0,
              "ticks": ""
             }
            },
            "type": "scatterpolargl"
           }
          ],
          "scatterternary": [
           {
            "marker": {
             "colorbar": {
              "outlinewidth": 0,
              "ticks": ""
             }
            },
            "type": "scatterternary"
           }
          ],
          "surface": [
           {
            "colorbar": {
             "outlinewidth": 0,
             "ticks": ""
            },
            "colorscale": [
             [
              0,
              "#0d0887"
             ],
             [
              0.1111111111111111,
              "#46039f"
             ],
             [
              0.2222222222222222,
              "#7201a8"
             ],
             [
              0.3333333333333333,
              "#9c179e"
             ],
             [
              0.4444444444444444,
              "#bd3786"
             ],
             [
              0.5555555555555556,
              "#d8576b"
             ],
             [
              0.6666666666666666,
              "#ed7953"
             ],
             [
              0.7777777777777778,
              "#fb9f3a"
             ],
             [
              0.8888888888888888,
              "#fdca26"
             ],
             [
              1,
              "#f0f921"
             ]
            ],
            "type": "surface"
           }
          ],
          "table": [
           {
            "cells": {
             "fill": {
              "color": "#EBF0F8"
             },
             "line": {
              "color": "white"
             }
            },
            "header": {
             "fill": {
              "color": "#C8D4E3"
             },
             "line": {
              "color": "white"
             }
            },
            "type": "table"
           }
          ]
         },
         "layout": {
          "annotationdefaults": {
           "arrowcolor": "#2a3f5f",
           "arrowhead": 0,
           "arrowwidth": 1
          },
          "coloraxis": {
           "colorbar": {
            "outlinewidth": 0,
            "ticks": ""
           }
          },
          "colorscale": {
           "diverging": [
            [
             0,
             "#8e0152"
            ],
            [
             0.1,
             "#c51b7d"
            ],
            [
             0.2,
             "#de77ae"
            ],
            [
             0.3,
             "#f1b6da"
            ],
            [
             0.4,
             "#fde0ef"
            ],
            [
             0.5,
             "#f7f7f7"
            ],
            [
             0.6,
             "#e6f5d0"
            ],
            [
             0.7,
             "#b8e186"
            ],
            [
             0.8,
             "#7fbc41"
            ],
            [
             0.9,
             "#4d9221"
            ],
            [
             1,
             "#276419"
            ]
           ],
           "sequential": [
            [
             0,
             "#0d0887"
            ],
            [
             0.1111111111111111,
             "#46039f"
            ],
            [
             0.2222222222222222,
             "#7201a8"
            ],
            [
             0.3333333333333333,
             "#9c179e"
            ],
            [
             0.4444444444444444,
             "#bd3786"
            ],
            [
             0.5555555555555556,
             "#d8576b"
            ],
            [
             0.6666666666666666,
             "#ed7953"
            ],
            [
             0.7777777777777778,
             "#fb9f3a"
            ],
            [
             0.8888888888888888,
             "#fdca26"
            ],
            [
             1,
             "#f0f921"
            ]
           ],
           "sequentialminus": [
            [
             0,
             "#0d0887"
            ],
            [
             0.1111111111111111,
             "#46039f"
            ],
            [
             0.2222222222222222,
             "#7201a8"
            ],
            [
             0.3333333333333333,
             "#9c179e"
            ],
            [
             0.4444444444444444,
             "#bd3786"
            ],
            [
             0.5555555555555556,
             "#d8576b"
            ],
            [
             0.6666666666666666,
             "#ed7953"
            ],
            [
             0.7777777777777778,
             "#fb9f3a"
            ],
            [
             0.8888888888888888,
             "#fdca26"
            ],
            [
             1,
             "#f0f921"
            ]
           ]
          },
          "colorway": [
           "#636efa",
           "#EF553B",
           "#00cc96",
           "#ab63fa",
           "#FFA15A",
           "#19d3f3",
           "#FF6692",
           "#B6E880",
           "#FF97FF",
           "#FECB52"
          ],
          "font": {
           "color": "#2a3f5f"
          },
          "geo": {
           "bgcolor": "white",
           "lakecolor": "white",
           "landcolor": "#E5ECF6",
           "showlakes": true,
           "showland": true,
           "subunitcolor": "white"
          },
          "hoverlabel": {
           "align": "left"
          },
          "hovermode": "closest",
          "mapbox": {
           "style": "light"
          },
          "paper_bgcolor": "white",
          "plot_bgcolor": "#E5ECF6",
          "polar": {
           "angularaxis": {
            "gridcolor": "white",
            "linecolor": "white",
            "ticks": ""
           },
           "bgcolor": "#E5ECF6",
           "radialaxis": {
            "gridcolor": "white",
            "linecolor": "white",
            "ticks": ""
           }
          },
          "scene": {
           "xaxis": {
            "backgroundcolor": "#E5ECF6",
            "gridcolor": "white",
            "gridwidth": 2,
            "linecolor": "white",
            "showbackground": true,
            "ticks": "",
            "zerolinecolor": "white"
           },
           "yaxis": {
            "backgroundcolor": "#E5ECF6",
            "gridcolor": "white",
            "gridwidth": 2,
            "linecolor": "white",
            "showbackground": true,
            "ticks": "",
            "zerolinecolor": "white"
           },
           "zaxis": {
            "backgroundcolor": "#E5ECF6",
            "gridcolor": "white",
            "gridwidth": 2,
            "linecolor": "white",
            "showbackground": true,
            "ticks": "",
            "zerolinecolor": "white"
           }
          },
          "shapedefaults": {
           "line": {
            "color": "#2a3f5f"
           }
          },
          "ternary": {
           "aaxis": {
            "gridcolor": "white",
            "linecolor": "white",
            "ticks": ""
           },
           "baxis": {
            "gridcolor": "white",
            "linecolor": "white",
            "ticks": ""
           },
           "bgcolor": "#E5ECF6",
           "caxis": {
            "gridcolor": "white",
            "linecolor": "white",
            "ticks": ""
           }
          },
          "title": {
           "x": 0.05
          },
          "xaxis": {
           "automargin": true,
           "gridcolor": "white",
           "linecolor": "white",
           "ticks": "",
           "title": {
            "standoff": 15
           },
           "zerolinecolor": "white",
           "zerolinewidth": 2
          },
          "yaxis": {
           "automargin": true,
           "gridcolor": "white",
           "linecolor": "white",
           "ticks": "",
           "title": {
            "standoff": 15
           },
           "zerolinecolor": "white",
           "zerolinewidth": 2
          }
         }
        },
        "title": {
         "font": {
          "color": "#4D5663"
         }
        },
        "xaxis": {
         "gridcolor": "#E1E5ED",
         "showgrid": true,
         "tickfont": {
          "color": "#4D5663"
         },
         "title": {
          "font": {
           "color": "#4D5663"
          },
          "text": ""
         },
         "zerolinecolor": "#E1E5ED"
        },
        "yaxis": {
         "gridcolor": "#E1E5ED",
         "showgrid": true,
         "tickfont": {
          "color": "#4D5663"
         },
         "title": {
          "font": {
           "color": "#4D5663"
          },
          "text": ""
         },
         "zerolinecolor": "#E1E5ED"
        }
       }
      },
      "text/html": [
       "<div>\n",
       "        \n",
       "        \n",
       "            <div id=\"361466d6-6f1f-4ee4-8b0d-2ce4fb6a2bfb\" class=\"plotly-graph-div\" style=\"height:525px; width:100%;\"></div>\n",
       "            <script type=\"text/javascript\">\n",
       "                require([\"plotly\"], function(Plotly) {\n",
       "                    window.PLOTLYENV=window.PLOTLYENV || {};\n",
       "                    window.PLOTLYENV.BASE_URL='https://plot.ly';\n",
       "                    \n",
       "                if (document.getElementById(\"361466d6-6f1f-4ee4-8b0d-2ce4fb6a2bfb\")) {\n",
       "                    Plotly.newPlot(\n",
       "                        '361466d6-6f1f-4ee4-8b0d-2ce4fb6a2bfb',\n",
       "                        [{\"marker\": {\"color\": [\"rgb(255, 153, 51)\", \"rgb(55, 128, 191)\", \"rgb(50, 171, 96)\", \"rgb(128, 0, 128)\", \"rgb(219, 64, 82)\", \"rgb(0, 128, 128)\", \"rgb(255, 255, 51)\", \"rgb(128, 128, 0)\", \"rgb(251, 128, 114)\", \"rgb(128, 177, 211)\"], \"line\": {\"width\": 1.3}, \"size\": [78, 74, 57, 51, 83, 44, 75, 49, 46, 94, 67, 96, 69, 65, 49, 18, 48, 46, 58, 43, 52, 66, 79, 84, 21, 57, 29, 72, 90, 74, 50, 79, 41, 60, 65, 75, 108, 71, 89, 86, 54, 80, 12, 66, 75, 70, 53, 86, 47, 68, 40, 65, 42, 42, 106, 55, 66, 88, 34, 70, 66, 63, 37, 52, 66, 107, 52, 75, 57, 63, 76, 37, 63, 63, 41, 86, 69, 66, 62, 48, 112, 70, 65, 95, 67, 54, 73, 44, 32, 46, 60, 22, 46, 80, 68, 31, 86, 81, 100, 83], \"symbol\": \"circle\"}, \"mode\": \"markers\", \"text\": \"\", \"type\": \"scatter\", \"x\": [0.6368237558363841, 1.0649006110582138, 0.13840425377741813, 0.6643570870697327, 0.31033996046308443, 0.3095307447079891, -1.0030806949117006, -2.073980421654117, -0.012978557675513116, -0.6443610249054871, -0.4019123011599225, -1.1865240201211213, 1.9402176585124264, 0.8017272698703927, 1.4250960216550903, 2.3414179561851403, -0.20350768446908774, 0.22867666550922047, -0.8895629536550426, -0.15962318577850593, 1.0785773861254981, -1.6997166285386889, 0.04266600709434228, 0.6880126804930993, 0.7739049252029457, 0.058188812087436564, -0.14029416776943504, -0.9981845613547209, 0.22126264796890385, -1.2269498069443276, 1.204595715334291, -0.7568251019365444, 0.525713901813281, 0.26930176076243917, 0.2785868145508584, 0.8119783697520976, 0.46821407574585244, 1.4687510828407921, -0.5980433221622159, 0.6406517656293856, -0.2262760543280068, -0.6653294294964786, -0.5836311953052089, -0.2428675375821456, -1.8528633593831683, -0.007528069992805335, 0.5382930637817657, -0.629087265440316, -0.6728917120279745, 0.7144401052516212, 0.23378447656804857, 0.17330130095757496, 0.21726407009755946, 0.7237329000891287, 0.27334144868980453, 0.4865035225094366, 0.7016337387174932, 0.04079106265710642, -1.9665997054916837, -0.6631949964790526, -0.7102946535045428, -1.0774032299311715, 1.6516020663809938, -1.6188402171370826, 1.7543865634412688, 1.6349723274645858, 0.7712922083770805, 0.41711383293823157, 1.2353035140092619, 0.8307141667412382, 1.757130703099051, -0.03421584746068055, 1.4539266180621373, -0.6418612753104854, -2.2645247371116057, 1.7995701444332912, 0.34258026492133203, -1.15192514998973, 0.31713531038022136, -0.6991945323390549, -0.1874252447770727, 1.7741234835799624, 2.492111064588903, -0.5454800752618096, -2.084849189153723, -0.0862396373237331, 0.261683605023826, -0.3241027505722336, 0.44037856434772343, 1.8195245724028761, 0.7671675437836701, -0.6384630312275602, 0.11607122808032443, 1.5270567062839226, -0.16130502769273808, -0.43406958740491863, 1.4734914707737603, -0.16657110561516894, -1.325659168470935, -1.7907712245138099], \"y\": [-0.965573785855108, 2.3411683403874863, 0.16760652247777483, 0.5293763473061892, 1.117328140016128, 0.7549892445442132, 2.054090398813393, -0.6782945481675158, 1.0381705653378392, 1.2140314276926856, 0.03530096826726425, -0.02975819365648567, 0.8490536809198773, -1.5614858840265529, 0.736707745126771, 0.1246407894398844, 0.8379386880632551, 0.41903183767939406, 0.6018429414116641, 0.2553278104357416, 0.10218560907473412, 1.2557054058002752, -0.8748741670847883, -0.3832158110185663, -0.1549106162658271, -1.2769478029855426, 1.2890593262203311, 0.3750696267160941, 0.9921404081646318, 0.21750565479064404, 1.6490157181527234, 0.31979828501405794, -0.26261002617535073, -0.23529714060338808, -0.22362828498994733, -0.6647344151065584, -0.5875322210729691, -0.6137603446064702, 0.08365852508295676, -0.5736703131755713, 0.441260085154336, 0.7722016610545739, 0.5324255904558407, 0.40093790935933765, -0.053257602214600776, 0.23615988021806109, -0.1196653377877863, -0.4081360519718144, -1.3879231468442046, 0.47753275715667615, 0.6015109009282125, -0.5627145530644787, 1.0817852258226457, 0.5902559942383697, -0.44190244945846197, 0.31613056599056255, 0.6907867960989922, -1.6964258454693064, 0.6704678610285731, -0.20217302565308465, 0.8315265238590916, 0.5243909564105876, -1.258734034452956, -1.4020188180171287, -0.07728484380937733, -0.28049267010943935, 0.08706081149001788, -1.778059875620324, -0.8343277328158784, 0.3864682378824961, 0.1503109040719167, -0.11424349139968754, -1.6639743787791799, -2.191755541277839, 0.45497897381261365, 0.31285327059157747, -0.3570196489480991, 0.06866855226780288, -0.8135424471581575, -0.49434730240269664, 0.4461810207717648, 1.1420257711588415, -0.31672702200917324, 1.82080657095947, 0.679232378362389, 0.4063062091653785, -1.0668562477330763, 1.2601410127551493, -0.08626475067008418, -0.36923131351358884, -0.7445667813101593, 1.6459010653261605, -0.4346406940551893, -1.8764159532897957, 1.2075252986936873, 0.8368235720752266, 2.318359996303223, 0.14353185810363364, 0.5082567333578968, 0.7185225785825067]}],\n",
       "                        {\"legend\": {\"bgcolor\": \"#F5F6F9\", \"font\": {\"color\": \"#4D5663\"}}, \"paper_bgcolor\": \"#F5F6F9\", \"plot_bgcolor\": \"#F5F6F9\", \"template\": {\"data\": {\"bar\": [{\"error_x\": {\"color\": \"#2a3f5f\"}, \"error_y\": {\"color\": \"#2a3f5f\"}, \"marker\": {\"line\": {\"color\": \"#E5ECF6\", \"width\": 0.5}}, \"type\": \"bar\"}], \"barpolar\": [{\"marker\": {\"line\": {\"color\": \"#E5ECF6\", \"width\": 0.5}}, \"type\": \"barpolar\"}], \"carpet\": [{\"aaxis\": {\"endlinecolor\": \"#2a3f5f\", \"gridcolor\": \"white\", \"linecolor\": \"white\", \"minorgridcolor\": \"white\", \"startlinecolor\": \"#2a3f5f\"}, \"baxis\": {\"endlinecolor\": \"#2a3f5f\", \"gridcolor\": \"white\", \"linecolor\": \"white\", \"minorgridcolor\": \"white\", \"startlinecolor\": \"#2a3f5f\"}, \"type\": \"carpet\"}], \"choropleth\": [{\"colorbar\": {\"outlinewidth\": 0, \"ticks\": \"\"}, \"type\": \"choropleth\"}], \"contour\": [{\"colorbar\": {\"outlinewidth\": 0, \"ticks\": \"\"}, \"colorscale\": [[0.0, \"#0d0887\"], [0.1111111111111111, \"#46039f\"], [0.2222222222222222, \"#7201a8\"], [0.3333333333333333, \"#9c179e\"], [0.4444444444444444, \"#bd3786\"], [0.5555555555555556, \"#d8576b\"], [0.6666666666666666, \"#ed7953\"], [0.7777777777777778, \"#fb9f3a\"], [0.8888888888888888, \"#fdca26\"], [1.0, \"#f0f921\"]], \"type\": \"contour\"}], \"contourcarpet\": [{\"colorbar\": {\"outlinewidth\": 0, \"ticks\": \"\"}, \"type\": \"contourcarpet\"}], \"heatmap\": [{\"colorbar\": {\"outlinewidth\": 0, \"ticks\": \"\"}, \"colorscale\": [[0.0, \"#0d0887\"], [0.1111111111111111, \"#46039f\"], [0.2222222222222222, \"#7201a8\"], [0.3333333333333333, \"#9c179e\"], [0.4444444444444444, \"#bd3786\"], [0.5555555555555556, \"#d8576b\"], [0.6666666666666666, \"#ed7953\"], [0.7777777777777778, \"#fb9f3a\"], [0.8888888888888888, \"#fdca26\"], [1.0, \"#f0f921\"]], \"type\": \"heatmap\"}], \"heatmapgl\": [{\"colorbar\": {\"outlinewidth\": 0, \"ticks\": \"\"}, \"colorscale\": [[0.0, \"#0d0887\"], [0.1111111111111111, \"#46039f\"], [0.2222222222222222, \"#7201a8\"], [0.3333333333333333, \"#9c179e\"], [0.4444444444444444, \"#bd3786\"], [0.5555555555555556, \"#d8576b\"], [0.6666666666666666, \"#ed7953\"], [0.7777777777777778, \"#fb9f3a\"], [0.8888888888888888, \"#fdca26\"], [1.0, \"#f0f921\"]], \"type\": \"heatmapgl\"}], \"histogram\": [{\"marker\": {\"colorbar\": {\"outlinewidth\": 0, \"ticks\": \"\"}}, \"type\": \"histogram\"}], \"histogram2d\": [{\"colorbar\": {\"outlinewidth\": 0, \"ticks\": \"\"}, \"colorscale\": [[0.0, \"#0d0887\"], [0.1111111111111111, \"#46039f\"], [0.2222222222222222, \"#7201a8\"], [0.3333333333333333, \"#9c179e\"], [0.4444444444444444, \"#bd3786\"], [0.5555555555555556, \"#d8576b\"], [0.6666666666666666, \"#ed7953\"], [0.7777777777777778, \"#fb9f3a\"], [0.8888888888888888, \"#fdca26\"], [1.0, \"#f0f921\"]], \"type\": \"histogram2d\"}], \"histogram2dcontour\": [{\"colorbar\": {\"outlinewidth\": 0, \"ticks\": \"\"}, \"colorscale\": [[0.0, \"#0d0887\"], [0.1111111111111111, \"#46039f\"], [0.2222222222222222, \"#7201a8\"], [0.3333333333333333, \"#9c179e\"], [0.4444444444444444, \"#bd3786\"], [0.5555555555555556, \"#d8576b\"], [0.6666666666666666, \"#ed7953\"], [0.7777777777777778, \"#fb9f3a\"], [0.8888888888888888, \"#fdca26\"], [1.0, \"#f0f921\"]], \"type\": \"histogram2dcontour\"}], \"mesh3d\": [{\"colorbar\": {\"outlinewidth\": 0, \"ticks\": \"\"}, \"type\": \"mesh3d\"}], \"parcoords\": [{\"line\": {\"colorbar\": {\"outlinewidth\": 0, \"ticks\": \"\"}}, \"type\": \"parcoords\"}], \"pie\": [{\"automargin\": true, \"type\": \"pie\"}], \"scatter\": [{\"marker\": {\"colorbar\": {\"outlinewidth\": 0, \"ticks\": \"\"}}, \"type\": \"scatter\"}], \"scatter3d\": [{\"line\": {\"colorbar\": {\"outlinewidth\": 0, \"ticks\": \"\"}}, \"marker\": {\"colorbar\": {\"outlinewidth\": 0, \"ticks\": \"\"}}, \"type\": \"scatter3d\"}], \"scattercarpet\": [{\"marker\": {\"colorbar\": {\"outlinewidth\": 0, \"ticks\": \"\"}}, \"type\": \"scattercarpet\"}], \"scattergeo\": [{\"marker\": {\"colorbar\": {\"outlinewidth\": 0, \"ticks\": \"\"}}, \"type\": \"scattergeo\"}], \"scattergl\": [{\"marker\": {\"colorbar\": {\"outlinewidth\": 0, \"ticks\": \"\"}}, \"type\": \"scattergl\"}], \"scattermapbox\": [{\"marker\": {\"colorbar\": {\"outlinewidth\": 0, \"ticks\": \"\"}}, \"type\": \"scattermapbox\"}], \"scatterpolar\": [{\"marker\": {\"colorbar\": {\"outlinewidth\": 0, \"ticks\": \"\"}}, \"type\": \"scatterpolar\"}], \"scatterpolargl\": [{\"marker\": {\"colorbar\": {\"outlinewidth\": 0, \"ticks\": \"\"}}, \"type\": \"scatterpolargl\"}], \"scatterternary\": [{\"marker\": {\"colorbar\": {\"outlinewidth\": 0, \"ticks\": \"\"}}, \"type\": \"scatterternary\"}], \"surface\": [{\"colorbar\": {\"outlinewidth\": 0, \"ticks\": \"\"}, \"colorscale\": [[0.0, \"#0d0887\"], [0.1111111111111111, \"#46039f\"], [0.2222222222222222, \"#7201a8\"], [0.3333333333333333, \"#9c179e\"], [0.4444444444444444, \"#bd3786\"], [0.5555555555555556, \"#d8576b\"], [0.6666666666666666, \"#ed7953\"], [0.7777777777777778, \"#fb9f3a\"], [0.8888888888888888, \"#fdca26\"], [1.0, \"#f0f921\"]], \"type\": \"surface\"}], \"table\": [{\"cells\": {\"fill\": {\"color\": \"#EBF0F8\"}, \"line\": {\"color\": \"white\"}}, \"header\": {\"fill\": {\"color\": \"#C8D4E3\"}, \"line\": {\"color\": \"white\"}}, \"type\": \"table\"}]}, \"layout\": {\"annotationdefaults\": {\"arrowcolor\": \"#2a3f5f\", \"arrowhead\": 0, \"arrowwidth\": 1}, \"coloraxis\": {\"colorbar\": {\"outlinewidth\": 0, \"ticks\": \"\"}}, \"colorscale\": {\"diverging\": [[0, \"#8e0152\"], [0.1, \"#c51b7d\"], [0.2, \"#de77ae\"], [0.3, \"#f1b6da\"], [0.4, \"#fde0ef\"], [0.5, \"#f7f7f7\"], [0.6, \"#e6f5d0\"], [0.7, \"#b8e186\"], [0.8, \"#7fbc41\"], [0.9, \"#4d9221\"], [1, \"#276419\"]], \"sequential\": [[0.0, \"#0d0887\"], [0.1111111111111111, \"#46039f\"], [0.2222222222222222, \"#7201a8\"], [0.3333333333333333, \"#9c179e\"], [0.4444444444444444, \"#bd3786\"], [0.5555555555555556, \"#d8576b\"], [0.6666666666666666, \"#ed7953\"], [0.7777777777777778, \"#fb9f3a\"], [0.8888888888888888, \"#fdca26\"], [1.0, \"#f0f921\"]], \"sequentialminus\": [[0.0, \"#0d0887\"], [0.1111111111111111, \"#46039f\"], [0.2222222222222222, \"#7201a8\"], [0.3333333333333333, \"#9c179e\"], [0.4444444444444444, \"#bd3786\"], [0.5555555555555556, \"#d8576b\"], [0.6666666666666666, \"#ed7953\"], [0.7777777777777778, \"#fb9f3a\"], [0.8888888888888888, \"#fdca26\"], [1.0, \"#f0f921\"]]}, \"colorway\": [\"#636efa\", \"#EF553B\", \"#00cc96\", \"#ab63fa\", \"#FFA15A\", \"#19d3f3\", \"#FF6692\", \"#B6E880\", \"#FF97FF\", \"#FECB52\"], \"font\": {\"color\": \"#2a3f5f\"}, \"geo\": {\"bgcolor\": \"white\", \"lakecolor\": \"white\", \"landcolor\": \"#E5ECF6\", \"showlakes\": true, \"showland\": true, \"subunitcolor\": \"white\"}, \"hoverlabel\": {\"align\": \"left\"}, \"hovermode\": \"closest\", \"mapbox\": {\"style\": \"light\"}, \"paper_bgcolor\": \"white\", \"plot_bgcolor\": \"#E5ECF6\", \"polar\": {\"angularaxis\": {\"gridcolor\": \"white\", \"linecolor\": \"white\", \"ticks\": \"\"}, \"bgcolor\": \"#E5ECF6\", \"radialaxis\": {\"gridcolor\": \"white\", \"linecolor\": \"white\", \"ticks\": \"\"}}, \"scene\": {\"xaxis\": {\"backgroundcolor\": \"#E5ECF6\", \"gridcolor\": \"white\", \"gridwidth\": 2, \"linecolor\": \"white\", \"showbackground\": true, \"ticks\": \"\", \"zerolinecolor\": \"white\"}, \"yaxis\": {\"backgroundcolor\": \"#E5ECF6\", \"gridcolor\": \"white\", \"gridwidth\": 2, \"linecolor\": \"white\", \"showbackground\": true, \"ticks\": \"\", \"zerolinecolor\": \"white\"}, \"zaxis\": {\"backgroundcolor\": \"#E5ECF6\", \"gridcolor\": \"white\", \"gridwidth\": 2, \"linecolor\": \"white\", \"showbackground\": true, \"ticks\": \"\", \"zerolinecolor\": \"white\"}}, \"shapedefaults\": {\"line\": {\"color\": \"#2a3f5f\"}}, \"ternary\": {\"aaxis\": {\"gridcolor\": \"white\", \"linecolor\": \"white\", \"ticks\": \"\"}, \"baxis\": {\"gridcolor\": \"white\", \"linecolor\": \"white\", \"ticks\": \"\"}, \"bgcolor\": \"#E5ECF6\", \"caxis\": {\"gridcolor\": \"white\", \"linecolor\": \"white\", \"ticks\": \"\"}}, \"title\": {\"x\": 0.05}, \"xaxis\": {\"automargin\": true, \"gridcolor\": \"white\", \"linecolor\": \"white\", \"ticks\": \"\", \"title\": {\"standoff\": 15}, \"zerolinecolor\": \"white\", \"zerolinewidth\": 2}, \"yaxis\": {\"automargin\": true, \"gridcolor\": \"white\", \"linecolor\": \"white\", \"ticks\": \"\", \"title\": {\"standoff\": 15}, \"zerolinecolor\": \"white\", \"zerolinewidth\": 2}}}, \"title\": {\"font\": {\"color\": \"#4D5663\"}}, \"xaxis\": {\"gridcolor\": \"#E1E5ED\", \"showgrid\": true, \"tickfont\": {\"color\": \"#4D5663\"}, \"title\": {\"font\": {\"color\": \"#4D5663\"}, \"text\": \"\"}, \"zerolinecolor\": \"#E1E5ED\"}, \"yaxis\": {\"gridcolor\": \"#E1E5ED\", \"showgrid\": true, \"tickfont\": {\"color\": \"#4D5663\"}, \"title\": {\"font\": {\"color\": \"#4D5663\"}, \"text\": \"\"}, \"zerolinecolor\": \"#E1E5ED\"}},\n",
       "                        {\"showLink\": true, \"linkText\": \"Export to plot.ly\", \"plotlyServerURL\": \"https://plot.ly\", \"responsive\": true}\n",
       "                    ).then(function(){\n",
       "                            \n",
       "var gd = document.getElementById('361466d6-6f1f-4ee4-8b0d-2ce4fb6a2bfb');\n",
       "var x = new MutationObserver(function (mutations, observer) {{\n",
       "        var display = window.getComputedStyle(gd).display;\n",
       "        if (!display || display === 'none') {{\n",
       "            console.log([gd, 'removed!']);\n",
       "            Plotly.purge(gd);\n",
       "            observer.disconnect();\n",
       "        }}\n",
       "}});\n",
       "\n",
       "// Listen for the removal of the full notebook cells\n",
       "var notebookContainer = gd.closest('#notebook-container');\n",
       "if (notebookContainer) {{\n",
       "    x.observe(notebookContainer, {childList: true});\n",
       "}}\n",
       "\n",
       "// Listen for the clearing of the current output cell\n",
       "var outputEl = gd.closest('.output');\n",
       "if (outputEl) {{\n",
       "    x.observe(outputEl, {childList: true});\n",
       "}}\n",
       "\n",
       "                        })\n",
       "                };\n",
       "                });\n",
       "            </script>\n",
       "        </div>"
      ]
     },
     "metadata": {},
     "output_type": "display_data"
    }
   ],
   "source": [
    "df.iplot(kind='bubble',x='A',y='B',size='C')"
   ]
  },
  {
   "cell_type": "markdown",
   "metadata": {},
   "source": [
    "## scatter_matrix()\n",
    "\n",
    "Similar to sns.pairplot()"
   ]
  },
  {
   "cell_type": "code",
   "execution_count": 41,
   "metadata": {},
   "outputs": [
    {
     "data": {
      "application/vnd.plotly.v1+json": {
       "config": {
        "linkText": "Export to plot.ly",
        "plotlyServerURL": "https://plot.ly",
        "showLink": true
       },
       "data": [
        {
         "histfunc": "count",
         "histnorm": "",
         "marker": {
          "color": "rgba(255, 153, 51, 1.0)",
          "line": {
           "color": "#4D5663",
           "width": 1.3
          }
         },
         "name": "A",
         "nbinsx": 10,
         "opacity": 0.8,
         "orientation": "v",
         "type": "histogram",
         "x": [
          0.6368237558363841,
          1.0649006110582138,
          0.13840425377741813,
          0.6643570870697327,
          0.31033996046308443,
          0.3095307447079891,
          -1.0030806949117006,
          -2.073980421654117,
          -0.012978557675513116,
          -0.6443610249054871,
          -0.4019123011599225,
          -1.1865240201211213,
          1.9402176585124264,
          0.8017272698703927,
          1.4250960216550903,
          2.3414179561851403,
          -0.20350768446908774,
          0.22867666550922047,
          -0.8895629536550426,
          -0.15962318577850593,
          1.0785773861254981,
          -1.6997166285386889,
          0.04266600709434228,
          0.6880126804930993,
          0.7739049252029457,
          0.058188812087436564,
          -0.14029416776943504,
          -0.9981845613547209,
          0.22126264796890385,
          -1.2269498069443276,
          1.204595715334291,
          -0.7568251019365444,
          0.525713901813281,
          0.26930176076243917,
          0.2785868145508584,
          0.8119783697520976,
          0.46821407574585244,
          1.4687510828407921,
          -0.5980433221622159,
          0.6406517656293856,
          -0.2262760543280068,
          -0.6653294294964786,
          -0.5836311953052089,
          -0.2428675375821456,
          -1.8528633593831683,
          -0.007528069992805335,
          0.5382930637817657,
          -0.629087265440316,
          -0.6728917120279745,
          0.7144401052516212,
          0.23378447656804857,
          0.17330130095757496,
          0.21726407009755946,
          0.7237329000891287,
          0.27334144868980453,
          0.4865035225094366,
          0.7016337387174932,
          0.04079106265710642,
          -1.9665997054916837,
          -0.6631949964790526,
          -0.7102946535045428,
          -1.0774032299311715,
          1.6516020663809938,
          -1.6188402171370826,
          1.7543865634412688,
          1.6349723274645858,
          0.7712922083770805,
          0.41711383293823157,
          1.2353035140092619,
          0.8307141667412382,
          1.757130703099051,
          -0.03421584746068055,
          1.4539266180621373,
          -0.6418612753104854,
          -2.2645247371116057,
          1.7995701444332912,
          0.34258026492133203,
          -1.15192514998973,
          0.31713531038022136,
          -0.6991945323390549,
          -0.1874252447770727,
          1.7741234835799624,
          2.492111064588903,
          -0.5454800752618096,
          -2.084849189153723,
          -0.0862396373237331,
          0.261683605023826,
          -0.3241027505722336,
          0.44037856434772343,
          1.8195245724028761,
          0.7671675437836701,
          -0.6384630312275602,
          0.11607122808032443,
          1.5270567062839226,
          -0.16130502769273808,
          -0.43406958740491863,
          1.4734914707737603,
          -0.16657110561516894,
          -1.325659168470935,
          -1.7907712245138099
         ],
         "xaxis": "x",
         "yaxis": "y"
        },
        {
         "line": {
          "color": "rgba(128, 128, 128, 1.0)",
          "dash": "solid",
          "shape": "linear",
          "width": 1.3
         },
         "marker": {
          "size": 2,
          "symbol": "circle"
         },
         "mode": "markers",
         "name": "A",
         "text": "",
         "type": "scatter",
         "x": [
          -0.965573785855108,
          2.3411683403874863,
          0.16760652247777483,
          0.5293763473061892,
          1.117328140016128,
          0.7549892445442132,
          2.054090398813393,
          -0.6782945481675158,
          1.0381705653378392,
          1.2140314276926856,
          0.03530096826726425,
          -0.02975819365648567,
          0.8490536809198773,
          -1.5614858840265529,
          0.736707745126771,
          0.1246407894398844,
          0.8379386880632551,
          0.41903183767939406,
          0.6018429414116641,
          0.2553278104357416,
          0.10218560907473412,
          1.2557054058002752,
          -0.8748741670847883,
          -0.3832158110185663,
          -0.1549106162658271,
          -1.2769478029855426,
          1.2890593262203311,
          0.3750696267160941,
          0.9921404081646318,
          0.21750565479064404,
          1.6490157181527234,
          0.31979828501405794,
          -0.26261002617535073,
          -0.23529714060338808,
          -0.22362828498994733,
          -0.6647344151065584,
          -0.5875322210729691,
          -0.6137603446064702,
          0.08365852508295676,
          -0.5736703131755713,
          0.441260085154336,
          0.7722016610545739,
          0.5324255904558407,
          0.40093790935933765,
          -0.053257602214600776,
          0.23615988021806109,
          -0.1196653377877863,
          -0.4081360519718144,
          -1.3879231468442046,
          0.47753275715667615,
          0.6015109009282125,
          -0.5627145530644787,
          1.0817852258226457,
          0.5902559942383697,
          -0.44190244945846197,
          0.31613056599056255,
          0.6907867960989922,
          -1.6964258454693064,
          0.6704678610285731,
          -0.20217302565308465,
          0.8315265238590916,
          0.5243909564105876,
          -1.258734034452956,
          -1.4020188180171287,
          -0.07728484380937733,
          -0.28049267010943935,
          0.08706081149001788,
          -1.778059875620324,
          -0.8343277328158784,
          0.3864682378824961,
          0.1503109040719167,
          -0.11424349139968754,
          -1.6639743787791799,
          -2.191755541277839,
          0.45497897381261365,
          0.31285327059157747,
          -0.3570196489480991,
          0.06866855226780288,
          -0.8135424471581575,
          -0.49434730240269664,
          0.4461810207717648,
          1.1420257711588415,
          -0.31672702200917324,
          1.82080657095947,
          0.679232378362389,
          0.4063062091653785,
          -1.0668562477330763,
          1.2601410127551493,
          -0.08626475067008418,
          -0.36923131351358884,
          -0.7445667813101593,
          1.6459010653261605,
          -0.4346406940551893,
          -1.8764159532897957,
          1.2075252986936873,
          0.8368235720752266,
          2.318359996303223,
          0.14353185810363364,
          0.5082567333578968,
          0.7185225785825067
         ],
         "xaxis": "x2",
         "y": [
          0.6368237558363841,
          1.0649006110582138,
          0.13840425377741813,
          0.6643570870697327,
          0.31033996046308443,
          0.3095307447079891,
          -1.0030806949117006,
          -2.073980421654117,
          -0.012978557675513116,
          -0.6443610249054871,
          -0.4019123011599225,
          -1.1865240201211213,
          1.9402176585124264,
          0.8017272698703927,
          1.4250960216550903,
          2.3414179561851403,
          -0.20350768446908774,
          0.22867666550922047,
          -0.8895629536550426,
          -0.15962318577850593,
          1.0785773861254981,
          -1.6997166285386889,
          0.04266600709434228,
          0.6880126804930993,
          0.7739049252029457,
          0.058188812087436564,
          -0.14029416776943504,
          -0.9981845613547209,
          0.22126264796890385,
          -1.2269498069443276,
          1.204595715334291,
          -0.7568251019365444,
          0.525713901813281,
          0.26930176076243917,
          0.2785868145508584,
          0.8119783697520976,
          0.46821407574585244,
          1.4687510828407921,
          -0.5980433221622159,
          0.6406517656293856,
          -0.2262760543280068,
          -0.6653294294964786,
          -0.5836311953052089,
          -0.2428675375821456,
          -1.8528633593831683,
          -0.007528069992805335,
          0.5382930637817657,
          -0.629087265440316,
          -0.6728917120279745,
          0.7144401052516212,
          0.23378447656804857,
          0.17330130095757496,
          0.21726407009755946,
          0.7237329000891287,
          0.27334144868980453,
          0.4865035225094366,
          0.7016337387174932,
          0.04079106265710642,
          -1.9665997054916837,
          -0.6631949964790526,
          -0.7102946535045428,
          -1.0774032299311715,
          1.6516020663809938,
          -1.6188402171370826,
          1.7543865634412688,
          1.6349723274645858,
          0.7712922083770805,
          0.41711383293823157,
          1.2353035140092619,
          0.8307141667412382,
          1.757130703099051,
          -0.03421584746068055,
          1.4539266180621373,
          -0.6418612753104854,
          -2.2645247371116057,
          1.7995701444332912,
          0.34258026492133203,
          -1.15192514998973,
          0.31713531038022136,
          -0.6991945323390549,
          -0.1874252447770727,
          1.7741234835799624,
          2.492111064588903,
          -0.5454800752618096,
          -2.084849189153723,
          -0.0862396373237331,
          0.261683605023826,
          -0.3241027505722336,
          0.44037856434772343,
          1.8195245724028761,
          0.7671675437836701,
          -0.6384630312275602,
          0.11607122808032443,
          1.5270567062839226,
          -0.16130502769273808,
          -0.43406958740491863,
          1.4734914707737603,
          -0.16657110561516894,
          -1.325659168470935,
          -1.7907712245138099
         ],
         "yaxis": "y2"
        },
        {
         "line": {
          "color": "rgba(128, 128, 128, 1.0)",
          "dash": "solid",
          "shape": "linear",
          "width": 1.3
         },
         "marker": {
          "size": 2,
          "symbol": "circle"
         },
         "mode": "markers",
         "name": "A",
         "text": "",
         "type": "scatter",
         "x": [
          0.8648798230158975,
          0.6168838744499859,
          -0.2553104669987,
          -0.5376464867950612,
          1.0985192033530944,
          -0.9440688409228584,
          0.6933173762420918,
          -0.6498482258477097,
          -0.8018121392098112,
          1.6614406628805582,
          0.25749349074201217,
          1.8111460735066105,
          0.39525004726688817,
          0.15322810958547553,
          -0.6505121094153137,
          -2.2984746556361033,
          -0.7271573961453361,
          -0.799612572239205,
          -0.1861677911754232,
          -0.9675184006268926,
          -0.5180993430469171,
          0.22326189499540022,
          0.8890311428268605,
          1.1684155086569208,
          -2.1105166472531005,
          -0.22792662026081348,
          -1.7352184104785755,
          0.5091809309124111,
          1.4605210888796814,
          0.6447537817584865,
          -0.6123891851427407,
          0.8851976383066426,
          -1.0868725112007147,
          -0.08744642526903344,
          0.15663391006169716,
          0.6782179133897311,
          2.3943293828093872,
          0.4617914586852474,
          1.4307611449605124,
          1.2425707074385905,
          -0.38271998875948376,
          0.973830279697104,
          -2.626937904231956,
          0.22089917867702138,
          0.7175278330901118,
          0.41789773927976986,
          -0.4684295575192196,
          1.286789232082445,
          -0.7753497121419121,
          0.3517210166362854,
          -1.1501314212759213,
          0.1596404420407003,
          -1.057130504381638,
          -1.0271136127887481,
          2.3092933092036976,
          -0.35794037595248507,
          0.21108274676066685,
          1.387117126540965,
          -1.453045342998502,
          0.4135364798202572,
          0.2400851843727173,
          0.08017711612552984,
          -1.301583929646112,
          -0.534393298061163,
          0.21398906503416223,
          2.373443426769146,
          -0.5020716705189721,
          0.6716541585189236,
          -0.26645139533386014,
          0.06884335805705821,
          0.7540618676481922,
          -1.286028613428508,
          0.050215678235865,
          0.07993908991261611,
          -1.0677518455070494,
          1.2677350406386771,
          0.35449282662119597,
          0.21279899649927772,
          -0.008082479729587274,
          -0.7203744314653343,
          2.5994109613713867,
          0.45460832517121713,
          0.1465669553109633,
          1.734136147569354,
          0.26041023533748875,
          -0.4151355022561119,
          0.5968344312309438,
          -0.9392533430149653,
          -1.536133943819491,
          -0.8065668782908024,
          -0.08050759192929652,
          -2.098171765730534,
          -0.808254971794466,
          0.9703291919561734,
          0.31128337197230466,
          -1.6207025952122633,
          1.2669287402911587,
          0.9810367505417916,
          2.0159574799117674,
          1.1329670490708486
         ],
         "xaxis": "x3",
         "y": [
          0.6368237558363841,
          1.0649006110582138,
          0.13840425377741813,
          0.6643570870697327,
          0.31033996046308443,
          0.3095307447079891,
          -1.0030806949117006,
          -2.073980421654117,
          -0.012978557675513116,
          -0.6443610249054871,
          -0.4019123011599225,
          -1.1865240201211213,
          1.9402176585124264,
          0.8017272698703927,
          1.4250960216550903,
          2.3414179561851403,
          -0.20350768446908774,
          0.22867666550922047,
          -0.8895629536550426,
          -0.15962318577850593,
          1.0785773861254981,
          -1.6997166285386889,
          0.04266600709434228,
          0.6880126804930993,
          0.7739049252029457,
          0.058188812087436564,
          -0.14029416776943504,
          -0.9981845613547209,
          0.22126264796890385,
          -1.2269498069443276,
          1.204595715334291,
          -0.7568251019365444,
          0.525713901813281,
          0.26930176076243917,
          0.2785868145508584,
          0.8119783697520976,
          0.46821407574585244,
          1.4687510828407921,
          -0.5980433221622159,
          0.6406517656293856,
          -0.2262760543280068,
          -0.6653294294964786,
          -0.5836311953052089,
          -0.2428675375821456,
          -1.8528633593831683,
          -0.007528069992805335,
          0.5382930637817657,
          -0.629087265440316,
          -0.6728917120279745,
          0.7144401052516212,
          0.23378447656804857,
          0.17330130095757496,
          0.21726407009755946,
          0.7237329000891287,
          0.27334144868980453,
          0.4865035225094366,
          0.7016337387174932,
          0.04079106265710642,
          -1.9665997054916837,
          -0.6631949964790526,
          -0.7102946535045428,
          -1.0774032299311715,
          1.6516020663809938,
          -1.6188402171370826,
          1.7543865634412688,
          1.6349723274645858,
          0.7712922083770805,
          0.41711383293823157,
          1.2353035140092619,
          0.8307141667412382,
          1.757130703099051,
          -0.03421584746068055,
          1.4539266180621373,
          -0.6418612753104854,
          -2.2645247371116057,
          1.7995701444332912,
          0.34258026492133203,
          -1.15192514998973,
          0.31713531038022136,
          -0.6991945323390549,
          -0.1874252447770727,
          1.7741234835799624,
          2.492111064588903,
          -0.5454800752618096,
          -2.084849189153723,
          -0.0862396373237331,
          0.261683605023826,
          -0.3241027505722336,
          0.44037856434772343,
          1.8195245724028761,
          0.7671675437836701,
          -0.6384630312275602,
          0.11607122808032443,
          1.5270567062839226,
          -0.16130502769273808,
          -0.43406958740491863,
          1.4734914707737603,
          -0.16657110561516894,
          -1.325659168470935,
          -1.7907712245138099
         ],
         "yaxis": "y3"
        },
        {
         "line": {
          "color": "rgba(128, 128, 128, 1.0)",
          "dash": "solid",
          "shape": "linear",
          "width": 1.3
         },
         "marker": {
          "size": 2,
          "symbol": "circle"
         },
         "mode": "markers",
         "name": "A",
         "text": "",
         "type": "scatter",
         "x": [
          -0.2511060495466714,
          -0.38323368117127715,
          -0.026206155669705973,
          0.008179529296440289,
          0.33814997381296197,
          -0.7631978995349146,
          -1.0749498002123072,
          0.3058286822190156,
          -0.9665368140590993,
          0.064712064586311,
          -1.6285755341487114,
          0.06677008462203217,
          -0.565963049639477,
          0.9602766523516492,
          -0.9613212997598867,
          0.2513979314757754,
          -0.44380942484781855,
          -0.2620223909192725,
          2.9570067591913647,
          0.7539739829991565,
          0.28431787170181994,
          -1.4256327274570921,
          -1.0505851872083094,
          -0.1992796480262547,
          1.1485178438650163,
          -0.572315706842162,
          0.2348020216311637,
          -1.43466379154626,
          0.6376017377523107,
          -0.8526391337822391,
          -2.532287479102309,
          2.670944306667824,
          0.00013011761243241827,
          0.3687159277023539,
          -0.21822462931136613,
          0.7275329061137008,
          -0.340173366046956,
          -1.2403244809609586,
          -1.615337103362975,
          -1.614287118122959,
          -0.5695074723526038,
          0.12189713163375622,
          -0.16169126299111203,
          0.38573183712843406,
          0.8385449252058224,
          -0.8649577476846941,
          2.0601201513521334,
          0.201901591904918,
          0.32112824048332517,
          -0.559888211181785,
          -1.4612755154772725,
          0.867840876378296,
          -1.9091097162672386,
          0.8247289548835394,
          0.4156663471708946,
          0.08458737863491718,
          -0.27300709453934846,
          0.5092993862731398,
          -1.671451660986157,
          -1.1966976797559579,
          -0.10020969171058366,
          -1.0183011427301836,
          0.978790967442909,
          -0.9425552606146356,
          -0.44737491045947175,
          0.8439799585928991,
          -0.17993802267047826,
          0.2977066279204819,
          1.5287819650802668,
          0.5705591482113747,
          -0.7192635203956517,
          0.3450070506775301,
          -1.033938460324176,
          1.1924657273649355,
          0.8682713090835688,
          0.04364254086856057,
          -0.6270612688472221,
          0.16383999095426352,
          0.1312681105501158,
          1.0802230727370812,
          0.7772940495024464,
          0.9543996804355898,
          1.6014754513536233,
          -0.44946493432675516,
          0.38422114740949564,
          -1.180658872549014,
          0.3231265726165534,
          0.9188177589555937,
          -0.7888359002985148,
          -0.11204142763384377,
          -0.9005142432054354,
          -0.8043314863203508,
          0.7392662332003646,
          0.20040141406036718,
          -0.06170035694528831,
          0.733012407827407,
          0.9009629858119796,
          -0.4958512951456021,
          -0.7440785771884372,
          0.13438848115616583
         ],
         "xaxis": "x4",
         "y": [
          0.6368237558363841,
          1.0649006110582138,
          0.13840425377741813,
          0.6643570870697327,
          0.31033996046308443,
          0.3095307447079891,
          -1.0030806949117006,
          -2.073980421654117,
          -0.012978557675513116,
          -0.6443610249054871,
          -0.4019123011599225,
          -1.1865240201211213,
          1.9402176585124264,
          0.8017272698703927,
          1.4250960216550903,
          2.3414179561851403,
          -0.20350768446908774,
          0.22867666550922047,
          -0.8895629536550426,
          -0.15962318577850593,
          1.0785773861254981,
          -1.6997166285386889,
          0.04266600709434228,
          0.6880126804930993,
          0.7739049252029457,
          0.058188812087436564,
          -0.14029416776943504,
          -0.9981845613547209,
          0.22126264796890385,
          -1.2269498069443276,
          1.204595715334291,
          -0.7568251019365444,
          0.525713901813281,
          0.26930176076243917,
          0.2785868145508584,
          0.8119783697520976,
          0.46821407574585244,
          1.4687510828407921,
          -0.5980433221622159,
          0.6406517656293856,
          -0.2262760543280068,
          -0.6653294294964786,
          -0.5836311953052089,
          -0.2428675375821456,
          -1.8528633593831683,
          -0.007528069992805335,
          0.5382930637817657,
          -0.629087265440316,
          -0.6728917120279745,
          0.7144401052516212,
          0.23378447656804857,
          0.17330130095757496,
          0.21726407009755946,
          0.7237329000891287,
          0.27334144868980453,
          0.4865035225094366,
          0.7016337387174932,
          0.04079106265710642,
          -1.9665997054916837,
          -0.6631949964790526,
          -0.7102946535045428,
          -1.0774032299311715,
          1.6516020663809938,
          -1.6188402171370826,
          1.7543865634412688,
          1.6349723274645858,
          0.7712922083770805,
          0.41711383293823157,
          1.2353035140092619,
          0.8307141667412382,
          1.757130703099051,
          -0.03421584746068055,
          1.4539266180621373,
          -0.6418612753104854,
          -2.2645247371116057,
          1.7995701444332912,
          0.34258026492133203,
          -1.15192514998973,
          0.31713531038022136,
          -0.6991945323390549,
          -0.1874252447770727,
          1.7741234835799624,
          2.492111064588903,
          -0.5454800752618096,
          -2.084849189153723,
          -0.0862396373237331,
          0.261683605023826,
          -0.3241027505722336,
          0.44037856434772343,
          1.8195245724028761,
          0.7671675437836701,
          -0.6384630312275602,
          0.11607122808032443,
          1.5270567062839226,
          -0.16130502769273808,
          -0.43406958740491863,
          1.4734914707737603,
          -0.16657110561516894,
          -1.325659168470935,
          -1.7907712245138099
         ],
         "yaxis": "y4"
        },
        {
         "line": {
          "color": "rgba(128, 128, 128, 1.0)",
          "dash": "solid",
          "shape": "linear",
          "width": 1.3
         },
         "marker": {
          "size": 2,
          "symbol": "circle"
         },
         "mode": "markers",
         "name": "B",
         "text": "",
         "type": "scatter",
         "x": [
          0.6368237558363841,
          1.0649006110582138,
          0.13840425377741813,
          0.6643570870697327,
          0.31033996046308443,
          0.3095307447079891,
          -1.0030806949117006,
          -2.073980421654117,
          -0.012978557675513116,
          -0.6443610249054871,
          -0.4019123011599225,
          -1.1865240201211213,
          1.9402176585124264,
          0.8017272698703927,
          1.4250960216550903,
          2.3414179561851403,
          -0.20350768446908774,
          0.22867666550922047,
          -0.8895629536550426,
          -0.15962318577850593,
          1.0785773861254981,
          -1.6997166285386889,
          0.04266600709434228,
          0.6880126804930993,
          0.7739049252029457,
          0.058188812087436564,
          -0.14029416776943504,
          -0.9981845613547209,
          0.22126264796890385,
          -1.2269498069443276,
          1.204595715334291,
          -0.7568251019365444,
          0.525713901813281,
          0.26930176076243917,
          0.2785868145508584,
          0.8119783697520976,
          0.46821407574585244,
          1.4687510828407921,
          -0.5980433221622159,
          0.6406517656293856,
          -0.2262760543280068,
          -0.6653294294964786,
          -0.5836311953052089,
          -0.2428675375821456,
          -1.8528633593831683,
          -0.007528069992805335,
          0.5382930637817657,
          -0.629087265440316,
          -0.6728917120279745,
          0.7144401052516212,
          0.23378447656804857,
          0.17330130095757496,
          0.21726407009755946,
          0.7237329000891287,
          0.27334144868980453,
          0.4865035225094366,
          0.7016337387174932,
          0.04079106265710642,
          -1.9665997054916837,
          -0.6631949964790526,
          -0.7102946535045428,
          -1.0774032299311715,
          1.6516020663809938,
          -1.6188402171370826,
          1.7543865634412688,
          1.6349723274645858,
          0.7712922083770805,
          0.41711383293823157,
          1.2353035140092619,
          0.8307141667412382,
          1.757130703099051,
          -0.03421584746068055,
          1.4539266180621373,
          -0.6418612753104854,
          -2.2645247371116057,
          1.7995701444332912,
          0.34258026492133203,
          -1.15192514998973,
          0.31713531038022136,
          -0.6991945323390549,
          -0.1874252447770727,
          1.7741234835799624,
          2.492111064588903,
          -0.5454800752618096,
          -2.084849189153723,
          -0.0862396373237331,
          0.261683605023826,
          -0.3241027505722336,
          0.44037856434772343,
          1.8195245724028761,
          0.7671675437836701,
          -0.6384630312275602,
          0.11607122808032443,
          1.5270567062839226,
          -0.16130502769273808,
          -0.43406958740491863,
          1.4734914707737603,
          -0.16657110561516894,
          -1.325659168470935,
          -1.7907712245138099
         ],
         "xaxis": "x5",
         "y": [
          -0.965573785855108,
          2.3411683403874863,
          0.16760652247777483,
          0.5293763473061892,
          1.117328140016128,
          0.7549892445442132,
          2.054090398813393,
          -0.6782945481675158,
          1.0381705653378392,
          1.2140314276926856,
          0.03530096826726425,
          -0.02975819365648567,
          0.8490536809198773,
          -1.5614858840265529,
          0.736707745126771,
          0.1246407894398844,
          0.8379386880632551,
          0.41903183767939406,
          0.6018429414116641,
          0.2553278104357416,
          0.10218560907473412,
          1.2557054058002752,
          -0.8748741670847883,
          -0.3832158110185663,
          -0.1549106162658271,
          -1.2769478029855426,
          1.2890593262203311,
          0.3750696267160941,
          0.9921404081646318,
          0.21750565479064404,
          1.6490157181527234,
          0.31979828501405794,
          -0.26261002617535073,
          -0.23529714060338808,
          -0.22362828498994733,
          -0.6647344151065584,
          -0.5875322210729691,
          -0.6137603446064702,
          0.08365852508295676,
          -0.5736703131755713,
          0.441260085154336,
          0.7722016610545739,
          0.5324255904558407,
          0.40093790935933765,
          -0.053257602214600776,
          0.23615988021806109,
          -0.1196653377877863,
          -0.4081360519718144,
          -1.3879231468442046,
          0.47753275715667615,
          0.6015109009282125,
          -0.5627145530644787,
          1.0817852258226457,
          0.5902559942383697,
          -0.44190244945846197,
          0.31613056599056255,
          0.6907867960989922,
          -1.6964258454693064,
          0.6704678610285731,
          -0.20217302565308465,
          0.8315265238590916,
          0.5243909564105876,
          -1.258734034452956,
          -1.4020188180171287,
          -0.07728484380937733,
          -0.28049267010943935,
          0.08706081149001788,
          -1.778059875620324,
          -0.8343277328158784,
          0.3864682378824961,
          0.1503109040719167,
          -0.11424349139968754,
          -1.6639743787791799,
          -2.191755541277839,
          0.45497897381261365,
          0.31285327059157747,
          -0.3570196489480991,
          0.06866855226780288,
          -0.8135424471581575,
          -0.49434730240269664,
          0.4461810207717648,
          1.1420257711588415,
          -0.31672702200917324,
          1.82080657095947,
          0.679232378362389,
          0.4063062091653785,
          -1.0668562477330763,
          1.2601410127551493,
          -0.08626475067008418,
          -0.36923131351358884,
          -0.7445667813101593,
          1.6459010653261605,
          -0.4346406940551893,
          -1.8764159532897957,
          1.2075252986936873,
          0.8368235720752266,
          2.318359996303223,
          0.14353185810363364,
          0.5082567333578968,
          0.7185225785825067
         ],
         "yaxis": "y5"
        },
        {
         "histfunc": "count",
         "histnorm": "",
         "marker": {
          "color": "rgba(55, 128, 191, 1.0)",
          "line": {
           "color": "#4D5663",
           "width": 1.3
          }
         },
         "name": "B",
         "nbinsx": 10,
         "opacity": 0.8,
         "orientation": "v",
         "type": "histogram",
         "x": [
          -0.965573785855108,
          2.3411683403874863,
          0.16760652247777483,
          0.5293763473061892,
          1.117328140016128,
          0.7549892445442132,
          2.054090398813393,
          -0.6782945481675158,
          1.0381705653378392,
          1.2140314276926856,
          0.03530096826726425,
          -0.02975819365648567,
          0.8490536809198773,
          -1.5614858840265529,
          0.736707745126771,
          0.1246407894398844,
          0.8379386880632551,
          0.41903183767939406,
          0.6018429414116641,
          0.2553278104357416,
          0.10218560907473412,
          1.2557054058002752,
          -0.8748741670847883,
          -0.3832158110185663,
          -0.1549106162658271,
          -1.2769478029855426,
          1.2890593262203311,
          0.3750696267160941,
          0.9921404081646318,
          0.21750565479064404,
          1.6490157181527234,
          0.31979828501405794,
          -0.26261002617535073,
          -0.23529714060338808,
          -0.22362828498994733,
          -0.6647344151065584,
          -0.5875322210729691,
          -0.6137603446064702,
          0.08365852508295676,
          -0.5736703131755713,
          0.441260085154336,
          0.7722016610545739,
          0.5324255904558407,
          0.40093790935933765,
          -0.053257602214600776,
          0.23615988021806109,
          -0.1196653377877863,
          -0.4081360519718144,
          -1.3879231468442046,
          0.47753275715667615,
          0.6015109009282125,
          -0.5627145530644787,
          1.0817852258226457,
          0.5902559942383697,
          -0.44190244945846197,
          0.31613056599056255,
          0.6907867960989922,
          -1.6964258454693064,
          0.6704678610285731,
          -0.20217302565308465,
          0.8315265238590916,
          0.5243909564105876,
          -1.258734034452956,
          -1.4020188180171287,
          -0.07728484380937733,
          -0.28049267010943935,
          0.08706081149001788,
          -1.778059875620324,
          -0.8343277328158784,
          0.3864682378824961,
          0.1503109040719167,
          -0.11424349139968754,
          -1.6639743787791799,
          -2.191755541277839,
          0.45497897381261365,
          0.31285327059157747,
          -0.3570196489480991,
          0.06866855226780288,
          -0.8135424471581575,
          -0.49434730240269664,
          0.4461810207717648,
          1.1420257711588415,
          -0.31672702200917324,
          1.82080657095947,
          0.679232378362389,
          0.4063062091653785,
          -1.0668562477330763,
          1.2601410127551493,
          -0.08626475067008418,
          -0.36923131351358884,
          -0.7445667813101593,
          1.6459010653261605,
          -0.4346406940551893,
          -1.8764159532897957,
          1.2075252986936873,
          0.8368235720752266,
          2.318359996303223,
          0.14353185810363364,
          0.5082567333578968,
          0.7185225785825067
         ],
         "xaxis": "x6",
         "yaxis": "y6"
        },
        {
         "line": {
          "color": "rgba(128, 128, 128, 1.0)",
          "dash": "solid",
          "shape": "linear",
          "width": 1.3
         },
         "marker": {
          "size": 2,
          "symbol": "circle"
         },
         "mode": "markers",
         "name": "B",
         "text": "",
         "type": "scatter",
         "x": [
          0.8648798230158975,
          0.6168838744499859,
          -0.2553104669987,
          -0.5376464867950612,
          1.0985192033530944,
          -0.9440688409228584,
          0.6933173762420918,
          -0.6498482258477097,
          -0.8018121392098112,
          1.6614406628805582,
          0.25749349074201217,
          1.8111460735066105,
          0.39525004726688817,
          0.15322810958547553,
          -0.6505121094153137,
          -2.2984746556361033,
          -0.7271573961453361,
          -0.799612572239205,
          -0.1861677911754232,
          -0.9675184006268926,
          -0.5180993430469171,
          0.22326189499540022,
          0.8890311428268605,
          1.1684155086569208,
          -2.1105166472531005,
          -0.22792662026081348,
          -1.7352184104785755,
          0.5091809309124111,
          1.4605210888796814,
          0.6447537817584865,
          -0.6123891851427407,
          0.8851976383066426,
          -1.0868725112007147,
          -0.08744642526903344,
          0.15663391006169716,
          0.6782179133897311,
          2.3943293828093872,
          0.4617914586852474,
          1.4307611449605124,
          1.2425707074385905,
          -0.38271998875948376,
          0.973830279697104,
          -2.626937904231956,
          0.22089917867702138,
          0.7175278330901118,
          0.41789773927976986,
          -0.4684295575192196,
          1.286789232082445,
          -0.7753497121419121,
          0.3517210166362854,
          -1.1501314212759213,
          0.1596404420407003,
          -1.057130504381638,
          -1.0271136127887481,
          2.3092933092036976,
          -0.35794037595248507,
          0.21108274676066685,
          1.387117126540965,
          -1.453045342998502,
          0.4135364798202572,
          0.2400851843727173,
          0.08017711612552984,
          -1.301583929646112,
          -0.534393298061163,
          0.21398906503416223,
          2.373443426769146,
          -0.5020716705189721,
          0.6716541585189236,
          -0.26645139533386014,
          0.06884335805705821,
          0.7540618676481922,
          -1.286028613428508,
          0.050215678235865,
          0.07993908991261611,
          -1.0677518455070494,
          1.2677350406386771,
          0.35449282662119597,
          0.21279899649927772,
          -0.008082479729587274,
          -0.7203744314653343,
          2.5994109613713867,
          0.45460832517121713,
          0.1465669553109633,
          1.734136147569354,
          0.26041023533748875,
          -0.4151355022561119,
          0.5968344312309438,
          -0.9392533430149653,
          -1.536133943819491,
          -0.8065668782908024,
          -0.08050759192929652,
          -2.098171765730534,
          -0.808254971794466,
          0.9703291919561734,
          0.31128337197230466,
          -1.6207025952122633,
          1.2669287402911587,
          0.9810367505417916,
          2.0159574799117674,
          1.1329670490708486
         ],
         "xaxis": "x7",
         "y": [
          -0.965573785855108,
          2.3411683403874863,
          0.16760652247777483,
          0.5293763473061892,
          1.117328140016128,
          0.7549892445442132,
          2.054090398813393,
          -0.6782945481675158,
          1.0381705653378392,
          1.2140314276926856,
          0.03530096826726425,
          -0.02975819365648567,
          0.8490536809198773,
          -1.5614858840265529,
          0.736707745126771,
          0.1246407894398844,
          0.8379386880632551,
          0.41903183767939406,
          0.6018429414116641,
          0.2553278104357416,
          0.10218560907473412,
          1.2557054058002752,
          -0.8748741670847883,
          -0.3832158110185663,
          -0.1549106162658271,
          -1.2769478029855426,
          1.2890593262203311,
          0.3750696267160941,
          0.9921404081646318,
          0.21750565479064404,
          1.6490157181527234,
          0.31979828501405794,
          -0.26261002617535073,
          -0.23529714060338808,
          -0.22362828498994733,
          -0.6647344151065584,
          -0.5875322210729691,
          -0.6137603446064702,
          0.08365852508295676,
          -0.5736703131755713,
          0.441260085154336,
          0.7722016610545739,
          0.5324255904558407,
          0.40093790935933765,
          -0.053257602214600776,
          0.23615988021806109,
          -0.1196653377877863,
          -0.4081360519718144,
          -1.3879231468442046,
          0.47753275715667615,
          0.6015109009282125,
          -0.5627145530644787,
          1.0817852258226457,
          0.5902559942383697,
          -0.44190244945846197,
          0.31613056599056255,
          0.6907867960989922,
          -1.6964258454693064,
          0.6704678610285731,
          -0.20217302565308465,
          0.8315265238590916,
          0.5243909564105876,
          -1.258734034452956,
          -1.4020188180171287,
          -0.07728484380937733,
          -0.28049267010943935,
          0.08706081149001788,
          -1.778059875620324,
          -0.8343277328158784,
          0.3864682378824961,
          0.1503109040719167,
          -0.11424349139968754,
          -1.6639743787791799,
          -2.191755541277839,
          0.45497897381261365,
          0.31285327059157747,
          -0.3570196489480991,
          0.06866855226780288,
          -0.8135424471581575,
          -0.49434730240269664,
          0.4461810207717648,
          1.1420257711588415,
          -0.31672702200917324,
          1.82080657095947,
          0.679232378362389,
          0.4063062091653785,
          -1.0668562477330763,
          1.2601410127551493,
          -0.08626475067008418,
          -0.36923131351358884,
          -0.7445667813101593,
          1.6459010653261605,
          -0.4346406940551893,
          -1.8764159532897957,
          1.2075252986936873,
          0.8368235720752266,
          2.318359996303223,
          0.14353185810363364,
          0.5082567333578968,
          0.7185225785825067
         ],
         "yaxis": "y7"
        },
        {
         "line": {
          "color": "rgba(128, 128, 128, 1.0)",
          "dash": "solid",
          "shape": "linear",
          "width": 1.3
         },
         "marker": {
          "size": 2,
          "symbol": "circle"
         },
         "mode": "markers",
         "name": "B",
         "text": "",
         "type": "scatter",
         "x": [
          -0.2511060495466714,
          -0.38323368117127715,
          -0.026206155669705973,
          0.008179529296440289,
          0.33814997381296197,
          -0.7631978995349146,
          -1.0749498002123072,
          0.3058286822190156,
          -0.9665368140590993,
          0.064712064586311,
          -1.6285755341487114,
          0.06677008462203217,
          -0.565963049639477,
          0.9602766523516492,
          -0.9613212997598867,
          0.2513979314757754,
          -0.44380942484781855,
          -0.2620223909192725,
          2.9570067591913647,
          0.7539739829991565,
          0.28431787170181994,
          -1.4256327274570921,
          -1.0505851872083094,
          -0.1992796480262547,
          1.1485178438650163,
          -0.572315706842162,
          0.2348020216311637,
          -1.43466379154626,
          0.6376017377523107,
          -0.8526391337822391,
          -2.532287479102309,
          2.670944306667824,
          0.00013011761243241827,
          0.3687159277023539,
          -0.21822462931136613,
          0.7275329061137008,
          -0.340173366046956,
          -1.2403244809609586,
          -1.615337103362975,
          -1.614287118122959,
          -0.5695074723526038,
          0.12189713163375622,
          -0.16169126299111203,
          0.38573183712843406,
          0.8385449252058224,
          -0.8649577476846941,
          2.0601201513521334,
          0.201901591904918,
          0.32112824048332517,
          -0.559888211181785,
          -1.4612755154772725,
          0.867840876378296,
          -1.9091097162672386,
          0.8247289548835394,
          0.4156663471708946,
          0.08458737863491718,
          -0.27300709453934846,
          0.5092993862731398,
          -1.671451660986157,
          -1.1966976797559579,
          -0.10020969171058366,
          -1.0183011427301836,
          0.978790967442909,
          -0.9425552606146356,
          -0.44737491045947175,
          0.8439799585928991,
          -0.17993802267047826,
          0.2977066279204819,
          1.5287819650802668,
          0.5705591482113747,
          -0.7192635203956517,
          0.3450070506775301,
          -1.033938460324176,
          1.1924657273649355,
          0.8682713090835688,
          0.04364254086856057,
          -0.6270612688472221,
          0.16383999095426352,
          0.1312681105501158,
          1.0802230727370812,
          0.7772940495024464,
          0.9543996804355898,
          1.6014754513536233,
          -0.44946493432675516,
          0.38422114740949564,
          -1.180658872549014,
          0.3231265726165534,
          0.9188177589555937,
          -0.7888359002985148,
          -0.11204142763384377,
          -0.9005142432054354,
          -0.8043314863203508,
          0.7392662332003646,
          0.20040141406036718,
          -0.06170035694528831,
          0.733012407827407,
          0.9009629858119796,
          -0.4958512951456021,
          -0.7440785771884372,
          0.13438848115616583
         ],
         "xaxis": "x8",
         "y": [
          -0.965573785855108,
          2.3411683403874863,
          0.16760652247777483,
          0.5293763473061892,
          1.117328140016128,
          0.7549892445442132,
          2.054090398813393,
          -0.6782945481675158,
          1.0381705653378392,
          1.2140314276926856,
          0.03530096826726425,
          -0.02975819365648567,
          0.8490536809198773,
          -1.5614858840265529,
          0.736707745126771,
          0.1246407894398844,
          0.8379386880632551,
          0.41903183767939406,
          0.6018429414116641,
          0.2553278104357416,
          0.10218560907473412,
          1.2557054058002752,
          -0.8748741670847883,
          -0.3832158110185663,
          -0.1549106162658271,
          -1.2769478029855426,
          1.2890593262203311,
          0.3750696267160941,
          0.9921404081646318,
          0.21750565479064404,
          1.6490157181527234,
          0.31979828501405794,
          -0.26261002617535073,
          -0.23529714060338808,
          -0.22362828498994733,
          -0.6647344151065584,
          -0.5875322210729691,
          -0.6137603446064702,
          0.08365852508295676,
          -0.5736703131755713,
          0.441260085154336,
          0.7722016610545739,
          0.5324255904558407,
          0.40093790935933765,
          -0.053257602214600776,
          0.23615988021806109,
          -0.1196653377877863,
          -0.4081360519718144,
          -1.3879231468442046,
          0.47753275715667615,
          0.6015109009282125,
          -0.5627145530644787,
          1.0817852258226457,
          0.5902559942383697,
          -0.44190244945846197,
          0.31613056599056255,
          0.6907867960989922,
          -1.6964258454693064,
          0.6704678610285731,
          -0.20217302565308465,
          0.8315265238590916,
          0.5243909564105876,
          -1.258734034452956,
          -1.4020188180171287,
          -0.07728484380937733,
          -0.28049267010943935,
          0.08706081149001788,
          -1.778059875620324,
          -0.8343277328158784,
          0.3864682378824961,
          0.1503109040719167,
          -0.11424349139968754,
          -1.6639743787791799,
          -2.191755541277839,
          0.45497897381261365,
          0.31285327059157747,
          -0.3570196489480991,
          0.06866855226780288,
          -0.8135424471581575,
          -0.49434730240269664,
          0.4461810207717648,
          1.1420257711588415,
          -0.31672702200917324,
          1.82080657095947,
          0.679232378362389,
          0.4063062091653785,
          -1.0668562477330763,
          1.2601410127551493,
          -0.08626475067008418,
          -0.36923131351358884,
          -0.7445667813101593,
          1.6459010653261605,
          -0.4346406940551893,
          -1.8764159532897957,
          1.2075252986936873,
          0.8368235720752266,
          2.318359996303223,
          0.14353185810363364,
          0.5082567333578968,
          0.7185225785825067
         ],
         "yaxis": "y8"
        },
        {
         "line": {
          "color": "rgba(128, 128, 128, 1.0)",
          "dash": "solid",
          "shape": "linear",
          "width": 1.3
         },
         "marker": {
          "size": 2,
          "symbol": "circle"
         },
         "mode": "markers",
         "name": "C",
         "text": "",
         "type": "scatter",
         "x": [
          0.6368237558363841,
          1.0649006110582138,
          0.13840425377741813,
          0.6643570870697327,
          0.31033996046308443,
          0.3095307447079891,
          -1.0030806949117006,
          -2.073980421654117,
          -0.012978557675513116,
          -0.6443610249054871,
          -0.4019123011599225,
          -1.1865240201211213,
          1.9402176585124264,
          0.8017272698703927,
          1.4250960216550903,
          2.3414179561851403,
          -0.20350768446908774,
          0.22867666550922047,
          -0.8895629536550426,
          -0.15962318577850593,
          1.0785773861254981,
          -1.6997166285386889,
          0.04266600709434228,
          0.6880126804930993,
          0.7739049252029457,
          0.058188812087436564,
          -0.14029416776943504,
          -0.9981845613547209,
          0.22126264796890385,
          -1.2269498069443276,
          1.204595715334291,
          -0.7568251019365444,
          0.525713901813281,
          0.26930176076243917,
          0.2785868145508584,
          0.8119783697520976,
          0.46821407574585244,
          1.4687510828407921,
          -0.5980433221622159,
          0.6406517656293856,
          -0.2262760543280068,
          -0.6653294294964786,
          -0.5836311953052089,
          -0.2428675375821456,
          -1.8528633593831683,
          -0.007528069992805335,
          0.5382930637817657,
          -0.629087265440316,
          -0.6728917120279745,
          0.7144401052516212,
          0.23378447656804857,
          0.17330130095757496,
          0.21726407009755946,
          0.7237329000891287,
          0.27334144868980453,
          0.4865035225094366,
          0.7016337387174932,
          0.04079106265710642,
          -1.9665997054916837,
          -0.6631949964790526,
          -0.7102946535045428,
          -1.0774032299311715,
          1.6516020663809938,
          -1.6188402171370826,
          1.7543865634412688,
          1.6349723274645858,
          0.7712922083770805,
          0.41711383293823157,
          1.2353035140092619,
          0.8307141667412382,
          1.757130703099051,
          -0.03421584746068055,
          1.4539266180621373,
          -0.6418612753104854,
          -2.2645247371116057,
          1.7995701444332912,
          0.34258026492133203,
          -1.15192514998973,
          0.31713531038022136,
          -0.6991945323390549,
          -0.1874252447770727,
          1.7741234835799624,
          2.492111064588903,
          -0.5454800752618096,
          -2.084849189153723,
          -0.0862396373237331,
          0.261683605023826,
          -0.3241027505722336,
          0.44037856434772343,
          1.8195245724028761,
          0.7671675437836701,
          -0.6384630312275602,
          0.11607122808032443,
          1.5270567062839226,
          -0.16130502769273808,
          -0.43406958740491863,
          1.4734914707737603,
          -0.16657110561516894,
          -1.325659168470935,
          -1.7907712245138099
         ],
         "xaxis": "x9",
         "y": [
          0.8648798230158975,
          0.6168838744499859,
          -0.2553104669987,
          -0.5376464867950612,
          1.0985192033530944,
          -0.9440688409228584,
          0.6933173762420918,
          -0.6498482258477097,
          -0.8018121392098112,
          1.6614406628805582,
          0.25749349074201217,
          1.8111460735066105,
          0.39525004726688817,
          0.15322810958547553,
          -0.6505121094153137,
          -2.2984746556361033,
          -0.7271573961453361,
          -0.799612572239205,
          -0.1861677911754232,
          -0.9675184006268926,
          -0.5180993430469171,
          0.22326189499540022,
          0.8890311428268605,
          1.1684155086569208,
          -2.1105166472531005,
          -0.22792662026081348,
          -1.7352184104785755,
          0.5091809309124111,
          1.4605210888796814,
          0.6447537817584865,
          -0.6123891851427407,
          0.8851976383066426,
          -1.0868725112007147,
          -0.08744642526903344,
          0.15663391006169716,
          0.6782179133897311,
          2.3943293828093872,
          0.4617914586852474,
          1.4307611449605124,
          1.2425707074385905,
          -0.38271998875948376,
          0.973830279697104,
          -2.626937904231956,
          0.22089917867702138,
          0.7175278330901118,
          0.41789773927976986,
          -0.4684295575192196,
          1.286789232082445,
          -0.7753497121419121,
          0.3517210166362854,
          -1.1501314212759213,
          0.1596404420407003,
          -1.057130504381638,
          -1.0271136127887481,
          2.3092933092036976,
          -0.35794037595248507,
          0.21108274676066685,
          1.387117126540965,
          -1.453045342998502,
          0.4135364798202572,
          0.2400851843727173,
          0.08017711612552984,
          -1.301583929646112,
          -0.534393298061163,
          0.21398906503416223,
          2.373443426769146,
          -0.5020716705189721,
          0.6716541585189236,
          -0.26645139533386014,
          0.06884335805705821,
          0.7540618676481922,
          -1.286028613428508,
          0.050215678235865,
          0.07993908991261611,
          -1.0677518455070494,
          1.2677350406386771,
          0.35449282662119597,
          0.21279899649927772,
          -0.008082479729587274,
          -0.7203744314653343,
          2.5994109613713867,
          0.45460832517121713,
          0.1465669553109633,
          1.734136147569354,
          0.26041023533748875,
          -0.4151355022561119,
          0.5968344312309438,
          -0.9392533430149653,
          -1.536133943819491,
          -0.8065668782908024,
          -0.08050759192929652,
          -2.098171765730534,
          -0.808254971794466,
          0.9703291919561734,
          0.31128337197230466,
          -1.6207025952122633,
          1.2669287402911587,
          0.9810367505417916,
          2.0159574799117674,
          1.1329670490708486
         ],
         "yaxis": "y9"
        },
        {
         "line": {
          "color": "rgba(128, 128, 128, 1.0)",
          "dash": "solid",
          "shape": "linear",
          "width": 1.3
         },
         "marker": {
          "size": 2,
          "symbol": "circle"
         },
         "mode": "markers",
         "name": "C",
         "text": "",
         "type": "scatter",
         "x": [
          -0.965573785855108,
          2.3411683403874863,
          0.16760652247777483,
          0.5293763473061892,
          1.117328140016128,
          0.7549892445442132,
          2.054090398813393,
          -0.6782945481675158,
          1.0381705653378392,
          1.2140314276926856,
          0.03530096826726425,
          -0.02975819365648567,
          0.8490536809198773,
          -1.5614858840265529,
          0.736707745126771,
          0.1246407894398844,
          0.8379386880632551,
          0.41903183767939406,
          0.6018429414116641,
          0.2553278104357416,
          0.10218560907473412,
          1.2557054058002752,
          -0.8748741670847883,
          -0.3832158110185663,
          -0.1549106162658271,
          -1.2769478029855426,
          1.2890593262203311,
          0.3750696267160941,
          0.9921404081646318,
          0.21750565479064404,
          1.6490157181527234,
          0.31979828501405794,
          -0.26261002617535073,
          -0.23529714060338808,
          -0.22362828498994733,
          -0.6647344151065584,
          -0.5875322210729691,
          -0.6137603446064702,
          0.08365852508295676,
          -0.5736703131755713,
          0.441260085154336,
          0.7722016610545739,
          0.5324255904558407,
          0.40093790935933765,
          -0.053257602214600776,
          0.23615988021806109,
          -0.1196653377877863,
          -0.4081360519718144,
          -1.3879231468442046,
          0.47753275715667615,
          0.6015109009282125,
          -0.5627145530644787,
          1.0817852258226457,
          0.5902559942383697,
          -0.44190244945846197,
          0.31613056599056255,
          0.6907867960989922,
          -1.6964258454693064,
          0.6704678610285731,
          -0.20217302565308465,
          0.8315265238590916,
          0.5243909564105876,
          -1.258734034452956,
          -1.4020188180171287,
          -0.07728484380937733,
          -0.28049267010943935,
          0.08706081149001788,
          -1.778059875620324,
          -0.8343277328158784,
          0.3864682378824961,
          0.1503109040719167,
          -0.11424349139968754,
          -1.6639743787791799,
          -2.191755541277839,
          0.45497897381261365,
          0.31285327059157747,
          -0.3570196489480991,
          0.06866855226780288,
          -0.8135424471581575,
          -0.49434730240269664,
          0.4461810207717648,
          1.1420257711588415,
          -0.31672702200917324,
          1.82080657095947,
          0.679232378362389,
          0.4063062091653785,
          -1.0668562477330763,
          1.2601410127551493,
          -0.08626475067008418,
          -0.36923131351358884,
          -0.7445667813101593,
          1.6459010653261605,
          -0.4346406940551893,
          -1.8764159532897957,
          1.2075252986936873,
          0.8368235720752266,
          2.318359996303223,
          0.14353185810363364,
          0.5082567333578968,
          0.7185225785825067
         ],
         "xaxis": "x10",
         "y": [
          0.8648798230158975,
          0.6168838744499859,
          -0.2553104669987,
          -0.5376464867950612,
          1.0985192033530944,
          -0.9440688409228584,
          0.6933173762420918,
          -0.6498482258477097,
          -0.8018121392098112,
          1.6614406628805582,
          0.25749349074201217,
          1.8111460735066105,
          0.39525004726688817,
          0.15322810958547553,
          -0.6505121094153137,
          -2.2984746556361033,
          -0.7271573961453361,
          -0.799612572239205,
          -0.1861677911754232,
          -0.9675184006268926,
          -0.5180993430469171,
          0.22326189499540022,
          0.8890311428268605,
          1.1684155086569208,
          -2.1105166472531005,
          -0.22792662026081348,
          -1.7352184104785755,
          0.5091809309124111,
          1.4605210888796814,
          0.6447537817584865,
          -0.6123891851427407,
          0.8851976383066426,
          -1.0868725112007147,
          -0.08744642526903344,
          0.15663391006169716,
          0.6782179133897311,
          2.3943293828093872,
          0.4617914586852474,
          1.4307611449605124,
          1.2425707074385905,
          -0.38271998875948376,
          0.973830279697104,
          -2.626937904231956,
          0.22089917867702138,
          0.7175278330901118,
          0.41789773927976986,
          -0.4684295575192196,
          1.286789232082445,
          -0.7753497121419121,
          0.3517210166362854,
          -1.1501314212759213,
          0.1596404420407003,
          -1.057130504381638,
          -1.0271136127887481,
          2.3092933092036976,
          -0.35794037595248507,
          0.21108274676066685,
          1.387117126540965,
          -1.453045342998502,
          0.4135364798202572,
          0.2400851843727173,
          0.08017711612552984,
          -1.301583929646112,
          -0.534393298061163,
          0.21398906503416223,
          2.373443426769146,
          -0.5020716705189721,
          0.6716541585189236,
          -0.26645139533386014,
          0.06884335805705821,
          0.7540618676481922,
          -1.286028613428508,
          0.050215678235865,
          0.07993908991261611,
          -1.0677518455070494,
          1.2677350406386771,
          0.35449282662119597,
          0.21279899649927772,
          -0.008082479729587274,
          -0.7203744314653343,
          2.5994109613713867,
          0.45460832517121713,
          0.1465669553109633,
          1.734136147569354,
          0.26041023533748875,
          -0.4151355022561119,
          0.5968344312309438,
          -0.9392533430149653,
          -1.536133943819491,
          -0.8065668782908024,
          -0.08050759192929652,
          -2.098171765730534,
          -0.808254971794466,
          0.9703291919561734,
          0.31128337197230466,
          -1.6207025952122633,
          1.2669287402911587,
          0.9810367505417916,
          2.0159574799117674,
          1.1329670490708486
         ],
         "yaxis": "y10"
        },
        {
         "histfunc": "count",
         "histnorm": "",
         "marker": {
          "color": "rgba(50, 171, 96, 1.0)",
          "line": {
           "color": "#4D5663",
           "width": 1.3
          }
         },
         "name": "C",
         "nbinsx": 10,
         "opacity": 0.8,
         "orientation": "v",
         "type": "histogram",
         "x": [
          0.8648798230158975,
          0.6168838744499859,
          -0.2553104669987,
          -0.5376464867950612,
          1.0985192033530944,
          -0.9440688409228584,
          0.6933173762420918,
          -0.6498482258477097,
          -0.8018121392098112,
          1.6614406628805582,
          0.25749349074201217,
          1.8111460735066105,
          0.39525004726688817,
          0.15322810958547553,
          -0.6505121094153137,
          -2.2984746556361033,
          -0.7271573961453361,
          -0.799612572239205,
          -0.1861677911754232,
          -0.9675184006268926,
          -0.5180993430469171,
          0.22326189499540022,
          0.8890311428268605,
          1.1684155086569208,
          -2.1105166472531005,
          -0.22792662026081348,
          -1.7352184104785755,
          0.5091809309124111,
          1.4605210888796814,
          0.6447537817584865,
          -0.6123891851427407,
          0.8851976383066426,
          -1.0868725112007147,
          -0.08744642526903344,
          0.15663391006169716,
          0.6782179133897311,
          2.3943293828093872,
          0.4617914586852474,
          1.4307611449605124,
          1.2425707074385905,
          -0.38271998875948376,
          0.973830279697104,
          -2.626937904231956,
          0.22089917867702138,
          0.7175278330901118,
          0.41789773927976986,
          -0.4684295575192196,
          1.286789232082445,
          -0.7753497121419121,
          0.3517210166362854,
          -1.1501314212759213,
          0.1596404420407003,
          -1.057130504381638,
          -1.0271136127887481,
          2.3092933092036976,
          -0.35794037595248507,
          0.21108274676066685,
          1.387117126540965,
          -1.453045342998502,
          0.4135364798202572,
          0.2400851843727173,
          0.08017711612552984,
          -1.301583929646112,
          -0.534393298061163,
          0.21398906503416223,
          2.373443426769146,
          -0.5020716705189721,
          0.6716541585189236,
          -0.26645139533386014,
          0.06884335805705821,
          0.7540618676481922,
          -1.286028613428508,
          0.050215678235865,
          0.07993908991261611,
          -1.0677518455070494,
          1.2677350406386771,
          0.35449282662119597,
          0.21279899649927772,
          -0.008082479729587274,
          -0.7203744314653343,
          2.5994109613713867,
          0.45460832517121713,
          0.1465669553109633,
          1.734136147569354,
          0.26041023533748875,
          -0.4151355022561119,
          0.5968344312309438,
          -0.9392533430149653,
          -1.536133943819491,
          -0.8065668782908024,
          -0.08050759192929652,
          -2.098171765730534,
          -0.808254971794466,
          0.9703291919561734,
          0.31128337197230466,
          -1.6207025952122633,
          1.2669287402911587,
          0.9810367505417916,
          2.0159574799117674,
          1.1329670490708486
         ],
         "xaxis": "x11",
         "yaxis": "y11"
        },
        {
         "line": {
          "color": "rgba(128, 128, 128, 1.0)",
          "dash": "solid",
          "shape": "linear",
          "width": 1.3
         },
         "marker": {
          "size": 2,
          "symbol": "circle"
         },
         "mode": "markers",
         "name": "C",
         "text": "",
         "type": "scatter",
         "x": [
          -0.2511060495466714,
          -0.38323368117127715,
          -0.026206155669705973,
          0.008179529296440289,
          0.33814997381296197,
          -0.7631978995349146,
          -1.0749498002123072,
          0.3058286822190156,
          -0.9665368140590993,
          0.064712064586311,
          -1.6285755341487114,
          0.06677008462203217,
          -0.565963049639477,
          0.9602766523516492,
          -0.9613212997598867,
          0.2513979314757754,
          -0.44380942484781855,
          -0.2620223909192725,
          2.9570067591913647,
          0.7539739829991565,
          0.28431787170181994,
          -1.4256327274570921,
          -1.0505851872083094,
          -0.1992796480262547,
          1.1485178438650163,
          -0.572315706842162,
          0.2348020216311637,
          -1.43466379154626,
          0.6376017377523107,
          -0.8526391337822391,
          -2.532287479102309,
          2.670944306667824,
          0.00013011761243241827,
          0.3687159277023539,
          -0.21822462931136613,
          0.7275329061137008,
          -0.340173366046956,
          -1.2403244809609586,
          -1.615337103362975,
          -1.614287118122959,
          -0.5695074723526038,
          0.12189713163375622,
          -0.16169126299111203,
          0.38573183712843406,
          0.8385449252058224,
          -0.8649577476846941,
          2.0601201513521334,
          0.201901591904918,
          0.32112824048332517,
          -0.559888211181785,
          -1.4612755154772725,
          0.867840876378296,
          -1.9091097162672386,
          0.8247289548835394,
          0.4156663471708946,
          0.08458737863491718,
          -0.27300709453934846,
          0.5092993862731398,
          -1.671451660986157,
          -1.1966976797559579,
          -0.10020969171058366,
          -1.0183011427301836,
          0.978790967442909,
          -0.9425552606146356,
          -0.44737491045947175,
          0.8439799585928991,
          -0.17993802267047826,
          0.2977066279204819,
          1.5287819650802668,
          0.5705591482113747,
          -0.7192635203956517,
          0.3450070506775301,
          -1.033938460324176,
          1.1924657273649355,
          0.8682713090835688,
          0.04364254086856057,
          -0.6270612688472221,
          0.16383999095426352,
          0.1312681105501158,
          1.0802230727370812,
          0.7772940495024464,
          0.9543996804355898,
          1.6014754513536233,
          -0.44946493432675516,
          0.38422114740949564,
          -1.180658872549014,
          0.3231265726165534,
          0.9188177589555937,
          -0.7888359002985148,
          -0.11204142763384377,
          -0.9005142432054354,
          -0.8043314863203508,
          0.7392662332003646,
          0.20040141406036718,
          -0.06170035694528831,
          0.733012407827407,
          0.9009629858119796,
          -0.4958512951456021,
          -0.7440785771884372,
          0.13438848115616583
         ],
         "xaxis": "x12",
         "y": [
          0.8648798230158975,
          0.6168838744499859,
          -0.2553104669987,
          -0.5376464867950612,
          1.0985192033530944,
          -0.9440688409228584,
          0.6933173762420918,
          -0.6498482258477097,
          -0.8018121392098112,
          1.6614406628805582,
          0.25749349074201217,
          1.8111460735066105,
          0.39525004726688817,
          0.15322810958547553,
          -0.6505121094153137,
          -2.2984746556361033,
          -0.7271573961453361,
          -0.799612572239205,
          -0.1861677911754232,
          -0.9675184006268926,
          -0.5180993430469171,
          0.22326189499540022,
          0.8890311428268605,
          1.1684155086569208,
          -2.1105166472531005,
          -0.22792662026081348,
          -1.7352184104785755,
          0.5091809309124111,
          1.4605210888796814,
          0.6447537817584865,
          -0.6123891851427407,
          0.8851976383066426,
          -1.0868725112007147,
          -0.08744642526903344,
          0.15663391006169716,
          0.6782179133897311,
          2.3943293828093872,
          0.4617914586852474,
          1.4307611449605124,
          1.2425707074385905,
          -0.38271998875948376,
          0.973830279697104,
          -2.626937904231956,
          0.22089917867702138,
          0.7175278330901118,
          0.41789773927976986,
          -0.4684295575192196,
          1.286789232082445,
          -0.7753497121419121,
          0.3517210166362854,
          -1.1501314212759213,
          0.1596404420407003,
          -1.057130504381638,
          -1.0271136127887481,
          2.3092933092036976,
          -0.35794037595248507,
          0.21108274676066685,
          1.387117126540965,
          -1.453045342998502,
          0.4135364798202572,
          0.2400851843727173,
          0.08017711612552984,
          -1.301583929646112,
          -0.534393298061163,
          0.21398906503416223,
          2.373443426769146,
          -0.5020716705189721,
          0.6716541585189236,
          -0.26645139533386014,
          0.06884335805705821,
          0.7540618676481922,
          -1.286028613428508,
          0.050215678235865,
          0.07993908991261611,
          -1.0677518455070494,
          1.2677350406386771,
          0.35449282662119597,
          0.21279899649927772,
          -0.008082479729587274,
          -0.7203744314653343,
          2.5994109613713867,
          0.45460832517121713,
          0.1465669553109633,
          1.734136147569354,
          0.26041023533748875,
          -0.4151355022561119,
          0.5968344312309438,
          -0.9392533430149653,
          -1.536133943819491,
          -0.8065668782908024,
          -0.08050759192929652,
          -2.098171765730534,
          -0.808254971794466,
          0.9703291919561734,
          0.31128337197230466,
          -1.6207025952122633,
          1.2669287402911587,
          0.9810367505417916,
          2.0159574799117674,
          1.1329670490708486
         ],
         "yaxis": "y12"
        },
        {
         "line": {
          "color": "rgba(128, 128, 128, 1.0)",
          "dash": "solid",
          "shape": "linear",
          "width": 1.3
         },
         "marker": {
          "size": 2,
          "symbol": "circle"
         },
         "mode": "markers",
         "name": "D",
         "text": "",
         "type": "scatter",
         "x": [
          0.6368237558363841,
          1.0649006110582138,
          0.13840425377741813,
          0.6643570870697327,
          0.31033996046308443,
          0.3095307447079891,
          -1.0030806949117006,
          -2.073980421654117,
          -0.012978557675513116,
          -0.6443610249054871,
          -0.4019123011599225,
          -1.1865240201211213,
          1.9402176585124264,
          0.8017272698703927,
          1.4250960216550903,
          2.3414179561851403,
          -0.20350768446908774,
          0.22867666550922047,
          -0.8895629536550426,
          -0.15962318577850593,
          1.0785773861254981,
          -1.6997166285386889,
          0.04266600709434228,
          0.6880126804930993,
          0.7739049252029457,
          0.058188812087436564,
          -0.14029416776943504,
          -0.9981845613547209,
          0.22126264796890385,
          -1.2269498069443276,
          1.204595715334291,
          -0.7568251019365444,
          0.525713901813281,
          0.26930176076243917,
          0.2785868145508584,
          0.8119783697520976,
          0.46821407574585244,
          1.4687510828407921,
          -0.5980433221622159,
          0.6406517656293856,
          -0.2262760543280068,
          -0.6653294294964786,
          -0.5836311953052089,
          -0.2428675375821456,
          -1.8528633593831683,
          -0.007528069992805335,
          0.5382930637817657,
          -0.629087265440316,
          -0.6728917120279745,
          0.7144401052516212,
          0.23378447656804857,
          0.17330130095757496,
          0.21726407009755946,
          0.7237329000891287,
          0.27334144868980453,
          0.4865035225094366,
          0.7016337387174932,
          0.04079106265710642,
          -1.9665997054916837,
          -0.6631949964790526,
          -0.7102946535045428,
          -1.0774032299311715,
          1.6516020663809938,
          -1.6188402171370826,
          1.7543865634412688,
          1.6349723274645858,
          0.7712922083770805,
          0.41711383293823157,
          1.2353035140092619,
          0.8307141667412382,
          1.757130703099051,
          -0.03421584746068055,
          1.4539266180621373,
          -0.6418612753104854,
          -2.2645247371116057,
          1.7995701444332912,
          0.34258026492133203,
          -1.15192514998973,
          0.31713531038022136,
          -0.6991945323390549,
          -0.1874252447770727,
          1.7741234835799624,
          2.492111064588903,
          -0.5454800752618096,
          -2.084849189153723,
          -0.0862396373237331,
          0.261683605023826,
          -0.3241027505722336,
          0.44037856434772343,
          1.8195245724028761,
          0.7671675437836701,
          -0.6384630312275602,
          0.11607122808032443,
          1.5270567062839226,
          -0.16130502769273808,
          -0.43406958740491863,
          1.4734914707737603,
          -0.16657110561516894,
          -1.325659168470935,
          -1.7907712245138099
         ],
         "xaxis": "x13",
         "y": [
          -0.2511060495466714,
          -0.38323368117127715,
          -0.026206155669705973,
          0.008179529296440289,
          0.33814997381296197,
          -0.7631978995349146,
          -1.0749498002123072,
          0.3058286822190156,
          -0.9665368140590993,
          0.064712064586311,
          -1.6285755341487114,
          0.06677008462203217,
          -0.565963049639477,
          0.9602766523516492,
          -0.9613212997598867,
          0.2513979314757754,
          -0.44380942484781855,
          -0.2620223909192725,
          2.9570067591913647,
          0.7539739829991565,
          0.28431787170181994,
          -1.4256327274570921,
          -1.0505851872083094,
          -0.1992796480262547,
          1.1485178438650163,
          -0.572315706842162,
          0.2348020216311637,
          -1.43466379154626,
          0.6376017377523107,
          -0.8526391337822391,
          -2.532287479102309,
          2.670944306667824,
          0.00013011761243241827,
          0.3687159277023539,
          -0.21822462931136613,
          0.7275329061137008,
          -0.340173366046956,
          -1.2403244809609586,
          -1.615337103362975,
          -1.614287118122959,
          -0.5695074723526038,
          0.12189713163375622,
          -0.16169126299111203,
          0.38573183712843406,
          0.8385449252058224,
          -0.8649577476846941,
          2.0601201513521334,
          0.201901591904918,
          0.32112824048332517,
          -0.559888211181785,
          -1.4612755154772725,
          0.867840876378296,
          -1.9091097162672386,
          0.8247289548835394,
          0.4156663471708946,
          0.08458737863491718,
          -0.27300709453934846,
          0.5092993862731398,
          -1.671451660986157,
          -1.1966976797559579,
          -0.10020969171058366,
          -1.0183011427301836,
          0.978790967442909,
          -0.9425552606146356,
          -0.44737491045947175,
          0.8439799585928991,
          -0.17993802267047826,
          0.2977066279204819,
          1.5287819650802668,
          0.5705591482113747,
          -0.7192635203956517,
          0.3450070506775301,
          -1.033938460324176,
          1.1924657273649355,
          0.8682713090835688,
          0.04364254086856057,
          -0.6270612688472221,
          0.16383999095426352,
          0.1312681105501158,
          1.0802230727370812,
          0.7772940495024464,
          0.9543996804355898,
          1.6014754513536233,
          -0.44946493432675516,
          0.38422114740949564,
          -1.180658872549014,
          0.3231265726165534,
          0.9188177589555937,
          -0.7888359002985148,
          -0.11204142763384377,
          -0.9005142432054354,
          -0.8043314863203508,
          0.7392662332003646,
          0.20040141406036718,
          -0.06170035694528831,
          0.733012407827407,
          0.9009629858119796,
          -0.4958512951456021,
          -0.7440785771884372,
          0.13438848115616583
         ],
         "yaxis": "y13"
        },
        {
         "line": {
          "color": "rgba(128, 128, 128, 1.0)",
          "dash": "solid",
          "shape": "linear",
          "width": 1.3
         },
         "marker": {
          "size": 2,
          "symbol": "circle"
         },
         "mode": "markers",
         "name": "D",
         "text": "",
         "type": "scatter",
         "x": [
          -0.965573785855108,
          2.3411683403874863,
          0.16760652247777483,
          0.5293763473061892,
          1.117328140016128,
          0.7549892445442132,
          2.054090398813393,
          -0.6782945481675158,
          1.0381705653378392,
          1.2140314276926856,
          0.03530096826726425,
          -0.02975819365648567,
          0.8490536809198773,
          -1.5614858840265529,
          0.736707745126771,
          0.1246407894398844,
          0.8379386880632551,
          0.41903183767939406,
          0.6018429414116641,
          0.2553278104357416,
          0.10218560907473412,
          1.2557054058002752,
          -0.8748741670847883,
          -0.3832158110185663,
          -0.1549106162658271,
          -1.2769478029855426,
          1.2890593262203311,
          0.3750696267160941,
          0.9921404081646318,
          0.21750565479064404,
          1.6490157181527234,
          0.31979828501405794,
          -0.26261002617535073,
          -0.23529714060338808,
          -0.22362828498994733,
          -0.6647344151065584,
          -0.5875322210729691,
          -0.6137603446064702,
          0.08365852508295676,
          -0.5736703131755713,
          0.441260085154336,
          0.7722016610545739,
          0.5324255904558407,
          0.40093790935933765,
          -0.053257602214600776,
          0.23615988021806109,
          -0.1196653377877863,
          -0.4081360519718144,
          -1.3879231468442046,
          0.47753275715667615,
          0.6015109009282125,
          -0.5627145530644787,
          1.0817852258226457,
          0.5902559942383697,
          -0.44190244945846197,
          0.31613056599056255,
          0.6907867960989922,
          -1.6964258454693064,
          0.6704678610285731,
          -0.20217302565308465,
          0.8315265238590916,
          0.5243909564105876,
          -1.258734034452956,
          -1.4020188180171287,
          -0.07728484380937733,
          -0.28049267010943935,
          0.08706081149001788,
          -1.778059875620324,
          -0.8343277328158784,
          0.3864682378824961,
          0.1503109040719167,
          -0.11424349139968754,
          -1.6639743787791799,
          -2.191755541277839,
          0.45497897381261365,
          0.31285327059157747,
          -0.3570196489480991,
          0.06866855226780288,
          -0.8135424471581575,
          -0.49434730240269664,
          0.4461810207717648,
          1.1420257711588415,
          -0.31672702200917324,
          1.82080657095947,
          0.679232378362389,
          0.4063062091653785,
          -1.0668562477330763,
          1.2601410127551493,
          -0.08626475067008418,
          -0.36923131351358884,
          -0.7445667813101593,
          1.6459010653261605,
          -0.4346406940551893,
          -1.8764159532897957,
          1.2075252986936873,
          0.8368235720752266,
          2.318359996303223,
          0.14353185810363364,
          0.5082567333578968,
          0.7185225785825067
         ],
         "xaxis": "x14",
         "y": [
          -0.2511060495466714,
          -0.38323368117127715,
          -0.026206155669705973,
          0.008179529296440289,
          0.33814997381296197,
          -0.7631978995349146,
          -1.0749498002123072,
          0.3058286822190156,
          -0.9665368140590993,
          0.064712064586311,
          -1.6285755341487114,
          0.06677008462203217,
          -0.565963049639477,
          0.9602766523516492,
          -0.9613212997598867,
          0.2513979314757754,
          -0.44380942484781855,
          -0.2620223909192725,
          2.9570067591913647,
          0.7539739829991565,
          0.28431787170181994,
          -1.4256327274570921,
          -1.0505851872083094,
          -0.1992796480262547,
          1.1485178438650163,
          -0.572315706842162,
          0.2348020216311637,
          -1.43466379154626,
          0.6376017377523107,
          -0.8526391337822391,
          -2.532287479102309,
          2.670944306667824,
          0.00013011761243241827,
          0.3687159277023539,
          -0.21822462931136613,
          0.7275329061137008,
          -0.340173366046956,
          -1.2403244809609586,
          -1.615337103362975,
          -1.614287118122959,
          -0.5695074723526038,
          0.12189713163375622,
          -0.16169126299111203,
          0.38573183712843406,
          0.8385449252058224,
          -0.8649577476846941,
          2.0601201513521334,
          0.201901591904918,
          0.32112824048332517,
          -0.559888211181785,
          -1.4612755154772725,
          0.867840876378296,
          -1.9091097162672386,
          0.8247289548835394,
          0.4156663471708946,
          0.08458737863491718,
          -0.27300709453934846,
          0.5092993862731398,
          -1.671451660986157,
          -1.1966976797559579,
          -0.10020969171058366,
          -1.0183011427301836,
          0.978790967442909,
          -0.9425552606146356,
          -0.44737491045947175,
          0.8439799585928991,
          -0.17993802267047826,
          0.2977066279204819,
          1.5287819650802668,
          0.5705591482113747,
          -0.7192635203956517,
          0.3450070506775301,
          -1.033938460324176,
          1.1924657273649355,
          0.8682713090835688,
          0.04364254086856057,
          -0.6270612688472221,
          0.16383999095426352,
          0.1312681105501158,
          1.0802230727370812,
          0.7772940495024464,
          0.9543996804355898,
          1.6014754513536233,
          -0.44946493432675516,
          0.38422114740949564,
          -1.180658872549014,
          0.3231265726165534,
          0.9188177589555937,
          -0.7888359002985148,
          -0.11204142763384377,
          -0.9005142432054354,
          -0.8043314863203508,
          0.7392662332003646,
          0.20040141406036718,
          -0.06170035694528831,
          0.733012407827407,
          0.9009629858119796,
          -0.4958512951456021,
          -0.7440785771884372,
          0.13438848115616583
         ],
         "yaxis": "y14"
        },
        {
         "line": {
          "color": "rgba(128, 128, 128, 1.0)",
          "dash": "solid",
          "shape": "linear",
          "width": 1.3
         },
         "marker": {
          "size": 2,
          "symbol": "circle"
         },
         "mode": "markers",
         "name": "D",
         "text": "",
         "type": "scatter",
         "x": [
          0.8648798230158975,
          0.6168838744499859,
          -0.2553104669987,
          -0.5376464867950612,
          1.0985192033530944,
          -0.9440688409228584,
          0.6933173762420918,
          -0.6498482258477097,
          -0.8018121392098112,
          1.6614406628805582,
          0.25749349074201217,
          1.8111460735066105,
          0.39525004726688817,
          0.15322810958547553,
          -0.6505121094153137,
          -2.2984746556361033,
          -0.7271573961453361,
          -0.799612572239205,
          -0.1861677911754232,
          -0.9675184006268926,
          -0.5180993430469171,
          0.22326189499540022,
          0.8890311428268605,
          1.1684155086569208,
          -2.1105166472531005,
          -0.22792662026081348,
          -1.7352184104785755,
          0.5091809309124111,
          1.4605210888796814,
          0.6447537817584865,
          -0.6123891851427407,
          0.8851976383066426,
          -1.0868725112007147,
          -0.08744642526903344,
          0.15663391006169716,
          0.6782179133897311,
          2.3943293828093872,
          0.4617914586852474,
          1.4307611449605124,
          1.2425707074385905,
          -0.38271998875948376,
          0.973830279697104,
          -2.626937904231956,
          0.22089917867702138,
          0.7175278330901118,
          0.41789773927976986,
          -0.4684295575192196,
          1.286789232082445,
          -0.7753497121419121,
          0.3517210166362854,
          -1.1501314212759213,
          0.1596404420407003,
          -1.057130504381638,
          -1.0271136127887481,
          2.3092933092036976,
          -0.35794037595248507,
          0.21108274676066685,
          1.387117126540965,
          -1.453045342998502,
          0.4135364798202572,
          0.2400851843727173,
          0.08017711612552984,
          -1.301583929646112,
          -0.534393298061163,
          0.21398906503416223,
          2.373443426769146,
          -0.5020716705189721,
          0.6716541585189236,
          -0.26645139533386014,
          0.06884335805705821,
          0.7540618676481922,
          -1.286028613428508,
          0.050215678235865,
          0.07993908991261611,
          -1.0677518455070494,
          1.2677350406386771,
          0.35449282662119597,
          0.21279899649927772,
          -0.008082479729587274,
          -0.7203744314653343,
          2.5994109613713867,
          0.45460832517121713,
          0.1465669553109633,
          1.734136147569354,
          0.26041023533748875,
          -0.4151355022561119,
          0.5968344312309438,
          -0.9392533430149653,
          -1.536133943819491,
          -0.8065668782908024,
          -0.08050759192929652,
          -2.098171765730534,
          -0.808254971794466,
          0.9703291919561734,
          0.31128337197230466,
          -1.6207025952122633,
          1.2669287402911587,
          0.9810367505417916,
          2.0159574799117674,
          1.1329670490708486
         ],
         "xaxis": "x15",
         "y": [
          -0.2511060495466714,
          -0.38323368117127715,
          -0.026206155669705973,
          0.008179529296440289,
          0.33814997381296197,
          -0.7631978995349146,
          -1.0749498002123072,
          0.3058286822190156,
          -0.9665368140590993,
          0.064712064586311,
          -1.6285755341487114,
          0.06677008462203217,
          -0.565963049639477,
          0.9602766523516492,
          -0.9613212997598867,
          0.2513979314757754,
          -0.44380942484781855,
          -0.2620223909192725,
          2.9570067591913647,
          0.7539739829991565,
          0.28431787170181994,
          -1.4256327274570921,
          -1.0505851872083094,
          -0.1992796480262547,
          1.1485178438650163,
          -0.572315706842162,
          0.2348020216311637,
          -1.43466379154626,
          0.6376017377523107,
          -0.8526391337822391,
          -2.532287479102309,
          2.670944306667824,
          0.00013011761243241827,
          0.3687159277023539,
          -0.21822462931136613,
          0.7275329061137008,
          -0.340173366046956,
          -1.2403244809609586,
          -1.615337103362975,
          -1.614287118122959,
          -0.5695074723526038,
          0.12189713163375622,
          -0.16169126299111203,
          0.38573183712843406,
          0.8385449252058224,
          -0.8649577476846941,
          2.0601201513521334,
          0.201901591904918,
          0.32112824048332517,
          -0.559888211181785,
          -1.4612755154772725,
          0.867840876378296,
          -1.9091097162672386,
          0.8247289548835394,
          0.4156663471708946,
          0.08458737863491718,
          -0.27300709453934846,
          0.5092993862731398,
          -1.671451660986157,
          -1.1966976797559579,
          -0.10020969171058366,
          -1.0183011427301836,
          0.978790967442909,
          -0.9425552606146356,
          -0.44737491045947175,
          0.8439799585928991,
          -0.17993802267047826,
          0.2977066279204819,
          1.5287819650802668,
          0.5705591482113747,
          -0.7192635203956517,
          0.3450070506775301,
          -1.033938460324176,
          1.1924657273649355,
          0.8682713090835688,
          0.04364254086856057,
          -0.6270612688472221,
          0.16383999095426352,
          0.1312681105501158,
          1.0802230727370812,
          0.7772940495024464,
          0.9543996804355898,
          1.6014754513536233,
          -0.44946493432675516,
          0.38422114740949564,
          -1.180658872549014,
          0.3231265726165534,
          0.9188177589555937,
          -0.7888359002985148,
          -0.11204142763384377,
          -0.9005142432054354,
          -0.8043314863203508,
          0.7392662332003646,
          0.20040141406036718,
          -0.06170035694528831,
          0.733012407827407,
          0.9009629858119796,
          -0.4958512951456021,
          -0.7440785771884372,
          0.13438848115616583
         ],
         "yaxis": "y15"
        },
        {
         "histfunc": "count",
         "histnorm": "",
         "marker": {
          "color": "rgba(128, 0, 128, 1.0)",
          "line": {
           "color": "#4D5663",
           "width": 1.3
          }
         },
         "name": "D",
         "nbinsx": 10,
         "opacity": 0.8,
         "orientation": "v",
         "type": "histogram",
         "x": [
          -0.2511060495466714,
          -0.38323368117127715,
          -0.026206155669705973,
          0.008179529296440289,
          0.33814997381296197,
          -0.7631978995349146,
          -1.0749498002123072,
          0.3058286822190156,
          -0.9665368140590993,
          0.064712064586311,
          -1.6285755341487114,
          0.06677008462203217,
          -0.565963049639477,
          0.9602766523516492,
          -0.9613212997598867,
          0.2513979314757754,
          -0.44380942484781855,
          -0.2620223909192725,
          2.9570067591913647,
          0.7539739829991565,
          0.28431787170181994,
          -1.4256327274570921,
          -1.0505851872083094,
          -0.1992796480262547,
          1.1485178438650163,
          -0.572315706842162,
          0.2348020216311637,
          -1.43466379154626,
          0.6376017377523107,
          -0.8526391337822391,
          -2.532287479102309,
          2.670944306667824,
          0.00013011761243241827,
          0.3687159277023539,
          -0.21822462931136613,
          0.7275329061137008,
          -0.340173366046956,
          -1.2403244809609586,
          -1.615337103362975,
          -1.614287118122959,
          -0.5695074723526038,
          0.12189713163375622,
          -0.16169126299111203,
          0.38573183712843406,
          0.8385449252058224,
          -0.8649577476846941,
          2.0601201513521334,
          0.201901591904918,
          0.32112824048332517,
          -0.559888211181785,
          -1.4612755154772725,
          0.867840876378296,
          -1.9091097162672386,
          0.8247289548835394,
          0.4156663471708946,
          0.08458737863491718,
          -0.27300709453934846,
          0.5092993862731398,
          -1.671451660986157,
          -1.1966976797559579,
          -0.10020969171058366,
          -1.0183011427301836,
          0.978790967442909,
          -0.9425552606146356,
          -0.44737491045947175,
          0.8439799585928991,
          -0.17993802267047826,
          0.2977066279204819,
          1.5287819650802668,
          0.5705591482113747,
          -0.7192635203956517,
          0.3450070506775301,
          -1.033938460324176,
          1.1924657273649355,
          0.8682713090835688,
          0.04364254086856057,
          -0.6270612688472221,
          0.16383999095426352,
          0.1312681105501158,
          1.0802230727370812,
          0.7772940495024464,
          0.9543996804355898,
          1.6014754513536233,
          -0.44946493432675516,
          0.38422114740949564,
          -1.180658872549014,
          0.3231265726165534,
          0.9188177589555937,
          -0.7888359002985148,
          -0.11204142763384377,
          -0.9005142432054354,
          -0.8043314863203508,
          0.7392662332003646,
          0.20040141406036718,
          -0.06170035694528831,
          0.733012407827407,
          0.9009629858119796,
          -0.4958512951456021,
          -0.7440785771884372,
          0.13438848115616583
         ],
         "xaxis": "x16",
         "yaxis": "y16"
        }
       ],
       "layout": {
        "bargap": 0.02,
        "legend": {
         "bgcolor": "#F5F6F9",
         "font": {
          "color": "#4D5663"
         }
        },
        "paper_bgcolor": "#F5F6F9",
        "plot_bgcolor": "#F5F6F9",
        "showlegend": false,
        "template": {
         "data": {
          "bar": [
           {
            "error_x": {
             "color": "#2a3f5f"
            },
            "error_y": {
             "color": "#2a3f5f"
            },
            "marker": {
             "line": {
              "color": "#E5ECF6",
              "width": 0.5
             }
            },
            "type": "bar"
           }
          ],
          "barpolar": [
           {
            "marker": {
             "line": {
              "color": "#E5ECF6",
              "width": 0.5
             }
            },
            "type": "barpolar"
           }
          ],
          "carpet": [
           {
            "aaxis": {
             "endlinecolor": "#2a3f5f",
             "gridcolor": "white",
             "linecolor": "white",
             "minorgridcolor": "white",
             "startlinecolor": "#2a3f5f"
            },
            "baxis": {
             "endlinecolor": "#2a3f5f",
             "gridcolor": "white",
             "linecolor": "white",
             "minorgridcolor": "white",
             "startlinecolor": "#2a3f5f"
            },
            "type": "carpet"
           }
          ],
          "choropleth": [
           {
            "colorbar": {
             "outlinewidth": 0,
             "ticks": ""
            },
            "type": "choropleth"
           }
          ],
          "contour": [
           {
            "colorbar": {
             "outlinewidth": 0,
             "ticks": ""
            },
            "colorscale": [
             [
              0,
              "#0d0887"
             ],
             [
              0.1111111111111111,
              "#46039f"
             ],
             [
              0.2222222222222222,
              "#7201a8"
             ],
             [
              0.3333333333333333,
              "#9c179e"
             ],
             [
              0.4444444444444444,
              "#bd3786"
             ],
             [
              0.5555555555555556,
              "#d8576b"
             ],
             [
              0.6666666666666666,
              "#ed7953"
             ],
             [
              0.7777777777777778,
              "#fb9f3a"
             ],
             [
              0.8888888888888888,
              "#fdca26"
             ],
             [
              1,
              "#f0f921"
             ]
            ],
            "type": "contour"
           }
          ],
          "contourcarpet": [
           {
            "colorbar": {
             "outlinewidth": 0,
             "ticks": ""
            },
            "type": "contourcarpet"
           }
          ],
          "heatmap": [
           {
            "colorbar": {
             "outlinewidth": 0,
             "ticks": ""
            },
            "colorscale": [
             [
              0,
              "#0d0887"
             ],
             [
              0.1111111111111111,
              "#46039f"
             ],
             [
              0.2222222222222222,
              "#7201a8"
             ],
             [
              0.3333333333333333,
              "#9c179e"
             ],
             [
              0.4444444444444444,
              "#bd3786"
             ],
             [
              0.5555555555555556,
              "#d8576b"
             ],
             [
              0.6666666666666666,
              "#ed7953"
             ],
             [
              0.7777777777777778,
              "#fb9f3a"
             ],
             [
              0.8888888888888888,
              "#fdca26"
             ],
             [
              1,
              "#f0f921"
             ]
            ],
            "type": "heatmap"
           }
          ],
          "heatmapgl": [
           {
            "colorbar": {
             "outlinewidth": 0,
             "ticks": ""
            },
            "colorscale": [
             [
              0,
              "#0d0887"
             ],
             [
              0.1111111111111111,
              "#46039f"
             ],
             [
              0.2222222222222222,
              "#7201a8"
             ],
             [
              0.3333333333333333,
              "#9c179e"
             ],
             [
              0.4444444444444444,
              "#bd3786"
             ],
             [
              0.5555555555555556,
              "#d8576b"
             ],
             [
              0.6666666666666666,
              "#ed7953"
             ],
             [
              0.7777777777777778,
              "#fb9f3a"
             ],
             [
              0.8888888888888888,
              "#fdca26"
             ],
             [
              1,
              "#f0f921"
             ]
            ],
            "type": "heatmapgl"
           }
          ],
          "histogram": [
           {
            "marker": {
             "colorbar": {
              "outlinewidth": 0,
              "ticks": ""
             }
            },
            "type": "histogram"
           }
          ],
          "histogram2d": [
           {
            "colorbar": {
             "outlinewidth": 0,
             "ticks": ""
            },
            "colorscale": [
             [
              0,
              "#0d0887"
             ],
             [
              0.1111111111111111,
              "#46039f"
             ],
             [
              0.2222222222222222,
              "#7201a8"
             ],
             [
              0.3333333333333333,
              "#9c179e"
             ],
             [
              0.4444444444444444,
              "#bd3786"
             ],
             [
              0.5555555555555556,
              "#d8576b"
             ],
             [
              0.6666666666666666,
              "#ed7953"
             ],
             [
              0.7777777777777778,
              "#fb9f3a"
             ],
             [
              0.8888888888888888,
              "#fdca26"
             ],
             [
              1,
              "#f0f921"
             ]
            ],
            "type": "histogram2d"
           }
          ],
          "histogram2dcontour": [
           {
            "colorbar": {
             "outlinewidth": 0,
             "ticks": ""
            },
            "colorscale": [
             [
              0,
              "#0d0887"
             ],
             [
              0.1111111111111111,
              "#46039f"
             ],
             [
              0.2222222222222222,
              "#7201a8"
             ],
             [
              0.3333333333333333,
              "#9c179e"
             ],
             [
              0.4444444444444444,
              "#bd3786"
             ],
             [
              0.5555555555555556,
              "#d8576b"
             ],
             [
              0.6666666666666666,
              "#ed7953"
             ],
             [
              0.7777777777777778,
              "#fb9f3a"
             ],
             [
              0.8888888888888888,
              "#fdca26"
             ],
             [
              1,
              "#f0f921"
             ]
            ],
            "type": "histogram2dcontour"
           }
          ],
          "mesh3d": [
           {
            "colorbar": {
             "outlinewidth": 0,
             "ticks": ""
            },
            "type": "mesh3d"
           }
          ],
          "parcoords": [
           {
            "line": {
             "colorbar": {
              "outlinewidth": 0,
              "ticks": ""
             }
            },
            "type": "parcoords"
           }
          ],
          "pie": [
           {
            "automargin": true,
            "type": "pie"
           }
          ],
          "scatter": [
           {
            "marker": {
             "colorbar": {
              "outlinewidth": 0,
              "ticks": ""
             }
            },
            "type": "scatter"
           }
          ],
          "scatter3d": [
           {
            "line": {
             "colorbar": {
              "outlinewidth": 0,
              "ticks": ""
             }
            },
            "marker": {
             "colorbar": {
              "outlinewidth": 0,
              "ticks": ""
             }
            },
            "type": "scatter3d"
           }
          ],
          "scattercarpet": [
           {
            "marker": {
             "colorbar": {
              "outlinewidth": 0,
              "ticks": ""
             }
            },
            "type": "scattercarpet"
           }
          ],
          "scattergeo": [
           {
            "marker": {
             "colorbar": {
              "outlinewidth": 0,
              "ticks": ""
             }
            },
            "type": "scattergeo"
           }
          ],
          "scattergl": [
           {
            "marker": {
             "colorbar": {
              "outlinewidth": 0,
              "ticks": ""
             }
            },
            "type": "scattergl"
           }
          ],
          "scattermapbox": [
           {
            "marker": {
             "colorbar": {
              "outlinewidth": 0,
              "ticks": ""
             }
            },
            "type": "scattermapbox"
           }
          ],
          "scatterpolar": [
           {
            "marker": {
             "colorbar": {
              "outlinewidth": 0,
              "ticks": ""
             }
            },
            "type": "scatterpolar"
           }
          ],
          "scatterpolargl": [
           {
            "marker": {
             "colorbar": {
              "outlinewidth": 0,
              "ticks": ""
             }
            },
            "type": "scatterpolargl"
           }
          ],
          "scatterternary": [
           {
            "marker": {
             "colorbar": {
              "outlinewidth": 0,
              "ticks": ""
             }
            },
            "type": "scatterternary"
           }
          ],
          "surface": [
           {
            "colorbar": {
             "outlinewidth": 0,
             "ticks": ""
            },
            "colorscale": [
             [
              0,
              "#0d0887"
             ],
             [
              0.1111111111111111,
              "#46039f"
             ],
             [
              0.2222222222222222,
              "#7201a8"
             ],
             [
              0.3333333333333333,
              "#9c179e"
             ],
             [
              0.4444444444444444,
              "#bd3786"
             ],
             [
              0.5555555555555556,
              "#d8576b"
             ],
             [
              0.6666666666666666,
              "#ed7953"
             ],
             [
              0.7777777777777778,
              "#fb9f3a"
             ],
             [
              0.8888888888888888,
              "#fdca26"
             ],
             [
              1,
              "#f0f921"
             ]
            ],
            "type": "surface"
           }
          ],
          "table": [
           {
            "cells": {
             "fill": {
              "color": "#EBF0F8"
             },
             "line": {
              "color": "white"
             }
            },
            "header": {
             "fill": {
              "color": "#C8D4E3"
             },
             "line": {
              "color": "white"
             }
            },
            "type": "table"
           }
          ]
         },
         "layout": {
          "annotationdefaults": {
           "arrowcolor": "#2a3f5f",
           "arrowhead": 0,
           "arrowwidth": 1
          },
          "coloraxis": {
           "colorbar": {
            "outlinewidth": 0,
            "ticks": ""
           }
          },
          "colorscale": {
           "diverging": [
            [
             0,
             "#8e0152"
            ],
            [
             0.1,
             "#c51b7d"
            ],
            [
             0.2,
             "#de77ae"
            ],
            [
             0.3,
             "#f1b6da"
            ],
            [
             0.4,
             "#fde0ef"
            ],
            [
             0.5,
             "#f7f7f7"
            ],
            [
             0.6,
             "#e6f5d0"
            ],
            [
             0.7,
             "#b8e186"
            ],
            [
             0.8,
             "#7fbc41"
            ],
            [
             0.9,
             "#4d9221"
            ],
            [
             1,
             "#276419"
            ]
           ],
           "sequential": [
            [
             0,
             "#0d0887"
            ],
            [
             0.1111111111111111,
             "#46039f"
            ],
            [
             0.2222222222222222,
             "#7201a8"
            ],
            [
             0.3333333333333333,
             "#9c179e"
            ],
            [
             0.4444444444444444,
             "#bd3786"
            ],
            [
             0.5555555555555556,
             "#d8576b"
            ],
            [
             0.6666666666666666,
             "#ed7953"
            ],
            [
             0.7777777777777778,
             "#fb9f3a"
            ],
            [
             0.8888888888888888,
             "#fdca26"
            ],
            [
             1,
             "#f0f921"
            ]
           ],
           "sequentialminus": [
            [
             0,
             "#0d0887"
            ],
            [
             0.1111111111111111,
             "#46039f"
            ],
            [
             0.2222222222222222,
             "#7201a8"
            ],
            [
             0.3333333333333333,
             "#9c179e"
            ],
            [
             0.4444444444444444,
             "#bd3786"
            ],
            [
             0.5555555555555556,
             "#d8576b"
            ],
            [
             0.6666666666666666,
             "#ed7953"
            ],
            [
             0.7777777777777778,
             "#fb9f3a"
            ],
            [
             0.8888888888888888,
             "#fdca26"
            ],
            [
             1,
             "#f0f921"
            ]
           ]
          },
          "colorway": [
           "#636efa",
           "#EF553B",
           "#00cc96",
           "#ab63fa",
           "#FFA15A",
           "#19d3f3",
           "#FF6692",
           "#B6E880",
           "#FF97FF",
           "#FECB52"
          ],
          "font": {
           "color": "#2a3f5f"
          },
          "geo": {
           "bgcolor": "white",
           "lakecolor": "white",
           "landcolor": "#E5ECF6",
           "showlakes": true,
           "showland": true,
           "subunitcolor": "white"
          },
          "hoverlabel": {
           "align": "left"
          },
          "hovermode": "closest",
          "mapbox": {
           "style": "light"
          },
          "paper_bgcolor": "white",
          "plot_bgcolor": "#E5ECF6",
          "polar": {
           "angularaxis": {
            "gridcolor": "white",
            "linecolor": "white",
            "ticks": ""
           },
           "bgcolor": "#E5ECF6",
           "radialaxis": {
            "gridcolor": "white",
            "linecolor": "white",
            "ticks": ""
           }
          },
          "scene": {
           "xaxis": {
            "backgroundcolor": "#E5ECF6",
            "gridcolor": "white",
            "gridwidth": 2,
            "linecolor": "white",
            "showbackground": true,
            "ticks": "",
            "zerolinecolor": "white"
           },
           "yaxis": {
            "backgroundcolor": "#E5ECF6",
            "gridcolor": "white",
            "gridwidth": 2,
            "linecolor": "white",
            "showbackground": true,
            "ticks": "",
            "zerolinecolor": "white"
           },
           "zaxis": {
            "backgroundcolor": "#E5ECF6",
            "gridcolor": "white",
            "gridwidth": 2,
            "linecolor": "white",
            "showbackground": true,
            "ticks": "",
            "zerolinecolor": "white"
           }
          },
          "shapedefaults": {
           "line": {
            "color": "#2a3f5f"
           }
          },
          "ternary": {
           "aaxis": {
            "gridcolor": "white",
            "linecolor": "white",
            "ticks": ""
           },
           "baxis": {
            "gridcolor": "white",
            "linecolor": "white",
            "ticks": ""
           },
           "bgcolor": "#E5ECF6",
           "caxis": {
            "gridcolor": "white",
            "linecolor": "white",
            "ticks": ""
           }
          },
          "title": {
           "x": 0.05
          },
          "xaxis": {
           "automargin": true,
           "gridcolor": "white",
           "linecolor": "white",
           "ticks": "",
           "title": {
            "standoff": 15
           },
           "zerolinecolor": "white",
           "zerolinewidth": 2
          },
          "yaxis": {
           "automargin": true,
           "gridcolor": "white",
           "linecolor": "white",
           "ticks": "",
           "title": {
            "standoff": 15
           },
           "zerolinecolor": "white",
           "zerolinewidth": 2
          }
         }
        },
        "title": {
         "font": {
          "color": "#4D5663"
         }
        },
        "xaxis": {
         "anchor": "y",
         "domain": [
          0,
          0.2125
         ],
         "gridcolor": "#E1E5ED",
         "showgrid": false,
         "tickfont": {
          "color": "#4D5663"
         },
         "title": {
          "font": {
           "color": "#4D5663"
          },
          "text": ""
         },
         "zerolinecolor": "#E1E5ED"
        },
        "xaxis10": {
         "anchor": "y10",
         "domain": [
          0.2625,
          0.475
         ],
         "gridcolor": "#E1E5ED",
         "showgrid": false,
         "tickfont": {
          "color": "#4D5663"
         },
         "title": {
          "font": {
           "color": "#4D5663"
          },
          "text": ""
         },
         "zerolinecolor": "#E1E5ED"
        },
        "xaxis11": {
         "anchor": "y11",
         "domain": [
          0.525,
          0.7375
         ],
         "gridcolor": "#E1E5ED",
         "showgrid": false,
         "tickfont": {
          "color": "#4D5663"
         },
         "title": {
          "font": {
           "color": "#4D5663"
          },
          "text": ""
         },
         "zerolinecolor": "#E1E5ED"
        },
        "xaxis12": {
         "anchor": "y12",
         "domain": [
          0.7875,
          1
         ],
         "gridcolor": "#E1E5ED",
         "showgrid": false,
         "tickfont": {
          "color": "#4D5663"
         },
         "title": {
          "font": {
           "color": "#4D5663"
          },
          "text": ""
         },
         "zerolinecolor": "#E1E5ED"
        },
        "xaxis13": {
         "anchor": "y13",
         "domain": [
          0,
          0.2125
         ],
         "gridcolor": "#E1E5ED",
         "showgrid": false,
         "tickfont": {
          "color": "#4D5663"
         },
         "title": {
          "font": {
           "color": "#4D5663"
          },
          "text": ""
         },
         "zerolinecolor": "#E1E5ED"
        },
        "xaxis14": {
         "anchor": "y14",
         "domain": [
          0.2625,
          0.475
         ],
         "gridcolor": "#E1E5ED",
         "showgrid": false,
         "tickfont": {
          "color": "#4D5663"
         },
         "title": {
          "font": {
           "color": "#4D5663"
          },
          "text": ""
         },
         "zerolinecolor": "#E1E5ED"
        },
        "xaxis15": {
         "anchor": "y15",
         "domain": [
          0.525,
          0.7375
         ],
         "gridcolor": "#E1E5ED",
         "showgrid": false,
         "tickfont": {
          "color": "#4D5663"
         },
         "title": {
          "font": {
           "color": "#4D5663"
          },
          "text": ""
         },
         "zerolinecolor": "#E1E5ED"
        },
        "xaxis16": {
         "anchor": "y16",
         "domain": [
          0.7875,
          1
         ],
         "gridcolor": "#E1E5ED",
         "showgrid": false,
         "tickfont": {
          "color": "#4D5663"
         },
         "title": {
          "font": {
           "color": "#4D5663"
          },
          "text": ""
         },
         "zerolinecolor": "#E1E5ED"
        },
        "xaxis2": {
         "anchor": "y2",
         "domain": [
          0.2625,
          0.475
         ],
         "gridcolor": "#E1E5ED",
         "showgrid": false,
         "tickfont": {
          "color": "#4D5663"
         },
         "title": {
          "font": {
           "color": "#4D5663"
          },
          "text": ""
         },
         "zerolinecolor": "#E1E5ED"
        },
        "xaxis3": {
         "anchor": "y3",
         "domain": [
          0.525,
          0.7375
         ],
         "gridcolor": "#E1E5ED",
         "showgrid": false,
         "tickfont": {
          "color": "#4D5663"
         },
         "title": {
          "font": {
           "color": "#4D5663"
          },
          "text": ""
         },
         "zerolinecolor": "#E1E5ED"
        },
        "xaxis4": {
         "anchor": "y4",
         "domain": [
          0.7875,
          1
         ],
         "gridcolor": "#E1E5ED",
         "showgrid": false,
         "tickfont": {
          "color": "#4D5663"
         },
         "title": {
          "font": {
           "color": "#4D5663"
          },
          "text": ""
         },
         "zerolinecolor": "#E1E5ED"
        },
        "xaxis5": {
         "anchor": "y5",
         "domain": [
          0,
          0.2125
         ],
         "gridcolor": "#E1E5ED",
         "showgrid": false,
         "tickfont": {
          "color": "#4D5663"
         },
         "title": {
          "font": {
           "color": "#4D5663"
          },
          "text": ""
         },
         "zerolinecolor": "#E1E5ED"
        },
        "xaxis6": {
         "anchor": "y6",
         "domain": [
          0.2625,
          0.475
         ],
         "gridcolor": "#E1E5ED",
         "showgrid": false,
         "tickfont": {
          "color": "#4D5663"
         },
         "title": {
          "font": {
           "color": "#4D5663"
          },
          "text": ""
         },
         "zerolinecolor": "#E1E5ED"
        },
        "xaxis7": {
         "anchor": "y7",
         "domain": [
          0.525,
          0.7375
         ],
         "gridcolor": "#E1E5ED",
         "showgrid": false,
         "tickfont": {
          "color": "#4D5663"
         },
         "title": {
          "font": {
           "color": "#4D5663"
          },
          "text": ""
         },
         "zerolinecolor": "#E1E5ED"
        },
        "xaxis8": {
         "anchor": "y8",
         "domain": [
          0.7875,
          1
         ],
         "gridcolor": "#E1E5ED",
         "showgrid": false,
         "tickfont": {
          "color": "#4D5663"
         },
         "title": {
          "font": {
           "color": "#4D5663"
          },
          "text": ""
         },
         "zerolinecolor": "#E1E5ED"
        },
        "xaxis9": {
         "anchor": "y9",
         "domain": [
          0,
          0.2125
         ],
         "gridcolor": "#E1E5ED",
         "showgrid": false,
         "tickfont": {
          "color": "#4D5663"
         },
         "title": {
          "font": {
           "color": "#4D5663"
          },
          "text": ""
         },
         "zerolinecolor": "#E1E5ED"
        },
        "yaxis": {
         "anchor": "x",
         "domain": [
          0.8025,
          1
         ],
         "gridcolor": "#E1E5ED",
         "showgrid": false,
         "tickfont": {
          "color": "#4D5663"
         },
         "title": {
          "font": {
           "color": "#4D5663"
          },
          "text": ""
         },
         "zerolinecolor": "#E1E5ED"
        },
        "yaxis10": {
         "anchor": "x10",
         "domain": [
          0.2675,
          0.465
         ],
         "gridcolor": "#E1E5ED",
         "showgrid": false,
         "tickfont": {
          "color": "#4D5663"
         },
         "title": {
          "font": {
           "color": "#4D5663"
          },
          "text": ""
         },
         "zerolinecolor": "#E1E5ED"
        },
        "yaxis11": {
         "anchor": "x11",
         "domain": [
          0.2675,
          0.465
         ],
         "gridcolor": "#E1E5ED",
         "showgrid": false,
         "tickfont": {
          "color": "#4D5663"
         },
         "title": {
          "font": {
           "color": "#4D5663"
          },
          "text": ""
         },
         "zerolinecolor": "#E1E5ED"
        },
        "yaxis12": {
         "anchor": "x12",
         "domain": [
          0.2675,
          0.465
         ],
         "gridcolor": "#E1E5ED",
         "showgrid": false,
         "tickfont": {
          "color": "#4D5663"
         },
         "title": {
          "font": {
           "color": "#4D5663"
          },
          "text": ""
         },
         "zerolinecolor": "#E1E5ED"
        },
        "yaxis13": {
         "anchor": "x13",
         "domain": [
          0,
          0.1975
         ],
         "gridcolor": "#E1E5ED",
         "showgrid": false,
         "tickfont": {
          "color": "#4D5663"
         },
         "title": {
          "font": {
           "color": "#4D5663"
          },
          "text": ""
         },
         "zerolinecolor": "#E1E5ED"
        },
        "yaxis14": {
         "anchor": "x14",
         "domain": [
          0,
          0.1975
         ],
         "gridcolor": "#E1E5ED",
         "showgrid": false,
         "tickfont": {
          "color": "#4D5663"
         },
         "title": {
          "font": {
           "color": "#4D5663"
          },
          "text": ""
         },
         "zerolinecolor": "#E1E5ED"
        },
        "yaxis15": {
         "anchor": "x15",
         "domain": [
          0,
          0.1975
         ],
         "gridcolor": "#E1E5ED",
         "showgrid": false,
         "tickfont": {
          "color": "#4D5663"
         },
         "title": {
          "font": {
           "color": "#4D5663"
          },
          "text": ""
         },
         "zerolinecolor": "#E1E5ED"
        },
        "yaxis16": {
         "anchor": "x16",
         "domain": [
          0,
          0.1975
         ],
         "gridcolor": "#E1E5ED",
         "showgrid": false,
         "tickfont": {
          "color": "#4D5663"
         },
         "title": {
          "font": {
           "color": "#4D5663"
          },
          "text": ""
         },
         "zerolinecolor": "#E1E5ED"
        },
        "yaxis2": {
         "anchor": "x2",
         "domain": [
          0.8025,
          1
         ],
         "gridcolor": "#E1E5ED",
         "showgrid": false,
         "tickfont": {
          "color": "#4D5663"
         },
         "title": {
          "font": {
           "color": "#4D5663"
          },
          "text": ""
         },
         "zerolinecolor": "#E1E5ED"
        },
        "yaxis3": {
         "anchor": "x3",
         "domain": [
          0.8025,
          1
         ],
         "gridcolor": "#E1E5ED",
         "showgrid": false,
         "tickfont": {
          "color": "#4D5663"
         },
         "title": {
          "font": {
           "color": "#4D5663"
          },
          "text": ""
         },
         "zerolinecolor": "#E1E5ED"
        },
        "yaxis4": {
         "anchor": "x4",
         "domain": [
          0.8025,
          1
         ],
         "gridcolor": "#E1E5ED",
         "showgrid": false,
         "tickfont": {
          "color": "#4D5663"
         },
         "title": {
          "font": {
           "color": "#4D5663"
          },
          "text": ""
         },
         "zerolinecolor": "#E1E5ED"
        },
        "yaxis5": {
         "anchor": "x5",
         "domain": [
          0.535,
          0.7325
         ],
         "gridcolor": "#E1E5ED",
         "showgrid": false,
         "tickfont": {
          "color": "#4D5663"
         },
         "title": {
          "font": {
           "color": "#4D5663"
          },
          "text": ""
         },
         "zerolinecolor": "#E1E5ED"
        },
        "yaxis6": {
         "anchor": "x6",
         "domain": [
          0.535,
          0.7325
         ],
         "gridcolor": "#E1E5ED",
         "showgrid": false,
         "tickfont": {
          "color": "#4D5663"
         },
         "title": {
          "font": {
           "color": "#4D5663"
          },
          "text": ""
         },
         "zerolinecolor": "#E1E5ED"
        },
        "yaxis7": {
         "anchor": "x7",
         "domain": [
          0.535,
          0.7325
         ],
         "gridcolor": "#E1E5ED",
         "showgrid": false,
         "tickfont": {
          "color": "#4D5663"
         },
         "title": {
          "font": {
           "color": "#4D5663"
          },
          "text": ""
         },
         "zerolinecolor": "#E1E5ED"
        },
        "yaxis8": {
         "anchor": "x8",
         "domain": [
          0.535,
          0.7325
         ],
         "gridcolor": "#E1E5ED",
         "showgrid": false,
         "tickfont": {
          "color": "#4D5663"
         },
         "title": {
          "font": {
           "color": "#4D5663"
          },
          "text": ""
         },
         "zerolinecolor": "#E1E5ED"
        },
        "yaxis9": {
         "anchor": "x9",
         "domain": [
          0.2675,
          0.465
         ],
         "gridcolor": "#E1E5ED",
         "showgrid": false,
         "tickfont": {
          "color": "#4D5663"
         },
         "title": {
          "font": {
           "color": "#4D5663"
          },
          "text": ""
         },
         "zerolinecolor": "#E1E5ED"
        }
       }
      },
      "text/html": [
       "<div>\n",
       "        \n",
       "        \n",
       "            <div id=\"367ae897-f0f4-44e6-bc97-82218fae9104\" class=\"plotly-graph-div\" style=\"height:525px; width:100%;\"></div>\n",
       "            <script type=\"text/javascript\">\n",
       "                require([\"plotly\"], function(Plotly) {\n",
       "                    window.PLOTLYENV=window.PLOTLYENV || {};\n",
       "                    window.PLOTLYENV.BASE_URL='https://plot.ly';\n",
       "                    \n",
       "                if (document.getElementById(\"367ae897-f0f4-44e6-bc97-82218fae9104\")) {\n",
       "                    Plotly.newPlot(\n",
       "                        '367ae897-f0f4-44e6-bc97-82218fae9104',\n",
       "                        [{\"histfunc\": \"count\", \"histnorm\": \"\", \"marker\": {\"color\": \"rgba(255, 153, 51, 1.0)\", \"line\": {\"color\": \"#4D5663\", \"width\": 1.3}}, \"name\": \"A\", \"nbinsx\": 10, \"opacity\": 0.8, \"orientation\": \"v\", \"type\": \"histogram\", \"x\": [0.6368237558363841, 1.0649006110582138, 0.13840425377741813, 0.6643570870697327, 0.31033996046308443, 0.3095307447079891, -1.0030806949117006, -2.073980421654117, -0.012978557675513116, -0.6443610249054871, -0.4019123011599225, -1.1865240201211213, 1.9402176585124264, 0.8017272698703927, 1.4250960216550903, 2.3414179561851403, -0.20350768446908774, 0.22867666550922047, -0.8895629536550426, -0.15962318577850593, 1.0785773861254981, -1.6997166285386889, 0.04266600709434228, 0.6880126804930993, 0.7739049252029457, 0.058188812087436564, -0.14029416776943504, -0.9981845613547209, 0.22126264796890385, -1.2269498069443276, 1.204595715334291, -0.7568251019365444, 0.525713901813281, 0.26930176076243917, 0.2785868145508584, 0.8119783697520976, 0.46821407574585244, 1.4687510828407921, -0.5980433221622159, 0.6406517656293856, -0.2262760543280068, -0.6653294294964786, -0.5836311953052089, -0.2428675375821456, -1.8528633593831683, -0.007528069992805335, 0.5382930637817657, -0.629087265440316, -0.6728917120279745, 0.7144401052516212, 0.23378447656804857, 0.17330130095757496, 0.21726407009755946, 0.7237329000891287, 0.27334144868980453, 0.4865035225094366, 0.7016337387174932, 0.04079106265710642, -1.9665997054916837, -0.6631949964790526, -0.7102946535045428, -1.0774032299311715, 1.6516020663809938, -1.6188402171370826, 1.7543865634412688, 1.6349723274645858, 0.7712922083770805, 0.41711383293823157, 1.2353035140092619, 0.8307141667412382, 1.757130703099051, -0.03421584746068055, 1.4539266180621373, -0.6418612753104854, -2.2645247371116057, 1.7995701444332912, 0.34258026492133203, -1.15192514998973, 0.31713531038022136, -0.6991945323390549, -0.1874252447770727, 1.7741234835799624, 2.492111064588903, -0.5454800752618096, -2.084849189153723, -0.0862396373237331, 0.261683605023826, -0.3241027505722336, 0.44037856434772343, 1.8195245724028761, 0.7671675437836701, -0.6384630312275602, 0.11607122808032443, 1.5270567062839226, -0.16130502769273808, -0.43406958740491863, 1.4734914707737603, -0.16657110561516894, -1.325659168470935, -1.7907712245138099], \"xaxis\": \"x\", \"yaxis\": \"y\"}, {\"line\": {\"color\": \"rgba(128, 128, 128, 1.0)\", \"dash\": \"solid\", \"shape\": \"linear\", \"width\": 1.3}, \"marker\": {\"size\": 2, \"symbol\": \"circle\"}, \"mode\": \"markers\", \"name\": \"A\", \"text\": \"\", \"type\": \"scatter\", \"x\": [-0.965573785855108, 2.3411683403874863, 0.16760652247777483, 0.5293763473061892, 1.117328140016128, 0.7549892445442132, 2.054090398813393, -0.6782945481675158, 1.0381705653378392, 1.2140314276926856, 0.03530096826726425, -0.02975819365648567, 0.8490536809198773, -1.5614858840265529, 0.736707745126771, 0.1246407894398844, 0.8379386880632551, 0.41903183767939406, 0.6018429414116641, 0.2553278104357416, 0.10218560907473412, 1.2557054058002752, -0.8748741670847883, -0.3832158110185663, -0.1549106162658271, -1.2769478029855426, 1.2890593262203311, 0.3750696267160941, 0.9921404081646318, 0.21750565479064404, 1.6490157181527234, 0.31979828501405794, -0.26261002617535073, -0.23529714060338808, -0.22362828498994733, -0.6647344151065584, -0.5875322210729691, -0.6137603446064702, 0.08365852508295676, -0.5736703131755713, 0.441260085154336, 0.7722016610545739, 0.5324255904558407, 0.40093790935933765, -0.053257602214600776, 0.23615988021806109, -0.1196653377877863, -0.4081360519718144, -1.3879231468442046, 0.47753275715667615, 0.6015109009282125, -0.5627145530644787, 1.0817852258226457, 0.5902559942383697, -0.44190244945846197, 0.31613056599056255, 0.6907867960989922, -1.6964258454693064, 0.6704678610285731, -0.20217302565308465, 0.8315265238590916, 0.5243909564105876, -1.258734034452956, -1.4020188180171287, -0.07728484380937733, -0.28049267010943935, 0.08706081149001788, -1.778059875620324, -0.8343277328158784, 0.3864682378824961, 0.1503109040719167, -0.11424349139968754, -1.6639743787791799, -2.191755541277839, 0.45497897381261365, 0.31285327059157747, -0.3570196489480991, 0.06866855226780288, -0.8135424471581575, -0.49434730240269664, 0.4461810207717648, 1.1420257711588415, -0.31672702200917324, 1.82080657095947, 0.679232378362389, 0.4063062091653785, -1.0668562477330763, 1.2601410127551493, -0.08626475067008418, -0.36923131351358884, -0.7445667813101593, 1.6459010653261605, -0.4346406940551893, -1.8764159532897957, 1.2075252986936873, 0.8368235720752266, 2.318359996303223, 0.14353185810363364, 0.5082567333578968, 0.7185225785825067], \"xaxis\": \"x2\", \"y\": [0.6368237558363841, 1.0649006110582138, 0.13840425377741813, 0.6643570870697327, 0.31033996046308443, 0.3095307447079891, -1.0030806949117006, -2.073980421654117, -0.012978557675513116, -0.6443610249054871, -0.4019123011599225, -1.1865240201211213, 1.9402176585124264, 0.8017272698703927, 1.4250960216550903, 2.3414179561851403, -0.20350768446908774, 0.22867666550922047, -0.8895629536550426, -0.15962318577850593, 1.0785773861254981, -1.6997166285386889, 0.04266600709434228, 0.6880126804930993, 0.7739049252029457, 0.058188812087436564, -0.14029416776943504, -0.9981845613547209, 0.22126264796890385, -1.2269498069443276, 1.204595715334291, -0.7568251019365444, 0.525713901813281, 0.26930176076243917, 0.2785868145508584, 0.8119783697520976, 0.46821407574585244, 1.4687510828407921, -0.5980433221622159, 0.6406517656293856, -0.2262760543280068, -0.6653294294964786, -0.5836311953052089, -0.2428675375821456, -1.8528633593831683, -0.007528069992805335, 0.5382930637817657, -0.629087265440316, -0.6728917120279745, 0.7144401052516212, 0.23378447656804857, 0.17330130095757496, 0.21726407009755946, 0.7237329000891287, 0.27334144868980453, 0.4865035225094366, 0.7016337387174932, 0.04079106265710642, -1.9665997054916837, -0.6631949964790526, -0.7102946535045428, -1.0774032299311715, 1.6516020663809938, -1.6188402171370826, 1.7543865634412688, 1.6349723274645858, 0.7712922083770805, 0.41711383293823157, 1.2353035140092619, 0.8307141667412382, 1.757130703099051, -0.03421584746068055, 1.4539266180621373, -0.6418612753104854, -2.2645247371116057, 1.7995701444332912, 0.34258026492133203, -1.15192514998973, 0.31713531038022136, -0.6991945323390549, -0.1874252447770727, 1.7741234835799624, 2.492111064588903, -0.5454800752618096, -2.084849189153723, -0.0862396373237331, 0.261683605023826, -0.3241027505722336, 0.44037856434772343, 1.8195245724028761, 0.7671675437836701, -0.6384630312275602, 0.11607122808032443, 1.5270567062839226, -0.16130502769273808, -0.43406958740491863, 1.4734914707737603, -0.16657110561516894, -1.325659168470935, -1.7907712245138099], \"yaxis\": \"y2\"}, {\"line\": {\"color\": \"rgba(128, 128, 128, 1.0)\", \"dash\": \"solid\", \"shape\": \"linear\", \"width\": 1.3}, \"marker\": {\"size\": 2, \"symbol\": \"circle\"}, \"mode\": \"markers\", \"name\": \"A\", \"text\": \"\", \"type\": \"scatter\", \"x\": [0.8648798230158975, 0.6168838744499859, -0.2553104669987, -0.5376464867950612, 1.0985192033530944, -0.9440688409228584, 0.6933173762420918, -0.6498482258477097, -0.8018121392098112, 1.6614406628805582, 0.25749349074201217, 1.8111460735066105, 0.39525004726688817, 0.15322810958547553, -0.6505121094153137, -2.2984746556361033, -0.7271573961453361, -0.799612572239205, -0.1861677911754232, -0.9675184006268926, -0.5180993430469171, 0.22326189499540022, 0.8890311428268605, 1.1684155086569208, -2.1105166472531005, -0.22792662026081348, -1.7352184104785755, 0.5091809309124111, 1.4605210888796814, 0.6447537817584865, -0.6123891851427407, 0.8851976383066426, -1.0868725112007147, -0.08744642526903344, 0.15663391006169716, 0.6782179133897311, 2.3943293828093872, 0.4617914586852474, 1.4307611449605124, 1.2425707074385905, -0.38271998875948376, 0.973830279697104, -2.626937904231956, 0.22089917867702138, 0.7175278330901118, 0.41789773927976986, -0.4684295575192196, 1.286789232082445, -0.7753497121419121, 0.3517210166362854, -1.1501314212759213, 0.1596404420407003, -1.057130504381638, -1.0271136127887481, 2.3092933092036976, -0.35794037595248507, 0.21108274676066685, 1.387117126540965, -1.453045342998502, 0.4135364798202572, 0.2400851843727173, 0.08017711612552984, -1.301583929646112, -0.534393298061163, 0.21398906503416223, 2.373443426769146, -0.5020716705189721, 0.6716541585189236, -0.26645139533386014, 0.06884335805705821, 0.7540618676481922, -1.286028613428508, 0.050215678235865, 0.07993908991261611, -1.0677518455070494, 1.2677350406386771, 0.35449282662119597, 0.21279899649927772, -0.008082479729587274, -0.7203744314653343, 2.5994109613713867, 0.45460832517121713, 0.1465669553109633, 1.734136147569354, 0.26041023533748875, -0.4151355022561119, 0.5968344312309438, -0.9392533430149653, -1.536133943819491, -0.8065668782908024, -0.08050759192929652, -2.098171765730534, -0.808254971794466, 0.9703291919561734, 0.31128337197230466, -1.6207025952122633, 1.2669287402911587, 0.9810367505417916, 2.0159574799117674, 1.1329670490708486], \"xaxis\": \"x3\", \"y\": [0.6368237558363841, 1.0649006110582138, 0.13840425377741813, 0.6643570870697327, 0.31033996046308443, 0.3095307447079891, -1.0030806949117006, -2.073980421654117, -0.012978557675513116, -0.6443610249054871, -0.4019123011599225, -1.1865240201211213, 1.9402176585124264, 0.8017272698703927, 1.4250960216550903, 2.3414179561851403, -0.20350768446908774, 0.22867666550922047, -0.8895629536550426, -0.15962318577850593, 1.0785773861254981, -1.6997166285386889, 0.04266600709434228, 0.6880126804930993, 0.7739049252029457, 0.058188812087436564, -0.14029416776943504, -0.9981845613547209, 0.22126264796890385, -1.2269498069443276, 1.204595715334291, -0.7568251019365444, 0.525713901813281, 0.26930176076243917, 0.2785868145508584, 0.8119783697520976, 0.46821407574585244, 1.4687510828407921, -0.5980433221622159, 0.6406517656293856, -0.2262760543280068, -0.6653294294964786, -0.5836311953052089, -0.2428675375821456, -1.8528633593831683, -0.007528069992805335, 0.5382930637817657, -0.629087265440316, -0.6728917120279745, 0.7144401052516212, 0.23378447656804857, 0.17330130095757496, 0.21726407009755946, 0.7237329000891287, 0.27334144868980453, 0.4865035225094366, 0.7016337387174932, 0.04079106265710642, -1.9665997054916837, -0.6631949964790526, -0.7102946535045428, -1.0774032299311715, 1.6516020663809938, -1.6188402171370826, 1.7543865634412688, 1.6349723274645858, 0.7712922083770805, 0.41711383293823157, 1.2353035140092619, 0.8307141667412382, 1.757130703099051, -0.03421584746068055, 1.4539266180621373, -0.6418612753104854, -2.2645247371116057, 1.7995701444332912, 0.34258026492133203, -1.15192514998973, 0.31713531038022136, -0.6991945323390549, -0.1874252447770727, 1.7741234835799624, 2.492111064588903, -0.5454800752618096, -2.084849189153723, -0.0862396373237331, 0.261683605023826, -0.3241027505722336, 0.44037856434772343, 1.8195245724028761, 0.7671675437836701, -0.6384630312275602, 0.11607122808032443, 1.5270567062839226, -0.16130502769273808, -0.43406958740491863, 1.4734914707737603, -0.16657110561516894, -1.325659168470935, -1.7907712245138099], \"yaxis\": \"y3\"}, {\"line\": {\"color\": \"rgba(128, 128, 128, 1.0)\", \"dash\": \"solid\", \"shape\": \"linear\", \"width\": 1.3}, \"marker\": {\"size\": 2, \"symbol\": \"circle\"}, \"mode\": \"markers\", \"name\": \"A\", \"text\": \"\", \"type\": \"scatter\", \"x\": [-0.2511060495466714, -0.38323368117127715, -0.026206155669705973, 0.008179529296440289, 0.33814997381296197, -0.7631978995349146, -1.0749498002123072, 0.3058286822190156, -0.9665368140590993, 0.064712064586311, -1.6285755341487114, 0.06677008462203217, -0.565963049639477, 0.9602766523516492, -0.9613212997598867, 0.2513979314757754, -0.44380942484781855, -0.2620223909192725, 2.9570067591913647, 0.7539739829991565, 0.28431787170181994, -1.4256327274570921, -1.0505851872083094, -0.1992796480262547, 1.1485178438650163, -0.572315706842162, 0.2348020216311637, -1.43466379154626, 0.6376017377523107, -0.8526391337822391, -2.532287479102309, 2.670944306667824, 0.00013011761243241827, 0.3687159277023539, -0.21822462931136613, 0.7275329061137008, -0.340173366046956, -1.2403244809609586, -1.615337103362975, -1.614287118122959, -0.5695074723526038, 0.12189713163375622, -0.16169126299111203, 0.38573183712843406, 0.8385449252058224, -0.8649577476846941, 2.0601201513521334, 0.201901591904918, 0.32112824048332517, -0.559888211181785, -1.4612755154772725, 0.867840876378296, -1.9091097162672386, 0.8247289548835394, 0.4156663471708946, 0.08458737863491718, -0.27300709453934846, 0.5092993862731398, -1.671451660986157, -1.1966976797559579, -0.10020969171058366, -1.0183011427301836, 0.978790967442909, -0.9425552606146356, -0.44737491045947175, 0.8439799585928991, -0.17993802267047826, 0.2977066279204819, 1.5287819650802668, 0.5705591482113747, -0.7192635203956517, 0.3450070506775301, -1.033938460324176, 1.1924657273649355, 0.8682713090835688, 0.04364254086856057, -0.6270612688472221, 0.16383999095426352, 0.1312681105501158, 1.0802230727370812, 0.7772940495024464, 0.9543996804355898, 1.6014754513536233, -0.44946493432675516, 0.38422114740949564, -1.180658872549014, 0.3231265726165534, 0.9188177589555937, -0.7888359002985148, -0.11204142763384377, -0.9005142432054354, -0.8043314863203508, 0.7392662332003646, 0.20040141406036718, -0.06170035694528831, 0.733012407827407, 0.9009629858119796, -0.4958512951456021, -0.7440785771884372, 0.13438848115616583], \"xaxis\": \"x4\", \"y\": [0.6368237558363841, 1.0649006110582138, 0.13840425377741813, 0.6643570870697327, 0.31033996046308443, 0.3095307447079891, -1.0030806949117006, -2.073980421654117, -0.012978557675513116, -0.6443610249054871, -0.4019123011599225, -1.1865240201211213, 1.9402176585124264, 0.8017272698703927, 1.4250960216550903, 2.3414179561851403, -0.20350768446908774, 0.22867666550922047, -0.8895629536550426, -0.15962318577850593, 1.0785773861254981, -1.6997166285386889, 0.04266600709434228, 0.6880126804930993, 0.7739049252029457, 0.058188812087436564, -0.14029416776943504, -0.9981845613547209, 0.22126264796890385, -1.2269498069443276, 1.204595715334291, -0.7568251019365444, 0.525713901813281, 0.26930176076243917, 0.2785868145508584, 0.8119783697520976, 0.46821407574585244, 1.4687510828407921, -0.5980433221622159, 0.6406517656293856, -0.2262760543280068, -0.6653294294964786, -0.5836311953052089, -0.2428675375821456, -1.8528633593831683, -0.007528069992805335, 0.5382930637817657, -0.629087265440316, -0.6728917120279745, 0.7144401052516212, 0.23378447656804857, 0.17330130095757496, 0.21726407009755946, 0.7237329000891287, 0.27334144868980453, 0.4865035225094366, 0.7016337387174932, 0.04079106265710642, -1.9665997054916837, -0.6631949964790526, -0.7102946535045428, -1.0774032299311715, 1.6516020663809938, -1.6188402171370826, 1.7543865634412688, 1.6349723274645858, 0.7712922083770805, 0.41711383293823157, 1.2353035140092619, 0.8307141667412382, 1.757130703099051, -0.03421584746068055, 1.4539266180621373, -0.6418612753104854, -2.2645247371116057, 1.7995701444332912, 0.34258026492133203, -1.15192514998973, 0.31713531038022136, -0.6991945323390549, -0.1874252447770727, 1.7741234835799624, 2.492111064588903, -0.5454800752618096, -2.084849189153723, -0.0862396373237331, 0.261683605023826, -0.3241027505722336, 0.44037856434772343, 1.8195245724028761, 0.7671675437836701, -0.6384630312275602, 0.11607122808032443, 1.5270567062839226, -0.16130502769273808, -0.43406958740491863, 1.4734914707737603, -0.16657110561516894, -1.325659168470935, -1.7907712245138099], \"yaxis\": \"y4\"}, {\"line\": {\"color\": \"rgba(128, 128, 128, 1.0)\", \"dash\": \"solid\", \"shape\": \"linear\", \"width\": 1.3}, \"marker\": {\"size\": 2, \"symbol\": \"circle\"}, \"mode\": \"markers\", \"name\": \"B\", \"text\": \"\", \"type\": \"scatter\", \"x\": [0.6368237558363841, 1.0649006110582138, 0.13840425377741813, 0.6643570870697327, 0.31033996046308443, 0.3095307447079891, -1.0030806949117006, -2.073980421654117, -0.012978557675513116, -0.6443610249054871, -0.4019123011599225, -1.1865240201211213, 1.9402176585124264, 0.8017272698703927, 1.4250960216550903, 2.3414179561851403, -0.20350768446908774, 0.22867666550922047, -0.8895629536550426, -0.15962318577850593, 1.0785773861254981, -1.6997166285386889, 0.04266600709434228, 0.6880126804930993, 0.7739049252029457, 0.058188812087436564, -0.14029416776943504, -0.9981845613547209, 0.22126264796890385, -1.2269498069443276, 1.204595715334291, -0.7568251019365444, 0.525713901813281, 0.26930176076243917, 0.2785868145508584, 0.8119783697520976, 0.46821407574585244, 1.4687510828407921, -0.5980433221622159, 0.6406517656293856, -0.2262760543280068, -0.6653294294964786, -0.5836311953052089, -0.2428675375821456, -1.8528633593831683, -0.007528069992805335, 0.5382930637817657, -0.629087265440316, -0.6728917120279745, 0.7144401052516212, 0.23378447656804857, 0.17330130095757496, 0.21726407009755946, 0.7237329000891287, 0.27334144868980453, 0.4865035225094366, 0.7016337387174932, 0.04079106265710642, -1.9665997054916837, -0.6631949964790526, -0.7102946535045428, -1.0774032299311715, 1.6516020663809938, -1.6188402171370826, 1.7543865634412688, 1.6349723274645858, 0.7712922083770805, 0.41711383293823157, 1.2353035140092619, 0.8307141667412382, 1.757130703099051, -0.03421584746068055, 1.4539266180621373, -0.6418612753104854, -2.2645247371116057, 1.7995701444332912, 0.34258026492133203, -1.15192514998973, 0.31713531038022136, -0.6991945323390549, -0.1874252447770727, 1.7741234835799624, 2.492111064588903, -0.5454800752618096, -2.084849189153723, -0.0862396373237331, 0.261683605023826, -0.3241027505722336, 0.44037856434772343, 1.8195245724028761, 0.7671675437836701, -0.6384630312275602, 0.11607122808032443, 1.5270567062839226, -0.16130502769273808, -0.43406958740491863, 1.4734914707737603, -0.16657110561516894, -1.325659168470935, -1.7907712245138099], \"xaxis\": \"x5\", \"y\": [-0.965573785855108, 2.3411683403874863, 0.16760652247777483, 0.5293763473061892, 1.117328140016128, 0.7549892445442132, 2.054090398813393, -0.6782945481675158, 1.0381705653378392, 1.2140314276926856, 0.03530096826726425, -0.02975819365648567, 0.8490536809198773, -1.5614858840265529, 0.736707745126771, 0.1246407894398844, 0.8379386880632551, 0.41903183767939406, 0.6018429414116641, 0.2553278104357416, 0.10218560907473412, 1.2557054058002752, -0.8748741670847883, -0.3832158110185663, -0.1549106162658271, -1.2769478029855426, 1.2890593262203311, 0.3750696267160941, 0.9921404081646318, 0.21750565479064404, 1.6490157181527234, 0.31979828501405794, -0.26261002617535073, -0.23529714060338808, -0.22362828498994733, -0.6647344151065584, -0.5875322210729691, -0.6137603446064702, 0.08365852508295676, -0.5736703131755713, 0.441260085154336, 0.7722016610545739, 0.5324255904558407, 0.40093790935933765, -0.053257602214600776, 0.23615988021806109, -0.1196653377877863, -0.4081360519718144, -1.3879231468442046, 0.47753275715667615, 0.6015109009282125, -0.5627145530644787, 1.0817852258226457, 0.5902559942383697, -0.44190244945846197, 0.31613056599056255, 0.6907867960989922, -1.6964258454693064, 0.6704678610285731, -0.20217302565308465, 0.8315265238590916, 0.5243909564105876, -1.258734034452956, -1.4020188180171287, -0.07728484380937733, -0.28049267010943935, 0.08706081149001788, -1.778059875620324, -0.8343277328158784, 0.3864682378824961, 0.1503109040719167, -0.11424349139968754, -1.6639743787791799, -2.191755541277839, 0.45497897381261365, 0.31285327059157747, -0.3570196489480991, 0.06866855226780288, -0.8135424471581575, -0.49434730240269664, 0.4461810207717648, 1.1420257711588415, -0.31672702200917324, 1.82080657095947, 0.679232378362389, 0.4063062091653785, -1.0668562477330763, 1.2601410127551493, -0.08626475067008418, -0.36923131351358884, -0.7445667813101593, 1.6459010653261605, -0.4346406940551893, -1.8764159532897957, 1.2075252986936873, 0.8368235720752266, 2.318359996303223, 0.14353185810363364, 0.5082567333578968, 0.7185225785825067], \"yaxis\": \"y5\"}, {\"histfunc\": \"count\", \"histnorm\": \"\", \"marker\": {\"color\": \"rgba(55, 128, 191, 1.0)\", \"line\": {\"color\": \"#4D5663\", \"width\": 1.3}}, \"name\": \"B\", \"nbinsx\": 10, \"opacity\": 0.8, \"orientation\": \"v\", \"type\": \"histogram\", \"x\": [-0.965573785855108, 2.3411683403874863, 0.16760652247777483, 0.5293763473061892, 1.117328140016128, 0.7549892445442132, 2.054090398813393, -0.6782945481675158, 1.0381705653378392, 1.2140314276926856, 0.03530096826726425, -0.02975819365648567, 0.8490536809198773, -1.5614858840265529, 0.736707745126771, 0.1246407894398844, 0.8379386880632551, 0.41903183767939406, 0.6018429414116641, 0.2553278104357416, 0.10218560907473412, 1.2557054058002752, -0.8748741670847883, -0.3832158110185663, -0.1549106162658271, -1.2769478029855426, 1.2890593262203311, 0.3750696267160941, 0.9921404081646318, 0.21750565479064404, 1.6490157181527234, 0.31979828501405794, -0.26261002617535073, -0.23529714060338808, -0.22362828498994733, -0.6647344151065584, -0.5875322210729691, -0.6137603446064702, 0.08365852508295676, -0.5736703131755713, 0.441260085154336, 0.7722016610545739, 0.5324255904558407, 0.40093790935933765, -0.053257602214600776, 0.23615988021806109, -0.1196653377877863, -0.4081360519718144, -1.3879231468442046, 0.47753275715667615, 0.6015109009282125, -0.5627145530644787, 1.0817852258226457, 0.5902559942383697, -0.44190244945846197, 0.31613056599056255, 0.6907867960989922, -1.6964258454693064, 0.6704678610285731, -0.20217302565308465, 0.8315265238590916, 0.5243909564105876, -1.258734034452956, -1.4020188180171287, -0.07728484380937733, -0.28049267010943935, 0.08706081149001788, -1.778059875620324, -0.8343277328158784, 0.3864682378824961, 0.1503109040719167, -0.11424349139968754, -1.6639743787791799, -2.191755541277839, 0.45497897381261365, 0.31285327059157747, -0.3570196489480991, 0.06866855226780288, -0.8135424471581575, -0.49434730240269664, 0.4461810207717648, 1.1420257711588415, -0.31672702200917324, 1.82080657095947, 0.679232378362389, 0.4063062091653785, -1.0668562477330763, 1.2601410127551493, -0.08626475067008418, -0.36923131351358884, -0.7445667813101593, 1.6459010653261605, -0.4346406940551893, -1.8764159532897957, 1.2075252986936873, 0.8368235720752266, 2.318359996303223, 0.14353185810363364, 0.5082567333578968, 0.7185225785825067], \"xaxis\": \"x6\", \"yaxis\": \"y6\"}, {\"line\": {\"color\": \"rgba(128, 128, 128, 1.0)\", \"dash\": \"solid\", \"shape\": \"linear\", \"width\": 1.3}, \"marker\": {\"size\": 2, \"symbol\": \"circle\"}, \"mode\": \"markers\", \"name\": \"B\", \"text\": \"\", \"type\": \"scatter\", \"x\": [0.8648798230158975, 0.6168838744499859, -0.2553104669987, -0.5376464867950612, 1.0985192033530944, -0.9440688409228584, 0.6933173762420918, -0.6498482258477097, -0.8018121392098112, 1.6614406628805582, 0.25749349074201217, 1.8111460735066105, 0.39525004726688817, 0.15322810958547553, -0.6505121094153137, -2.2984746556361033, -0.7271573961453361, -0.799612572239205, -0.1861677911754232, -0.9675184006268926, -0.5180993430469171, 0.22326189499540022, 0.8890311428268605, 1.1684155086569208, -2.1105166472531005, -0.22792662026081348, -1.7352184104785755, 0.5091809309124111, 1.4605210888796814, 0.6447537817584865, -0.6123891851427407, 0.8851976383066426, -1.0868725112007147, -0.08744642526903344, 0.15663391006169716, 0.6782179133897311, 2.3943293828093872, 0.4617914586852474, 1.4307611449605124, 1.2425707074385905, -0.38271998875948376, 0.973830279697104, -2.626937904231956, 0.22089917867702138, 0.7175278330901118, 0.41789773927976986, -0.4684295575192196, 1.286789232082445, -0.7753497121419121, 0.3517210166362854, -1.1501314212759213, 0.1596404420407003, -1.057130504381638, -1.0271136127887481, 2.3092933092036976, -0.35794037595248507, 0.21108274676066685, 1.387117126540965, -1.453045342998502, 0.4135364798202572, 0.2400851843727173, 0.08017711612552984, -1.301583929646112, -0.534393298061163, 0.21398906503416223, 2.373443426769146, -0.5020716705189721, 0.6716541585189236, -0.26645139533386014, 0.06884335805705821, 0.7540618676481922, -1.286028613428508, 0.050215678235865, 0.07993908991261611, -1.0677518455070494, 1.2677350406386771, 0.35449282662119597, 0.21279899649927772, -0.008082479729587274, -0.7203744314653343, 2.5994109613713867, 0.45460832517121713, 0.1465669553109633, 1.734136147569354, 0.26041023533748875, -0.4151355022561119, 0.5968344312309438, -0.9392533430149653, -1.536133943819491, -0.8065668782908024, -0.08050759192929652, -2.098171765730534, -0.808254971794466, 0.9703291919561734, 0.31128337197230466, -1.6207025952122633, 1.2669287402911587, 0.9810367505417916, 2.0159574799117674, 1.1329670490708486], \"xaxis\": \"x7\", \"y\": [-0.965573785855108, 2.3411683403874863, 0.16760652247777483, 0.5293763473061892, 1.117328140016128, 0.7549892445442132, 2.054090398813393, -0.6782945481675158, 1.0381705653378392, 1.2140314276926856, 0.03530096826726425, -0.02975819365648567, 0.8490536809198773, -1.5614858840265529, 0.736707745126771, 0.1246407894398844, 0.8379386880632551, 0.41903183767939406, 0.6018429414116641, 0.2553278104357416, 0.10218560907473412, 1.2557054058002752, -0.8748741670847883, -0.3832158110185663, -0.1549106162658271, -1.2769478029855426, 1.2890593262203311, 0.3750696267160941, 0.9921404081646318, 0.21750565479064404, 1.6490157181527234, 0.31979828501405794, -0.26261002617535073, -0.23529714060338808, -0.22362828498994733, -0.6647344151065584, -0.5875322210729691, -0.6137603446064702, 0.08365852508295676, -0.5736703131755713, 0.441260085154336, 0.7722016610545739, 0.5324255904558407, 0.40093790935933765, -0.053257602214600776, 0.23615988021806109, -0.1196653377877863, -0.4081360519718144, -1.3879231468442046, 0.47753275715667615, 0.6015109009282125, -0.5627145530644787, 1.0817852258226457, 0.5902559942383697, -0.44190244945846197, 0.31613056599056255, 0.6907867960989922, -1.6964258454693064, 0.6704678610285731, -0.20217302565308465, 0.8315265238590916, 0.5243909564105876, -1.258734034452956, -1.4020188180171287, -0.07728484380937733, -0.28049267010943935, 0.08706081149001788, -1.778059875620324, -0.8343277328158784, 0.3864682378824961, 0.1503109040719167, -0.11424349139968754, -1.6639743787791799, -2.191755541277839, 0.45497897381261365, 0.31285327059157747, -0.3570196489480991, 0.06866855226780288, -0.8135424471581575, -0.49434730240269664, 0.4461810207717648, 1.1420257711588415, -0.31672702200917324, 1.82080657095947, 0.679232378362389, 0.4063062091653785, -1.0668562477330763, 1.2601410127551493, -0.08626475067008418, -0.36923131351358884, -0.7445667813101593, 1.6459010653261605, -0.4346406940551893, -1.8764159532897957, 1.2075252986936873, 0.8368235720752266, 2.318359996303223, 0.14353185810363364, 0.5082567333578968, 0.7185225785825067], \"yaxis\": \"y7\"}, {\"line\": {\"color\": \"rgba(128, 128, 128, 1.0)\", \"dash\": \"solid\", \"shape\": \"linear\", \"width\": 1.3}, \"marker\": {\"size\": 2, \"symbol\": \"circle\"}, \"mode\": \"markers\", \"name\": \"B\", \"text\": \"\", \"type\": \"scatter\", \"x\": [-0.2511060495466714, -0.38323368117127715, -0.026206155669705973, 0.008179529296440289, 0.33814997381296197, -0.7631978995349146, -1.0749498002123072, 0.3058286822190156, -0.9665368140590993, 0.064712064586311, -1.6285755341487114, 0.06677008462203217, -0.565963049639477, 0.9602766523516492, -0.9613212997598867, 0.2513979314757754, -0.44380942484781855, -0.2620223909192725, 2.9570067591913647, 0.7539739829991565, 0.28431787170181994, -1.4256327274570921, -1.0505851872083094, -0.1992796480262547, 1.1485178438650163, -0.572315706842162, 0.2348020216311637, -1.43466379154626, 0.6376017377523107, -0.8526391337822391, -2.532287479102309, 2.670944306667824, 0.00013011761243241827, 0.3687159277023539, -0.21822462931136613, 0.7275329061137008, -0.340173366046956, -1.2403244809609586, -1.615337103362975, -1.614287118122959, -0.5695074723526038, 0.12189713163375622, -0.16169126299111203, 0.38573183712843406, 0.8385449252058224, -0.8649577476846941, 2.0601201513521334, 0.201901591904918, 0.32112824048332517, -0.559888211181785, -1.4612755154772725, 0.867840876378296, -1.9091097162672386, 0.8247289548835394, 0.4156663471708946, 0.08458737863491718, -0.27300709453934846, 0.5092993862731398, -1.671451660986157, -1.1966976797559579, -0.10020969171058366, -1.0183011427301836, 0.978790967442909, -0.9425552606146356, -0.44737491045947175, 0.8439799585928991, -0.17993802267047826, 0.2977066279204819, 1.5287819650802668, 0.5705591482113747, -0.7192635203956517, 0.3450070506775301, -1.033938460324176, 1.1924657273649355, 0.8682713090835688, 0.04364254086856057, -0.6270612688472221, 0.16383999095426352, 0.1312681105501158, 1.0802230727370812, 0.7772940495024464, 0.9543996804355898, 1.6014754513536233, -0.44946493432675516, 0.38422114740949564, -1.180658872549014, 0.3231265726165534, 0.9188177589555937, -0.7888359002985148, -0.11204142763384377, -0.9005142432054354, -0.8043314863203508, 0.7392662332003646, 0.20040141406036718, -0.06170035694528831, 0.733012407827407, 0.9009629858119796, -0.4958512951456021, -0.7440785771884372, 0.13438848115616583], \"xaxis\": \"x8\", \"y\": [-0.965573785855108, 2.3411683403874863, 0.16760652247777483, 0.5293763473061892, 1.117328140016128, 0.7549892445442132, 2.054090398813393, -0.6782945481675158, 1.0381705653378392, 1.2140314276926856, 0.03530096826726425, -0.02975819365648567, 0.8490536809198773, -1.5614858840265529, 0.736707745126771, 0.1246407894398844, 0.8379386880632551, 0.41903183767939406, 0.6018429414116641, 0.2553278104357416, 0.10218560907473412, 1.2557054058002752, -0.8748741670847883, -0.3832158110185663, -0.1549106162658271, -1.2769478029855426, 1.2890593262203311, 0.3750696267160941, 0.9921404081646318, 0.21750565479064404, 1.6490157181527234, 0.31979828501405794, -0.26261002617535073, -0.23529714060338808, -0.22362828498994733, -0.6647344151065584, -0.5875322210729691, -0.6137603446064702, 0.08365852508295676, -0.5736703131755713, 0.441260085154336, 0.7722016610545739, 0.5324255904558407, 0.40093790935933765, -0.053257602214600776, 0.23615988021806109, -0.1196653377877863, -0.4081360519718144, -1.3879231468442046, 0.47753275715667615, 0.6015109009282125, -0.5627145530644787, 1.0817852258226457, 0.5902559942383697, -0.44190244945846197, 0.31613056599056255, 0.6907867960989922, -1.6964258454693064, 0.6704678610285731, -0.20217302565308465, 0.8315265238590916, 0.5243909564105876, -1.258734034452956, -1.4020188180171287, -0.07728484380937733, -0.28049267010943935, 0.08706081149001788, -1.778059875620324, -0.8343277328158784, 0.3864682378824961, 0.1503109040719167, -0.11424349139968754, -1.6639743787791799, -2.191755541277839, 0.45497897381261365, 0.31285327059157747, -0.3570196489480991, 0.06866855226780288, -0.8135424471581575, -0.49434730240269664, 0.4461810207717648, 1.1420257711588415, -0.31672702200917324, 1.82080657095947, 0.679232378362389, 0.4063062091653785, -1.0668562477330763, 1.2601410127551493, -0.08626475067008418, -0.36923131351358884, -0.7445667813101593, 1.6459010653261605, -0.4346406940551893, -1.8764159532897957, 1.2075252986936873, 0.8368235720752266, 2.318359996303223, 0.14353185810363364, 0.5082567333578968, 0.7185225785825067], \"yaxis\": \"y8\"}, {\"line\": {\"color\": \"rgba(128, 128, 128, 1.0)\", \"dash\": \"solid\", \"shape\": \"linear\", \"width\": 1.3}, \"marker\": {\"size\": 2, \"symbol\": \"circle\"}, \"mode\": \"markers\", \"name\": \"C\", \"text\": \"\", \"type\": \"scatter\", \"x\": [0.6368237558363841, 1.0649006110582138, 0.13840425377741813, 0.6643570870697327, 0.31033996046308443, 0.3095307447079891, -1.0030806949117006, -2.073980421654117, -0.012978557675513116, -0.6443610249054871, -0.4019123011599225, -1.1865240201211213, 1.9402176585124264, 0.8017272698703927, 1.4250960216550903, 2.3414179561851403, -0.20350768446908774, 0.22867666550922047, -0.8895629536550426, -0.15962318577850593, 1.0785773861254981, -1.6997166285386889, 0.04266600709434228, 0.6880126804930993, 0.7739049252029457, 0.058188812087436564, -0.14029416776943504, -0.9981845613547209, 0.22126264796890385, -1.2269498069443276, 1.204595715334291, -0.7568251019365444, 0.525713901813281, 0.26930176076243917, 0.2785868145508584, 0.8119783697520976, 0.46821407574585244, 1.4687510828407921, -0.5980433221622159, 0.6406517656293856, -0.2262760543280068, -0.6653294294964786, -0.5836311953052089, -0.2428675375821456, -1.8528633593831683, -0.007528069992805335, 0.5382930637817657, -0.629087265440316, -0.6728917120279745, 0.7144401052516212, 0.23378447656804857, 0.17330130095757496, 0.21726407009755946, 0.7237329000891287, 0.27334144868980453, 0.4865035225094366, 0.7016337387174932, 0.04079106265710642, -1.9665997054916837, -0.6631949964790526, -0.7102946535045428, -1.0774032299311715, 1.6516020663809938, -1.6188402171370826, 1.7543865634412688, 1.6349723274645858, 0.7712922083770805, 0.41711383293823157, 1.2353035140092619, 0.8307141667412382, 1.757130703099051, -0.03421584746068055, 1.4539266180621373, -0.6418612753104854, -2.2645247371116057, 1.7995701444332912, 0.34258026492133203, -1.15192514998973, 0.31713531038022136, -0.6991945323390549, -0.1874252447770727, 1.7741234835799624, 2.492111064588903, -0.5454800752618096, -2.084849189153723, -0.0862396373237331, 0.261683605023826, -0.3241027505722336, 0.44037856434772343, 1.8195245724028761, 0.7671675437836701, -0.6384630312275602, 0.11607122808032443, 1.5270567062839226, -0.16130502769273808, -0.43406958740491863, 1.4734914707737603, -0.16657110561516894, -1.325659168470935, -1.7907712245138099], \"xaxis\": \"x9\", \"y\": [0.8648798230158975, 0.6168838744499859, -0.2553104669987, -0.5376464867950612, 1.0985192033530944, -0.9440688409228584, 0.6933173762420918, -0.6498482258477097, -0.8018121392098112, 1.6614406628805582, 0.25749349074201217, 1.8111460735066105, 0.39525004726688817, 0.15322810958547553, -0.6505121094153137, -2.2984746556361033, -0.7271573961453361, -0.799612572239205, -0.1861677911754232, -0.9675184006268926, -0.5180993430469171, 0.22326189499540022, 0.8890311428268605, 1.1684155086569208, -2.1105166472531005, -0.22792662026081348, -1.7352184104785755, 0.5091809309124111, 1.4605210888796814, 0.6447537817584865, -0.6123891851427407, 0.8851976383066426, -1.0868725112007147, -0.08744642526903344, 0.15663391006169716, 0.6782179133897311, 2.3943293828093872, 0.4617914586852474, 1.4307611449605124, 1.2425707074385905, -0.38271998875948376, 0.973830279697104, -2.626937904231956, 0.22089917867702138, 0.7175278330901118, 0.41789773927976986, -0.4684295575192196, 1.286789232082445, -0.7753497121419121, 0.3517210166362854, -1.1501314212759213, 0.1596404420407003, -1.057130504381638, -1.0271136127887481, 2.3092933092036976, -0.35794037595248507, 0.21108274676066685, 1.387117126540965, -1.453045342998502, 0.4135364798202572, 0.2400851843727173, 0.08017711612552984, -1.301583929646112, -0.534393298061163, 0.21398906503416223, 2.373443426769146, -0.5020716705189721, 0.6716541585189236, -0.26645139533386014, 0.06884335805705821, 0.7540618676481922, -1.286028613428508, 0.050215678235865, 0.07993908991261611, -1.0677518455070494, 1.2677350406386771, 0.35449282662119597, 0.21279899649927772, -0.008082479729587274, -0.7203744314653343, 2.5994109613713867, 0.45460832517121713, 0.1465669553109633, 1.734136147569354, 0.26041023533748875, -0.4151355022561119, 0.5968344312309438, -0.9392533430149653, -1.536133943819491, -0.8065668782908024, -0.08050759192929652, -2.098171765730534, -0.808254971794466, 0.9703291919561734, 0.31128337197230466, -1.6207025952122633, 1.2669287402911587, 0.9810367505417916, 2.0159574799117674, 1.1329670490708486], \"yaxis\": \"y9\"}, {\"line\": {\"color\": \"rgba(128, 128, 128, 1.0)\", \"dash\": \"solid\", \"shape\": \"linear\", \"width\": 1.3}, \"marker\": {\"size\": 2, \"symbol\": \"circle\"}, \"mode\": \"markers\", \"name\": \"C\", \"text\": \"\", \"type\": \"scatter\", \"x\": [-0.965573785855108, 2.3411683403874863, 0.16760652247777483, 0.5293763473061892, 1.117328140016128, 0.7549892445442132, 2.054090398813393, -0.6782945481675158, 1.0381705653378392, 1.2140314276926856, 0.03530096826726425, -0.02975819365648567, 0.8490536809198773, -1.5614858840265529, 0.736707745126771, 0.1246407894398844, 0.8379386880632551, 0.41903183767939406, 0.6018429414116641, 0.2553278104357416, 0.10218560907473412, 1.2557054058002752, -0.8748741670847883, -0.3832158110185663, -0.1549106162658271, -1.2769478029855426, 1.2890593262203311, 0.3750696267160941, 0.9921404081646318, 0.21750565479064404, 1.6490157181527234, 0.31979828501405794, -0.26261002617535073, -0.23529714060338808, -0.22362828498994733, -0.6647344151065584, -0.5875322210729691, -0.6137603446064702, 0.08365852508295676, -0.5736703131755713, 0.441260085154336, 0.7722016610545739, 0.5324255904558407, 0.40093790935933765, -0.053257602214600776, 0.23615988021806109, -0.1196653377877863, -0.4081360519718144, -1.3879231468442046, 0.47753275715667615, 0.6015109009282125, -0.5627145530644787, 1.0817852258226457, 0.5902559942383697, -0.44190244945846197, 0.31613056599056255, 0.6907867960989922, -1.6964258454693064, 0.6704678610285731, -0.20217302565308465, 0.8315265238590916, 0.5243909564105876, -1.258734034452956, -1.4020188180171287, -0.07728484380937733, -0.28049267010943935, 0.08706081149001788, -1.778059875620324, -0.8343277328158784, 0.3864682378824961, 0.1503109040719167, -0.11424349139968754, -1.6639743787791799, -2.191755541277839, 0.45497897381261365, 0.31285327059157747, -0.3570196489480991, 0.06866855226780288, -0.8135424471581575, -0.49434730240269664, 0.4461810207717648, 1.1420257711588415, -0.31672702200917324, 1.82080657095947, 0.679232378362389, 0.4063062091653785, -1.0668562477330763, 1.2601410127551493, -0.08626475067008418, -0.36923131351358884, -0.7445667813101593, 1.6459010653261605, -0.4346406940551893, -1.8764159532897957, 1.2075252986936873, 0.8368235720752266, 2.318359996303223, 0.14353185810363364, 0.5082567333578968, 0.7185225785825067], \"xaxis\": \"x10\", \"y\": [0.8648798230158975, 0.6168838744499859, -0.2553104669987, -0.5376464867950612, 1.0985192033530944, -0.9440688409228584, 0.6933173762420918, -0.6498482258477097, -0.8018121392098112, 1.6614406628805582, 0.25749349074201217, 1.8111460735066105, 0.39525004726688817, 0.15322810958547553, -0.6505121094153137, -2.2984746556361033, -0.7271573961453361, -0.799612572239205, -0.1861677911754232, -0.9675184006268926, -0.5180993430469171, 0.22326189499540022, 0.8890311428268605, 1.1684155086569208, -2.1105166472531005, -0.22792662026081348, -1.7352184104785755, 0.5091809309124111, 1.4605210888796814, 0.6447537817584865, -0.6123891851427407, 0.8851976383066426, -1.0868725112007147, -0.08744642526903344, 0.15663391006169716, 0.6782179133897311, 2.3943293828093872, 0.4617914586852474, 1.4307611449605124, 1.2425707074385905, -0.38271998875948376, 0.973830279697104, -2.626937904231956, 0.22089917867702138, 0.7175278330901118, 0.41789773927976986, -0.4684295575192196, 1.286789232082445, -0.7753497121419121, 0.3517210166362854, -1.1501314212759213, 0.1596404420407003, -1.057130504381638, -1.0271136127887481, 2.3092933092036976, -0.35794037595248507, 0.21108274676066685, 1.387117126540965, -1.453045342998502, 0.4135364798202572, 0.2400851843727173, 0.08017711612552984, -1.301583929646112, -0.534393298061163, 0.21398906503416223, 2.373443426769146, -0.5020716705189721, 0.6716541585189236, -0.26645139533386014, 0.06884335805705821, 0.7540618676481922, -1.286028613428508, 0.050215678235865, 0.07993908991261611, -1.0677518455070494, 1.2677350406386771, 0.35449282662119597, 0.21279899649927772, -0.008082479729587274, -0.7203744314653343, 2.5994109613713867, 0.45460832517121713, 0.1465669553109633, 1.734136147569354, 0.26041023533748875, -0.4151355022561119, 0.5968344312309438, -0.9392533430149653, -1.536133943819491, -0.8065668782908024, -0.08050759192929652, -2.098171765730534, -0.808254971794466, 0.9703291919561734, 0.31128337197230466, -1.6207025952122633, 1.2669287402911587, 0.9810367505417916, 2.0159574799117674, 1.1329670490708486], \"yaxis\": \"y10\"}, {\"histfunc\": \"count\", \"histnorm\": \"\", \"marker\": {\"color\": \"rgba(50, 171, 96, 1.0)\", \"line\": {\"color\": \"#4D5663\", \"width\": 1.3}}, \"name\": \"C\", \"nbinsx\": 10, \"opacity\": 0.8, \"orientation\": \"v\", \"type\": \"histogram\", \"x\": [0.8648798230158975, 0.6168838744499859, -0.2553104669987, -0.5376464867950612, 1.0985192033530944, -0.9440688409228584, 0.6933173762420918, -0.6498482258477097, -0.8018121392098112, 1.6614406628805582, 0.25749349074201217, 1.8111460735066105, 0.39525004726688817, 0.15322810958547553, -0.6505121094153137, -2.2984746556361033, -0.7271573961453361, -0.799612572239205, -0.1861677911754232, -0.9675184006268926, -0.5180993430469171, 0.22326189499540022, 0.8890311428268605, 1.1684155086569208, -2.1105166472531005, -0.22792662026081348, -1.7352184104785755, 0.5091809309124111, 1.4605210888796814, 0.6447537817584865, -0.6123891851427407, 0.8851976383066426, -1.0868725112007147, -0.08744642526903344, 0.15663391006169716, 0.6782179133897311, 2.3943293828093872, 0.4617914586852474, 1.4307611449605124, 1.2425707074385905, -0.38271998875948376, 0.973830279697104, -2.626937904231956, 0.22089917867702138, 0.7175278330901118, 0.41789773927976986, -0.4684295575192196, 1.286789232082445, -0.7753497121419121, 0.3517210166362854, -1.1501314212759213, 0.1596404420407003, -1.057130504381638, -1.0271136127887481, 2.3092933092036976, -0.35794037595248507, 0.21108274676066685, 1.387117126540965, -1.453045342998502, 0.4135364798202572, 0.2400851843727173, 0.08017711612552984, -1.301583929646112, -0.534393298061163, 0.21398906503416223, 2.373443426769146, -0.5020716705189721, 0.6716541585189236, -0.26645139533386014, 0.06884335805705821, 0.7540618676481922, -1.286028613428508, 0.050215678235865, 0.07993908991261611, -1.0677518455070494, 1.2677350406386771, 0.35449282662119597, 0.21279899649927772, -0.008082479729587274, -0.7203744314653343, 2.5994109613713867, 0.45460832517121713, 0.1465669553109633, 1.734136147569354, 0.26041023533748875, -0.4151355022561119, 0.5968344312309438, -0.9392533430149653, -1.536133943819491, -0.8065668782908024, -0.08050759192929652, -2.098171765730534, -0.808254971794466, 0.9703291919561734, 0.31128337197230466, -1.6207025952122633, 1.2669287402911587, 0.9810367505417916, 2.0159574799117674, 1.1329670490708486], \"xaxis\": \"x11\", \"yaxis\": \"y11\"}, {\"line\": {\"color\": \"rgba(128, 128, 128, 1.0)\", \"dash\": \"solid\", \"shape\": \"linear\", \"width\": 1.3}, \"marker\": {\"size\": 2, \"symbol\": \"circle\"}, \"mode\": \"markers\", \"name\": \"C\", \"text\": \"\", \"type\": \"scatter\", \"x\": [-0.2511060495466714, -0.38323368117127715, -0.026206155669705973, 0.008179529296440289, 0.33814997381296197, -0.7631978995349146, -1.0749498002123072, 0.3058286822190156, -0.9665368140590993, 0.064712064586311, -1.6285755341487114, 0.06677008462203217, -0.565963049639477, 0.9602766523516492, -0.9613212997598867, 0.2513979314757754, -0.44380942484781855, -0.2620223909192725, 2.9570067591913647, 0.7539739829991565, 0.28431787170181994, -1.4256327274570921, -1.0505851872083094, -0.1992796480262547, 1.1485178438650163, -0.572315706842162, 0.2348020216311637, -1.43466379154626, 0.6376017377523107, -0.8526391337822391, -2.532287479102309, 2.670944306667824, 0.00013011761243241827, 0.3687159277023539, -0.21822462931136613, 0.7275329061137008, -0.340173366046956, -1.2403244809609586, -1.615337103362975, -1.614287118122959, -0.5695074723526038, 0.12189713163375622, -0.16169126299111203, 0.38573183712843406, 0.8385449252058224, -0.8649577476846941, 2.0601201513521334, 0.201901591904918, 0.32112824048332517, -0.559888211181785, -1.4612755154772725, 0.867840876378296, -1.9091097162672386, 0.8247289548835394, 0.4156663471708946, 0.08458737863491718, -0.27300709453934846, 0.5092993862731398, -1.671451660986157, -1.1966976797559579, -0.10020969171058366, -1.0183011427301836, 0.978790967442909, -0.9425552606146356, -0.44737491045947175, 0.8439799585928991, -0.17993802267047826, 0.2977066279204819, 1.5287819650802668, 0.5705591482113747, -0.7192635203956517, 0.3450070506775301, -1.033938460324176, 1.1924657273649355, 0.8682713090835688, 0.04364254086856057, -0.6270612688472221, 0.16383999095426352, 0.1312681105501158, 1.0802230727370812, 0.7772940495024464, 0.9543996804355898, 1.6014754513536233, -0.44946493432675516, 0.38422114740949564, -1.180658872549014, 0.3231265726165534, 0.9188177589555937, -0.7888359002985148, -0.11204142763384377, -0.9005142432054354, -0.8043314863203508, 0.7392662332003646, 0.20040141406036718, -0.06170035694528831, 0.733012407827407, 0.9009629858119796, -0.4958512951456021, -0.7440785771884372, 0.13438848115616583], \"xaxis\": \"x12\", \"y\": [0.8648798230158975, 0.6168838744499859, -0.2553104669987, -0.5376464867950612, 1.0985192033530944, -0.9440688409228584, 0.6933173762420918, -0.6498482258477097, -0.8018121392098112, 1.6614406628805582, 0.25749349074201217, 1.8111460735066105, 0.39525004726688817, 0.15322810958547553, -0.6505121094153137, -2.2984746556361033, -0.7271573961453361, -0.799612572239205, -0.1861677911754232, -0.9675184006268926, -0.5180993430469171, 0.22326189499540022, 0.8890311428268605, 1.1684155086569208, -2.1105166472531005, -0.22792662026081348, -1.7352184104785755, 0.5091809309124111, 1.4605210888796814, 0.6447537817584865, -0.6123891851427407, 0.8851976383066426, -1.0868725112007147, -0.08744642526903344, 0.15663391006169716, 0.6782179133897311, 2.3943293828093872, 0.4617914586852474, 1.4307611449605124, 1.2425707074385905, -0.38271998875948376, 0.973830279697104, -2.626937904231956, 0.22089917867702138, 0.7175278330901118, 0.41789773927976986, -0.4684295575192196, 1.286789232082445, -0.7753497121419121, 0.3517210166362854, -1.1501314212759213, 0.1596404420407003, -1.057130504381638, -1.0271136127887481, 2.3092933092036976, -0.35794037595248507, 0.21108274676066685, 1.387117126540965, -1.453045342998502, 0.4135364798202572, 0.2400851843727173, 0.08017711612552984, -1.301583929646112, -0.534393298061163, 0.21398906503416223, 2.373443426769146, -0.5020716705189721, 0.6716541585189236, -0.26645139533386014, 0.06884335805705821, 0.7540618676481922, -1.286028613428508, 0.050215678235865, 0.07993908991261611, -1.0677518455070494, 1.2677350406386771, 0.35449282662119597, 0.21279899649927772, -0.008082479729587274, -0.7203744314653343, 2.5994109613713867, 0.45460832517121713, 0.1465669553109633, 1.734136147569354, 0.26041023533748875, -0.4151355022561119, 0.5968344312309438, -0.9392533430149653, -1.536133943819491, -0.8065668782908024, -0.08050759192929652, -2.098171765730534, -0.808254971794466, 0.9703291919561734, 0.31128337197230466, -1.6207025952122633, 1.2669287402911587, 0.9810367505417916, 2.0159574799117674, 1.1329670490708486], \"yaxis\": \"y12\"}, {\"line\": {\"color\": \"rgba(128, 128, 128, 1.0)\", \"dash\": \"solid\", \"shape\": \"linear\", \"width\": 1.3}, \"marker\": {\"size\": 2, \"symbol\": \"circle\"}, \"mode\": \"markers\", \"name\": \"D\", \"text\": \"\", \"type\": \"scatter\", \"x\": [0.6368237558363841, 1.0649006110582138, 0.13840425377741813, 0.6643570870697327, 0.31033996046308443, 0.3095307447079891, -1.0030806949117006, -2.073980421654117, -0.012978557675513116, -0.6443610249054871, -0.4019123011599225, -1.1865240201211213, 1.9402176585124264, 0.8017272698703927, 1.4250960216550903, 2.3414179561851403, -0.20350768446908774, 0.22867666550922047, -0.8895629536550426, -0.15962318577850593, 1.0785773861254981, -1.6997166285386889, 0.04266600709434228, 0.6880126804930993, 0.7739049252029457, 0.058188812087436564, -0.14029416776943504, -0.9981845613547209, 0.22126264796890385, -1.2269498069443276, 1.204595715334291, -0.7568251019365444, 0.525713901813281, 0.26930176076243917, 0.2785868145508584, 0.8119783697520976, 0.46821407574585244, 1.4687510828407921, -0.5980433221622159, 0.6406517656293856, -0.2262760543280068, -0.6653294294964786, -0.5836311953052089, -0.2428675375821456, -1.8528633593831683, -0.007528069992805335, 0.5382930637817657, -0.629087265440316, -0.6728917120279745, 0.7144401052516212, 0.23378447656804857, 0.17330130095757496, 0.21726407009755946, 0.7237329000891287, 0.27334144868980453, 0.4865035225094366, 0.7016337387174932, 0.04079106265710642, -1.9665997054916837, -0.6631949964790526, -0.7102946535045428, -1.0774032299311715, 1.6516020663809938, -1.6188402171370826, 1.7543865634412688, 1.6349723274645858, 0.7712922083770805, 0.41711383293823157, 1.2353035140092619, 0.8307141667412382, 1.757130703099051, -0.03421584746068055, 1.4539266180621373, -0.6418612753104854, -2.2645247371116057, 1.7995701444332912, 0.34258026492133203, -1.15192514998973, 0.31713531038022136, -0.6991945323390549, -0.1874252447770727, 1.7741234835799624, 2.492111064588903, -0.5454800752618096, -2.084849189153723, -0.0862396373237331, 0.261683605023826, -0.3241027505722336, 0.44037856434772343, 1.8195245724028761, 0.7671675437836701, -0.6384630312275602, 0.11607122808032443, 1.5270567062839226, -0.16130502769273808, -0.43406958740491863, 1.4734914707737603, -0.16657110561516894, -1.325659168470935, -1.7907712245138099], \"xaxis\": \"x13\", \"y\": [-0.2511060495466714, -0.38323368117127715, -0.026206155669705973, 0.008179529296440289, 0.33814997381296197, -0.7631978995349146, -1.0749498002123072, 0.3058286822190156, -0.9665368140590993, 0.064712064586311, -1.6285755341487114, 0.06677008462203217, -0.565963049639477, 0.9602766523516492, -0.9613212997598867, 0.2513979314757754, -0.44380942484781855, -0.2620223909192725, 2.9570067591913647, 0.7539739829991565, 0.28431787170181994, -1.4256327274570921, -1.0505851872083094, -0.1992796480262547, 1.1485178438650163, -0.572315706842162, 0.2348020216311637, -1.43466379154626, 0.6376017377523107, -0.8526391337822391, -2.532287479102309, 2.670944306667824, 0.00013011761243241827, 0.3687159277023539, -0.21822462931136613, 0.7275329061137008, -0.340173366046956, -1.2403244809609586, -1.615337103362975, -1.614287118122959, -0.5695074723526038, 0.12189713163375622, -0.16169126299111203, 0.38573183712843406, 0.8385449252058224, -0.8649577476846941, 2.0601201513521334, 0.201901591904918, 0.32112824048332517, -0.559888211181785, -1.4612755154772725, 0.867840876378296, -1.9091097162672386, 0.8247289548835394, 0.4156663471708946, 0.08458737863491718, -0.27300709453934846, 0.5092993862731398, -1.671451660986157, -1.1966976797559579, -0.10020969171058366, -1.0183011427301836, 0.978790967442909, -0.9425552606146356, -0.44737491045947175, 0.8439799585928991, -0.17993802267047826, 0.2977066279204819, 1.5287819650802668, 0.5705591482113747, -0.7192635203956517, 0.3450070506775301, -1.033938460324176, 1.1924657273649355, 0.8682713090835688, 0.04364254086856057, -0.6270612688472221, 0.16383999095426352, 0.1312681105501158, 1.0802230727370812, 0.7772940495024464, 0.9543996804355898, 1.6014754513536233, -0.44946493432675516, 0.38422114740949564, -1.180658872549014, 0.3231265726165534, 0.9188177589555937, -0.7888359002985148, -0.11204142763384377, -0.9005142432054354, -0.8043314863203508, 0.7392662332003646, 0.20040141406036718, -0.06170035694528831, 0.733012407827407, 0.9009629858119796, -0.4958512951456021, -0.7440785771884372, 0.13438848115616583], \"yaxis\": \"y13\"}, {\"line\": {\"color\": \"rgba(128, 128, 128, 1.0)\", \"dash\": \"solid\", \"shape\": \"linear\", \"width\": 1.3}, \"marker\": {\"size\": 2, \"symbol\": \"circle\"}, \"mode\": \"markers\", \"name\": \"D\", \"text\": \"\", \"type\": \"scatter\", \"x\": [-0.965573785855108, 2.3411683403874863, 0.16760652247777483, 0.5293763473061892, 1.117328140016128, 0.7549892445442132, 2.054090398813393, -0.6782945481675158, 1.0381705653378392, 1.2140314276926856, 0.03530096826726425, -0.02975819365648567, 0.8490536809198773, -1.5614858840265529, 0.736707745126771, 0.1246407894398844, 0.8379386880632551, 0.41903183767939406, 0.6018429414116641, 0.2553278104357416, 0.10218560907473412, 1.2557054058002752, -0.8748741670847883, -0.3832158110185663, -0.1549106162658271, -1.2769478029855426, 1.2890593262203311, 0.3750696267160941, 0.9921404081646318, 0.21750565479064404, 1.6490157181527234, 0.31979828501405794, -0.26261002617535073, -0.23529714060338808, -0.22362828498994733, -0.6647344151065584, -0.5875322210729691, -0.6137603446064702, 0.08365852508295676, -0.5736703131755713, 0.441260085154336, 0.7722016610545739, 0.5324255904558407, 0.40093790935933765, -0.053257602214600776, 0.23615988021806109, -0.1196653377877863, -0.4081360519718144, -1.3879231468442046, 0.47753275715667615, 0.6015109009282125, -0.5627145530644787, 1.0817852258226457, 0.5902559942383697, -0.44190244945846197, 0.31613056599056255, 0.6907867960989922, -1.6964258454693064, 0.6704678610285731, -0.20217302565308465, 0.8315265238590916, 0.5243909564105876, -1.258734034452956, -1.4020188180171287, -0.07728484380937733, -0.28049267010943935, 0.08706081149001788, -1.778059875620324, -0.8343277328158784, 0.3864682378824961, 0.1503109040719167, -0.11424349139968754, -1.6639743787791799, -2.191755541277839, 0.45497897381261365, 0.31285327059157747, -0.3570196489480991, 0.06866855226780288, -0.8135424471581575, -0.49434730240269664, 0.4461810207717648, 1.1420257711588415, -0.31672702200917324, 1.82080657095947, 0.679232378362389, 0.4063062091653785, -1.0668562477330763, 1.2601410127551493, -0.08626475067008418, -0.36923131351358884, -0.7445667813101593, 1.6459010653261605, -0.4346406940551893, -1.8764159532897957, 1.2075252986936873, 0.8368235720752266, 2.318359996303223, 0.14353185810363364, 0.5082567333578968, 0.7185225785825067], \"xaxis\": \"x14\", \"y\": [-0.2511060495466714, -0.38323368117127715, -0.026206155669705973, 0.008179529296440289, 0.33814997381296197, -0.7631978995349146, -1.0749498002123072, 0.3058286822190156, -0.9665368140590993, 0.064712064586311, -1.6285755341487114, 0.06677008462203217, -0.565963049639477, 0.9602766523516492, -0.9613212997598867, 0.2513979314757754, -0.44380942484781855, -0.2620223909192725, 2.9570067591913647, 0.7539739829991565, 0.28431787170181994, -1.4256327274570921, -1.0505851872083094, -0.1992796480262547, 1.1485178438650163, -0.572315706842162, 0.2348020216311637, -1.43466379154626, 0.6376017377523107, -0.8526391337822391, -2.532287479102309, 2.670944306667824, 0.00013011761243241827, 0.3687159277023539, -0.21822462931136613, 0.7275329061137008, -0.340173366046956, -1.2403244809609586, -1.615337103362975, -1.614287118122959, -0.5695074723526038, 0.12189713163375622, -0.16169126299111203, 0.38573183712843406, 0.8385449252058224, -0.8649577476846941, 2.0601201513521334, 0.201901591904918, 0.32112824048332517, -0.559888211181785, -1.4612755154772725, 0.867840876378296, -1.9091097162672386, 0.8247289548835394, 0.4156663471708946, 0.08458737863491718, -0.27300709453934846, 0.5092993862731398, -1.671451660986157, -1.1966976797559579, -0.10020969171058366, -1.0183011427301836, 0.978790967442909, -0.9425552606146356, -0.44737491045947175, 0.8439799585928991, -0.17993802267047826, 0.2977066279204819, 1.5287819650802668, 0.5705591482113747, -0.7192635203956517, 0.3450070506775301, -1.033938460324176, 1.1924657273649355, 0.8682713090835688, 0.04364254086856057, -0.6270612688472221, 0.16383999095426352, 0.1312681105501158, 1.0802230727370812, 0.7772940495024464, 0.9543996804355898, 1.6014754513536233, -0.44946493432675516, 0.38422114740949564, -1.180658872549014, 0.3231265726165534, 0.9188177589555937, -0.7888359002985148, -0.11204142763384377, -0.9005142432054354, -0.8043314863203508, 0.7392662332003646, 0.20040141406036718, -0.06170035694528831, 0.733012407827407, 0.9009629858119796, -0.4958512951456021, -0.7440785771884372, 0.13438848115616583], \"yaxis\": \"y14\"}, {\"line\": {\"color\": \"rgba(128, 128, 128, 1.0)\", \"dash\": \"solid\", \"shape\": \"linear\", \"width\": 1.3}, \"marker\": {\"size\": 2, \"symbol\": \"circle\"}, \"mode\": \"markers\", \"name\": \"D\", \"text\": \"\", \"type\": \"scatter\", \"x\": [0.8648798230158975, 0.6168838744499859, -0.2553104669987, -0.5376464867950612, 1.0985192033530944, -0.9440688409228584, 0.6933173762420918, -0.6498482258477097, -0.8018121392098112, 1.6614406628805582, 0.25749349074201217, 1.8111460735066105, 0.39525004726688817, 0.15322810958547553, -0.6505121094153137, -2.2984746556361033, -0.7271573961453361, -0.799612572239205, -0.1861677911754232, -0.9675184006268926, -0.5180993430469171, 0.22326189499540022, 0.8890311428268605, 1.1684155086569208, -2.1105166472531005, -0.22792662026081348, -1.7352184104785755, 0.5091809309124111, 1.4605210888796814, 0.6447537817584865, -0.6123891851427407, 0.8851976383066426, -1.0868725112007147, -0.08744642526903344, 0.15663391006169716, 0.6782179133897311, 2.3943293828093872, 0.4617914586852474, 1.4307611449605124, 1.2425707074385905, -0.38271998875948376, 0.973830279697104, -2.626937904231956, 0.22089917867702138, 0.7175278330901118, 0.41789773927976986, -0.4684295575192196, 1.286789232082445, -0.7753497121419121, 0.3517210166362854, -1.1501314212759213, 0.1596404420407003, -1.057130504381638, -1.0271136127887481, 2.3092933092036976, -0.35794037595248507, 0.21108274676066685, 1.387117126540965, -1.453045342998502, 0.4135364798202572, 0.2400851843727173, 0.08017711612552984, -1.301583929646112, -0.534393298061163, 0.21398906503416223, 2.373443426769146, -0.5020716705189721, 0.6716541585189236, -0.26645139533386014, 0.06884335805705821, 0.7540618676481922, -1.286028613428508, 0.050215678235865, 0.07993908991261611, -1.0677518455070494, 1.2677350406386771, 0.35449282662119597, 0.21279899649927772, -0.008082479729587274, -0.7203744314653343, 2.5994109613713867, 0.45460832517121713, 0.1465669553109633, 1.734136147569354, 0.26041023533748875, -0.4151355022561119, 0.5968344312309438, -0.9392533430149653, -1.536133943819491, -0.8065668782908024, -0.08050759192929652, -2.098171765730534, -0.808254971794466, 0.9703291919561734, 0.31128337197230466, -1.6207025952122633, 1.2669287402911587, 0.9810367505417916, 2.0159574799117674, 1.1329670490708486], \"xaxis\": \"x15\", \"y\": [-0.2511060495466714, -0.38323368117127715, -0.026206155669705973, 0.008179529296440289, 0.33814997381296197, -0.7631978995349146, -1.0749498002123072, 0.3058286822190156, -0.9665368140590993, 0.064712064586311, -1.6285755341487114, 0.06677008462203217, -0.565963049639477, 0.9602766523516492, -0.9613212997598867, 0.2513979314757754, -0.44380942484781855, -0.2620223909192725, 2.9570067591913647, 0.7539739829991565, 0.28431787170181994, -1.4256327274570921, -1.0505851872083094, -0.1992796480262547, 1.1485178438650163, -0.572315706842162, 0.2348020216311637, -1.43466379154626, 0.6376017377523107, -0.8526391337822391, -2.532287479102309, 2.670944306667824, 0.00013011761243241827, 0.3687159277023539, -0.21822462931136613, 0.7275329061137008, -0.340173366046956, -1.2403244809609586, -1.615337103362975, -1.614287118122959, -0.5695074723526038, 0.12189713163375622, -0.16169126299111203, 0.38573183712843406, 0.8385449252058224, -0.8649577476846941, 2.0601201513521334, 0.201901591904918, 0.32112824048332517, -0.559888211181785, -1.4612755154772725, 0.867840876378296, -1.9091097162672386, 0.8247289548835394, 0.4156663471708946, 0.08458737863491718, -0.27300709453934846, 0.5092993862731398, -1.671451660986157, -1.1966976797559579, -0.10020969171058366, -1.0183011427301836, 0.978790967442909, -0.9425552606146356, -0.44737491045947175, 0.8439799585928991, -0.17993802267047826, 0.2977066279204819, 1.5287819650802668, 0.5705591482113747, -0.7192635203956517, 0.3450070506775301, -1.033938460324176, 1.1924657273649355, 0.8682713090835688, 0.04364254086856057, -0.6270612688472221, 0.16383999095426352, 0.1312681105501158, 1.0802230727370812, 0.7772940495024464, 0.9543996804355898, 1.6014754513536233, -0.44946493432675516, 0.38422114740949564, -1.180658872549014, 0.3231265726165534, 0.9188177589555937, -0.7888359002985148, -0.11204142763384377, -0.9005142432054354, -0.8043314863203508, 0.7392662332003646, 0.20040141406036718, -0.06170035694528831, 0.733012407827407, 0.9009629858119796, -0.4958512951456021, -0.7440785771884372, 0.13438848115616583], \"yaxis\": \"y15\"}, {\"histfunc\": \"count\", \"histnorm\": \"\", \"marker\": {\"color\": \"rgba(128, 0, 128, 1.0)\", \"line\": {\"color\": \"#4D5663\", \"width\": 1.3}}, \"name\": \"D\", \"nbinsx\": 10, \"opacity\": 0.8, \"orientation\": \"v\", \"type\": \"histogram\", \"x\": [-0.2511060495466714, -0.38323368117127715, -0.026206155669705973, 0.008179529296440289, 0.33814997381296197, -0.7631978995349146, -1.0749498002123072, 0.3058286822190156, -0.9665368140590993, 0.064712064586311, -1.6285755341487114, 0.06677008462203217, -0.565963049639477, 0.9602766523516492, -0.9613212997598867, 0.2513979314757754, -0.44380942484781855, -0.2620223909192725, 2.9570067591913647, 0.7539739829991565, 0.28431787170181994, -1.4256327274570921, -1.0505851872083094, -0.1992796480262547, 1.1485178438650163, -0.572315706842162, 0.2348020216311637, -1.43466379154626, 0.6376017377523107, -0.8526391337822391, -2.532287479102309, 2.670944306667824, 0.00013011761243241827, 0.3687159277023539, -0.21822462931136613, 0.7275329061137008, -0.340173366046956, -1.2403244809609586, -1.615337103362975, -1.614287118122959, -0.5695074723526038, 0.12189713163375622, -0.16169126299111203, 0.38573183712843406, 0.8385449252058224, -0.8649577476846941, 2.0601201513521334, 0.201901591904918, 0.32112824048332517, -0.559888211181785, -1.4612755154772725, 0.867840876378296, -1.9091097162672386, 0.8247289548835394, 0.4156663471708946, 0.08458737863491718, -0.27300709453934846, 0.5092993862731398, -1.671451660986157, -1.1966976797559579, -0.10020969171058366, -1.0183011427301836, 0.978790967442909, -0.9425552606146356, -0.44737491045947175, 0.8439799585928991, -0.17993802267047826, 0.2977066279204819, 1.5287819650802668, 0.5705591482113747, -0.7192635203956517, 0.3450070506775301, -1.033938460324176, 1.1924657273649355, 0.8682713090835688, 0.04364254086856057, -0.6270612688472221, 0.16383999095426352, 0.1312681105501158, 1.0802230727370812, 0.7772940495024464, 0.9543996804355898, 1.6014754513536233, -0.44946493432675516, 0.38422114740949564, -1.180658872549014, 0.3231265726165534, 0.9188177589555937, -0.7888359002985148, -0.11204142763384377, -0.9005142432054354, -0.8043314863203508, 0.7392662332003646, 0.20040141406036718, -0.06170035694528831, 0.733012407827407, 0.9009629858119796, -0.4958512951456021, -0.7440785771884372, 0.13438848115616583], \"xaxis\": \"x16\", \"yaxis\": \"y16\"}],\n",
       "                        {\"bargap\": 0.02, \"legend\": {\"bgcolor\": \"#F5F6F9\", \"font\": {\"color\": \"#4D5663\"}}, \"paper_bgcolor\": \"#F5F6F9\", \"plot_bgcolor\": \"#F5F6F9\", \"showlegend\": false, \"template\": {\"data\": {\"bar\": [{\"error_x\": {\"color\": \"#2a3f5f\"}, \"error_y\": {\"color\": \"#2a3f5f\"}, \"marker\": {\"line\": {\"color\": \"#E5ECF6\", \"width\": 0.5}}, \"type\": \"bar\"}], \"barpolar\": [{\"marker\": {\"line\": {\"color\": \"#E5ECF6\", \"width\": 0.5}}, \"type\": \"barpolar\"}], \"carpet\": [{\"aaxis\": {\"endlinecolor\": \"#2a3f5f\", \"gridcolor\": \"white\", \"linecolor\": \"white\", \"minorgridcolor\": \"white\", \"startlinecolor\": \"#2a3f5f\"}, \"baxis\": {\"endlinecolor\": \"#2a3f5f\", \"gridcolor\": \"white\", \"linecolor\": \"white\", \"minorgridcolor\": \"white\", \"startlinecolor\": \"#2a3f5f\"}, \"type\": \"carpet\"}], \"choropleth\": [{\"colorbar\": {\"outlinewidth\": 0, \"ticks\": \"\"}, \"type\": \"choropleth\"}], \"contour\": [{\"colorbar\": {\"outlinewidth\": 0, \"ticks\": \"\"}, \"colorscale\": [[0.0, \"#0d0887\"], [0.1111111111111111, \"#46039f\"], [0.2222222222222222, \"#7201a8\"], [0.3333333333333333, \"#9c179e\"], [0.4444444444444444, \"#bd3786\"], [0.5555555555555556, \"#d8576b\"], [0.6666666666666666, \"#ed7953\"], [0.7777777777777778, \"#fb9f3a\"], [0.8888888888888888, \"#fdca26\"], [1.0, \"#f0f921\"]], \"type\": \"contour\"}], \"contourcarpet\": [{\"colorbar\": {\"outlinewidth\": 0, \"ticks\": \"\"}, \"type\": \"contourcarpet\"}], \"heatmap\": [{\"colorbar\": {\"outlinewidth\": 0, \"ticks\": \"\"}, \"colorscale\": [[0.0, \"#0d0887\"], [0.1111111111111111, \"#46039f\"], [0.2222222222222222, \"#7201a8\"], [0.3333333333333333, \"#9c179e\"], [0.4444444444444444, \"#bd3786\"], [0.5555555555555556, \"#d8576b\"], [0.6666666666666666, \"#ed7953\"], [0.7777777777777778, \"#fb9f3a\"], [0.8888888888888888, \"#fdca26\"], [1.0, \"#f0f921\"]], \"type\": \"heatmap\"}], \"heatmapgl\": [{\"colorbar\": {\"outlinewidth\": 0, \"ticks\": \"\"}, \"colorscale\": [[0.0, \"#0d0887\"], [0.1111111111111111, \"#46039f\"], [0.2222222222222222, \"#7201a8\"], [0.3333333333333333, \"#9c179e\"], [0.4444444444444444, \"#bd3786\"], [0.5555555555555556, \"#d8576b\"], [0.6666666666666666, \"#ed7953\"], [0.7777777777777778, \"#fb9f3a\"], [0.8888888888888888, \"#fdca26\"], [1.0, \"#f0f921\"]], \"type\": \"heatmapgl\"}], \"histogram\": [{\"marker\": {\"colorbar\": {\"outlinewidth\": 0, \"ticks\": \"\"}}, \"type\": \"histogram\"}], \"histogram2d\": [{\"colorbar\": {\"outlinewidth\": 0, \"ticks\": \"\"}, \"colorscale\": [[0.0, \"#0d0887\"], [0.1111111111111111, \"#46039f\"], [0.2222222222222222, \"#7201a8\"], [0.3333333333333333, \"#9c179e\"], [0.4444444444444444, \"#bd3786\"], [0.5555555555555556, \"#d8576b\"], [0.6666666666666666, \"#ed7953\"], [0.7777777777777778, \"#fb9f3a\"], [0.8888888888888888, \"#fdca26\"], [1.0, \"#f0f921\"]], \"type\": \"histogram2d\"}], \"histogram2dcontour\": [{\"colorbar\": {\"outlinewidth\": 0, \"ticks\": \"\"}, \"colorscale\": [[0.0, \"#0d0887\"], [0.1111111111111111, \"#46039f\"], [0.2222222222222222, \"#7201a8\"], [0.3333333333333333, \"#9c179e\"], [0.4444444444444444, \"#bd3786\"], [0.5555555555555556, \"#d8576b\"], [0.6666666666666666, \"#ed7953\"], [0.7777777777777778, \"#fb9f3a\"], [0.8888888888888888, \"#fdca26\"], [1.0, \"#f0f921\"]], \"type\": \"histogram2dcontour\"}], \"mesh3d\": [{\"colorbar\": {\"outlinewidth\": 0, \"ticks\": \"\"}, \"type\": \"mesh3d\"}], \"parcoords\": [{\"line\": {\"colorbar\": {\"outlinewidth\": 0, \"ticks\": \"\"}}, \"type\": \"parcoords\"}], \"pie\": [{\"automargin\": true, \"type\": \"pie\"}], \"scatter\": [{\"marker\": {\"colorbar\": {\"outlinewidth\": 0, \"ticks\": \"\"}}, \"type\": \"scatter\"}], \"scatter3d\": [{\"line\": {\"colorbar\": {\"outlinewidth\": 0, \"ticks\": \"\"}}, \"marker\": {\"colorbar\": {\"outlinewidth\": 0, \"ticks\": \"\"}}, \"type\": \"scatter3d\"}], \"scattercarpet\": [{\"marker\": {\"colorbar\": {\"outlinewidth\": 0, \"ticks\": \"\"}}, \"type\": \"scattercarpet\"}], \"scattergeo\": [{\"marker\": {\"colorbar\": {\"outlinewidth\": 0, \"ticks\": \"\"}}, \"type\": \"scattergeo\"}], \"scattergl\": [{\"marker\": {\"colorbar\": {\"outlinewidth\": 0, \"ticks\": \"\"}}, \"type\": \"scattergl\"}], \"scattermapbox\": [{\"marker\": {\"colorbar\": {\"outlinewidth\": 0, \"ticks\": \"\"}}, \"type\": \"scattermapbox\"}], \"scatterpolar\": [{\"marker\": {\"colorbar\": {\"outlinewidth\": 0, \"ticks\": \"\"}}, \"type\": \"scatterpolar\"}], \"scatterpolargl\": [{\"marker\": {\"colorbar\": {\"outlinewidth\": 0, \"ticks\": \"\"}}, \"type\": \"scatterpolargl\"}], \"scatterternary\": [{\"marker\": {\"colorbar\": {\"outlinewidth\": 0, \"ticks\": \"\"}}, \"type\": \"scatterternary\"}], \"surface\": [{\"colorbar\": {\"outlinewidth\": 0, \"ticks\": \"\"}, \"colorscale\": [[0.0, \"#0d0887\"], [0.1111111111111111, \"#46039f\"], [0.2222222222222222, \"#7201a8\"], [0.3333333333333333, \"#9c179e\"], [0.4444444444444444, \"#bd3786\"], [0.5555555555555556, \"#d8576b\"], [0.6666666666666666, \"#ed7953\"], [0.7777777777777778, \"#fb9f3a\"], [0.8888888888888888, \"#fdca26\"], [1.0, \"#f0f921\"]], \"type\": \"surface\"}], \"table\": [{\"cells\": {\"fill\": {\"color\": \"#EBF0F8\"}, \"line\": {\"color\": \"white\"}}, \"header\": {\"fill\": {\"color\": \"#C8D4E3\"}, \"line\": {\"color\": \"white\"}}, \"type\": \"table\"}]}, \"layout\": {\"annotationdefaults\": {\"arrowcolor\": \"#2a3f5f\", \"arrowhead\": 0, \"arrowwidth\": 1}, \"coloraxis\": {\"colorbar\": {\"outlinewidth\": 0, \"ticks\": \"\"}}, \"colorscale\": {\"diverging\": [[0, \"#8e0152\"], [0.1, \"#c51b7d\"], [0.2, \"#de77ae\"], [0.3, \"#f1b6da\"], [0.4, \"#fde0ef\"], [0.5, \"#f7f7f7\"], [0.6, \"#e6f5d0\"], [0.7, \"#b8e186\"], [0.8, \"#7fbc41\"], [0.9, \"#4d9221\"], [1, \"#276419\"]], \"sequential\": [[0.0, \"#0d0887\"], [0.1111111111111111, \"#46039f\"], [0.2222222222222222, \"#7201a8\"], [0.3333333333333333, \"#9c179e\"], [0.4444444444444444, \"#bd3786\"], [0.5555555555555556, \"#d8576b\"], [0.6666666666666666, \"#ed7953\"], [0.7777777777777778, \"#fb9f3a\"], [0.8888888888888888, \"#fdca26\"], [1.0, \"#f0f921\"]], \"sequentialminus\": [[0.0, \"#0d0887\"], [0.1111111111111111, \"#46039f\"], [0.2222222222222222, \"#7201a8\"], [0.3333333333333333, \"#9c179e\"], [0.4444444444444444, \"#bd3786\"], [0.5555555555555556, \"#d8576b\"], [0.6666666666666666, \"#ed7953\"], [0.7777777777777778, \"#fb9f3a\"], [0.8888888888888888, \"#fdca26\"], [1.0, \"#f0f921\"]]}, \"colorway\": [\"#636efa\", \"#EF553B\", \"#00cc96\", \"#ab63fa\", \"#FFA15A\", \"#19d3f3\", \"#FF6692\", \"#B6E880\", \"#FF97FF\", \"#FECB52\"], \"font\": {\"color\": \"#2a3f5f\"}, \"geo\": {\"bgcolor\": \"white\", \"lakecolor\": \"white\", \"landcolor\": \"#E5ECF6\", \"showlakes\": true, \"showland\": true, \"subunitcolor\": \"white\"}, \"hoverlabel\": {\"align\": \"left\"}, \"hovermode\": \"closest\", \"mapbox\": {\"style\": \"light\"}, \"paper_bgcolor\": \"white\", \"plot_bgcolor\": \"#E5ECF6\", \"polar\": {\"angularaxis\": {\"gridcolor\": \"white\", \"linecolor\": \"white\", \"ticks\": \"\"}, \"bgcolor\": \"#E5ECF6\", \"radialaxis\": {\"gridcolor\": \"white\", \"linecolor\": \"white\", \"ticks\": \"\"}}, \"scene\": {\"xaxis\": {\"backgroundcolor\": \"#E5ECF6\", \"gridcolor\": \"white\", \"gridwidth\": 2, \"linecolor\": \"white\", \"showbackground\": true, \"ticks\": \"\", \"zerolinecolor\": \"white\"}, \"yaxis\": {\"backgroundcolor\": \"#E5ECF6\", \"gridcolor\": \"white\", \"gridwidth\": 2, \"linecolor\": \"white\", \"showbackground\": true, \"ticks\": \"\", \"zerolinecolor\": \"white\"}, \"zaxis\": {\"backgroundcolor\": \"#E5ECF6\", \"gridcolor\": \"white\", \"gridwidth\": 2, \"linecolor\": \"white\", \"showbackground\": true, \"ticks\": \"\", \"zerolinecolor\": \"white\"}}, \"shapedefaults\": {\"line\": {\"color\": \"#2a3f5f\"}}, \"ternary\": {\"aaxis\": {\"gridcolor\": \"white\", \"linecolor\": \"white\", \"ticks\": \"\"}, \"baxis\": {\"gridcolor\": \"white\", \"linecolor\": \"white\", \"ticks\": \"\"}, \"bgcolor\": \"#E5ECF6\", \"caxis\": {\"gridcolor\": \"white\", \"linecolor\": \"white\", \"ticks\": \"\"}}, \"title\": {\"x\": 0.05}, \"xaxis\": {\"automargin\": true, \"gridcolor\": \"white\", \"linecolor\": \"white\", \"ticks\": \"\", \"title\": {\"standoff\": 15}, \"zerolinecolor\": \"white\", \"zerolinewidth\": 2}, \"yaxis\": {\"automargin\": true, \"gridcolor\": \"white\", \"linecolor\": \"white\", \"ticks\": \"\", \"title\": {\"standoff\": 15}, \"zerolinecolor\": \"white\", \"zerolinewidth\": 2}}}, \"title\": {\"font\": {\"color\": \"#4D5663\"}}, \"xaxis\": {\"anchor\": \"y\", \"domain\": [0.0, 0.2125], \"gridcolor\": \"#E1E5ED\", \"showgrid\": false, \"tickfont\": {\"color\": \"#4D5663\"}, \"title\": {\"font\": {\"color\": \"#4D5663\"}, \"text\": \"\"}, \"zerolinecolor\": \"#E1E5ED\"}, \"xaxis10\": {\"anchor\": \"y10\", \"domain\": [0.2625, 0.475], \"gridcolor\": \"#E1E5ED\", \"showgrid\": false, \"tickfont\": {\"color\": \"#4D5663\"}, \"title\": {\"font\": {\"color\": \"#4D5663\"}, \"text\": \"\"}, \"zerolinecolor\": \"#E1E5ED\"}, \"xaxis11\": {\"anchor\": \"y11\", \"domain\": [0.525, 0.7375], \"gridcolor\": \"#E1E5ED\", \"showgrid\": false, \"tickfont\": {\"color\": \"#4D5663\"}, \"title\": {\"font\": {\"color\": \"#4D5663\"}, \"text\": \"\"}, \"zerolinecolor\": \"#E1E5ED\"}, \"xaxis12\": {\"anchor\": \"y12\", \"domain\": [0.7875, 1.0], \"gridcolor\": \"#E1E5ED\", \"showgrid\": false, \"tickfont\": {\"color\": \"#4D5663\"}, \"title\": {\"font\": {\"color\": \"#4D5663\"}, \"text\": \"\"}, \"zerolinecolor\": \"#E1E5ED\"}, \"xaxis13\": {\"anchor\": \"y13\", \"domain\": [0.0, 0.2125], \"gridcolor\": \"#E1E5ED\", \"showgrid\": false, \"tickfont\": {\"color\": \"#4D5663\"}, \"title\": {\"font\": {\"color\": \"#4D5663\"}, \"text\": \"\"}, \"zerolinecolor\": \"#E1E5ED\"}, \"xaxis14\": {\"anchor\": \"y14\", \"domain\": [0.2625, 0.475], \"gridcolor\": \"#E1E5ED\", \"showgrid\": false, \"tickfont\": {\"color\": \"#4D5663\"}, \"title\": {\"font\": {\"color\": \"#4D5663\"}, \"text\": \"\"}, \"zerolinecolor\": \"#E1E5ED\"}, \"xaxis15\": {\"anchor\": \"y15\", \"domain\": [0.525, 0.7375], \"gridcolor\": \"#E1E5ED\", \"showgrid\": false, \"tickfont\": {\"color\": \"#4D5663\"}, \"title\": {\"font\": {\"color\": \"#4D5663\"}, \"text\": \"\"}, \"zerolinecolor\": \"#E1E5ED\"}, \"xaxis16\": {\"anchor\": \"y16\", \"domain\": [0.7875, 1.0], \"gridcolor\": \"#E1E5ED\", \"showgrid\": false, \"tickfont\": {\"color\": \"#4D5663\"}, \"title\": {\"font\": {\"color\": \"#4D5663\"}, \"text\": \"\"}, \"zerolinecolor\": \"#E1E5ED\"}, \"xaxis2\": {\"anchor\": \"y2\", \"domain\": [0.2625, 0.475], \"gridcolor\": \"#E1E5ED\", \"showgrid\": false, \"tickfont\": {\"color\": \"#4D5663\"}, \"title\": {\"font\": {\"color\": \"#4D5663\"}, \"text\": \"\"}, \"zerolinecolor\": \"#E1E5ED\"}, \"xaxis3\": {\"anchor\": \"y3\", \"domain\": [0.525, 0.7375], \"gridcolor\": \"#E1E5ED\", \"showgrid\": false, \"tickfont\": {\"color\": \"#4D5663\"}, \"title\": {\"font\": {\"color\": \"#4D5663\"}, \"text\": \"\"}, \"zerolinecolor\": \"#E1E5ED\"}, \"xaxis4\": {\"anchor\": \"y4\", \"domain\": [0.7875, 1.0], \"gridcolor\": \"#E1E5ED\", \"showgrid\": false, \"tickfont\": {\"color\": \"#4D5663\"}, \"title\": {\"font\": {\"color\": \"#4D5663\"}, \"text\": \"\"}, \"zerolinecolor\": \"#E1E5ED\"}, \"xaxis5\": {\"anchor\": \"y5\", \"domain\": [0.0, 0.2125], \"gridcolor\": \"#E1E5ED\", \"showgrid\": false, \"tickfont\": {\"color\": \"#4D5663\"}, \"title\": {\"font\": {\"color\": \"#4D5663\"}, \"text\": \"\"}, \"zerolinecolor\": \"#E1E5ED\"}, \"xaxis6\": {\"anchor\": \"y6\", \"domain\": [0.2625, 0.475], \"gridcolor\": \"#E1E5ED\", \"showgrid\": false, \"tickfont\": {\"color\": \"#4D5663\"}, \"title\": {\"font\": {\"color\": \"#4D5663\"}, \"text\": \"\"}, \"zerolinecolor\": \"#E1E5ED\"}, \"xaxis7\": {\"anchor\": \"y7\", \"domain\": [0.525, 0.7375], \"gridcolor\": \"#E1E5ED\", \"showgrid\": false, \"tickfont\": {\"color\": \"#4D5663\"}, \"title\": {\"font\": {\"color\": \"#4D5663\"}, \"text\": \"\"}, \"zerolinecolor\": \"#E1E5ED\"}, \"xaxis8\": {\"anchor\": \"y8\", \"domain\": [0.7875, 1.0], \"gridcolor\": \"#E1E5ED\", \"showgrid\": false, \"tickfont\": {\"color\": \"#4D5663\"}, \"title\": {\"font\": {\"color\": \"#4D5663\"}, \"text\": \"\"}, \"zerolinecolor\": \"#E1E5ED\"}, \"xaxis9\": {\"anchor\": \"y9\", \"domain\": [0.0, 0.2125], \"gridcolor\": \"#E1E5ED\", \"showgrid\": false, \"tickfont\": {\"color\": \"#4D5663\"}, \"title\": {\"font\": {\"color\": \"#4D5663\"}, \"text\": \"\"}, \"zerolinecolor\": \"#E1E5ED\"}, \"yaxis\": {\"anchor\": \"x\", \"domain\": [0.8025, 1.0], \"gridcolor\": \"#E1E5ED\", \"showgrid\": false, \"tickfont\": {\"color\": \"#4D5663\"}, \"title\": {\"font\": {\"color\": \"#4D5663\"}, \"text\": \"\"}, \"zerolinecolor\": \"#E1E5ED\"}, \"yaxis10\": {\"anchor\": \"x10\", \"domain\": [0.2675, 0.465], \"gridcolor\": \"#E1E5ED\", \"showgrid\": false, \"tickfont\": {\"color\": \"#4D5663\"}, \"title\": {\"font\": {\"color\": \"#4D5663\"}, \"text\": \"\"}, \"zerolinecolor\": \"#E1E5ED\"}, \"yaxis11\": {\"anchor\": \"x11\", \"domain\": [0.2675, 0.465], \"gridcolor\": \"#E1E5ED\", \"showgrid\": false, \"tickfont\": {\"color\": \"#4D5663\"}, \"title\": {\"font\": {\"color\": \"#4D5663\"}, \"text\": \"\"}, \"zerolinecolor\": \"#E1E5ED\"}, \"yaxis12\": {\"anchor\": \"x12\", \"domain\": [0.2675, 0.465], \"gridcolor\": \"#E1E5ED\", \"showgrid\": false, \"tickfont\": {\"color\": \"#4D5663\"}, \"title\": {\"font\": {\"color\": \"#4D5663\"}, \"text\": \"\"}, \"zerolinecolor\": \"#E1E5ED\"}, \"yaxis13\": {\"anchor\": \"x13\", \"domain\": [0.0, 0.1975], \"gridcolor\": \"#E1E5ED\", \"showgrid\": false, \"tickfont\": {\"color\": \"#4D5663\"}, \"title\": {\"font\": {\"color\": \"#4D5663\"}, \"text\": \"\"}, \"zerolinecolor\": \"#E1E5ED\"}, \"yaxis14\": {\"anchor\": \"x14\", \"domain\": [0.0, 0.1975], \"gridcolor\": \"#E1E5ED\", \"showgrid\": false, \"tickfont\": {\"color\": \"#4D5663\"}, \"title\": {\"font\": {\"color\": \"#4D5663\"}, \"text\": \"\"}, \"zerolinecolor\": \"#E1E5ED\"}, \"yaxis15\": {\"anchor\": \"x15\", \"domain\": [0.0, 0.1975], \"gridcolor\": \"#E1E5ED\", \"showgrid\": false, \"tickfont\": {\"color\": \"#4D5663\"}, \"title\": {\"font\": {\"color\": \"#4D5663\"}, \"text\": \"\"}, \"zerolinecolor\": \"#E1E5ED\"}, \"yaxis16\": {\"anchor\": \"x16\", \"domain\": [0.0, 0.1975], \"gridcolor\": \"#E1E5ED\", \"showgrid\": false, \"tickfont\": {\"color\": \"#4D5663\"}, \"title\": {\"font\": {\"color\": \"#4D5663\"}, \"text\": \"\"}, \"zerolinecolor\": \"#E1E5ED\"}, \"yaxis2\": {\"anchor\": \"x2\", \"domain\": [0.8025, 1.0], \"gridcolor\": \"#E1E5ED\", \"showgrid\": false, \"tickfont\": {\"color\": \"#4D5663\"}, \"title\": {\"font\": {\"color\": \"#4D5663\"}, \"text\": \"\"}, \"zerolinecolor\": \"#E1E5ED\"}, \"yaxis3\": {\"anchor\": \"x3\", \"domain\": [0.8025, 1.0], \"gridcolor\": \"#E1E5ED\", \"showgrid\": false, \"tickfont\": {\"color\": \"#4D5663\"}, \"title\": {\"font\": {\"color\": \"#4D5663\"}, \"text\": \"\"}, \"zerolinecolor\": \"#E1E5ED\"}, \"yaxis4\": {\"anchor\": \"x4\", \"domain\": [0.8025, 1.0], \"gridcolor\": \"#E1E5ED\", \"showgrid\": false, \"tickfont\": {\"color\": \"#4D5663\"}, \"title\": {\"font\": {\"color\": \"#4D5663\"}, \"text\": \"\"}, \"zerolinecolor\": \"#E1E5ED\"}, \"yaxis5\": {\"anchor\": \"x5\", \"domain\": [0.535, 0.7325], \"gridcolor\": \"#E1E5ED\", \"showgrid\": false, \"tickfont\": {\"color\": \"#4D5663\"}, \"title\": {\"font\": {\"color\": \"#4D5663\"}, \"text\": \"\"}, \"zerolinecolor\": \"#E1E5ED\"}, \"yaxis6\": {\"anchor\": \"x6\", \"domain\": [0.535, 0.7325], \"gridcolor\": \"#E1E5ED\", \"showgrid\": false, \"tickfont\": {\"color\": \"#4D5663\"}, \"title\": {\"font\": {\"color\": \"#4D5663\"}, \"text\": \"\"}, \"zerolinecolor\": \"#E1E5ED\"}, \"yaxis7\": {\"anchor\": \"x7\", \"domain\": [0.535, 0.7325], \"gridcolor\": \"#E1E5ED\", \"showgrid\": false, \"tickfont\": {\"color\": \"#4D5663\"}, \"title\": {\"font\": {\"color\": \"#4D5663\"}, \"text\": \"\"}, \"zerolinecolor\": \"#E1E5ED\"}, \"yaxis8\": {\"anchor\": \"x8\", \"domain\": [0.535, 0.7325], \"gridcolor\": \"#E1E5ED\", \"showgrid\": false, \"tickfont\": {\"color\": \"#4D5663\"}, \"title\": {\"font\": {\"color\": \"#4D5663\"}, \"text\": \"\"}, \"zerolinecolor\": \"#E1E5ED\"}, \"yaxis9\": {\"anchor\": \"x9\", \"domain\": [0.2675, 0.465], \"gridcolor\": \"#E1E5ED\", \"showgrid\": false, \"tickfont\": {\"color\": \"#4D5663\"}, \"title\": {\"font\": {\"color\": \"#4D5663\"}, \"text\": \"\"}, \"zerolinecolor\": \"#E1E5ED\"}},\n",
       "                        {\"showLink\": true, \"linkText\": \"Export to plot.ly\", \"plotlyServerURL\": \"https://plot.ly\", \"responsive\": true}\n",
       "                    ).then(function(){\n",
       "                            \n",
       "var gd = document.getElementById('367ae897-f0f4-44e6-bc97-82218fae9104');\n",
       "var x = new MutationObserver(function (mutations, observer) {{\n",
       "        var display = window.getComputedStyle(gd).display;\n",
       "        if (!display || display === 'none') {{\n",
       "            console.log([gd, 'removed!']);\n",
       "            Plotly.purge(gd);\n",
       "            observer.disconnect();\n",
       "        }}\n",
       "}});\n",
       "\n",
       "// Listen for the removal of the full notebook cells\n",
       "var notebookContainer = gd.closest('#notebook-container');\n",
       "if (notebookContainer) {{\n",
       "    x.observe(notebookContainer, {childList: true});\n",
       "}}\n",
       "\n",
       "// Listen for the clearing of the current output cell\n",
       "var outputEl = gd.closest('.output');\n",
       "if (outputEl) {{\n",
       "    x.observe(outputEl, {childList: true});\n",
       "}}\n",
       "\n",
       "                        })\n",
       "                };\n",
       "                });\n",
       "            </script>\n",
       "        </div>"
      ]
     },
     "metadata": {},
     "output_type": "display_data"
    }
   ],
   "source": [
    "df.scatter_matrix()"
   ]
  },
  {
   "cell_type": "markdown",
   "metadata": {
    "collapsed": true
   },
   "source": [
    "# Great Job!"
   ]
  }
 ],
 "metadata": {
  "kernelspec": {
   "name": "python3",
   "display_name": "Python 3.8.6 64-bit",
   "metadata": {
    "interpreter": {
     "hash": "31f2aee4e71d21fbe5cf8b01ff0e069b9275f58929596ceb00d14d90e3e16cd6"
    }
   }
  },
  "language_info": {
   "codemirror_mode": {
    "name": "ipython",
    "version": 3
   },
   "file_extension": ".py",
   "mimetype": "text/x-python",
   "name": "python",
   "nbconvert_exporter": "python",
   "pygments_lexer": "ipython3",
   "version": "3.8.6-final"
  }
 },
 "nbformat": 4,
 "nbformat_minor": 1
}